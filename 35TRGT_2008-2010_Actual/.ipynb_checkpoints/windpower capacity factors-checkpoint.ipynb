{
 "cells": [
  {
   "cell_type": "markdown",
   "metadata": {},
   "source": [
    "# determine capacity factors for wind power production in Quebec"
   ]
  },
  {
   "cell_type": "code",
   "execution_count": 2,
   "metadata": {
    "collapsed": true
   },
   "outputs": [
    {
     "name": "stdout",
     "output_type": "stream",
     "text": [
      " Volume in drive C is OS\n",
      " Volume Serial Number is 7E56-CC74\n",
      "\n",
      " Directory of C:\\Users\\kathleen\\Dropbox\\python\\wind_penetration\\35TRGT_2008-2010_Actual\n",
      "\n",
      "17/01/2017  10:08 AM    <DIR>          .\n",
      "17/01/2017  10:08 AM    <DIR>          ..\n",
      "17/01/2017  10:07 AM    <DIR>          .ipynb_checkpoints\n",
      "23/07/2015  05:35 PM         1,025,919 0007Pwr1HB.csv\n",
      "23/07/2015  05:43 PM         1,025,919 0011Pwr1HB.csv\n",
      "23/07/2015  05:50 PM         1,025,919 0014Pwr1HB.csv\n",
      "23/07/2015  05:54 PM         1,025,919 0022Pwr1HB.csv\n",
      "23/07/2015  05:57 PM         1,025,919 0023Pwr1HB.csv\n",
      "23/07/2015  05:59 PM         1,025,919 0030Pwr1HB.csv\n",
      "23/07/2015  06:05 PM         1,025,919 0031Pwr1HB.csv\n",
      "23/07/2015  06:07 PM         1,025,919 0033Pwr1HB.csv\n",
      "23/07/2015  06:10 PM         1,025,919 0034Pwr1HB.csv\n",
      "23/07/2015  06:16 PM         1,025,919 0046Pwr1HB.csv\n",
      "23/07/2015  06:24 PM         1,025,919 0047Pwr1HB.csv\n",
      "23/07/2015  06:32 PM         1,025,919 0049Pwr1HB.csv\n",
      "23/07/2015  06:37 PM         1,025,919 0064Pwr1HB.csv\n",
      "23/07/2015  06:41 PM         1,025,919 0077Pwr1HB.csv\n",
      "23/07/2015  06:48 PM         1,025,919 0088Pwr1HB.csv\n",
      "23/07/2015  06:51 PM         1,025,919 0117Pwr1HB.csv\n",
      "23/07/2015  06:56 PM         1,025,919 0130Pwr1HB.csv\n",
      "23/07/2015  06:58 PM         1,025,919 0143Pwr1HB.csv\n",
      "23/07/2015  07:05 PM         1,025,919 0160Pwr1HB.csv\n",
      "23/07/2015  07:08 PM         1,025,919 0161Pwr1HB.csv\n",
      "23/07/2015  07:12 PM         1,025,919 0175Pwr1HB.csv\n",
      "23/07/2015  07:16 PM         1,025,919 0178Pwr1HB.csv\n",
      "23/07/2015  07:18 PM         1,025,919 0192Pwr1HB.csv\n",
      "23/07/2015  07:22 PM         1,025,919 0197Pwr1HB.csv\n",
      "23/07/2015  07:28 PM         1,025,919 0203Pwr1HB.csv\n",
      "23/07/2015  07:33 PM         1,025,919 0215Pwr1HB.csv\n",
      "23/07/2015  07:37 PM         1,025,919 0216Pwr1HB.csv\n",
      "23/07/2015  07:41 PM         1,025,919 0217Pwr1HB.csv\n",
      "23/07/2015  07:49 PM         1,025,919 0229Pwr1HB.csv\n",
      "23/07/2015  07:51 PM         1,025,919 0230Pwr1HB.csv\n",
      "23/07/2015  07:53 PM         1,025,919 0231Pwr1HB.csv\n",
      "23/07/2015  07:58 PM         1,025,919 0243Pwr1HB.csv\n",
      "23/07/2015  08:05 PM         1,025,919 0244Pwr1HB.csv\n",
      "23/07/2015  08:09 PM         1,025,919 0246Pwr1HB.csv\n",
      "23/07/2015  08:17 PM         1,025,919 0247Pwr1HB.csv\n",
      "23/07/2015  08:23 PM         1,025,919 0250Pwr1HB.csv\n",
      "23/07/2015  08:25 PM         1,025,919 0271Pwr1HB.csv\n",
      "23/07/2015  08:33 PM         1,025,919 0288Pwr1HB.csv\n",
      "23/07/2015  08:39 PM         1,025,919 0289Pwr1HB.csv\n",
      "23/07/2015  08:41 PM         1,025,919 0299Pwr1HB.csv\n",
      "23/07/2015  08:43 PM         1,025,919 0305Pwr1HB.csv\n",
      "23/07/2015  08:47 PM         1,025,919 0365Pwr1HB.csv\n",
      "23/07/2015  08:52 PM         1,025,919 0438Pwr1HB.csv\n",
      "23/07/2015  08:55 PM         1,025,919 0471Pwr1HB.csv\n",
      "23/07/2015  09:00 PM         1,025,919 0616Pwr1HB.csv\n",
      "23/07/2015  09:03 PM         1,025,919 0643Pwr1HB.csv\n",
      "23/07/2015  09:06 PM         1,025,919 0644Pwr1HB.csv\n",
      "23/07/2015  09:08 PM         1,025,919 0647Pwr1HB.csv\n",
      "23/07/2015  09:15 PM         1,025,919 0721Pwr1HB.csv\n",
      "23/07/2015  09:18 PM         1,025,919 0742Pwr1HB.csv\n",
      "23/07/2015  09:23 PM         1,025,919 0745Pwr1HB.csv\n",
      "23/07/2015  09:29 PM         1,025,919 0755Pwr1HB.csv\n",
      "23/07/2015  09:35 PM         1,025,919 0767Pwr1HB.csv\n",
      "23/07/2015  09:37 PM         1,025,919 0791Pwr1HB.csv\n",
      "23/07/2015  09:43 PM         1,025,919 0823Pwr1HB.csv\n",
      "23/07/2015  09:47 PM         1,025,919 0828Pwr1HB.csv\n",
      "23/07/2015  09:53 PM         1,025,919 0852Pwr1HB.csv\n",
      "23/07/2015  09:55 PM         1,025,919 0873Pwr1HB.csv\n",
      "23/07/2015  10:00 PM         1,025,919 0966Pwr1HB.csv\n",
      "23/07/2015  10:06 PM         1,025,919 1018Pwr1HB.csv\n",
      "23/07/2015  10:08 PM         1,025,919 1035Pwr1HB.csv\n",
      "23/07/2015  10:12 PM         1,025,919 1067Pwr1HB.csv\n",
      "23/07/2015  10:15 PM         1,025,919 1068Pwr1HB.csv\n",
      "23/07/2015  10:18 PM         1,025,919 1094Pwr1HB.csv\n",
      "23/07/2015  10:19 PM         1,025,919 1095Pwr1HB.csv\n",
      "23/07/2015  10:25 PM         1,025,919 1100Pwr1HB.csv\n",
      "23/07/2015  10:28 PM         1,025,919 1105Pwr1HB.csv\n",
      "23/07/2015  10:34 PM         1,025,919 1106Pwr1HB.csv\n",
      "23/07/2015  10:40 PM         1,025,919 1125Pwr1HB.csv\n",
      "23/07/2015  10:45 PM         1,025,919 1126Pwr1HB.csv\n",
      "23/07/2015  10:47 PM         1,025,919 1127Pwr1HB.csv\n",
      "23/07/2015  10:49 PM         1,025,919 1140Pwr1HB.csv\n",
      "23/07/2015  10:53 PM         1,025,919 1148Pwr1HB.csv\n",
      "23/07/2015  10:58 PM         1,025,919 1149Pwr1HB.csv\n",
      "23/07/2015  11:00 PM         1,025,919 1150Pwr1HB.csv\n",
      "23/07/2015  11:02 PM         1,025,919 1167Pwr1HB.csv\n",
      "23/07/2015  11:05 PM         1,025,919 1168Pwr1HB.csv\n",
      "23/07/2015  11:09 PM         1,025,919 1169Pwr1HB.csv\n",
      "23/07/2015  11:14 PM         1,025,919 1196Pwr1HB.csv\n",
      "23/07/2015  11:15 PM         1,025,919 1200Pwr1HB.csv\n",
      "23/07/2015  11:19 PM         1,025,919 1229Pwr1HB.csv\n",
      "23/07/2015  11:24 PM         1,025,919 1231Pwr1HB.csv\n",
      "23/07/2015  11:25 PM         1,025,919 1233Pwr1HB.csv\n",
      "23/07/2015  11:31 PM         1,025,919 1234Pwr1HB.csv\n",
      "23/07/2015  11:35 PM         1,025,919 1237Pwr1HB.csv\n",
      "23/07/2015  11:40 PM         1,025,919 1238Pwr1HB.csv\n",
      "23/07/2015  11:41 PM         1,025,919 1240Pwr1HB.csv\n",
      "23/07/2015  11:42 PM         1,025,919 1273Pwr1HB.csv\n",
      "23/07/2015  11:45 PM         1,025,919 1274Pwr1HB.csv\n",
      "23/07/2015  11:49 PM         1,025,919 1276Pwr1HB.csv\n",
      "23/07/2015  11:54 PM         1,025,919 1318Pwr1HB.csv\n",
      "23/07/2015  11:55 PM         1,025,919 1319Pwr1HB.csv\n",
      "23/07/2015  11:57 PM         1,025,919 1321Pwr1HB.csv\n",
      "24/07/2015  12:00 AM         1,025,919 1367Pwr1HB.csv\n",
      "24/07/2015  12:05 AM         1,025,919 1369Pwr1HB.csv\n",
      "24/07/2015  12:10 AM         1,025,919 1380Pwr1HB.csv\n",
      "24/07/2015  12:17 AM         1,025,919 1427Pwr1HB.csv\n",
      "24/07/2015  12:21 AM         1,025,919 1428Pwr1HB.csv\n",
      "24/07/2015  12:23 AM         1,025,919 1429Pwr1HB.csv\n",
      "24/07/2015  12:28 AM         1,025,919 1437Pwr1HB.csv\n",
      "24/07/2015  12:33 AM         1,025,919 1477Pwr1HB.csv\n",
      "24/07/2015  12:37 AM         1,025,919 1486Pwr1HB.csv\n",
      "24/07/2015  12:42 AM         1,025,919 1487Pwr1HB.csv\n",
      "24/07/2015  12:49 AM         1,025,919 1611Pwr1HB.csv\n",
      "24/07/2015  12:55 AM         1,025,919 1615Pwr1HB.csv\n",
      "24/07/2015  01:01 AM         1,025,919 1616Pwr1HB.csv\n",
      "24/07/2015  01:07 AM         1,025,919 1666Pwr1HB.csv\n",
      "24/07/2015  01:09 AM         1,025,919 1680Pwr1HB.csv\n",
      "24/07/2015  01:14 AM         1,025,919 1694Pwr1HB.csv\n",
      "24/07/2015  01:21 AM         1,025,919 1700Pwr1HB.csv\n",
      "24/07/2015  01:26 AM         1,025,919 1701Pwr1HB.csv\n",
      "24/07/2015  01:32 AM         1,025,919 1705Pwr1HB.csv\n",
      "24/07/2015  01:38 AM         1,025,919 1706Pwr1HB.csv\n",
      "24/07/2015  01:40 AM         1,025,919 1747Pwr1HB.csv\n",
      "24/07/2015  01:42 AM         1,025,919 1765Pwr1HB.csv\n",
      "24/07/2015  01:48 AM         1,025,919 1771Pwr1HB.csv\n",
      "24/07/2015  01:54 AM         1,025,919 1786Pwr1HB.csv\n",
      "24/07/2015  02:00 AM         1,025,919 1787Pwr1HB.csv\n",
      "24/07/2015  02:04 AM         1,025,919 1788Pwr1HB.csv\n",
      "24/07/2015  02:08 AM         1,025,919 1800Pwr1HB.csv\n",
      "24/07/2015  02:14 AM         1,025,919 1851Pwr1HB.csv\n",
      "24/07/2015  02:17 AM         1,025,919 1854Pwr1HB.csv\n",
      "24/07/2015  02:24 AM         1,025,919 1856Pwr1HB.csv\n",
      "24/07/2015  02:30 AM         1,025,919 1863Pwr1HB.csv\n",
      "24/07/2015  02:36 AM         1,025,919 1889Pwr1HB.csv\n",
      "24/07/2015  02:43 AM         1,025,919 1898Pwr1HB.csv\n",
      "24/07/2015  02:47 AM         1,025,919 1899Pwr1HB.csv\n",
      "24/07/2015  02:53 AM         1,025,919 1961Pwr1HB.csv\n",
      "24/07/2015  03:00 AM         1,025,919 1963Pwr1HB.csv\n",
      "24/07/2015  03:06 AM         1,025,919 1986Pwr1HB.csv\n",
      "24/07/2015  03:11 AM         1,025,919 1995Pwr1HB.csv\n",
      "24/07/2015  03:17 AM         1,025,919 2090Pwr1HB.csv\n",
      "24/07/2015  03:24 AM         1,025,919 2180Pwr1HB.csv\n",
      "24/07/2015  03:30 AM         1,025,919 2187Pwr1HB.csv\n",
      "24/07/2015  03:36 AM         1,025,919 2214Pwr1HB.csv\n",
      "24/07/2015  03:39 AM         1,025,919 2251Pwr1HB.csv\n",
      "24/07/2015  03:44 AM         1,025,919 2314Pwr1HB.csv\n",
      "24/07/2015  03:51 AM         1,025,919 2315Pwr1HB.csv\n",
      "24/07/2015  03:57 AM         1,025,919 2316Pwr1HB.csv\n",
      "24/07/2015  04:03 AM         1,025,919 2317Pwr1HB.csv\n",
      "24/07/2015  04:07 AM         1,025,919 2370Pwr1HB.csv\n",
      "24/07/2015  04:11 AM         1,025,919 2378Pwr1HB.csv\n",
      "24/07/2015  04:17 AM         1,025,919 2380Pwr1HB.csv\n",
      "24/07/2015  04:23 AM         1,025,919 2381Pwr1HB.csv\n",
      "24/07/2015  04:29 AM         1,025,919 2382Pwr1HB.csv\n",
      "24/07/2015  04:33 AM         1,025,919 2447Pwr1HB.csv\n",
      "24/07/2015  04:35 AM         1,025,919 2476Pwr1HB.csv\n",
      "24/07/2015  04:38 AM         1,025,919 2477Pwr1HB.csv\n",
      "24/07/2015  04:43 AM         1,025,919 2478Pwr1HB.csv\n",
      "24/07/2015  04:46 AM         1,025,919 2512Pwr1HB.csv\n",
      "24/07/2015  04:52 AM         1,025,919 2566Pwr1HB.csv\n",
      "24/07/2015  04:53 AM         1,025,919 2629Pwr1HB.csv\n",
      "24/07/2015  05:00 AM         1,025,919 2663Pwr1HB.csv\n",
      "24/07/2015  05:01 AM         1,025,919 2666Pwr1HB.csv\n",
      "24/07/2015  05:07 AM         1,025,919 2667Pwr1HB.csv\n",
      "24/07/2015  05:10 AM         1,025,919 2676Pwr1HB.csv\n",
      "24/07/2015  05:16 AM         1,025,919 2699Pwr1HB.csv\n",
      "24/07/2015  05:22 AM         1,025,919 2700Pwr1HB.csv\n",
      "24/07/2015  05:23 AM         1,025,919 2708Pwr1HB.csv\n",
      "24/07/2015  05:28 AM         1,025,919 2991Pwr1HB.csv\n",
      "24/07/2015  05:31 AM         1,025,919 2992Pwr1HB.csv\n",
      "24/07/2015  05:36 AM         1,025,919 3100Pwr1HB.csv\n",
      "24/07/2015  05:38 AM         1,025,919 3136Pwr1HB.csv\n",
      "24/07/2015  05:40 AM         1,025,919 3137Pwr1HB.csv\n",
      "24/07/2015  05:44 AM         1,025,919 3182Pwr1HB.csv\n",
      "24/07/2015  05:47 AM         1,025,919 3227Pwr1HB.csv\n",
      "24/07/2015  05:50 AM         1,025,919 3292Pwr1HB.csv\n",
      "24/07/2015  05:53 AM         1,025,919 3387Pwr1HB.csv\n",
      "24/07/2015  05:55 AM         1,025,919 3388Pwr1HB.csv\n",
      "24/07/2015  05:57 AM         1,025,919 3414Pwr1HB.csv\n",
      "24/07/2015  06:00 AM         1,025,919 3416Pwr1HB.csv\n",
      "24/07/2015  06:02 AM         1,025,919 3419Pwr1HB.csv\n",
      "24/07/2015  06:08 AM         1,025,919 3424Pwr1HB.csv\n",
      "24/07/2015  06:10 AM         1,025,919 3444Pwr1HB.csv\n",
      "24/07/2015  06:12 AM         1,025,919 3470Pwr1HB.csv\n",
      "24/07/2015  06:15 AM         1,025,919 3472Pwr1HB.csv\n",
      "24/07/2015  06:17 AM         1,025,919 3473Pwr1HB.csv\n",
      "24/07/2015  06:22 AM         1,025,919 3559Pwr1HB.csv\n",
      "24/07/2015  06:24 AM         1,025,919 3645Pwr1HB.csv\n",
      "24/07/2015  06:28 AM         1,025,919 3669Pwr1HB.csv\n",
      "24/07/2015  06:29 AM         1,025,919 3671Pwr1HB.csv\n",
      "24/07/2015  06:34 AM         1,025,919 3672Pwr1HB.csv\n",
      "24/07/2015  06:38 AM         1,025,919 3675Pwr1HB.csv\n",
      "24/07/2015  06:42 AM         1,025,919 3681Pwr1HB.csv\n",
      "24/07/2015  06:43 AM         1,025,919 3691Pwr1HB.csv\n",
      "24/07/2015  06:45 AM         1,025,919 3692Pwr1HB.csv\n",
      "24/07/2015  06:48 AM         1,025,919 3701Pwr1HB.csv\n",
      "24/07/2015  06:49 AM         1,025,919 3718Pwr1HB.csv\n",
      "24/07/2015  06:52 AM         1,025,919 3719Pwr1HB.csv\n",
      "24/07/2015  06:55 AM         1,025,919 3734Pwr1HB.csv\n",
      "24/07/2015  07:00 AM         1,025,919 3747Pwr1HB.csv\n",
      "24/07/2015  07:04 AM         1,025,919 3751Pwr1HB.csv\n",
      "24/07/2015  07:05 AM         1,025,919 3758Pwr1HB.csv\n",
      "24/07/2015  07:08 AM         1,025,919 3760Pwr1HB.csv\n",
      "24/07/2015  07:09 AM         1,025,919 3778Pwr1HB.csv\n",
      "24/07/2015  07:11 AM         1,025,919 3783Pwr1HB.csv\n",
      "24/07/2015  07:12 AM         1,025,919 3894Pwr1HB.csv\n",
      "24/07/2015  07:16 AM         1,025,919 3932Pwr1HB.csv\n",
      "24/07/2015  07:20 AM         1,025,919 3978Pwr1HB.csv\n",
      "24/07/2015  07:23 AM         1,025,919 4007Pwr1HB.csv\n",
      "24/07/2015  07:29 AM         1,025,919 4010Pwr1HB.csv\n",
      "24/07/2015  07:32 AM         1,025,919 4015Pwr1HB.csv\n",
      "24/07/2015  07:38 AM         1,025,919 4036Pwr1HB.csv\n",
      "24/07/2015  07:43 AM         1,025,919 4042Pwr1HB.csv\n",
      "24/07/2015  07:44 AM         1,025,919 4071Pwr1HB.csv\n",
      "24/07/2015  07:44 AM         1,025,919 4072Pwr1HB.csv\n",
      "24/07/2015  07:49 AM         1,025,919 4132Pwr1HB.csv\n",
      "24/07/2015  07:54 AM         1,025,919 4152Pwr1HB.csv\n",
      "24/07/2015  07:55 AM         1,025,919 4172Pwr1HB.csv\n",
      "24/07/2015  07:58 AM         1,025,919 4205Pwr1HB.csv\n",
      "24/07/2015  07:59 AM         1,025,919 4211Pwr1HB.csv\n",
      "24/07/2015  08:01 AM         1,025,919 4214Pwr1HB.csv\n",
      "24/07/2015  08:04 AM         1,025,919 4215Pwr1HB.csv\n",
      "24/07/2015  08:05 AM         1,025,919 4263Pwr1HB.csv\n",
      "24/07/2015  08:07 AM         1,025,919 4265Pwr1HB.csv\n",
      "24/07/2015  08:09 AM         1,025,919 4286Pwr1HB.csv\n",
      "24/07/2015  08:10 AM         1,025,919 4287Pwr1HB.csv\n",
      "17/01/2017  10:08 AM           905,561 CanWEA_Wind_Site_Metadata.xlsx\n",
      "17/01/2017  10:07 AM                72 Untitled.ipynb\n",
      "             219 File(s)    223,530,056 bytes\n",
      "               3 Dir(s)  314,880,757,760 bytes free\n"
     ]
    }
   ],
   "source": [
    "! dir "
   ]
  },
  {
   "cell_type": "code",
   "execution_count": 1,
   "metadata": {
    "collapsed": true
   },
   "outputs": [],
   "source": [
    "import pandas as pd\n",
    "import matplotlib.pyplot as plt\n",
    "import numpy as np\n",
    "%matplotlib inline"
   ]
  },
  {
   "cell_type": "markdown",
   "metadata": {},
   "source": [
    "## plot style"
   ]
  },
  {
   "cell_type": "code",
   "execution_count": 2,
   "metadata": {
    "collapsed": true
   },
   "outputs": [],
   "source": [
    "SIZE = 8\n",
    "MEDIUM_SIZE = 10\n",
    "BIGGER_SIZE = 12\n",
    "\n",
    "plt.rc('font', size=SIZE)                # controls default text sizes\n",
    "plt.rc('axes', titlesize=SIZE)           # fontsize of the axes title\n",
    "plt.rc('axes', labelsize=MEDIUM_SIZE)    # fontsize of the x and y labels\n",
    "plt.rc('xtick', labelsize=SIZE)          # fontsize of the tick labels\n",
    "plt.rc('ytick', labelsize=SIZE)          # fontsize of the tick labels\n",
    "plt.rc('legend', fontsize=SIZE)          # legend fontsize\n",
    "plt.rc('figure', titlesize=BIGGER_SIZE)  # fontsize of the figure title\n",
    "\n",
    "plt.style.use('seaborn-deep')\n",
    "\n",
    "# witdth of figures\n",
    "smallwidth=3.54\n",
    "mediumwidth=5.51\n",
    "bigwidth=7.48"
   ]
  },
  {
   "cell_type": "code",
   "execution_count": 11,
   "metadata": {
    "collapsed": false
   },
   "outputs": [],
   "source": [
    "#metadata=pd.read_excel('CanWEA_Wind_Site_Metadata.xlsx',sheetname='Metadata',index_col='Site ID #')"
   ]
  },
  {
   "cell_type": "code",
   "execution_count": 3,
   "metadata": {
    "collapsed": true
   },
   "outputs": [],
   "source": [
    "metadata=pd.read_excel('CanWEA_Wind_Site_Metadata.xlsx',sheetname='Metadata')\n",
    "metadata['Site ID #']=metadata['Site ID #'].astype(str).str.zfill(4)"
   ]
  },
  {
   "cell_type": "code",
   "execution_count": 4,
   "metadata": {
    "collapsed": false
   },
   "outputs": [
    {
     "data": {
      "text/html": [
       "<div>\n",
       "<table border=\"1\" class=\"dataframe\">\n",
       "  <thead>\n",
       "    <tr style=\"text-align: right;\">\n",
       "      <th></th>\n",
       "      <th>Site ID #</th>\n",
       "      <th>Number of Grid Cells</th>\n",
       "      <th>Capacity (MW)</th>\n",
       "      <th>Gross Energy (GWh)</th>\n",
       "      <th>Maintenance Losses (GWh)</th>\n",
       "      <th>Electrical Losses (GWh)</th>\n",
       "      <th>Net Energy (GWh)</th>\n",
       "      <th>Capacity Factor (%)</th>\n",
       "      <th>Longitude</th>\n",
       "      <th>Latitude</th>\n",
       "      <th>Province</th>\n",
       "      <th>Onshore or Offshore</th>\n",
       "      <th>Dist to High Volt Transmission</th>\n",
       "      <th>5BAU Scenario</th>\n",
       "      <th>20DISP Scenario</th>\n",
       "      <th>20CONC Scenario</th>\n",
       "      <th>35TRGT Scenario</th>\n",
       "      <th>PCWIS Scalar</th>\n",
       "    </tr>\n",
       "  </thead>\n",
       "  <tbody>\n",
       "    <tr>\n",
       "      <th>470</th>\n",
       "      <td>0471</td>\n",
       "      <td>9</td>\n",
       "      <td>144</td>\n",
       "      <td>488.458273</td>\n",
       "      <td>24.422914</td>\n",
       "      <td>13.921061</td>\n",
       "      <td>450.114298</td>\n",
       "      <td>0.356826</td>\n",
       "      <td>-73.584333</td>\n",
       "      <td>45.353089</td>\n",
       "      <td>Quebec</td>\n",
       "      <td>Onshore</td>\n",
       "      <td>10 km</td>\n",
       "      <td>0</td>\n",
       "      <td>0</td>\n",
       "      <td>0</td>\n",
       "      <td>1</td>\n",
       "      <td>1.0</td>\n",
       "    </tr>\n",
       "    <tr>\n",
       "      <th>1017</th>\n",
       "      <td>1018</td>\n",
       "      <td>25</td>\n",
       "      <td>400</td>\n",
       "      <td>1350.838257</td>\n",
       "      <td>67.541913</td>\n",
       "      <td>38.498890</td>\n",
       "      <td>1244.797454</td>\n",
       "      <td>0.355250</td>\n",
       "      <td>-69.073800</td>\n",
       "      <td>47.791188</td>\n",
       "      <td>Quebec</td>\n",
       "      <td>Onshore</td>\n",
       "      <td>10 km</td>\n",
       "      <td>0</td>\n",
       "      <td>0</td>\n",
       "      <td>0</td>\n",
       "      <td>1</td>\n",
       "      <td>1.0</td>\n",
       "    </tr>\n",
       "    <tr>\n",
       "      <th>1066</th>\n",
       "      <td>1067</td>\n",
       "      <td>19</td>\n",
       "      <td>304</td>\n",
       "      <td>1068.001808</td>\n",
       "      <td>53.400090</td>\n",
       "      <td>30.438052</td>\n",
       "      <td>984.163667</td>\n",
       "      <td>0.369564</td>\n",
       "      <td>-69.131105</td>\n",
       "      <td>47.962921</td>\n",
       "      <td>Quebec</td>\n",
       "      <td>Onshore</td>\n",
       "      <td>10 km</td>\n",
       "      <td>0</td>\n",
       "      <td>1</td>\n",
       "      <td>0</td>\n",
       "      <td>1</td>\n",
       "      <td>1.0</td>\n",
       "    </tr>\n",
       "    <tr>\n",
       "      <th>1067</th>\n",
       "      <td>1068</td>\n",
       "      <td>11</td>\n",
       "      <td>176</td>\n",
       "      <td>622.267530</td>\n",
       "      <td>31.113377</td>\n",
       "      <td>17.734625</td>\n",
       "      <td>573.419529</td>\n",
       "      <td>0.371925</td>\n",
       "      <td>-69.214636</td>\n",
       "      <td>47.976109</td>\n",
       "      <td>Quebec</td>\n",
       "      <td>Onshore</td>\n",
       "      <td>10 km</td>\n",
       "      <td>0</td>\n",
       "      <td>1</td>\n",
       "      <td>0</td>\n",
       "      <td>1</td>\n",
       "      <td>1.0</td>\n",
       "    </tr>\n",
       "    <tr>\n",
       "      <th>1093</th>\n",
       "      <td>1094</td>\n",
       "      <td>12</td>\n",
       "      <td>192</td>\n",
       "      <td>720.495788</td>\n",
       "      <td>36.024789</td>\n",
       "      <td>20.534130</td>\n",
       "      <td>663.936869</td>\n",
       "      <td>0.394749</td>\n",
       "      <td>-69.188750</td>\n",
       "      <td>48.073333</td>\n",
       "      <td>Quebec</td>\n",
       "      <td>Onshore</td>\n",
       "      <td>10 km</td>\n",
       "      <td>0</td>\n",
       "      <td>1</td>\n",
       "      <td>1</td>\n",
       "      <td>1</td>\n",
       "      <td>1.0</td>\n",
       "    </tr>\n",
       "  </tbody>\n",
       "</table>\n",
       "</div>"
      ],
      "text/plain": [
       "     Site ID #  Number of Grid Cells  Capacity (MW)  Gross Energy (GWh)  \\\n",
       "470       0471                     9            144          488.458273   \n",
       "1017      1018                    25            400         1350.838257   \n",
       "1066      1067                    19            304         1068.001808   \n",
       "1067      1068                    11            176          622.267530   \n",
       "1093      1094                    12            192          720.495788   \n",
       "\n",
       "      Maintenance Losses (GWh)  Electrical Losses (GWh)  Net Energy (GWh)  \\\n",
       "470                  24.422914                13.921061        450.114298   \n",
       "1017                 67.541913                38.498890       1244.797454   \n",
       "1066                 53.400090                30.438052        984.163667   \n",
       "1067                 31.113377                17.734625        573.419529   \n",
       "1093                 36.024789                20.534130        663.936869   \n",
       "\n",
       "      Capacity Factor (%)  Longitude   Latitude Province Onshore or Offshore  \\\n",
       "470              0.356826 -73.584333  45.353089   Quebec             Onshore   \n",
       "1017             0.355250 -69.073800  47.791188   Quebec             Onshore   \n",
       "1066             0.369564 -69.131105  47.962921   Quebec             Onshore   \n",
       "1067             0.371925 -69.214636  47.976109   Quebec             Onshore   \n",
       "1093             0.394749 -69.188750  48.073333   Quebec             Onshore   \n",
       "\n",
       "     Dist to High Volt Transmission  5BAU Scenario  20DISP Scenario  \\\n",
       "470                           10 km              0                0   \n",
       "1017                          10 km              0                0   \n",
       "1066                          10 km              0                1   \n",
       "1067                          10 km              0                1   \n",
       "1093                          10 km              0                1   \n",
       "\n",
       "      20CONC Scenario  35TRGT Scenario  PCWIS Scalar  \n",
       "470                 0                1           1.0  \n",
       "1017                0                1           1.0  \n",
       "1066                0                1           1.0  \n",
       "1067                0                1           1.0  \n",
       "1093                1                1           1.0  "
      ]
     },
     "execution_count": 4,
     "metadata": {},
     "output_type": "execute_result"
    }
   ],
   "source": [
    "metadata.loc[(metadata['Province']=='Quebec') &\n",
    "             (metadata['35TRGT Scenario']==1) ,:].head()"
   ]
  },
  {
   "cell_type": "code",
   "execution_count": 21,
   "metadata": {
    "collapsed": false
   },
   "outputs": [
    {
     "data": {
      "text/plain": [
       "(4984, 18)"
      ]
     },
     "execution_count": 21,
     "metadata": {},
     "output_type": "execute_result"
    }
   ],
   "source": [
    "metadata.shape"
   ]
  },
  {
   "cell_type": "code",
   "execution_count": 29,
   "metadata": {
    "collapsed": false
   },
   "outputs": [
    {
     "data": {
      "text/plain": [
       "(4984,)"
      ]
     },
     "execution_count": 29,
     "metadata": {},
     "output_type": "execute_result"
    }
   ],
   "source": [
    "# they are indeed non-repeated sites IDs\n",
    "metadata['Site ID #'].unique().shape"
   ]
  },
  {
   "cell_type": "markdown",
   "metadata": {},
   "source": [
    "number of potential sites in Quebec for in the 35% scenario? it is surprising because there is way more potential sites that the ones used for the scenarios..."
   ]
  },
  {
   "cell_type": "code",
   "execution_count": 30,
   "metadata": {
    "collapsed": false
   },
   "outputs": [
    {
     "data": {
      "text/plain": [
       "(1382, 18)"
      ]
     },
     "execution_count": 30,
     "metadata": {},
     "output_type": "execute_result"
    }
   ],
   "source": [
    "metadata.loc[(metadata['Province']=='Quebec'),:].shape"
   ]
  },
  {
   "cell_type": "code",
   "execution_count": 18,
   "metadata": {
    "collapsed": false
   },
   "outputs": [
    {
     "data": {
      "text/plain": [
       "5BAU Scenario      28\n",
       "20DISP Scenario    40\n",
       "20CONC Scenario    16\n",
       "35TRGT Scenario    53\n",
       "dtype: int64"
      ]
     },
     "execution_count": 18,
     "metadata": {},
     "output_type": "execute_result"
    }
   ],
   "source": [
    "metadata.loc[(metadata['Province']=='Quebec'),['5BAU Scenario',\n",
    "                                               '20DISP Scenario',\n",
    "                                               '20CONC Scenario',\n",
    "                                               '35TRGT Scenario']].sum()"
   ]
  },
  {
   "cell_type": "markdown",
   "metadata": {},
   "source": [
    "average capacity factor of wind power plants in Quebec"
   ]
  },
  {
   "cell_type": "code",
   "execution_count": 102,
   "metadata": {
    "collapsed": false
   },
   "outputs": [
    {
     "data": {
      "text/plain": [
       "0.37749815255905556"
      ]
     },
     "execution_count": 102,
     "metadata": {},
     "output_type": "execute_result"
    }
   ],
   "source": [
    "metadata.loc[(metadata['Province']=='Quebec') &\n",
    "             (metadata['35TRGT Scenario']==1),'Capacity Factor (%)'].mean()"
   ]
  },
  {
   "cell_type": "markdown",
   "metadata": {},
   "source": [
    "aggregaed capacity"
   ]
  },
  {
   "cell_type": "code",
   "execution_count": 103,
   "metadata": {
    "collapsed": false
   },
   "outputs": [
    {
     "data": {
      "text/plain": [
       "263056"
      ]
     },
     "execution_count": 103,
     "metadata": {},
     "output_type": "execute_result"
    }
   ],
   "source": [
    "metadata.loc[metadata['Province']=='Quebec','Capacity (MW)'].sum()"
   ]
  },
  {
   "cell_type": "markdown",
   "metadata": {},
   "source": [
    "#### indentify the wind power plants used in the scenario 35% - "
   ]
  },
  {
   "cell_type": "markdown",
   "metadata": {},
   "source": [
    "different sites are considered in different scenarios. For example if I'm using the files in the 35% scenario folder then I will only find the files corresponding to the sites used in that scenario. \n",
    "\n",
    "Therefore I need to add a second conditional to identify those sites"
   ]
  },
  {
   "cell_type": "code",
   "execution_count": 31,
   "metadata": {
    "collapsed": false
   },
   "outputs": [],
   "source": [
    "idQC=metadata.loc[(metadata['Province']=='Quebec') &\n",
    "             (metadata['35TRGT Scenario']==1) ,'Site ID #'].get_values()\n",
    "\n",
    "idQC=idQC+'Pwr1HB.csv'"
   ]
  },
  {
   "cell_type": "markdown",
   "metadata": {},
   "source": [
    "read the files using the name indicated in the index"
   ]
  },
  {
   "cell_type": "markdown",
   "metadata": {},
   "source": [
    "cool, now we arrive to read the file. The values are already proportional to the capacity. sometimes the plant operates at full capacity but on average they would not. I guess I don't need the capacity of each site. I could just get the values, add them as columns and they all should share the same index. "
   ]
  },
  {
   "cell_type": "markdown",
   "metadata": {},
   "source": [
    "### this works but it's pretty slow"
   ]
  },
  {
   "cell_type": "code",
   "execution_count": null,
   "metadata": {
    "collapsed": true
   },
   "outputs": [],
   "source": [
    "wind1=pd.read_csv(idQC[0])\n",
    "# substitute \"value\" for the id of the site\n",
    "# it could be also the capacity, that I am dropping right now\n",
    "wind1.iloc[1,1]=wind1.columns[1].strip() \n",
    "wind1.drop(0,inplace=True)\n",
    "# eliminate some black spaces\n",
    "wind1.columns = wind1.iloc[0,:].str.strip() \n",
    "wind1.drop(1,inplace=True)\n",
    "#wind1.set_index('Date/Time',inplace=True)\n",
    "wind1.set_index(pd.DatetimeIndex(wind1['Date/Time']),inplace=True) # this one is slow\n",
    "wind1.drop('Date/Time',axis=1,inplace=True)\n",
    "#wind1.index.names = ['date']"
   ]
  },
  {
   "cell_type": "markdown",
   "metadata": {},
   "source": [
    "### create a dataframe with the production per hour (MWh) for each site"
   ]
  },
  {
   "cell_type": "markdown",
   "metadata": {},
   "source": [
    "merge works! abajo concatenate!\n"
   ]
  },
  {
   "cell_type": "code",
   "execution_count": 32,
   "metadata": {
    "collapsed": false
   },
   "outputs": [
    {
     "name": "stdout",
     "output_type": "stream",
     "text": [
      "0\n"
     ]
    }
   ],
   "source": [
    "counter=0\n",
    "wdf=[]\n",
    "for file in idQC:\n",
    "    #print(file)\n",
    "    w=pd.read_csv(file)\n",
    "    w.iloc[1,1]=w.columns[1].strip()\n",
    "    w.drop([0,1],inplace=True)\n",
    "    w.drop('PlantID = ',axis=1,inplace=True)\n",
    "    w.reset_index(drop=True,inplace=True)\n",
    "    \n",
    "    if counter == 0:\n",
    "        wdf=w\n",
    "        print(counter)\n",
    "        counter=counter+1\n",
    "        continue\n",
    "    else:\n",
    "        wdf=wdf.merge(w,how='inner',left_index=True,right_index=True)\n",
    "        counter=counter+1\n",
    "            \n",
    "    #if counter >10:\n",
    "    #        break"
   ]
  },
  {
   "cell_type": "markdown",
   "metadata": {},
   "source": [
    "now get an index"
   ]
  },
  {
   "cell_type": "code",
   "execution_count": 33,
   "metadata": {
    "collapsed": true
   },
   "outputs": [],
   "source": [
    "windindex=pd.read_csv(idQC[0],skiprows=2,index_col='Date/Time ',parse_dates=True).index\n",
    "wdf.index=windindex"
   ]
  },
  {
   "cell_type": "markdown",
   "metadata": {},
   "source": [
    "I need to clean the dataframe, he thinks the numbers are strings and there's plenty of black spaces"
   ]
  },
  {
   "cell_type": "code",
   "execution_count": 34,
   "metadata": {
    "collapsed": false
   },
   "outputs": [],
   "source": [
    "# use replace with regex to substitute empty characters with blankspaces\n",
    "wdf.replace(regex=True,to_replace=r'\\s',value=r'',inplace=True)\n",
    "# convert from strings to numeric\n",
    "wdf=wdf.apply(pd.to_numeric)"
   ]
  },
  {
   "cell_type": "markdown",
   "metadata": {},
   "source": [
    "## compare the aggregated production values that I get from the resumee with those from the time series"
   ]
  },
  {
   "cell_type": "markdown",
   "metadata": {},
   "source": [
    "The numbers are a bit different but roughly similar to \"gross energy\" values in the spreadsheet (which are expressed in an annual basis"
   ]
  },
  {
   "cell_type": "code",
   "execution_count": 35,
   "metadata": {
    "collapsed": false,
    "scrolled": false
   },
   "outputs": [
    {
     "data": {
      "text/plain": [
       "   471     501.253837\n",
       "  1018    1319.462580\n",
       "  1067    1038.013559\n",
       "  1068     607.074384\n",
       "  1094     704.518431\n",
       "dtype: float64"
      ]
     },
     "execution_count": 35,
     "metadata": {},
     "output_type": "execute_result"
    }
   ],
   "source": [
    "(wdf.sum()/1000/3).head()"
   ]
  },
  {
   "cell_type": "code",
   "execution_count": 36,
   "metadata": {
    "collapsed": false
   },
   "outputs": [
    {
     "data": {
      "text/html": [
       "<div>\n",
       "<table border=\"1\" class=\"dataframe\">\n",
       "  <thead>\n",
       "    <tr style=\"text-align: right;\">\n",
       "      <th></th>\n",
       "      <th>Gross Energy (GWh)</th>\n",
       "    </tr>\n",
       "    <tr>\n",
       "      <th>Site ID #</th>\n",
       "      <th></th>\n",
       "    </tr>\n",
       "  </thead>\n",
       "  <tbody>\n",
       "    <tr>\n",
       "      <th>0471</th>\n",
       "      <td>488.458273</td>\n",
       "    </tr>\n",
       "    <tr>\n",
       "      <th>1018</th>\n",
       "      <td>1350.838257</td>\n",
       "    </tr>\n",
       "    <tr>\n",
       "      <th>1067</th>\n",
       "      <td>1068.001808</td>\n",
       "    </tr>\n",
       "    <tr>\n",
       "      <th>1068</th>\n",
       "      <td>622.267530</td>\n",
       "    </tr>\n",
       "    <tr>\n",
       "      <th>1094</th>\n",
       "      <td>720.495788</td>\n",
       "    </tr>\n",
       "  </tbody>\n",
       "</table>\n",
       "</div>"
      ],
      "text/plain": [
       "           Gross Energy (GWh)\n",
       "Site ID #                    \n",
       "0471               488.458273\n",
       "1018              1350.838257\n",
       "1067              1068.001808\n",
       "1068               622.267530\n",
       "1094               720.495788"
      ]
     },
     "execution_count": 36,
     "metadata": {},
     "output_type": "execute_result"
    }
   ],
   "source": [
    "metadata.loc[(metadata['Province']=='Quebec') &\n",
    "             (metadata['35TRGT Scenario']==1) ,['Gross Energy (GWh)','Site ID #']].set_index('Site ID #').head()"
   ]
  },
  {
   "cell_type": "code",
   "execution_count": 110,
   "metadata": {
    "collapsed": false
   },
   "outputs": [
    {
     "data": {
      "text/plain": [
       "<matplotlib.collections.PathCollection at 0x1c6c4b2b048>"
      ]
     },
     "execution_count": 110,
     "metadata": {},
     "output_type": "execute_result"
    },
    {
     "data": {
      "image/png": "[encoded data removed]",
      "text/plain": [
       "<matplotlib.figure.Figure at 0x1c6c49a76d8>"
      ]
     },
     "metadata": {},
     "output_type": "display_data"
    }
   ],
   "source": [
    "plt.scatter(metadata.loc[(metadata['Province']=='Quebec') &\n",
    "                         (metadata['35TRGT Scenario']==1) ,\\\n",
    "                         ['Gross Energy (GWh)','Site ID #']]\\\n",
    "                         .set_index('Site ID #').values,\n",
    "            (wdf.sum()/1000/3).values)"
   ]
  },
  {
   "cell_type": "markdown",
   "metadata": {},
   "source": [
    "for most of the sites the approximation is quite correct"
   ]
  },
  {
   "cell_type": "markdown",
   "metadata": {},
   "source": [
    "### compare capacity factors from the spreedsheet and those calculated by the ts"
   ]
  },
  {
   "cell_type": "code",
   "execution_count": 69,
   "metadata": {
    "collapsed": false,
    "scrolled": true
   },
   "outputs": [
    {
     "data": {
      "text/html": [
       "<div>\n",
       "<table border=\"1\" class=\"dataframe\">\n",
       "  <thead>\n",
       "    <tr style=\"text-align: right;\">\n",
       "      <th></th>\n",
       "      <th>Capacity Factor (%)</th>\n",
       "    </tr>\n",
       "    <tr>\n",
       "      <th>Site ID #</th>\n",
       "      <th></th>\n",
       "    </tr>\n",
       "  </thead>\n",
       "  <tbody>\n",
       "    <tr>\n",
       "      <th>0471</th>\n",
       "      <td>0.356826</td>\n",
       "    </tr>\n",
       "    <tr>\n",
       "      <th>1018</th>\n",
       "      <td>0.355250</td>\n",
       "    </tr>\n",
       "    <tr>\n",
       "      <th>1067</th>\n",
       "      <td>0.369564</td>\n",
       "    </tr>\n",
       "    <tr>\n",
       "      <th>1068</th>\n",
       "      <td>0.371925</td>\n",
       "    </tr>\n",
       "    <tr>\n",
       "      <th>1094</th>\n",
       "      <td>0.394749</td>\n",
       "    </tr>\n",
       "  </tbody>\n",
       "</table>\n",
       "</div>"
      ],
      "text/plain": [
       "           Capacity Factor (%)\n",
       "Site ID #                     \n",
       "0471                  0.356826\n",
       "1018                  0.355250\n",
       "1067                  0.369564\n",
       "1068                  0.371925\n",
       "1094                  0.394749"
      ]
     },
     "execution_count": 69,
     "metadata": {},
     "output_type": "execute_result"
    }
   ],
   "source": [
    "metadata.loc[(metadata['Province']=='Quebec') &\n",
    "             (metadata['35TRGT Scenario']==1) ,['Capacity Factor (%)','Site ID #']].set_index('Site ID #').head()"
   ]
  },
  {
   "cell_type": "code",
   "execution_count": 73,
   "metadata": {
    "collapsed": false
   },
   "outputs": [
    {
     "data": {
      "text/html": [
       "<div>\n",
       "<table border=\"1\" class=\"dataframe\">\n",
       "  <thead>\n",
       "    <tr style=\"text-align: right;\">\n",
       "      <th></th>\n",
       "      <th>Capacity (MW)</th>\n",
       "    </tr>\n",
       "    <tr>\n",
       "      <th>Site ID #</th>\n",
       "      <th></th>\n",
       "    </tr>\n",
       "  </thead>\n",
       "  <tbody>\n",
       "    <tr>\n",
       "      <th>0471</th>\n",
       "      <td>144</td>\n",
       "    </tr>\n",
       "    <tr>\n",
       "      <th>1018</th>\n",
       "      <td>400</td>\n",
       "    </tr>\n",
       "    <tr>\n",
       "      <th>1067</th>\n",
       "      <td>304</td>\n",
       "    </tr>\n",
       "    <tr>\n",
       "      <th>1068</th>\n",
       "      <td>176</td>\n",
       "    </tr>\n",
       "    <tr>\n",
       "      <th>1094</th>\n",
       "      <td>192</td>\n",
       "    </tr>\n",
       "  </tbody>\n",
       "</table>\n",
       "</div>"
      ],
      "text/plain": [
       "           Capacity (MW)\n",
       "Site ID #               \n",
       "0471                 144\n",
       "1018                 400\n",
       "1067                 304\n",
       "1068                 176\n",
       "1094                 192"
      ]
     },
     "execution_count": 73,
     "metadata": {},
     "output_type": "execute_result"
    }
   ],
   "source": [
    "metadata.loc[(metadata['Province']=='Quebec') &\n",
    "             (metadata['35TRGT Scenario']==1) ,['Capacity (MW)','Site ID #']].set_index('Site ID #').head()"
   ]
  },
  {
   "cell_type": "code",
   "execution_count": 112,
   "metadata": {
    "collapsed": false
   },
   "outputs": [
    {
     "data": {
      "text/plain": [
       "0.39736637234324595"
      ]
     },
     "execution_count": 112,
     "metadata": {},
     "output_type": "execute_result"
    }
   ],
   "source": [
    "# for the first power plant of the list, the sum of its produced electricity during 3 years\n",
    "# divided by the number of hours in 3 years and its capacity \n",
    "\n",
    "wdf.sum().iloc[0]/3/24/365/ metadata.loc[(metadata['Province']=='Quebec') &\n",
    "                                         (metadata['35TRGT Scenario']==1) ,'Capacity (MW)'].iloc[0]\n"
   ]
  },
  {
   "cell_type": "markdown",
   "metadata": {},
   "source": [
    "## were all the selected sites operating by the begining of 2008?"
   ]
  },
  {
   "cell_type": "markdown",
   "metadata": {},
   "source": [
    "## how correlated are wind production and temperature?"
   ]
  },
  {
   "cell_type": "markdown",
   "metadata": {},
   "source": [
    "### TODO"
   ]
  },
  {
   "cell_type": "markdown",
   "metadata": {},
   "source": [
    "Roughly correct, but an overestimation.\n",
    "\n",
    "may be better to use the timeseries just to shape the temporal distribution but normalize it so it matches the capacity factors outlined in the spreadsheet. Otherwise I will be probably overestimating the capacity factors by a few percentual points"
   ]
  },
  {
   "cell_type": "code",
   "execution_count": 37,
   "metadata": {
    "collapsed": false,
    "scrolled": true
   },
   "outputs": [
    {
     "data": {
      "text/plain": [
       "<matplotlib.axes._subplots.AxesSubplot at 0xa16e0b8>"
      ]
     },
     "execution_count": 37,
     "metadata": {},
     "output_type": "execute_result"
    },
    {
     "data": {
      "image/png": "[encoded data removed]",
      "text/plain": [
       "<matplotlib.figure.Figure at 0xa1b6198>"
      ]
     },
     "metadata": {},
     "output_type": "display_data"
    }
   ],
   "source": [
    "wdf.sum(axis=1).rolling(window=672).mean().plot(figsize=(14,4),color='red')\n",
    "wdf.sum(axis=1).rolling(window=168).mean().plot(figsize=(14,4)) # weekly"
   ]
  },
  {
   "cell_type": "code",
   "execution_count": 158,
   "metadata": {
    "collapsed": false
   },
   "outputs": [],
   "source": [
    "#this is actually quite a cool visualization, but not available right now\n",
    "# import calmap"
   ]
  },
  {
   "cell_type": "markdown",
   "metadata": {},
   "source": [
    "## summing all sites"
   ]
  },
  {
   "cell_type": "code",
   "execution_count": 38,
   "metadata": {
    "collapsed": true
   },
   "outputs": [],
   "source": [
    "wdfagg=wdf.sum(axis=1)"
   ]
  },
  {
   "cell_type": "markdown",
   "metadata": {},
   "source": [
    "## Build a matrix with the potential generation per TS (to have CF for each plant)"
   ]
  },
  {
   "cell_type": "markdown",
   "metadata": {},
   "source": [
    "The very simplified version uses only the aggregated capacity"
   ]
  },
  {
   "cell_type": "markdown",
   "metadata": {},
   "source": [
    "number of hours for each timeslice"
   ]
  },
  {
   "cell_type": "code",
   "execution_count": 40,
   "metadata": {
    "collapsed": false
   },
   "outputs": [],
   "source": [
    "tslen={\n",
    "'RP1':len(wdfagg['20080321':'20080620'].between_time('6:00','8:00').index.hour),\n",
    "\"RD\":len(wdfagg['20080321':'20080620'].between_time('9:00','16:00').index.hour),\n",
    "\"RP2\":len(wdfagg['20080321':'20080620'].between_time('17:00','19:00').index.hour),\n",
    "\"RN\":len(wdfagg['20080321':'20080620'].between_time('20:00','5:00').index.hour),\n",
    "\"SP1\":len(wdfagg['20080621':'20080920'].between_time('6:00','8:00').index.hour), \n",
    "\"SD\":len(wdfagg['20080621':'20080920'].between_time('9:00','16:00').index.hour), \n",
    "\"SP2\":len(wdfagg['20080621':'20080920'].between_time('17:00','19:00').index.hour),\n",
    "\"SN\":len(wdfagg['20080621':'20080920'].between_time('20:00','05:00').index.hour),\n",
    "\"FP1\":len(wdfagg['20080921':'20081220'].between_time('6:00','8:00').index.hour),\n",
    "\"FD\":len(wdfagg['20080921':'20081220'].between_time('9:00','16:00').index.hour),\n",
    "\"FP2\":len(wdfagg['20080921':'20081220'].between_time('17:00','19:00').index.hour),\n",
    "'FN':len(wdfagg['20080921':'20081220'].between_time('20:00','05:00').index.hour),\n",
    "'WP1':len(pd.concat([wdfagg['20080101':'20080320'].between_time('6:00','8:00'),\n",
    "        wdfagg['20081221':'20081231'].between_time('6:00','8:00')]).index.hour),\n",
    "'WD':len(pd.concat([wdfagg['20080101':'20080320'].between_time('9:00','16:00'),\n",
    "        wdfagg['20081221':'20081231'].between_time('9:00','16:00')]).index.hour),\n",
    "'WP2':len(pd.concat([wdfagg['20080101':'20080320'].between_time('17:00','19:00'),\n",
    "        wdfagg['20081221':'20081231'].between_time('17:00','19:00')]).index.hour),\n",
    "'WN':len(pd.concat([wdfagg['20080101':'20080320'].between_time('20:00','05:00'),\n",
    "        wdfagg['20081221':'20081231'].between_time('20:00','05:00')]).index.hour),\n",
    " }"
   ]
  },
  {
   "cell_type": "code",
   "execution_count": 41,
   "metadata": {
    "collapsed": false
   },
   "outputs": [],
   "source": [
    "# maximum production per time slice: all capacity by the lenght of the ts\n",
    "tsmaxpr={}\n",
    "for key in tslen:\n",
    "    tsmaxpr[key]=tslen[key]*metadata.loc[(metadata['Province']=='Quebec') &\n",
    "             (metadata['35TRGT Scenario']==1),'Capacity (MW)'].sum()"
   ]
  },
  {
   "cell_type": "markdown",
   "metadata": {},
   "source": [
    "## calculate the sum of production per ts"
   ]
  },
  {
   "cell_type": "code",
   "execution_count": 42,
   "metadata": {
    "collapsed": true
   },
   "outputs": [],
   "source": [
    "R2008P1=wdfagg['20080321':'20080620'].between_time('6:00','8:00').sum()\n",
    "R2008D=wdfagg['20080321':'20080620'].between_time('9:00','16:00').sum()\n",
    "R2008P2=wdfagg['20080321':'20080620'].between_time('17:00','19:00').sum()\n",
    "R2008N=wdfagg['20080321':'20080620'].between_time('20:00','5:00').sum()\n",
    "\n",
    "S2008P1=wdfagg['20080621':'20080920'].between_time('6:00','8:00').sum() # longer morning peak\n",
    "S2008D=wdfagg['20080621':'20080920'].between_time('9:00','16:00').sum() \n",
    "S2008P2=wdfagg['20080621':'20080920'].between_time('17:00','19:00').sum()\n",
    "S2008N=wdfagg['20080621':'20080920'].between_time('20:00','05:00').sum()\n",
    "\n",
    "F2008P1=wdfagg['20080921':'20081220'].between_time('6:00','8:00').sum()\n",
    "F2008D=wdfagg['20080921':'20081220'].between_time('9:00','16:00').sum()\n",
    "F2008P2=wdfagg['20080921':'20081220'].between_time('17:00','19:00').sum()\n",
    "F2008N=wdfagg['20080921':'20081220'].between_time('20:00','05:00').sum()\n",
    "\n",
    "W2008P1=pd.concat([wdfagg['20080101':'20080320'].between_time('6:00','8:00'),\n",
    "        wdfagg['20081221':'20081231'].between_time('6:00','8:00')]).sum()\n",
    "W2008D=pd.concat([wdfagg['20080101':'20080320'].between_time('9:00','16:00'),\n",
    "        wdfagg['20081221':'20081231'].between_time('9:00','16:00')]).sum()\n",
    "W2008P2=pd.concat([wdfagg['20080101':'20080320'].between_time('17:00','19:00'),\n",
    "        wdfagg['20081221':'20081231'].between_time('17:00','19:00')]).sum()\n",
    "W2008N=pd.concat([wdfagg['20080101':'20080320'].between_time('20:00','05:00'),\n",
    "        wdfagg['20081221':'20081231'].between_time('20:00','05:00')]).sum()\n",
    "\n",
    "####\n",
    "\n",
    "R2009P1=wdfagg['20090321':'20090620'].between_time('6:00','8:00').sum()\n",
    "R2009D=wdfagg['20090321':'20090620'].between_time('9:00','16:00').sum()\n",
    "R2009P2=wdfagg['20090321':'20090620'].between_time('17:00','19:00').sum()\n",
    "R2009N=wdfagg['20090321':'20090620'].between_time('20:00','5:00').sum()\n",
    "\n",
    "S2009P1=wdfagg['20090621':'20090920'].between_time('6:00','8:00').sum() \n",
    "S2009D=wdfagg['20090621':'20090920'].between_time('9:00','16:00').sum() \n",
    "S2009P2=wdfagg['20090621':'20090920'].between_time('17:00','19:00').sum()\n",
    "S2009N=wdfagg['20090621':'20090920'].between_time('20:00','05:00').sum()\n",
    "\n",
    "F2009P1=wdfagg['20090921':'20091220'].between_time('6:00','8:00').sum()\n",
    "F2009D=wdfagg['20090921':'20091220'].between_time('9:00','16:00').sum()\n",
    "F2009P2=wdfagg['20090921':'20091220'].between_time('17:00','19:00').sum()\n",
    "F2009N=wdfagg['20090921':'20091220'].between_time('20:00','05:00').sum()\n",
    "\n",
    "W2009P1=pd.concat([wdfagg['20090101':'20090320'].between_time('6:00','8:00'),\n",
    "        wdfagg['20091221':'20091231'].between_time('6:00','8:00')]).sum()\n",
    "W2009D=pd.concat([wdfagg['20090101':'20090320'].between_time('9:00','16:00'),\n",
    "        wdfagg['20091221':'20091231'].between_time('9:00','16:00')]).sum()\n",
    "W2009P2=pd.concat([wdfagg['20090101':'20090320'].between_time('17:00','19:00'),\n",
    "        wdfagg['20091221':'20091231'].between_time('17:00','19:00')]).sum()\n",
    "W2009N=pd.concat([wdfagg['20090101':'20090320'].between_time('20:00','05:00'),\n",
    "        wdfagg['20091221':'20091231'].between_time('20:00','05:00')]).sum()\n",
    "\n",
    "#####\n",
    "\n",
    "R2010P1=wdfagg['20100321':'20100620'].between_time('6:00','8:00').sum()\n",
    "R2010D=wdfagg['20100321':'20100620'].between_time('9:00','16:00').sum()\n",
    "R2010P2=wdfagg['20100321':'20100620'].between_time('17:00','19:00').sum()\n",
    "R2010N=wdfagg['20100321':'20100620'].between_time('20:00','5:00').sum()\n",
    "\n",
    "S2010P1=wdfagg['20100621':'20100920'].between_time('6:00','8:00').sum() \n",
    "S2010D=wdfagg['20100621':'20100920'].between_time('9:00','16:00').sum() \n",
    "S2010P2=wdfagg['20100621':'20100920'].between_time('17:00','19:00').sum()\n",
    "S2010N=wdfagg['20100621':'20100920'].between_time('20:00','05:00').sum()\n",
    "\n",
    "F2010P1=wdfagg['20100921':'20101220'].between_time('6:00','8:00').sum()\n",
    "F2010D=wdfagg['20100921':'20101220'].between_time('9:00','16:00').sum()\n",
    "F2010P2=wdfagg['20100921':'20101220'].between_time('17:00','19:00').sum()\n",
    "F2010N=wdfagg['20100921':'20101220'].between_time('20:00','05:00').sum()\n",
    "\n",
    "W2010P1=pd.concat([wdfagg['20100101':'20100320'].between_time('6:00','8:00'),\n",
    "        wdfagg['20101221':'20101231'].between_time('6:00','8:00')]).sum()\n",
    "W2010D=pd.concat([wdfagg['20100101':'20100320'].between_time('9:00','16:00'),\n",
    "        wdfagg['20101221':'20101231'].between_time('9:00','16:00')]).sum()\n",
    "W2010P2=pd.concat([wdfagg['20100101':'20100320'].between_time('17:00','19:00'),\n",
    "        wdfagg['20101221':'20101231'].between_time('17:00','19:00')]).sum()\n",
    "W2010N=pd.concat([wdfagg['20100101':'20100320'].between_time('20:00','05:00'),\n",
    "        wdfagg['20101221':'20101231'].between_time('20:00','05:00')]).sum()"
   ]
  },
  {
   "cell_type": "code",
   "execution_count": 43,
   "metadata": {
    "collapsed": true
   },
   "outputs": [],
   "source": [
    "R2009P1=wdfagg['20090321':'20090620'].between_time('6:00','8:00').sum()\n",
    "R2009D=wdfagg['20090321':'20090620'].between_time('9:00','16:00').sum()\n",
    "R2009P2=wdfagg['20090321':'20090620'].between_time('17:00','19:00').sum()\n",
    "R2009N=wdfagg['20090321':'20090620'].between_time('20:00','5:00').sum()\n",
    "\n",
    "S2009P1=wdfagg['20090621':'20090920'].between_time('6:00','8:00').sum() \n",
    "S2009D=wdfagg['20090621':'20090920'].between_time('9:00','16:00').sum() \n",
    "S2009P2=wdfagg['20090621':'20090920'].between_time('17:00','19:00').sum()\n",
    "S2009N=wdfagg['20090621':'20090920'].between_time('20:00','05:00').sum()\n",
    "\n",
    "F2009P1=wdfagg['20090921':'20091220'].between_time('6:00','8:00').sum()\n",
    "F2009D=wdfagg['20090921':'20091220'].between_time('9:00','16:00').sum()\n",
    "F2009P2=wdfagg['20090921':'20091220'].between_time('17:00','19:00').sum()\n",
    "F2009N=wdfagg['20090921':'20091220'].between_time('20:00','05:00').sum()\n",
    "\n",
    "W2009P1=pd.concat([wdfagg['20090101':'20090320'].between_time('6:00','8:00'),\n",
    "        wdfagg['20091221':'20091231'].between_time('6:00','8:00')]).sum()\n",
    "W2009D=pd.concat([wdfagg['20090101':'20090320'].between_time('9:00','16:00'),\n",
    "        wdfagg['20091221':'20091231'].between_time('9:00','16:00')]).sum()\n",
    "W2009P2=pd.concat([wdfagg['20090101':'20090320'].between_time('17:00','19:00'),\n",
    "        wdfagg['20091221':'20091231'].between_time('17:00','19:00')]).sum()\n",
    "W2009N=pd.concat([wdfagg['20090101':'20090320'].between_time('20:00','05:00'),\n",
    "        wdfagg['20091221':'20091231'].between_time('20:00','05:00')]).sum()"
   ]
  },
  {
   "cell_type": "code",
   "execution_count": 44,
   "metadata": {
    "collapsed": true
   },
   "outputs": [],
   "source": [
    "R2010P1=wdfagg['20100321':'20100620'].between_time('6:00','8:00').sum()\n",
    "R2010D=wdfagg['20100321':'20100620'].between_time('9:00','16:00').sum()\n",
    "R2010P2=wdfagg['20100321':'20100620'].between_time('17:00','19:00').sum()\n",
    "R2010N=wdfagg['20100321':'20100620'].between_time('20:00','5:00').sum()\n",
    "\n",
    "S2010P1=wdfagg['20100621':'20100920'].between_time('6:00','8:00').sum() \n",
    "S2010D=wdfagg['20100621':'20100920'].between_time('9:00','16:00').sum() \n",
    "S2010P2=wdfagg['20100621':'20100920'].between_time('17:00','19:00').sum()\n",
    "S2010N=wdfagg['20100621':'20100920'].between_time('20:00','05:00').sum()\n",
    "\n",
    "F2010P1=wdfagg['20100921':'20101220'].between_time('6:00','8:00').sum()\n",
    "F2010D=wdfagg['20100921':'20101220'].between_time('9:00','16:00').sum()\n",
    "F2010P2=wdfagg['20100921':'20101220'].between_time('17:00','19:00').sum()\n",
    "F2010N=wdfagg['20100921':'20101220'].between_time('20:00','05:00').sum()\n",
    "\n",
    "W2010P1=pd.concat([wdfagg['20100101':'20100320'].between_time('6:00','8:00'),\n",
    "        wdfagg['20101221':'20101231'].between_time('6:00','8:00')]).sum()\n",
    "W2010D=pd.concat([wdfagg['20100101':'20100320'].between_time('9:00','16:00'),\n",
    "        wdfagg['20101221':'20101231'].between_time('9:00','16:00')]).sum()\n",
    "W2010P2=pd.concat([wdfagg['20100101':'20100320'].between_time('17:00','19:00'),\n",
    "        wdfagg['20101221':'20101231'].between_time('17:00','19:00')]).sum()\n",
    "W2010N=pd.concat([wdfagg['20100101':'20100320'].between_time('20:00','05:00'),\n",
    "        wdfagg['20101221':'20101231'].between_time('20:00','05:00')]).sum()"
   ]
  },
  {
   "cell_type": "code",
   "execution_count": 45,
   "metadata": {
    "collapsed": false
   },
   "outputs": [],
   "source": [
    "wts2008={'RP1':R2008P1,\n",
    "         'RP2':R2008P2,\n",
    "         'RD':R2008D,\n",
    "         'RN':R2008N,\n",
    "         'WP1':W2008P1,\n",
    "         'WP2':W2008P2,\n",
    "         'WD':W2008D,\n",
    "         'WN':W2008N,\n",
    "         'SP1':S2008P1,\n",
    "         'SP2':S2008P2,\n",
    "         'SD':S2008D,\n",
    "         'SN':S2008N,\n",
    "         'FP1':F2008P1,\n",
    "         'FP2':F2008P2,\n",
    "         'FD':F2008D,\n",
    "         'FN':F2008N}"
   ]
  },
  {
   "cell_type": "code",
   "execution_count": 46,
   "metadata": {
    "collapsed": true
   },
   "outputs": [],
   "source": [
    "wts2009={'RP1':R2009P1,\n",
    "         'RP2':R2009P2,\n",
    "         'RD':R2009D,\n",
    "         'RN':R2009N,\n",
    "         'WP1':W2009P1,\n",
    "         'WP2':W2009P2,\n",
    "         'WD':W2009D,\n",
    "         'WN':W2009N,\n",
    "         'SP1':S2009P1,\n",
    "         'SP2':S2009P2,\n",
    "         'SD':S2009D,\n",
    "         'SN':S2009N,\n",
    "         'FP1':F2009P1,\n",
    "         'FP2':F2009P2,\n",
    "         'FD':F2009D,\n",
    "         'FN':F2009N}"
   ]
  },
  {
   "cell_type": "code",
   "execution_count": 47,
   "metadata": {
    "collapsed": true
   },
   "outputs": [],
   "source": [
    "wts2010={'RP1':R2010P1,\n",
    "         'RP2':R2010P2,\n",
    "         'RD':R2010D,\n",
    "         'RN':R2010N,\n",
    "         'WP1':W2010P1,\n",
    "         'WP2':W2010P2,\n",
    "         'WD':W2010D,\n",
    "         'WN':W2010N,\n",
    "         'SP1':S2010P1,\n",
    "         'SP2':S2010P2,\n",
    "         'SD':S2010D,\n",
    "         'SN':S2010N,\n",
    "         'FP1':F2010P1,\n",
    "         'FP2':F2010P2,\n",
    "         'FD':F2010D,\n",
    "         'FN':F2010N}"
   ]
  },
  {
   "cell_type": "markdown",
   "metadata": {},
   "source": [
    "add a column with the maximum production per ts"
   ]
  },
  {
   "cell_type": "code",
   "execution_count": 48,
   "metadata": {
    "collapsed": false,
    "scrolled": true
   },
   "outputs": [
    {
     "data": {
      "text/plain": [
       "<matplotlib.axes._subplots.AxesSubplot at 0xa1b6cc0>"
      ]
     },
     "execution_count": 48,
     "metadata": {},
     "output_type": "execute_result"
    },
    {
     "data": {
      "image/png": "[encoded data removed]",
      "text/plain": [
       "<matplotlib.figure.Figure at 0xba14828>"
      ]
     },
     "metadata": {},
     "output_type": "display_data"
    }
   ],
   "source": [
    "wts=pd.DataFrame({'2008':pd.Series(wts2008),\n",
    "              '2009':pd.Series(wts2009),\n",
    "              '2010':pd.Series(wts2010),\n",
    "              'max':pd.Series(tsmaxpr)})\n",
    "\n",
    "wts[['2008','2009','2010']].plot(kind='bar',figsize=(10,4))"
   ]
  },
  {
   "cell_type": "markdown",
   "metadata": {},
   "source": [
    "The sum of all production divided by all capacity and the lenght of the three years should give the total average CF"
   ]
  },
  {
   "cell_type": "code",
   "execution_count": 49,
   "metadata": {
    "collapsed": false,
    "scrolled": false
   },
   "outputs": [
    {
     "data": {
      "text/plain": [
       "2008    0.406548\n",
       "2009    0.404261\n",
       "2010    0.378343\n",
       "dtype: float64"
      ]
     },
     "execution_count": 49,
     "metadata": {},
     "output_type": "execute_result"
    }
   ],
   "source": [
    "wts[['2008','2009','2010']].sum()/metadata.loc[(metadata['Province']=='Quebec') &\n",
    "             (metadata['35TRGT Scenario']==1),'Capacity (MW)'].sum()/365/24"
   ]
  },
  {
   "cell_type": "code",
   "execution_count": 50,
   "metadata": {
    "collapsed": false
   },
   "outputs": [
    {
     "data": {
      "text/plain": [
       "0.39638358994661244"
      ]
     },
     "execution_count": 50,
     "metadata": {},
     "output_type": "execute_result"
    }
   ],
   "source": [
    "(wts[['2008','2009','2010']].sum()/metadata.loc[(metadata['Province']=='Quebec') &\n",
    "             (metadata['35TRGT Scenario']==1),'Capacity (MW)'].sum()/365/24).mean()"
   ]
  },
  {
   "cell_type": "markdown",
   "metadata": {},
   "source": [
    "calculate cf from the data"
   ]
  },
  {
   "cell_type": "code",
   "execution_count": 51,
   "metadata": {
    "collapsed": false
   },
   "outputs": [],
   "source": [
    "wts['cf2008']=wts['2008']/wts['max']\n",
    "wts['cf2009']=wts['2009']/wts['max']\n",
    "wts['cf2010']=wts['2010']/wts['max']"
   ]
  },
  {
   "cell_type": "code",
   "execution_count": 52,
   "metadata": {
    "collapsed": false
   },
   "outputs": [
    {
     "data": {
      "text/plain": [
       "<matplotlib.axes._subplots.AxesSubplot at 0xeb75eb8>"
      ]
     },
     "execution_count": 52,
     "metadata": {},
     "output_type": "execute_result"
    },
    {
     "data": {
      "image/png": "[encoded data removed]",
      "text/plain": [
       "<matplotlib.figure.Figure at 0xb951eb8>"
      ]
     },
     "metadata": {},
     "output_type": "display_data"
    }
   ],
   "source": [
    "wts[['cf2008','cf2009','cf2010']].plot(kind='bar',figsize=(10,4))"
   ]
  },
  {
   "cell_type": "markdown",
   "metadata": {},
   "source": [
    "how I can change these so the average is 37.7%, the same as stated in the spreadsheet? "
   ]
  },
  {
   "cell_type": "markdown",
   "metadata": {},
   "source": [
    "### Fix: normalize the time series and multiply by the reported average CF"
   ]
  },
  {
   "cell_type": "code",
   "execution_count": 53,
   "metadata": {
    "collapsed": false
   },
   "outputs": [],
   "source": [
    "CFavg=wts[['cf2008','cf2009','cf2010']].mean(axis=1)"
   ]
  },
  {
   "cell_type": "code",
   "execution_count": 54,
   "metadata": {
    "collapsed": false
   },
   "outputs": [],
   "source": [
    "CFavg=pd.DataFrame({'CF':CFavg,\n",
    "              'duration':pd.Series(tslen)})"
   ]
  },
  {
   "cell_type": "markdown",
   "metadata": {},
   "source": [
    "we calculate the average CF multiplying by the duration of each ts, summing all and dividing by the total duration"
   ]
  },
  {
   "cell_type": "code",
   "execution_count": 30,
   "metadata": {
    "collapsed": false
   },
   "outputs": [
    {
     "data": {
      "text/plain": [
       "0.3953005746735342"
      ]
     },
     "execution_count": 30,
     "metadata": {},
     "output_type": "execute_result"
    }
   ],
   "source": [
    "(((CFavg['CF']*CFavg['duration']).sum())/CFavg['duration'].sum())"
   ]
  },
  {
   "cell_type": "markdown",
   "metadata": {},
   "source": [
    "we divide by this value and multiply by the CF reported in the summary (otherwise I'm probably overestimating the CF by a couple of % points, probably the differences come from losses)"
   ]
  },
  {
   "cell_type": "code",
   "execution_count": 55,
   "metadata": {
    "collapsed": false
   },
   "outputs": [],
   "source": [
    "CFavg['CF2']=CFavg['CF']/(((CFavg['CF']*CFavg['duration']).sum())/CFavg['duration'].sum())\n",
    "\n",
    "CFavg['CF2']=CFavg['CF2']*metadata.loc[(metadata['Province']=='Quebec') &\n",
    "                          (metadata['35TRGT Scenario']==1),'Capacity Factor (%)'].mean()"
   ]
  },
  {
   "cell_type": "code",
   "execution_count": 62,
   "metadata": {
    "collapsed": false
   },
   "outputs": [
    {
     "data": {
      "text/plain": [
       "FD     728\n",
       "FN     910\n",
       "FP1    273\n",
       "FP2    273\n",
       "RD     736\n",
       "RN     920\n",
       "RP1    276\n",
       "RP2    276\n",
       "SD     736\n",
       "SN     920\n",
       "SP1    276\n",
       "SP2    276\n",
       "WD     728\n",
       "WN     910\n",
       "WP1    273\n",
       "WP2    273\n",
       "Name: duration, dtype: int64"
      ]
     },
     "execution_count": 62,
     "metadata": {},
     "output_type": "execute_result"
    }
   ],
   "source": [
    "CFavg['duration']"
   ]
  },
  {
   "cell_type": "markdown",
   "metadata": {},
   "source": [
    "check that the adapted CF have as <b>weighted average per ts duration</b> the value reported in the spreadsheets"
   ]
  },
  {
   "cell_type": "code",
   "execution_count": 33,
   "metadata": {
    "collapsed": false
   },
   "outputs": [
    {
     "name": "stdout",
     "output_type": "stream",
     "text": [
      "ben ben\n"
     ]
    }
   ],
   "source": [
    "if (((CFavg['CF2']*CFavg['duration']).sum())/CFavg['duration'].sum())==metadata.loc[(metadata['Province']=='Quebec') &\n",
    "                          (metadata['35TRGT Scenario']==1),'Capacity Factor (%)'].mean():\n",
    "    print ('ben ben')"
   ]
  },
  {
   "cell_type": "markdown",
   "metadata": {},
   "source": [
    "I think that because CF do not depend on the duration of the TS, you can directly calculate the average for all ts and it should be the annual average CF..."
   ]
  },
  {
   "cell_type": "code",
   "execution_count": 61,
   "metadata": {
    "collapsed": false
   },
   "outputs": [
    {
     "name": "stdout",
     "output_type": "stream",
     "text": [
      "0.37617311392411595\n",
      "0.37749815255905556\n"
     ]
    }
   ],
   "source": [
    "print(CFavg['CF2'].mean())\n",
    "\n",
    "print(metadata.loc[(metadata['Province']=='Quebec') &\n",
    "     (metadata['35TRGT Scenario']==1),'Capacity Factor (%)'].mean())"
   ]
  },
  {
   "cell_type": "code",
   "execution_count": 34,
   "metadata": {
    "collapsed": false
   },
   "outputs": [
    {
     "data": {
      "text/plain": [
       "<matplotlib.axes._subplots.AxesSubplot at 0x2b34f461c50>"
      ]
     },
     "execution_count": 34,
     "metadata": {},
     "output_type": "execute_result"
    },
    {
     "data": {
      "image/png": "[encoded data removed]",
      "text/plain": [
       "<matplotlib.figure.Figure at 0x2b34f43f208>"
      ]
     },
     "metadata": {},
     "output_type": "display_data"
    }
   ],
   "source": [
    "CFavg['CF2'].sort_values().plot(kind='bar')"
   ]
  },
  {
   "cell_type": "markdown",
   "metadata": {},
   "source": [
    "actually the best wind is in fall, not winter. looking into detail the graph we can see that it even drops at some point in january... very cold temperatures?"
   ]
  },
  {
   "cell_type": "code",
   "execution_count": 35,
   "metadata": {
    "collapsed": false
   },
   "outputs": [],
   "source": [
    "CFavg['CF2'].to_csv('cf_wind_pertimeslice.csv')"
   ]
  },
  {
   "cell_type": "markdown",
   "metadata": {},
   "source": [
    "## combine the 3 years using groupby (we should convert this to a function)"
   ]
  },
  {
   "cell_type": "markdown",
   "metadata": {},
   "source": [
    "I erase the leap day of 2008 because it will mess up with my dayofyear grouping"
   ]
  },
  {
   "cell_type": "code",
   "execution_count": 36,
   "metadata": {
    "collapsed": false
   },
   "outputs": [],
   "source": [
    "wdf=wdf[~((wdf.index.month == 2) & (wdf.index.day == 29))]"
   ]
  },
  {
   "cell_type": "markdown",
   "metadata": {},
   "source": [
    "it would be way better be able to tag the winter/summer and so on and on the other hand tag morning / peak 1 / then combine the tags and we could group by ts"
   ]
  },
  {
   "cell_type": "markdown",
   "metadata": {},
   "source": [
    "#### daily ts"
   ]
  },
  {
   "cell_type": "code",
   "execution_count": 38,
   "metadata": {
    "collapsed": true
   },
   "outputs": [
    {
     "data": {
      "text/plain": [
       "Date/Time \n",
       "2008-01-01 06:00:00     6337.944959\n",
       "2008-01-01 07:00:00     6522.325873\n",
       "2008-01-01 08:00:00     6942.649737\n",
       "2008-01-02 06:00:00     4680.121652\n",
       "2008-01-02 07:00:00     5207.105978\n",
       "2008-01-02 08:00:00     5406.820470\n",
       "2008-01-03 06:00:00     8641.633256\n",
       "2008-01-03 07:00:00     8689.765752\n",
       "2008-01-03 08:00:00     8750.032574\n",
       "2008-01-04 06:00:00    11541.617038\n",
       "2008-01-04 07:00:00    11502.904458\n",
       "2008-01-04 08:00:00    11844.726209\n",
       "2008-01-05 06:00:00     9578.136823\n",
       "2008-01-05 07:00:00     9015.152469\n",
       "2008-01-05 08:00:00     8287.814180\n",
       "2008-01-06 06:00:00     7520.506422\n",
       "2008-01-06 07:00:00     6667.267300\n",
       "2008-01-06 08:00:00     5600.467370\n",
       "2008-01-07 06:00:00     6592.372054\n",
       "2008-01-07 07:00:00     7512.538410\n",
       "2008-01-07 08:00:00     8173.291876\n",
       "2008-01-08 06:00:00     2015.433778\n",
       "2008-01-08 07:00:00     1355.865483\n",
       "2008-01-08 08:00:00      848.888911\n",
       "2008-01-09 06:00:00     3948.106128\n",
       "2008-01-09 07:00:00     4043.222510\n",
       "2008-01-09 08:00:00     4100.446395\n",
       "2008-01-10 06:00:00    10944.521059\n",
       "2008-01-10 07:00:00    11187.305397\n",
       "2008-01-10 08:00:00    11386.693525\n",
       "                           ...     \n",
       "2010-12-22 06:00:00     7957.061794\n",
       "2010-12-22 07:00:00     8055.206839\n",
       "2010-12-22 08:00:00     8233.837963\n",
       "2010-12-23 06:00:00     5925.163089\n",
       "2010-12-23 07:00:00     5772.173696\n",
       "2010-12-23 08:00:00     5472.032695\n",
       "2010-12-24 06:00:00     4502.122040\n",
       "2010-12-24 07:00:00     4720.103172\n",
       "2010-12-24 08:00:00     4916.093702\n",
       "2010-12-25 06:00:00     4730.966064\n",
       "2010-12-25 07:00:00     4671.022437\n",
       "2010-12-25 08:00:00     4715.455469\n",
       "2010-12-26 06:00:00     2258.899565\n",
       "2010-12-26 07:00:00     2096.813681\n",
       "2010-12-26 08:00:00     1973.478151\n",
       "2010-12-27 06:00:00     2295.140373\n",
       "2010-12-27 07:00:00     2566.945427\n",
       "2010-12-27 08:00:00     2830.313846\n",
       "2010-12-28 06:00:00    11483.584490\n",
       "2010-12-28 07:00:00    11529.828726\n",
       "2010-12-28 08:00:00    11549.176837\n",
       "2010-12-29 06:00:00     9657.298838\n",
       "2010-12-29 07:00:00     9155.663641\n",
       "2010-12-29 08:00:00     8527.736524\n",
       "2010-12-30 06:00:00     7343.451467\n",
       "2010-12-30 07:00:00     7747.292301\n",
       "2010-12-30 08:00:00     7832.717563\n",
       "2010-12-31 06:00:00     6563.645250\n",
       "2010-12-31 07:00:00     6647.235427\n",
       "2010-12-31 08:00:00     6569.778812\n",
       "dtype: float64"
      ]
     },
     "execution_count": 38,
     "metadata": {},
     "output_type": "execute_result"
    }
   ],
   "source": [
    "#wdfagg[(wdfagg.index.hour==6) | (wdfagg.index.hour==7) | (wdfagg.index.hour==8)] # morning peak"
   ]
  },
  {
   "cell_type": "code",
   "execution_count": 39,
   "metadata": {
    "collapsed": true
   },
   "outputs": [
    {
     "data": {
      "text/plain": [
       "Date/Time \n",
       "2008-01-01 17:00:00      904.765682\n",
       "2008-01-01 18:00:00      678.943247\n",
       "2008-01-01 19:00:00      488.420184\n",
       "2008-01-02 17:00:00     4957.334338\n",
       "2008-01-02 18:00:00     5658.080739\n",
       "2008-01-02 19:00:00     6677.686077\n",
       "2008-01-03 17:00:00     4922.223570\n",
       "2008-01-03 18:00:00     4491.802269\n",
       "2008-01-03 19:00:00     4409.375437\n",
       "2008-01-04 17:00:00    10989.441777\n",
       "2008-01-04 18:00:00    10923.675184\n",
       "2008-01-04 19:00:00    11129.104335\n",
       "2008-01-05 17:00:00      999.418951\n",
       "2008-01-05 18:00:00     1084.023811\n",
       "2008-01-05 19:00:00     1383.531701\n",
       "2008-01-06 17:00:00     1737.174671\n",
       "2008-01-06 18:00:00     1861.399150\n",
       "2008-01-06 19:00:00     1885.809437\n",
       "2008-01-07 17:00:00    11119.195621\n",
       "2008-01-07 18:00:00    11036.645376\n",
       "2008-01-07 19:00:00    10346.316683\n",
       "2008-01-08 17:00:00      726.214465\n",
       "2008-01-08 18:00:00      732.741361\n",
       "2008-01-08 19:00:00      799.130201\n",
       "2008-01-09 17:00:00     9666.759819\n",
       "2008-01-09 18:00:00     9962.989196\n",
       "2008-01-09 19:00:00    10108.989348\n",
       "2008-01-10 17:00:00    11863.768421\n",
       "2008-01-10 18:00:00    11781.160457\n",
       "2008-01-10 19:00:00    11695.512948\n",
       "                           ...     \n",
       "2010-12-22 17:00:00     7251.781314\n",
       "2010-12-22 18:00:00     7241.970008\n",
       "2010-12-22 19:00:00     6988.810583\n",
       "2010-12-23 17:00:00     5162.878385\n",
       "2010-12-23 18:00:00     5247.147431\n",
       "2010-12-23 19:00:00     5590.686594\n",
       "2010-12-24 17:00:00     3024.636661\n",
       "2010-12-24 18:00:00     2827.388165\n",
       "2010-12-24 19:00:00     3014.000370\n",
       "2010-12-25 17:00:00     1525.587492\n",
       "2010-12-25 18:00:00     1405.007707\n",
       "2010-12-25 19:00:00     1495.753550\n",
       "2010-12-26 17:00:00      563.263380\n",
       "2010-12-26 18:00:00      586.912561\n",
       "2010-12-26 19:00:00      566.344284\n",
       "2010-12-27 17:00:00     6855.757559\n",
       "2010-12-27 18:00:00     7731.607221\n",
       "2010-12-27 19:00:00     8092.714646\n",
       "2010-12-28 17:00:00    11518.420485\n",
       "2010-12-28 18:00:00    11493.176588\n",
       "2010-12-28 19:00:00    11493.275708\n",
       "2010-12-29 17:00:00     2774.547327\n",
       "2010-12-29 18:00:00     2709.860698\n",
       "2010-12-29 19:00:00     3024.018730\n",
       "2010-12-30 17:00:00     3887.931567\n",
       "2010-12-30 18:00:00     5060.084998\n",
       "2010-12-30 19:00:00     5244.916935\n",
       "2010-12-31 17:00:00     1325.329583\n",
       "2010-12-31 18:00:00     1084.712675\n",
       "2010-12-31 19:00:00     1067.662304\n",
       "dtype: float64"
      ]
     },
     "execution_count": 39,
     "metadata": {},
     "output_type": "execute_result"
    }
   ],
   "source": [
    "#wdfagg[(wdfagg.index.hour==17) | (wdfagg.index.hour==18) | (wdfagg.index.hour==19)] # evening peak"
   ]
  },
  {
   "cell_type": "code",
   "execution_count": 40,
   "metadata": {
    "collapsed": true
   },
   "outputs": [
    {
     "data": {
      "text/plain": [
       "Date/Time \n",
       "2008-01-01 09:00:00     7444.612356\n",
       "2008-01-01 10:00:00     7474.728170\n",
       "2008-01-01 11:00:00     7117.042812\n",
       "2008-01-01 12:00:00     6498.523355\n",
       "2008-01-01 13:00:00     5333.808390\n",
       "2008-01-01 14:00:00     3528.962267\n",
       "2008-01-01 15:00:00     2226.029618\n",
       "2008-01-01 16:00:00     1422.595242\n",
       "2008-01-02 09:00:00     5496.478722\n",
       "2008-01-02 10:00:00     5527.466876\n",
       "2008-01-02 11:00:00     5805.077110\n",
       "2008-01-02 12:00:00     6309.834103\n",
       "2008-01-02 13:00:00     6335.482710\n",
       "2008-01-02 14:00:00     6229.696888\n",
       "2008-01-02 15:00:00     5595.005466\n",
       "2008-01-02 16:00:00     4940.928278\n",
       "2008-01-03 09:00:00     8788.403404\n",
       "2008-01-03 10:00:00     8780.447936\n",
       "2008-01-03 11:00:00     8553.203496\n",
       "2008-01-03 12:00:00     8293.060492\n",
       "2008-01-03 13:00:00     7880.690739\n",
       "2008-01-03 14:00:00     7233.575719\n",
       "2008-01-03 15:00:00     6334.788432\n",
       "2008-01-03 16:00:00     5463.599532\n",
       "2008-01-04 09:00:00    11963.688281\n",
       "2008-01-04 10:00:00    12001.579586\n",
       "2008-01-04 11:00:00    12073.066500\n",
       "2008-01-04 12:00:00    12096.083939\n",
       "2008-01-04 13:00:00    12026.607970\n",
       "2008-01-04 14:00:00    11774.376125\n",
       "                           ...     \n",
       "2010-12-28 11:00:00    11635.430582\n",
       "2010-12-28 12:00:00    11687.680821\n",
       "2010-12-28 13:00:00    11711.501694\n",
       "2010-12-28 14:00:00    11728.721965\n",
       "2010-12-28 15:00:00    11694.807466\n",
       "2010-12-28 16:00:00    11582.841503\n",
       "2010-12-29 09:00:00     7911.144682\n",
       "2010-12-29 10:00:00     7414.144303\n",
       "2010-12-29 11:00:00     6944.676824\n",
       "2010-12-29 12:00:00     6383.675881\n",
       "2010-12-29 13:00:00     5752.290162\n",
       "2010-12-29 14:00:00     5092.301631\n",
       "2010-12-29 15:00:00     4182.042456\n",
       "2010-12-29 16:00:00     3257.428663\n",
       "2010-12-30 09:00:00     7651.791976\n",
       "2010-12-30 10:00:00     7190.680766\n",
       "2010-12-30 11:00:00     6975.830024\n",
       "2010-12-30 12:00:00     6782.558692\n",
       "2010-12-30 13:00:00     6430.843334\n",
       "2010-12-30 14:00:00     5690.987497\n",
       "2010-12-30 15:00:00     4025.893640\n",
       "2010-12-30 16:00:00     3077.413947\n",
       "2010-12-31 09:00:00     6182.036203\n",
       "2010-12-31 10:00:00     5518.615396\n",
       "2010-12-31 11:00:00     4523.053962\n",
       "2010-12-31 12:00:00     3921.482512\n",
       "2010-12-31 13:00:00     3560.651857\n",
       "2010-12-31 14:00:00     3368.036322\n",
       "2010-12-31 15:00:00     2665.724123\n",
       "2010-12-31 16:00:00     1860.906752\n",
       "dtype: float64"
      ]
     },
     "execution_count": 40,
     "metadata": {},
     "output_type": "execute_result"
    }
   ],
   "source": [
    "#wdfagg[(wdfagg.index.hour>8) & (wdfagg.index.hour<17) ] # day"
   ]
  },
  {
   "cell_type": "code",
   "execution_count": 41,
   "metadata": {
    "collapsed": true
   },
   "outputs": [
    {
     "data": {
      "text/plain": [
       "Date/Time \n",
       "2008-01-01 00:00:00    3397.957267\n",
       "2008-01-01 01:00:00    4249.773235\n",
       "2008-01-01 02:00:00    4883.350543\n",
       "2008-01-01 03:00:00    5169.177240\n",
       "2008-01-01 04:00:00    5388.262450\n",
       "2008-01-01 05:00:00    5867.407478\n",
       "2008-01-01 20:00:00     419.330089\n",
       "2008-01-01 21:00:00     419.299316\n",
       "2008-01-01 22:00:00     468.200809\n",
       "2008-01-01 23:00:00     591.482824\n",
       "2008-01-02 00:00:00     806.792531\n",
       "2008-01-02 01:00:00    1528.022502\n",
       "2008-01-02 02:00:00    2456.067560\n",
       "2008-01-02 03:00:00    2749.600417\n",
       "2008-01-02 04:00:00    3490.033328\n",
       "2008-01-02 05:00:00    4123.266426\n",
       "2008-01-02 20:00:00    7657.462437\n",
       "2008-01-02 21:00:00    8494.935002\n",
       "2008-01-02 22:00:00    8819.198180\n",
       "2008-01-02 23:00:00    9022.111200\n",
       "dtype: float64"
      ]
     },
     "execution_count": 41,
     "metadata": {},
     "output_type": "execute_result"
    }
   ],
   "source": [
    "#wdfagg[(wdfagg.index.hour<6) | (wdfagg.index.hour>19) ].head(20) # night"
   ]
  },
  {
   "cell_type": "markdown",
   "metadata": {},
   "source": [
    "#### seasonal ts"
   ]
  },
  {
   "cell_type": "code",
   "execution_count": 42,
   "metadata": {
    "collapsed": false
   },
   "outputs": [],
   "source": [
    "df_wdfagg=pd.DataFrame({'production':wdfagg})"
   ]
  },
  {
   "cell_type": "code",
   "execution_count": 43,
   "metadata": {
    "collapsed": false
   },
   "outputs": [],
   "source": [
    "df_wdfagg['season']='empty' # I think I'm having some trouble because \n",
    "# I want to add a column to a series, instead of a dataframe"
   ]
  },
  {
   "cell_type": "code",
   "execution_count": 44,
   "metadata": {
    "collapsed": false
   },
   "outputs": [],
   "source": [
    "df_wdfagg.loc[(df_wdfagg.index.month==3) & (df_wdfagg.index.day>20),'season']='spring'\n",
    "df_wdfagg.loc[(df_wdfagg.index.month==4),'season']='spring'\n",
    "df_wdfagg.loc[(df_wdfagg.index.month==5),'season']='spring'\n",
    "df_wdfagg.loc[(df_wdfagg.index.month==6) & (df_wdfagg.index.day<21),'season']='spring'"
   ]
  },
  {
   "cell_type": "code",
   "execution_count": 45,
   "metadata": {
    "collapsed": true
   },
   "outputs": [],
   "source": [
    "df_wdfagg.loc[(df_wdfagg.index.month==6) & (df_wdfagg.index.day>=21),'season']='summer'\n",
    "df_wdfagg.loc[(df_wdfagg.index.month==7),'season']='summer'\n",
    "df_wdfagg.loc[(df_wdfagg.index.month==8),'season']='summer'\n",
    "df_wdfagg.loc[(df_wdfagg.index.month==9) & (df_wdfagg.index.day<21),'season']='summer'\n",
    "#check if the 21st of september is summer or fall, seems to be fall\n",
    "#wdfagg['20090621':'20090920']"
   ]
  },
  {
   "cell_type": "code",
   "execution_count": 46,
   "metadata": {
    "collapsed": false
   },
   "outputs": [],
   "source": [
    "df_wdfagg.loc[(df_wdfagg.index.month==9) & (df_wdfagg.index.day>=21),'season']='fall'\n",
    "df_wdfagg.loc[(df_wdfagg.index.month==10),'season']='fall'\n",
    "df_wdfagg.loc[(df_wdfagg.index.month==11),'season']='fall'\n",
    "df_wdfagg.loc[(df_wdfagg.index.month==12) & (df_wdfagg.index.day<21),'season']='fall'"
   ]
  },
  {
   "cell_type": "code",
   "execution_count": 47,
   "metadata": {
    "collapsed": true
   },
   "outputs": [],
   "source": [
    "df_wdfagg.loc[(df_wdfagg.index.month==12) & (df_wdfagg.index.day>=21),'season']='winter'\n",
    "df_wdfagg.loc[(df_wdfagg.index.month==1),'season']='winter'\n",
    "df_wdfagg.loc[(df_wdfagg.index.month==2),'season']='winter'\n",
    "df_wdfagg.loc[(df_wdfagg.index.month==3) & (df_wdfagg.index.day<21),'season']='winter'"
   ]
  },
  {
   "cell_type": "code",
   "execution_count": 48,
   "metadata": {
    "collapsed": false
   },
   "outputs": [
    {
     "data": {
      "text/plain": [
       "<matplotlib.axes._subplots.AxesSubplot at 0x2b34f5675f8>"
      ]
     },
     "execution_count": 48,
     "metadata": {},
     "output_type": "execute_result"
    },
    {
     "data": {
      "image/png": "[encoded data removed]",
      "text/plain": [
       "<matplotlib.figure.Figure at 0x2b34f567e48>"
      ]
     },
     "metadata": {},
     "output_type": "display_data"
    }
   ],
   "source": [
    "df_wdfagg.boxplot(by='season')"
   ]
  },
  {
   "cell_type": "code",
   "execution_count": 49,
   "metadata": {
    "collapsed": true
   },
   "outputs": [],
   "source": [
    "df_wdfagg['dailyts']='empty'"
   ]
  },
  {
   "cell_type": "code",
   "execution_count": 50,
   "metadata": {
    "collapsed": false
   },
   "outputs": [],
   "source": [
    "df_wdfagg.loc[(df_wdfagg.index.hour==6) | \n",
    "              (df_wdfagg.index.hour==7) | \n",
    "              (df_wdfagg.index.hour==8),'dailyts']='P1' "
   ]
  },
  {
   "cell_type": "code",
   "execution_count": 51,
   "metadata": {
    "collapsed": true
   },
   "outputs": [],
   "source": [
    "df_wdfagg.loc[(df_wdfagg.index.hour==17) | \n",
    "              (df_wdfagg.index.hour==18) | \n",
    "              (df_wdfagg.index.hour==19),'dailyts']='P2' "
   ]
  },
  {
   "cell_type": "code",
   "execution_count": 52,
   "metadata": {
    "collapsed": true
   },
   "outputs": [],
   "source": [
    "df_wdfagg.loc[(wdfagg.index.hour>8) & \n",
    "              (wdfagg.index.hour<17),'dailyts']='D' "
   ]
  },
  {
   "cell_type": "code",
   "execution_count": 53,
   "metadata": {
    "collapsed": true
   },
   "outputs": [],
   "source": [
    "df_wdfagg.loc[(wdfagg.index.hour<6) |\n",
    "              (wdfagg.index.hour>19),'dailyts']='N' "
   ]
  },
  {
   "cell_type": "code",
   "execution_count": 54,
   "metadata": {
    "collapsed": false
   },
   "outputs": [
    {
     "name": "stdout",
     "output_type": "stream",
     "text": [
      "all hours have a daily ts tag\n"
     ]
    }
   ],
   "source": [
    "if len(df_wdfagg['dailyts'].unique())!=4:\n",
    "    print('we have a problem')\n",
    "else:\n",
    "    print('all hours have a daily ts tag')\n"
   ]
  },
  {
   "cell_type": "markdown",
   "metadata": {
    "collapsed": true
   },
   "source": [
    "create a tag combining the seasonal and daily conditions"
   ]
  },
  {
   "cell_type": "code",
   "execution_count": 55,
   "metadata": {
    "collapsed": true
   },
   "outputs": [],
   "source": [
    "df_wdfagg['tstag']='empty'"
   ]
  },
  {
   "cell_type": "code",
   "execution_count": 56,
   "metadata": {
    "collapsed": false
   },
   "outputs": [],
   "source": [
    "df_wdfagg.loc[(df_wdfagg['dailyts']=='N') & (df_wdfagg['season']=='spring'),'tstag']='RN'\n",
    "df_wdfagg.loc[(df_wdfagg['dailyts']=='N') & (df_wdfagg['season']=='summer'),'tstag']='SN'\n",
    "df_wdfagg.loc[(df_wdfagg['dailyts']=='N') & (df_wdfagg['season']=='winter'),'tstag']='WN'\n",
    "df_wdfagg.loc[(df_wdfagg['dailyts']=='N') & (df_wdfagg['season']=='fall'),'tstag']='FN'\n",
    "\n",
    "df_wdfagg.loc[(df_wdfagg['dailyts']=='D') & (df_wdfagg['season']=='spring'),'tstag']='RD'\n",
    "df_wdfagg.loc[(df_wdfagg['dailyts']=='D') & (df_wdfagg['season']=='summer'),'tstag']='SD'\n",
    "df_wdfagg.loc[(df_wdfagg['dailyts']=='D') & (df_wdfagg['season']=='winter'),'tstag']='WD'\n",
    "df_wdfagg.loc[(df_wdfagg['dailyts']=='D') & (df_wdfagg['season']=='fall'),'tstag']='FD'\n",
    "\n",
    "df_wdfagg.loc[(df_wdfagg['dailyts']=='P1') & (df_wdfagg['season']=='spring'),'tstag']='RP1'\n",
    "df_wdfagg.loc[(df_wdfagg['dailyts']=='P1') & (df_wdfagg['season']=='summer'),'tstag']='SP1'\n",
    "df_wdfagg.loc[(df_wdfagg['dailyts']=='P1') & (df_wdfagg['season']=='winter'),'tstag']='WP1'\n",
    "df_wdfagg.loc[(df_wdfagg['dailyts']=='P1') & (df_wdfagg['season']=='fall'),'tstag']='FP1'\n",
    "\n",
    "df_wdfagg.loc[(df_wdfagg['dailyts']=='P2') & (df_wdfagg['season']=='spring'),'tstag']='RP2'\n",
    "df_wdfagg.loc[(df_wdfagg['dailyts']=='P2') & (df_wdfagg['season']=='summer'),'tstag']='SP2'\n",
    "df_wdfagg.loc[(df_wdfagg['dailyts']=='P2') & (df_wdfagg['season']=='winter'),'tstag']='WP2'\n",
    "df_wdfagg.loc[(df_wdfagg['dailyts']=='P2') & (df_wdfagg['season']=='fall'),'tstag']='FP2'"
   ]
  },
  {
   "cell_type": "code",
   "execution_count": 57,
   "metadata": {
    "collapsed": false
   },
   "outputs": [
    {
     "data": {
      "text/plain": [
       "array(['WN', 'WP1', 'WD', 'WP2', 'RN', 'RP1', 'RD', 'RP2', 'SN', 'SP1',\n",
       "       'SD', 'SP2', 'FN', 'FP1', 'FD', 'FP2'], dtype=object)"
      ]
     },
     "execution_count": 57,
     "metadata": {},
     "output_type": "execute_result"
    }
   ],
   "source": [
    "df_wdfagg['tstag'].unique()"
   ]
  },
  {
   "cell_type": "code",
   "execution_count": 70,
   "metadata": {
    "collapsed": false,
    "scrolled": false
   },
   "outputs": [
    {
     "data": {
      "image/png": "[encoded data removed]",
      "text/plain": [
       "<matplotlib.figure.Figure at 0x2b3502cd048>"
      ]
     },
     "metadata": {},
     "output_type": "display_data"
    }
   ],
   "source": [
    "bp2=df_wdfagg.boxplot(by='tstag',figsize=(7,3))\n",
    "bp2.set_title('')\n",
    "bp2.set_xlabel('time slice')\n",
    "bp2.set_ylabel('average hourly electricity \\n production (MWh)')\n",
    "plt.suptitle('')\n",
    "plt.tight_layout()\n",
    "plt.savefig('boxplot_wind.png',dpi=600,)"
   ]
  },
  {
   "cell_type": "code",
   "execution_count": 65,
   "metadata": {
    "collapsed": false
   },
   "outputs": [
    {
     "data": {
      "text/plain": [
       "Date/Time \n",
       "2008-01-01 00:00:00    3397.957267\n",
       "2008-01-01 01:00:00    4249.773235\n",
       "2008-01-01 02:00:00    4883.350543\n",
       "2008-01-01 03:00:00    5169.177240\n",
       "2008-01-01 04:00:00    5388.262450\n",
       "Freq: H, dtype: float64"
      ]
     },
     "execution_count": 65,
     "metadata": {},
     "output_type": "execute_result"
    }
   ],
   "source": [
    "wdfagg.head()"
   ]
  },
  {
   "cell_type": "code",
   "execution_count": 66,
   "metadata": {
    "collapsed": false
   },
   "outputs": [
    {
     "data": {
      "text/html": [
       "<div>\n",
       "<table border=\"1\" class=\"dataframe\">\n",
       "  <thead>\n",
       "    <tr style=\"text-align: right;\">\n",
       "      <th></th>\n",
       "      <th>production</th>\n",
       "      <th>season</th>\n",
       "      <th>dailyts</th>\n",
       "      <th>tstag</th>\n",
       "    </tr>\n",
       "    <tr>\n",
       "      <th>Date/Time</th>\n",
       "      <th></th>\n",
       "      <th></th>\n",
       "      <th></th>\n",
       "      <th></th>\n",
       "    </tr>\n",
       "  </thead>\n",
       "  <tbody>\n",
       "    <tr>\n",
       "      <th>2008-01-01 00:00:00</th>\n",
       "      <td>3397.957267</td>\n",
       "      <td>winter</td>\n",
       "      <td>N</td>\n",
       "      <td>WN</td>\n",
       "    </tr>\n",
       "    <tr>\n",
       "      <th>2008-01-01 01:00:00</th>\n",
       "      <td>4249.773235</td>\n",
       "      <td>winter</td>\n",
       "      <td>N</td>\n",
       "      <td>WN</td>\n",
       "    </tr>\n",
       "    <tr>\n",
       "      <th>2008-01-01 02:00:00</th>\n",
       "      <td>4883.350543</td>\n",
       "      <td>winter</td>\n",
       "      <td>N</td>\n",
       "      <td>WN</td>\n",
       "    </tr>\n",
       "    <tr>\n",
       "      <th>2008-01-01 03:00:00</th>\n",
       "      <td>5169.177240</td>\n",
       "      <td>winter</td>\n",
       "      <td>N</td>\n",
       "      <td>WN</td>\n",
       "    </tr>\n",
       "    <tr>\n",
       "      <th>2008-01-01 04:00:00</th>\n",
       "      <td>5388.262450</td>\n",
       "      <td>winter</td>\n",
       "      <td>N</td>\n",
       "      <td>WN</td>\n",
       "    </tr>\n",
       "  </tbody>\n",
       "</table>\n",
       "</div>"
      ],
      "text/plain": [
       "                      production  season dailyts tstag\n",
       "Date/Time                                             \n",
       "2008-01-01 00:00:00  3397.957267  winter       N    WN\n",
       "2008-01-01 01:00:00  4249.773235  winter       N    WN\n",
       "2008-01-01 02:00:00  4883.350543  winter       N    WN\n",
       "2008-01-01 03:00:00  5169.177240  winter       N    WN\n",
       "2008-01-01 04:00:00  5388.262450  winter       N    WN"
      ]
     },
     "execution_count": 66,
     "metadata": {},
     "output_type": "execute_result"
    }
   ],
   "source": [
    "df_wdfagg.head()"
   ]
  },
  {
   "cell_type": "markdown",
   "metadata": {},
   "source": [
    "that's quite variable... It raises the question about if the ts for wind is actually useful at all.."
   ]
  },
  {
   "cell_type": "code",
   "execution_count": 145,
   "metadata": {
    "collapsed": false
   },
   "outputs": [
    {
     "data": {
      "text/plain": [
       "<matplotlib.axes._subplots.AxesSubplot at 0xc5aa780>"
      ]
     },
     "execution_count": 145,
     "metadata": {},
     "output_type": "execute_result"
    },
    {
     "data": {
      "image/png": "[encoded data removed]",
      "text/plain": [
       "<matplotlib.figure.Figure at 0xc1b3860>"
      ]
     },
     "metadata": {},
     "output_type": "display_data"
    },
    {
     "data": {
      "image/png": "[encoded data removed]",
      "text/plain": [
       "<matplotlib.figure.Figure at 0xc5f0b00>"
      ]
     },
     "metadata": {},
     "output_type": "display_data"
    },
    {
     "data": {
      "image/png": "[encoded data removed]",
      "text/plain": [
       "<matplotlib.figure.Figure at 0xc5a3cc0>"
      ]
     },
     "metadata": {},
     "output_type": "display_data"
    }
   ],
   "source": [
    "ax1=plt.subplot(2,1,1)\n",
    "df_wdfagg['2008'].boxplot(by='tstag')\n",
    "\n",
    "ax2=plt.subplot(2,1,2)\n",
    "\n",
    "df_wdfagg['2009'].boxplot(by='tstag')"
   ]
  },
  {
   "cell_type": "markdown",
   "metadata": {},
   "source": [
    "## alternative version, assuming indexes are all the same "
   ]
  },
  {
   "cell_type": "markdown",
   "metadata": {},
   "source": [
    "http://stackoverflow.com/questions/20906474/import-multiple-csv-files-into-pandas-and-concatenate-into-one-dataframe"
   ]
  },
  {
   "cell_type": "code",
   "execution_count": 209,
   "metadata": {
    "collapsed": false
   },
   "outputs": [],
   "source": [
    "#wind1=pd.read_csv(idQC[0]+'Pwr1HB.csv')\n",
    "#wind1.iloc[1,1]=wind1.columns[1].strip()\n",
    "#wind1.drop([0,1],inplace=True)\n",
    "#wind1.drop('PlantID = ',axis=1,inplace=True)\n",
    "#wind1.reset_index(drop=True,inplace=True)"
   ]
  },
  {
   "cell_type": "code",
   "execution_count": 171,
   "metadata": {
    "collapsed": true
   },
   "outputs": [],
   "source": [
    "#wind1.reset_index?"
   ]
  },
  {
   "cell_type": "code",
   "execution_count": 299,
   "metadata": {
    "collapsed": true
   },
   "outputs": [],
   "source": [
    "#wind2=pd.read_csv(idQC[1]+'Pwr1HB.csv')\n",
    "#wind2.iloc[1,1]=wind2.columns[1].strip()\n",
    "#wind2.drop([0,1],inplace=True)\n",
    "#wind2.drop('PlantID = ',axis=1,inplace=True)\n",
    "#wind2.reset_index(drop=True,inplace=True)"
   ]
  },
  {
   "cell_type": "code",
   "execution_count": 300,
   "metadata": {
    "collapsed": false
   },
   "outputs": [],
   "source": [
    "#wind1.head()"
   ]
  },
  {
   "cell_type": "code",
   "execution_count": 244,
   "metadata": {
    "collapsed": true
   },
   "outputs": [
    {
     "data": {
      "text/html": [
       "<div>\n",
       "<table border=\"1\" class=\"dataframe\">\n",
       "  <thead>\n",
       "    <tr style=\"text-align: right;\">\n",
       "      <th></th>\n",
       "      <th>1018</th>\n",
       "    </tr>\n",
       "  </thead>\n",
       "  <tbody>\n",
       "    <tr>\n",
       "      <th>0</th>\n",
       "      <td>98.311608</td>\n",
       "    </tr>\n",
       "    <tr>\n",
       "      <th>1</th>\n",
       "      <td>114.106980</td>\n",
       "    </tr>\n",
       "    <tr>\n",
       "      <th>2</th>\n",
       "      <td>122.000506</td>\n",
       "    </tr>\n",
       "    <tr>\n",
       "      <th>3</th>\n",
       "      <td>123.833869</td>\n",
       "    </tr>\n",
       "    <tr>\n",
       "      <th>4</th>\n",
       "      <td>105.240263</td>\n",
       "    </tr>\n",
       "  </tbody>\n",
       "</table>\n",
       "</div>"
      ],
      "text/plain": [
       "                1018\n",
       "0          98.311608\n",
       "1         114.106980\n",
       "2         122.000506\n",
       "3         123.833869\n",
       "4         105.240263"
      ]
     },
     "execution_count": 244,
     "metadata": {},
     "output_type": "execute_result"
    }
   ],
   "source": [
    "#wind2.head()"
   ]
  },
  {
   "cell_type": "code",
   "execution_count": null,
   "metadata": {
    "collapsed": true
   },
   "outputs": [],
   "source": []
  },
  {
   "cell_type": "markdown",
   "metadata": {},
   "source": [
    "concatenanting dataframes"
   ]
  },
  {
   "cell_type": "code",
   "execution_count": 263,
   "metadata": {
    "collapsed": false
   },
   "outputs": [],
   "source": [
    "df=pd.DataFrame()"
   ]
  },
  {
   "cell_type": "code",
   "execution_count": 230,
   "metadata": {
    "collapsed": true
   },
   "outputs": [],
   "source": [
    "df.append?"
   ]
  },
  {
   "cell_type": "code",
   "execution_count": 264,
   "metadata": {
    "collapsed": true
   },
   "outputs": [],
   "source": [
    "df=df.append(wind1)"
   ]
  },
  {
   "cell_type": "code",
   "execution_count": 265,
   "metadata": {
    "collapsed": true
   },
   "outputs": [],
   "source": [
    "df=df.append(wind2)"
   ]
  },
  {
   "cell_type": "code",
   "execution_count": 266,
   "metadata": {
    "collapsed": false
   },
   "outputs": [
    {
     "data": {
      "text/html": [
       "<div>\n",
       "<table border=\"1\" class=\"dataframe\">\n",
       "  <thead>\n",
       "    <tr style=\"text-align: right;\">\n",
       "      <th></th>\n",
       "      <th>471</th>\n",
       "      <th>1018</th>\n",
       "    </tr>\n",
       "  </thead>\n",
       "  <tbody>\n",
       "    <tr>\n",
       "      <th>0</th>\n",
       "      <td>43.386995</td>\n",
       "      <td>NaN</td>\n",
       "    </tr>\n",
       "    <tr>\n",
       "      <th>1</th>\n",
       "      <td>41.975833</td>\n",
       "      <td>NaN</td>\n",
       "    </tr>\n",
       "    <tr>\n",
       "      <th>2</th>\n",
       "      <td>53.936974</td>\n",
       "      <td>NaN</td>\n",
       "    </tr>\n",
       "    <tr>\n",
       "      <th>3</th>\n",
       "      <td>62.825949</td>\n",
       "      <td>NaN</td>\n",
       "    </tr>\n",
       "    <tr>\n",
       "      <th>4</th>\n",
       "      <td>57.425502</td>\n",
       "      <td>NaN</td>\n",
       "    </tr>\n",
       "    <tr>\n",
       "      <th>5</th>\n",
       "      <td>41.076533</td>\n",
       "      <td>NaN</td>\n",
       "    </tr>\n",
       "    <tr>\n",
       "      <th>6</th>\n",
       "      <td>21.829919</td>\n",
       "      <td>NaN</td>\n",
       "    </tr>\n",
       "    <tr>\n",
       "      <th>7</th>\n",
       "      <td>10.700712</td>\n",
       "      <td>NaN</td>\n",
       "    </tr>\n",
       "    <tr>\n",
       "      <th>8</th>\n",
       "      <td>0.982687</td>\n",
       "      <td>NaN</td>\n",
       "    </tr>\n",
       "    <tr>\n",
       "      <th>9</th>\n",
       "      <td>5.778672</td>\n",
       "      <td>NaN</td>\n",
       "    </tr>\n",
       "  </tbody>\n",
       "</table>\n",
       "</div>"
      ],
      "text/plain": [
       "                 471   1018\n",
       "0          43.386995    NaN\n",
       "1          41.975833    NaN\n",
       "2          53.936974    NaN\n",
       "3          62.825949    NaN\n",
       "4          57.425502    NaN\n",
       "5          41.076533    NaN\n",
       "6          21.829919    NaN\n",
       "7          10.700712    NaN\n",
       "8           0.982687    NaN\n",
       "9           5.778672    NaN"
      ]
     },
     "execution_count": 266,
     "metadata": {},
     "output_type": "execute_result"
    }
   ],
   "source": [
    "df.head(10)"
   ]
  },
  {
   "cell_type": "markdown",
   "metadata": {},
   "source": [
    "for some reason I have a lot of NANss.."
   ]
  },
  {
   "cell_type": "code",
   "execution_count": 267,
   "metadata": {
    "collapsed": false
   },
   "outputs": [
    {
     "name": "stdout",
     "output_type": "stream",
     "text": [
      "26304\n",
      "52608\n"
     ]
    }
   ],
   "source": [
    "print(len(wind1))\n",
    "print(len(df))"
   ]
  },
  {
   "cell_type": "code",
   "execution_count": 247,
   "metadata": {
    "collapsed": false
   },
   "outputs": [
    {
     "data": {
      "text/plain": [
       "26304"
      ]
     },
     "execution_count": 247,
     "metadata": {},
     "output_type": "execute_result"
    }
   ],
   "source": [
    "len(wind1.index.intersection(wind2.index))"
   ]
  },
  {
   "cell_type": "code",
   "execution_count": 273,
   "metadata": {
    "collapsed": true
   },
   "outputs": [
    {
     "data": {
      "text/html": [
       "<div>\n",
       "<table border=\"1\" class=\"dataframe\">\n",
       "  <thead>\n",
       "    <tr style=\"text-align: right;\">\n",
       "      <th></th>\n",
       "      <th>471</th>\n",
       "      <th>1018</th>\n",
       "    </tr>\n",
       "  </thead>\n",
       "  <tbody>\n",
       "    <tr>\n",
       "      <th>0</th>\n",
       "      <td>43.386995</td>\n",
       "      <td>NaN</td>\n",
       "    </tr>\n",
       "    <tr>\n",
       "      <th>1</th>\n",
       "      <td>41.975833</td>\n",
       "      <td>NaN</td>\n",
       "    </tr>\n",
       "    <tr>\n",
       "      <th>2</th>\n",
       "      <td>53.936974</td>\n",
       "      <td>NaN</td>\n",
       "    </tr>\n",
       "    <tr>\n",
       "      <th>3</th>\n",
       "      <td>62.825949</td>\n",
       "      <td>NaN</td>\n",
       "    </tr>\n",
       "    <tr>\n",
       "      <th>4</th>\n",
       "      <td>57.425502</td>\n",
       "      <td>NaN</td>\n",
       "    </tr>\n",
       "    <tr>\n",
       "      <th>5</th>\n",
       "      <td>41.076533</td>\n",
       "      <td>NaN</td>\n",
       "    </tr>\n",
       "    <tr>\n",
       "      <th>6</th>\n",
       "      <td>21.829919</td>\n",
       "      <td>NaN</td>\n",
       "    </tr>\n",
       "    <tr>\n",
       "      <th>7</th>\n",
       "      <td>10.700712</td>\n",
       "      <td>NaN</td>\n",
       "    </tr>\n",
       "    <tr>\n",
       "      <th>8</th>\n",
       "      <td>0.982687</td>\n",
       "      <td>NaN</td>\n",
       "    </tr>\n",
       "    <tr>\n",
       "      <th>9</th>\n",
       "      <td>5.778672</td>\n",
       "      <td>NaN</td>\n",
       "    </tr>\n",
       "    <tr>\n",
       "      <th>10</th>\n",
       "      <td>25.490735</td>\n",
       "      <td>NaN</td>\n",
       "    </tr>\n",
       "    <tr>\n",
       "      <th>11</th>\n",
       "      <td>51.374324</td>\n",
       "      <td>NaN</td>\n",
       "    </tr>\n",
       "    <tr>\n",
       "      <th>12</th>\n",
       "      <td>57.347571</td>\n",
       "      <td>NaN</td>\n",
       "    </tr>\n",
       "    <tr>\n",
       "      <th>13</th>\n",
       "      <td>36.431155</td>\n",
       "      <td>NaN</td>\n",
       "    </tr>\n",
       "    <tr>\n",
       "      <th>14</th>\n",
       "      <td>38.056273</td>\n",
       "      <td>NaN</td>\n",
       "    </tr>\n",
       "    <tr>\n",
       "      <th>15</th>\n",
       "      <td>14.653143</td>\n",
       "      <td>NaN</td>\n",
       "    </tr>\n",
       "    <tr>\n",
       "      <th>16</th>\n",
       "      <td>0.855776</td>\n",
       "      <td>NaN</td>\n",
       "    </tr>\n",
       "    <tr>\n",
       "      <th>17</th>\n",
       "      <td>2.791518</td>\n",
       "      <td>NaN</td>\n",
       "    </tr>\n",
       "    <tr>\n",
       "      <th>18</th>\n",
       "      <td>0.000000</td>\n",
       "      <td>NaN</td>\n",
       "    </tr>\n",
       "    <tr>\n",
       "      <th>19</th>\n",
       "      <td>0.000000</td>\n",
       "      <td>NaN</td>\n",
       "    </tr>\n",
       "    <tr>\n",
       "      <th>20</th>\n",
       "      <td>0.000000</td>\n",
       "      <td>NaN</td>\n",
       "    </tr>\n",
       "    <tr>\n",
       "      <th>21</th>\n",
       "      <td>0.000000</td>\n",
       "      <td>NaN</td>\n",
       "    </tr>\n",
       "    <tr>\n",
       "      <th>22</th>\n",
       "      <td>0.000000</td>\n",
       "      <td>NaN</td>\n",
       "    </tr>\n",
       "    <tr>\n",
       "      <th>23</th>\n",
       "      <td>0.000000</td>\n",
       "      <td>NaN</td>\n",
       "    </tr>\n",
       "    <tr>\n",
       "      <th>24</th>\n",
       "      <td>0.000000</td>\n",
       "      <td>NaN</td>\n",
       "    </tr>\n",
       "    <tr>\n",
       "      <th>25</th>\n",
       "      <td>0.000000</td>\n",
       "      <td>NaN</td>\n",
       "    </tr>\n",
       "    <tr>\n",
       "      <th>26</th>\n",
       "      <td>0.000000</td>\n",
       "      <td>NaN</td>\n",
       "    </tr>\n",
       "    <tr>\n",
       "      <th>27</th>\n",
       "      <td>58.666667</td>\n",
       "      <td>NaN</td>\n",
       "    </tr>\n",
       "    <tr>\n",
       "      <th>28</th>\n",
       "      <td>144.000000</td>\n",
       "      <td>NaN</td>\n",
       "    </tr>\n",
       "    <tr>\n",
       "      <th>29</th>\n",
       "      <td>144.000000</td>\n",
       "      <td>NaN</td>\n",
       "    </tr>\n",
       "    <tr>\n",
       "      <th>...</th>\n",
       "      <td>...</td>\n",
       "      <td>...</td>\n",
       "    </tr>\n",
       "    <tr>\n",
       "      <th>26274</th>\n",
       "      <td>0.505367</td>\n",
       "      <td>NaN</td>\n",
       "    </tr>\n",
       "    <tr>\n",
       "      <th>26275</th>\n",
       "      <td>1.176126</td>\n",
       "      <td>NaN</td>\n",
       "    </tr>\n",
       "    <tr>\n",
       "      <th>26276</th>\n",
       "      <td>1.961555</td>\n",
       "      <td>NaN</td>\n",
       "    </tr>\n",
       "    <tr>\n",
       "      <th>26277</th>\n",
       "      <td>6.192473</td>\n",
       "      <td>NaN</td>\n",
       "    </tr>\n",
       "    <tr>\n",
       "      <th>26278</th>\n",
       "      <td>14.402093</td>\n",
       "      <td>NaN</td>\n",
       "    </tr>\n",
       "    <tr>\n",
       "      <th>26279</th>\n",
       "      <td>26.084038</td>\n",
       "      <td>NaN</td>\n",
       "    </tr>\n",
       "    <tr>\n",
       "      <th>26280</th>\n",
       "      <td>43.040008</td>\n",
       "      <td>NaN</td>\n",
       "    </tr>\n",
       "    <tr>\n",
       "      <th>26281</th>\n",
       "      <td>67.327217</td>\n",
       "      <td>NaN</td>\n",
       "    </tr>\n",
       "    <tr>\n",
       "      <th>26282</th>\n",
       "      <td>48.683990</td>\n",
       "      <td>NaN</td>\n",
       "    </tr>\n",
       "    <tr>\n",
       "      <th>26283</th>\n",
       "      <td>31.949222</td>\n",
       "      <td>NaN</td>\n",
       "    </tr>\n",
       "    <tr>\n",
       "      <th>26284</th>\n",
       "      <td>32.282448</td>\n",
       "      <td>NaN</td>\n",
       "    </tr>\n",
       "    <tr>\n",
       "      <th>26285</th>\n",
       "      <td>33.194472</td>\n",
       "      <td>NaN</td>\n",
       "    </tr>\n",
       "    <tr>\n",
       "      <th>26286</th>\n",
       "      <td>41.161734</td>\n",
       "      <td>NaN</td>\n",
       "    </tr>\n",
       "    <tr>\n",
       "      <th>26287</th>\n",
       "      <td>35.264497</td>\n",
       "      <td>NaN</td>\n",
       "    </tr>\n",
       "    <tr>\n",
       "      <th>26288</th>\n",
       "      <td>28.042688</td>\n",
       "      <td>NaN</td>\n",
       "    </tr>\n",
       "    <tr>\n",
       "      <th>26289</th>\n",
       "      <td>34.880045</td>\n",
       "      <td>NaN</td>\n",
       "    </tr>\n",
       "    <tr>\n",
       "      <th>26290</th>\n",
       "      <td>51.162437</td>\n",
       "      <td>NaN</td>\n",
       "    </tr>\n",
       "    <tr>\n",
       "      <th>26291</th>\n",
       "      <td>73.578926</td>\n",
       "      <td>NaN</td>\n",
       "    </tr>\n",
       "    <tr>\n",
       "      <th>26292</th>\n",
       "      <td>88.693902</td>\n",
       "      <td>NaN</td>\n",
       "    </tr>\n",
       "    <tr>\n",
       "      <th>26293</th>\n",
       "      <td>88.292987</td>\n",
       "      <td>NaN</td>\n",
       "    </tr>\n",
       "    <tr>\n",
       "      <th>26294</th>\n",
       "      <td>81.209778</td>\n",
       "      <td>NaN</td>\n",
       "    </tr>\n",
       "    <tr>\n",
       "      <th>26295</th>\n",
       "      <td>59.166997</td>\n",
       "      <td>NaN</td>\n",
       "    </tr>\n",
       "    <tr>\n",
       "      <th>26296</th>\n",
       "      <td>31.777593</td>\n",
       "      <td>NaN</td>\n",
       "    </tr>\n",
       "    <tr>\n",
       "      <th>26297</th>\n",
       "      <td>21.761122</td>\n",
       "      <td>NaN</td>\n",
       "    </tr>\n",
       "    <tr>\n",
       "      <th>26298</th>\n",
       "      <td>22.734564</td>\n",
       "      <td>NaN</td>\n",
       "    </tr>\n",
       "    <tr>\n",
       "      <th>26299</th>\n",
       "      <td>19.458469</td>\n",
       "      <td>NaN</td>\n",
       "    </tr>\n",
       "    <tr>\n",
       "      <th>26300</th>\n",
       "      <td>28.376684</td>\n",
       "      <td>NaN</td>\n",
       "    </tr>\n",
       "    <tr>\n",
       "      <th>26301</th>\n",
       "      <td>37.635215</td>\n",
       "      <td>NaN</td>\n",
       "    </tr>\n",
       "    <tr>\n",
       "      <th>26302</th>\n",
       "      <td>35.355530</td>\n",
       "      <td>NaN</td>\n",
       "    </tr>\n",
       "    <tr>\n",
       "      <th>26303</th>\n",
       "      <td>32.486903</td>\n",
       "      <td>NaN</td>\n",
       "    </tr>\n",
       "  </tbody>\n",
       "</table>\n",
       "<p>26304 rows × 2 columns</p>\n",
       "</div>"
      ],
      "text/plain": [
       "                     471   1018\n",
       "0              43.386995    NaN\n",
       "1              41.975833    NaN\n",
       "2              53.936974    NaN\n",
       "3              62.825949    NaN\n",
       "4              57.425502    NaN\n",
       "5              41.076533    NaN\n",
       "6              21.829919    NaN\n",
       "7              10.700712    NaN\n",
       "8               0.982687    NaN\n",
       "9               5.778672    NaN\n",
       "10             25.490735    NaN\n",
       "11             51.374324    NaN\n",
       "12             57.347571    NaN\n",
       "13             36.431155    NaN\n",
       "14             38.056273    NaN\n",
       "15             14.653143    NaN\n",
       "16              0.855776    NaN\n",
       "17              2.791518    NaN\n",
       "18              0.000000    NaN\n",
       "19              0.000000    NaN\n",
       "20              0.000000    NaN\n",
       "21              0.000000    NaN\n",
       "22              0.000000    NaN\n",
       "23              0.000000    NaN\n",
       "24              0.000000    NaN\n",
       "25              0.000000    NaN\n",
       "26              0.000000    NaN\n",
       "27             58.666667    NaN\n",
       "28            144.000000    NaN\n",
       "29            144.000000    NaN\n",
       "...                  ...    ...\n",
       "26274           0.505367    NaN\n",
       "26275           1.176126    NaN\n",
       "26276           1.961555    NaN\n",
       "26277           6.192473    NaN\n",
       "26278          14.402093    NaN\n",
       "26279          26.084038    NaN\n",
       "26280          43.040008    NaN\n",
       "26281          67.327217    NaN\n",
       "26282          48.683990    NaN\n",
       "26283          31.949222    NaN\n",
       "26284          32.282448    NaN\n",
       "26285          33.194472    NaN\n",
       "26286          41.161734    NaN\n",
       "26287          35.264497    NaN\n",
       "26288          28.042688    NaN\n",
       "26289          34.880045    NaN\n",
       "26290          51.162437    NaN\n",
       "26291          73.578926    NaN\n",
       "26292          88.693902    NaN\n",
       "26293          88.292987    NaN\n",
       "26294          81.209778    NaN\n",
       "26295          59.166997    NaN\n",
       "26296          31.777593    NaN\n",
       "26297          21.761122    NaN\n",
       "26298          22.734564    NaN\n",
       "26299          19.458469    NaN\n",
       "26300          28.376684    NaN\n",
       "26301          37.635215    NaN\n",
       "26302          35.355530    NaN\n",
       "26303          32.486903    NaN\n",
       "\n",
       "[26304 rows x 2 columns]"
      ]
     },
     "execution_count": 273,
     "metadata": {},
     "output_type": "execute_result"
    }
   ],
   "source": [
    "df[~df.index.duplicated()] # if I drop the duplicates I drop the second dataframe"
   ]
  },
  {
   "cell_type": "code",
   "execution_count": null,
   "metadata": {
    "collapsed": true
   },
   "outputs": [],
   "source": []
  },
  {
   "cell_type": "markdown",
   "metadata": {},
   "source": [
    "concatenating as lists (I think this is quicker because it does not have to check if the index is the same)"
   ]
  },
  {
   "cell_type": "code",
   "execution_count": 253,
   "metadata": {
    "collapsed": true
   },
   "outputs": [],
   "source": [
    "list_=[]"
   ]
  },
  {
   "cell_type": "code",
   "execution_count": 254,
   "metadata": {
    "collapsed": true
   },
   "outputs": [],
   "source": [
    "list_.append(wind1)"
   ]
  },
  {
   "cell_type": "code",
   "execution_count": 255,
   "metadata": {
    "collapsed": true
   },
   "outputs": [
    {
     "data": {
      "text/plain": [
       "[                     471\n",
       " 0              43.386995\n",
       " 1              41.975833\n",
       " 2              53.936974\n",
       " 3              62.825949\n",
       " 4              57.425502\n",
       " 5              41.076533\n",
       " 6              21.829919\n",
       " 7              10.700712\n",
       " 8               0.982687\n",
       " 9               5.778672\n",
       " 10             25.490735\n",
       " 11             51.374324\n",
       " 12             57.347571\n",
       " 13             36.431155\n",
       " 14             38.056273\n",
       " 15             14.653143\n",
       " 16              0.855776\n",
       " 17              2.791518\n",
       " 18              0.000000\n",
       " 19              0.000000\n",
       " 20              0.000000\n",
       " 21              0.000000\n",
       " 22              0.000000\n",
       " 23              0.000000\n",
       " 24              0.000000\n",
       " 25              0.000000\n",
       " 26              0.000000\n",
       " 27             58.666667\n",
       " 28            144.000000\n",
       " 29            144.000000\n",
       " ...                  ...\n",
       " 26274           0.505367\n",
       " 26275           1.176126\n",
       " 26276           1.961555\n",
       " 26277           6.192473\n",
       " 26278          14.402093\n",
       " 26279          26.084038\n",
       " 26280          43.040008\n",
       " 26281          67.327217\n",
       " 26282          48.683990\n",
       " 26283          31.949222\n",
       " 26284          32.282448\n",
       " 26285          33.194472\n",
       " 26286          41.161734\n",
       " 26287          35.264497\n",
       " 26288          28.042688\n",
       " 26289          34.880045\n",
       " 26290          51.162437\n",
       " 26291          73.578926\n",
       " 26292          88.693902\n",
       " 26293          88.292987\n",
       " 26294          81.209778\n",
       " 26295          59.166997\n",
       " 26296          31.777593\n",
       " 26297          21.761122\n",
       " 26298          22.734564\n",
       " 26299          19.458469\n",
       " 26300          28.376684\n",
       " 26301          37.635215\n",
       " 26302          35.355530\n",
       " 26303          32.486903\n",
       " \n",
       " [26304 rows x 1 columns]]"
      ]
     },
     "execution_count": 255,
     "metadata": {},
     "output_type": "execute_result"
    }
   ],
   "source": [
    "list_"
   ]
  },
  {
   "cell_type": "code",
   "execution_count": 256,
   "metadata": {
    "collapsed": false
   },
   "outputs": [],
   "source": [
    "list_.append(wind2)"
   ]
  },
  {
   "cell_type": "code",
   "execution_count": 258,
   "metadata": {
    "collapsed": false
   },
   "outputs": [],
   "source": [
    "df2=pd.concat(list_)"
   ]
  },
  {
   "cell_type": "code",
   "execution_count": 275,
   "metadata": {
    "collapsed": false
   },
   "outputs": [
    {
     "data": {
      "text/plain": [
       "26304"
      ]
     },
     "execution_count": 275,
     "metadata": {},
     "output_type": "execute_result"
    }
   ],
   "source": [
    "pd.concat([wind1,wind2]).index.duplicated().sum()"
   ]
  },
  {
   "cell_type": "markdown",
   "metadata": {},
   "source": [
    "it does not work, I get the whole index duplicated"
   ]
  },
  {
   "cell_type": "code",
   "execution_count": null,
   "metadata": {
    "collapsed": true
   },
   "outputs": [],
   "source": []
  }
 ],
 "metadata": {
  "anaconda-cloud": {},
  "kernelspec": {
   "display_name": "Python 3",
   "language": "python",
   "name": "python3"
  },
  "language_info": {
   "codemirror_mode": {
    "name": "ipython",
    "version": 3
   },
   "file_extension": ".py",
   "mimetype": "text/x-python",
   "name": "python",
   "nbconvert_exporter": "python",
   "pygments_lexer": "ipython3",
   "version": "3.5.1"
  }
 },
 "nbformat": 4,
 "nbformat_minor": 1
}
