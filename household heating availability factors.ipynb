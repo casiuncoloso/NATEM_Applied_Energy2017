{
 "cells": [
  {
   "cell_type": "markdown",
   "metadata": {},
   "source": [
    "# calculation of availability factors for heating equipment"
   ]
  },
  {
   "cell_type": "markdown",
   "metadata": {},
   "source": [
    "In this notebook we calculate the availability factor of heating equipment with two different methods. The notebook includes all the data extraction, cleaning and calculations. "
   ]
  },
  {
   "cell_type": "markdown",
   "metadata": {},
   "source": [
    "### Import libraries"
   ]
  },
  {
   "cell_type": "code",
   "execution_count": 1,
   "metadata": {
    "collapsed": true
   },
   "outputs": [],
   "source": [
    "%matplotlib inline  \n",
    "import pandas as pd"
   ]
  },
  {
   "cell_type": "code",
   "execution_count": 2,
   "metadata": {},
   "outputs": [
    {
     "data": {
      "text/plain": [
       "'0.23.1'"
      ]
     },
     "execution_count": 2,
     "metadata": {},
     "output_type": "execute_result"
    }
   ],
   "source": [
    "pd.__version__"
   ]
  },
  {
   "cell_type": "markdown",
   "metadata": {},
   "source": [
    "Environment Canada [provides](ftp://ftp.tor.ec.gc.ca/Pub/Get_More_Data_Plus_de_donnees/) a nice bash command to download data from weather stations over the country (one csv file per month). It is possible to redistribute the data but for more details of the terms and conditions see [here](https://weather.gc.ca/mainmenu/disclaimer_e.html)\n",
    "\n",
    "\n",
    "The resulting csv files are stored in a folder called *temperature*. They need some processing to be converted into a dataframe"
   ]
  },
  {
   "cell_type": "code",
   "execution_count": 3,
   "metadata": {
    "collapsed": true
   },
   "outputs": [],
   "source": [
    "#eng-hourly-07012012-07312012.csv (example)\n",
    "file_template=\"eng-hourly-{month}{day_ini}{year}-{month}{day_end}{year}.csv\""
   ]
  },
  {
   "cell_type": "markdown",
   "metadata": {},
   "source": [
    "create strings with the name code using by NRCAN, to load them by their name"
   ]
  },
  {
   "cell_type": "code",
   "execution_count": 4,
   "metadata": {},
   "outputs": [],
   "source": [
    "r_end=pd.date_range(start='1/1/2008',end='12/31/2015',freq='M').strftime(\"%m%d%Y\")"
   ]
  },
  {
   "cell_type": "code",
   "execution_count": 5,
   "metadata": {
    "scrolled": true
   },
   "outputs": [],
   "source": [
    "r_beg=pd.date_range('1/01/2008',end='12/01/2015',freq='MS').strftime(\"%m%d%Y\")"
   ]
  },
  {
   "cell_type": "markdown",
   "metadata": {},
   "source": [
    "loop the two ranges of dates simultaneously to generate the desired names"
   ]
  },
  {
   "cell_type": "code",
   "execution_count": 6,
   "metadata": {},
   "outputs": [],
   "source": [
    "names=[]\n",
    "for dates_ini,dates_end in zip(r_beg,r_end):    \n",
    "    #print (\"eng-hourly-\"+dates_ini+\"-\"+dates_end+\".csv\")\n",
    "    names.append(\"eng-hourly-\"+dates_ini+\"-\"+dates_end+\".csv\")"
   ]
  },
  {
   "cell_type": "markdown",
   "metadata": {},
   "source": [
    "The date format could be specify if we want to speed up the operation."
   ]
  },
  {
   "cell_type": "code",
   "execution_count": 7,
   "metadata": {
    "collapsed": true
   },
   "outputs": [],
   "source": [
    "l=[]\n",
    "for files in names:\n",
    "    files='temperature/5415/'+files\n",
    "    l.append(pd.read_csv(files, skiprows=16, index_col='Date/Time', parse_dates=True))\n",
    "\n",
    "mont1=pd.concat(l)"
   ]
  },
  {
   "cell_type": "code",
   "execution_count": 8,
   "metadata": {},
   "outputs": [
    {
     "data": {
      "image/png": "[encoded data removed]",
      "text/plain": [
       "<matplotlib.figure.Figure at 0x2433d47d588>"
      ]
     },
     "metadata": {},
     "output_type": "display_data"
    }
   ],
   "source": [
    "# weekly rolling average\n",
    "mont1['Temp (°C)'].rolling(168).mean().plot();"
   ]
  },
  {
   "cell_type": "markdown",
   "metadata": {},
   "source": [
    "Checking null values"
   ]
  },
  {
   "cell_type": "code",
   "execution_count": 9,
   "metadata": {
    "scrolled": true
   },
   "outputs": [
    {
     "name": "stdout",
     "output_type": "stream",
     "text": [
      "(2008, 'has', 0, 'null values')\n",
      "(2009, 'has', 3, 'null values')\n",
      "(2010, 'has', 3, 'null values')\n",
      "(2011, 'has', 1, 'null values')\n",
      "(2012, 'has', 0, 'null values')\n",
      "(2013, 'has', 7691, 'null values')\n",
      "(2014, 'has', 8760, 'null values')\n"
     ]
    }
   ],
   "source": [
    "for year in range(2008,2015):\n",
    "    if str(year) in mont1['Year']:\n",
    "        print ((year,'has', mont1[str(year)]['Temp (°C)'].isnull().sum(), \"null values\"))\n",
    "    else:\n",
    "        print(year, 'is not in the index')\n"
   ]
  },
  {
   "cell_type": "markdown",
   "metadata": {},
   "source": [
    "Erasing null values (they can be messy when concatenating dataframes)"
   ]
  },
  {
   "cell_type": "code",
   "execution_count": 10,
   "metadata": {},
   "outputs": [],
   "source": [
    "mont1=mont1.dropna(axis=0,subset=['Temp (°C)'])"
   ]
  },
  {
   "cell_type": "markdown",
   "metadata": {
    "collapsed": true
   },
   "source": [
    "## load data from 2013 onwards from another station (it changed)"
   ]
  },
  {
   "cell_type": "code",
   "execution_count": 11,
   "metadata": {
    "collapsed": true
   },
   "outputs": [],
   "source": [
    "r_end=pd.date_range(start='1/1/2013',end='12/31/2015',freq='M').strftime(\"%m%d%Y\")\n",
    "r_beg=pd.date_range('1/01/2013',end='12/01/2015',freq='MS').strftime(\"%m%d%Y\")\n",
    "# loop two the two ranges of dates simultaneously to generate the desired names\n",
    "names=[]\n",
    "for dates_ini,dates_end in zip(r_beg,r_end):    \n",
    "    #print (\"eng-hourly-\"+dates_ini+\"-\"+dates_end+\".csv\")\n",
    "    names.append(\"eng-hourly-\"+dates_ini+\"-\"+dates_end+\".csv\")"
   ]
  },
  {
   "cell_type": "code",
   "execution_count": 12,
   "metadata": {
    "collapsed": true
   },
   "outputs": [],
   "source": [
    "l2=[]\n",
    "for files in names:\n",
    "    files='temperature/51157/'+files\n",
    "    l2.append(pd.read_csv(files, skiprows=16, index_col='Date/Time', parse_dates=True))\n",
    "mont2=pd.concat(l2)"
   ]
  },
  {
   "cell_type": "code",
   "execution_count": 13,
   "metadata": {
    "scrolled": true
   },
   "outputs": [
    {
     "name": "stdout",
     "output_type": "stream",
     "text": [
      "(2013, 'has', 1055, 'null values')\n",
      "(2014, 'has', 3, 'null values')\n",
      "(2015, 'has', 8, 'null values')\n"
     ]
    }
   ],
   "source": [
    "for year in range(2013,2016):\n",
    "    print ((year,'has', mont2[str(year)]['Temp (°C)'].isnull().sum(), \"null values\"))"
   ]
  },
  {
   "cell_type": "markdown",
   "metadata": {},
   "source": [
    "from march 2013 onwards the data comes from a different weather station (also located at the airport)"
   ]
  },
  {
   "cell_type": "code",
   "execution_count": 14,
   "metadata": {
    "scrolled": false
   },
   "outputs": [
    {
     "data": {
      "image/png": "[encoded data removed]",
      "text/plain": [
       "<matplotlib.figure.Figure at 0x2433d6e9a90>"
      ]
     },
     "metadata": {},
     "output_type": "display_data"
    }
   ],
   "source": [
    "mont1['2013']['Temp (°C)'].plot(figsize=[12,6])\n",
    "mont2['2013']['Temp (°C)'].plot(figsize=[12,6],color='r',alpha=0.5);"
   ]
  },
  {
   "cell_type": "markdown",
   "metadata": {},
   "source": [
    "it's quite good, the chunk of 2013 missing in the second station is in the first one. Otherwise, very few missing values."
   ]
  },
  {
   "cell_type": "code",
   "execution_count": 15,
   "metadata": {
    "collapsed": true
   },
   "outputs": [],
   "source": [
    "weather_mont=pd.concat([mont1,mont2])"
   ]
  },
  {
   "cell_type": "markdown",
   "metadata": {},
   "source": [
    "Eliminating some duplicated elements in the index"
   ]
  },
  {
   "cell_type": "code",
   "execution_count": 16,
   "metadata": {},
   "outputs": [
    {
     "data": {
      "text/plain": [
       "1069"
      ]
     },
     "execution_count": 16,
     "metadata": {},
     "output_type": "execute_result"
    }
   ],
   "source": [
    "len(weather_mont.loc[weather_mont.index.duplicated()])"
   ]
  },
  {
   "cell_type": "code",
   "execution_count": 17,
   "metadata": {
    "collapsed": true
   },
   "outputs": [],
   "source": [
    "weather_mont=weather_mont[~weather_mont.index.duplicated(keep='first')]"
   ]
  },
  {
   "cell_type": "code",
   "execution_count": 18,
   "metadata": {},
   "outputs": [
    {
     "data": {
      "text/plain": [
       "0"
      ]
     },
     "execution_count": 18,
     "metadata": {},
     "output_type": "execute_result"
    }
   ],
   "source": [
    "len(weather_mont.loc[weather_mont.index.duplicated()])"
   ]
  },
  {
   "cell_type": "markdown",
   "metadata": {},
   "source": [
    "Temperature looks good"
   ]
  },
  {
   "cell_type": "code",
   "execution_count": 19,
   "metadata": {},
   "outputs": [
    {
     "data": {
      "text/plain": [
       "<matplotlib.text.Text at 0x24342bc2940>"
      ]
     },
     "execution_count": 19,
     "metadata": {},
     "output_type": "execute_result"
    },
    {
     "data": {
      "image/png": "[encoded data removed]",
      "text/plain": [
       "<matplotlib.figure.Figure at 0x243400cc128>"
      ]
     },
     "metadata": {},
     "output_type": "display_data"
    }
   ],
   "source": [
    "a=weather_mont['Temp (°C)'].rolling(168).mean().plot(figsize=[12,6])\n",
    "a.set_ylabel('temperature (°C)')"
   ]
  },
  {
   "cell_type": "code",
   "execution_count": 20,
   "metadata": {
    "collapsed": true
   },
   "outputs": [],
   "source": [
    "weather_mont.to_csv('weather_montreal_2008_2015.csv')"
   ]
  },
  {
   "cell_type": "markdown",
   "metadata": {},
   "source": [
    "### Calculate \"heating degree hours\" and \"heating degree days\""
   ]
  },
  {
   "cell_type": "code",
   "execution_count": 21,
   "metadata": {
    "scrolled": true
   },
   "outputs": [],
   "source": [
    "weather_mont['HDH']=weather_mont['Temp (°C)'].apply(lambda x: 18-x if x<18 else 0)"
   ]
  },
  {
   "cell_type": "code",
   "execution_count": 22,
   "metadata": {},
   "outputs": [],
   "source": [
    "weather_mont['HDD']=weather_mont['HDH'].resample('D').transform('sum')"
   ]
  },
  {
   "cell_type": "code",
   "execution_count": 23,
   "metadata": {},
   "outputs": [
    {
     "data": {
      "text/plain": [
       "0.26400349337342272"
      ]
     },
     "execution_count": 23,
     "metadata": {},
     "output_type": "execute_result"
    }
   ],
   "source": [
    "weather_mont['HDD'].mean()/weather_mont['HDD'].max()"
   ]
  },
  {
   "cell_type": "code",
   "execution_count": 24,
   "metadata": {},
   "outputs": [
    {
     "data": {
      "text/plain": [
       "0.24964241559840591"
      ]
     },
     "execution_count": 24,
     "metadata": {},
     "output_type": "execute_result"
    }
   ],
   "source": [
    "weather_mont['HDH'].mean()/weather_mont['HDH'].max()"
   ]
  },
  {
   "cell_type": "markdown",
   "metadata": {},
   "source": [
    "the hourly data gives a more extreme value. makes sense, daily averaging smooths some of the temperature peaks.  if we use monthly values the availability factor increases a lot, because we underestimate the peak need."
   ]
  },
  {
   "cell_type": "markdown",
   "metadata": {},
   "source": [
    "## alternative method using the number of equivalent hours"
   ]
  },
  {
   "cell_type": "markdown",
   "metadata": {},
   "source": [
    "An alternative method to calculate the availability factor consist in estimate the *number of equivalent full-load hours*, as defined by Papakostas et al 2009 (doi:10.1016/j.apenergy.2008.10.017).  "
   ]
  },
  {
   "cell_type": "markdown",
   "metadata": {},
   "source": [
    "\\begin{equation*}\n",
    "N_{eq} = \\frac{\\sum_1^m N_{bin,i}\\cdot (T_{bal}-T_{o,i})}{(T_{bal}-T_{ODH})}\n",
    "\\end{equation*}"
   ]
  },
  {
   "cell_type": "markdown",
   "metadata": {},
   "source": [
    "where $N_{eq}$ are the number of equivalent full hours, $N_{bin,i}$ is the number of hours within the bin i, $T_{o,i}$ is the outside temperature in the bin i, $T_{bal}$ is the balance temperature and $T_{ODH}$ is the outdoor design temperature of the heating period."
   ]
  },
  {
   "cell_type": "markdown",
   "metadata": {},
   "source": [
    "The total of full-load equivalent hours in a period divided by the number of hours in a period gives an estimator of the availability factor."
   ]
  },
  {
   "cell_type": "markdown",
   "metadata": {},
   "source": [
    "For ilustrating purposes we can have a look to the histogram of temperature data between 2008 and 2009"
   ]
  },
  {
   "cell_type": "code",
   "execution_count": 25,
   "metadata": {
    "scrolled": true
   },
   "outputs": [
    {
     "data": {
      "text/plain": [
       "<matplotlib.axes._subplots.AxesSubplot at 0x243400c6438>"
      ]
     },
     "execution_count": 25,
     "metadata": {},
     "output_type": "execute_result"
    },
    {
     "data": {
      "image/png": "[encoded data removed]",
      "text/plain": [
       "<matplotlib.figure.Figure at 0x24341335a58>"
      ]
     },
     "metadata": {},
     "output_type": "display_data"
    }
   ],
   "source": [
    "weather_mont['Temp (°C)'].hist(bins=20)"
   ]
  },
  {
   "cell_type": "markdown",
   "metadata": {},
   "source": [
    "Create the bins"
   ]
  },
  {
   "cell_type": "markdown",
   "metadata": {},
   "source": [
    "better to specify the bins so we have a \"cut\" at 18C, the balance temperature"
   ]
  },
  {
   "cell_type": "code",
   "execution_count": 26,
   "metadata": {},
   "outputs": [],
   "source": [
    "bins2=list(range(-28,20,2))"
   ]
  },
  {
   "cell_type": "code",
   "execution_count": 27,
   "metadata": {},
   "outputs": [],
   "source": [
    "temp_mont=weather_mont[['Temp (°C)']]"
   ]
  },
  {
   "cell_type": "markdown",
   "metadata": {},
   "source": [
    "$T_{ODH}$ is the outdoor design temperature of the heating period, the minimum temperature registered during the observed years can be used as design temperature. for the $T_{bal}$ we will use 18 $^{\\circ}$C, which is a common threshold balancepoint and consistent with empirical observations."
   ]
  },
  {
   "cell_type": "code",
   "execution_count": 28,
   "metadata": {},
   "outputs": [
    {
     "data": {
      "text/plain": [
       "-27.5"
      ]
     },
     "execution_count": 28,
     "metadata": {},
     "output_type": "execute_result"
    }
   ],
   "source": [
    "temp_mont['Temp (°C)'].min()"
   ]
  },
  {
   "cell_type": "code",
   "execution_count": 29,
   "metadata": {
    "scrolled": true
   },
   "outputs": [
    {
     "name": "stderr",
     "output_type": "stream",
     "text": [
      "C:\\Users\\sinso\\Anaconda3\\envs\\bw2\\lib\\site-packages\\pandas\\core\\indexing.py:362: SettingWithCopyWarning: \n",
      "A value is trying to be set on a copy of a slice from a DataFrame.\n",
      "Try using .loc[row_indexer,col_indexer] = value instead\n",
      "\n",
      "See the caveats in the documentation: http://pandas.pydata.org/pandas-docs/stable/indexing.html#indexing-view-versus-copy\n",
      "  self.obj[key] = _infer_fill_value(value)\n",
      "C:\\Users\\sinso\\Anaconda3\\envs\\bw2\\lib\\site-packages\\pandas\\core\\indexing.py:543: SettingWithCopyWarning: \n",
      "A value is trying to be set on a copy of a slice from a DataFrame.\n",
      "Try using .loc[row_indexer,col_indexer] = value instead\n",
      "\n",
      "See the caveats in the documentation: http://pandas.pydata.org/pandas-docs/stable/indexing.html#indexing-view-versus-copy\n",
      "  self.obj[item] = s\n"
     ]
    }
   ],
   "source": [
    "temp_mont.loc[:,'bin']=pd.cut(temp_mont['Temp (°C)'],bins2,precision=1)"
   ]
  },
  {
   "cell_type": "code",
   "execution_count": 30,
   "metadata": {},
   "outputs": [],
   "source": [
    "binned=temp_mont[['Temp (°C)','bin']].groupby('bin').agg(['mean','count'])"
   ]
  },
  {
   "cell_type": "code",
   "execution_count": 31,
   "metadata": {
    "scrolled": true
   },
   "outputs": [
    {
     "data": {
      "text/html": [
       "<div>\n",
       "<style scoped>\n",
       "    .dataframe tbody tr th:only-of-type {\n",
       "        vertical-align: middle;\n",
       "    }\n",
       "\n",
       "    .dataframe tbody tr th {\n",
       "        vertical-align: top;\n",
       "    }\n",
       "\n",
       "    .dataframe thead tr th {\n",
       "        text-align: left;\n",
       "    }\n",
       "\n",
       "    .dataframe thead tr:last-of-type th {\n",
       "        text-align: right;\n",
       "    }\n",
       "</style>\n",
       "<table border=\"1\" class=\"dataframe\">\n",
       "  <thead>\n",
       "    <tr>\n",
       "      <th></th>\n",
       "      <th colspan=\"2\" halign=\"left\">Temp (°C)</th>\n",
       "    </tr>\n",
       "    <tr>\n",
       "      <th></th>\n",
       "      <th>mean</th>\n",
       "      <th>count</th>\n",
       "    </tr>\n",
       "    <tr>\n",
       "      <th>bin</th>\n",
       "      <th></th>\n",
       "      <th></th>\n",
       "    </tr>\n",
       "  </thead>\n",
       "  <tbody>\n",
       "    <tr>\n",
       "      <th>(-28, -26]</th>\n",
       "      <td>-26.754839</td>\n",
       "      <td>31</td>\n",
       "    </tr>\n",
       "    <tr>\n",
       "      <th>(-26, -24]</th>\n",
       "      <td>-24.848276</td>\n",
       "      <td>58</td>\n",
       "    </tr>\n",
       "    <tr>\n",
       "      <th>(-24, -22]</th>\n",
       "      <td>-22.855838</td>\n",
       "      <td>197</td>\n",
       "    </tr>\n",
       "    <tr>\n",
       "      <th>(-22, -20]</th>\n",
       "      <td>-20.895862</td>\n",
       "      <td>290</td>\n",
       "    </tr>\n",
       "    <tr>\n",
       "      <th>(-20, -18]</th>\n",
       "      <td>-18.844294</td>\n",
       "      <td>517</td>\n",
       "    </tr>\n",
       "    <tr>\n",
       "      <th>(-18, -16]</th>\n",
       "      <td>-16.881321</td>\n",
       "      <td>787</td>\n",
       "    </tr>\n",
       "    <tr>\n",
       "      <th>(-16, -14]</th>\n",
       "      <td>-14.905329</td>\n",
       "      <td>1126</td>\n",
       "    </tr>\n",
       "    <tr>\n",
       "      <th>(-14, -12]</th>\n",
       "      <td>-12.908339</td>\n",
       "      <td>1463</td>\n",
       "    </tr>\n",
       "    <tr>\n",
       "      <th>(-12, -10]</th>\n",
       "      <td>-10.935381</td>\n",
       "      <td>1823</td>\n",
       "    </tr>\n",
       "    <tr>\n",
       "      <th>(-10, -8]</th>\n",
       "      <td>-8.936443</td>\n",
       "      <td>2176</td>\n",
       "    </tr>\n",
       "    <tr>\n",
       "      <th>(-8, -6]</th>\n",
       "      <td>-6.972739</td>\n",
       "      <td>2256</td>\n",
       "    </tr>\n",
       "    <tr>\n",
       "      <th>(-6, -4]</th>\n",
       "      <td>-4.921041</td>\n",
       "      <td>2652</td>\n",
       "    </tr>\n",
       "    <tr>\n",
       "      <th>(-4, -2]</th>\n",
       "      <td>-2.979503</td>\n",
       "      <td>2698</td>\n",
       "    </tr>\n",
       "    <tr>\n",
       "      <th>(-2, 0]</th>\n",
       "      <td>-0.904346</td>\n",
       "      <td>3221</td>\n",
       "    </tr>\n",
       "    <tr>\n",
       "      <th>(0, 2]</th>\n",
       "      <td>1.045643</td>\n",
       "      <td>4441</td>\n",
       "    </tr>\n",
       "    <tr>\n",
       "      <th>(2, 4]</th>\n",
       "      <td>3.043448</td>\n",
       "      <td>3793</td>\n",
       "    </tr>\n",
       "    <tr>\n",
       "      <th>(4, 6]</th>\n",
       "      <td>5.067228</td>\n",
       "      <td>3326</td>\n",
       "    </tr>\n",
       "    <tr>\n",
       "      <th>(6, 8]</th>\n",
       "      <td>7.060487</td>\n",
       "      <td>3447</td>\n",
       "    </tr>\n",
       "    <tr>\n",
       "      <th>(8, 10]</th>\n",
       "      <td>9.066730</td>\n",
       "      <td>3183</td>\n",
       "    </tr>\n",
       "    <tr>\n",
       "      <th>(10, 12]</th>\n",
       "      <td>11.076110</td>\n",
       "      <td>3537</td>\n",
       "    </tr>\n",
       "    <tr>\n",
       "      <th>(12, 14]</th>\n",
       "      <td>13.062967</td>\n",
       "      <td>3451</td>\n",
       "    </tr>\n",
       "    <tr>\n",
       "      <th>(14, 16]</th>\n",
       "      <td>15.065542</td>\n",
       "      <td>3973</td>\n",
       "    </tr>\n",
       "    <tr>\n",
       "      <th>(16, 18]</th>\n",
       "      <td>17.047920</td>\n",
       "      <td>4374</td>\n",
       "    </tr>\n",
       "  </tbody>\n",
       "</table>\n",
       "</div>"
      ],
      "text/plain": [
       "            Temp (°C)      \n",
       "                 mean count\n",
       "bin                        \n",
       "(-28, -26] -26.754839    31\n",
       "(-26, -24] -24.848276    58\n",
       "(-24, -22] -22.855838   197\n",
       "(-22, -20] -20.895862   290\n",
       "(-20, -18] -18.844294   517\n",
       "(-18, -16] -16.881321   787\n",
       "(-16, -14] -14.905329  1126\n",
       "(-14, -12] -12.908339  1463\n",
       "(-12, -10] -10.935381  1823\n",
       "(-10, -8]   -8.936443  2176\n",
       "(-8, -6]    -6.972739  2256\n",
       "(-6, -4]    -4.921041  2652\n",
       "(-4, -2]    -2.979503  2698\n",
       "(-2, 0]     -0.904346  3221\n",
       "(0, 2]       1.045643  4441\n",
       "(2, 4]       3.043448  3793\n",
       "(4, 6]       5.067228  3326\n",
       "(6, 8]       7.060487  3447\n",
       "(8, 10]      9.066730  3183\n",
       "(10, 12]    11.076110  3537\n",
       "(12, 14]    13.062967  3451\n",
       "(14, 16]    15.065542  3973\n",
       "(16, 18]    17.047920  4374"
      ]
     },
     "execution_count": 31,
     "metadata": {},
     "output_type": "execute_result"
    }
   ],
   "source": [
    "binned"
   ]
  },
  {
   "cell_type": "code",
   "execution_count": 32,
   "metadata": {},
   "outputs": [],
   "source": [
    "Neqh=(binned['Temp (°C)','count']*(18-binned['Temp (°C)','mean'])/(18-temp_mont['Temp (°C)'].min())).sum()"
   ]
  },
  {
   "cell_type": "markdown",
   "metadata": {},
   "source": [
    "The number of equivalent hours in the observed period  divided by the lenght of the period (in hours) provides an estimate of the AF:"
   ]
  },
  {
   "cell_type": "code",
   "execution_count": 33,
   "metadata": {},
   "outputs": [
    {
     "data": {
      "text/plain": [
       "0.24964241559840591"
      ]
     },
     "execution_count": 33,
     "metadata": {},
     "output_type": "execute_result"
    }
   ],
   "source": [
    "Neqh/len(temp_mont)"
   ]
  },
  {
   "cell_type": "markdown",
   "metadata": {
    "collapsed": true
   },
   "source": [
    "which is indeed very similar to our alternative estimate:"
   ]
  },
  {
   "cell_type": "code",
   "execution_count": 34,
   "metadata": {},
   "outputs": [
    {
     "data": {
      "text/plain": [
       "0.26400349337342272"
      ]
     },
     "execution_count": 34,
     "metadata": {},
     "output_type": "execute_result"
    }
   ],
   "source": [
    "weather_mont['HDD'].mean()/weather_mont['HDD'].max()"
   ]
  },
  {
   "cell_type": "code",
   "execution_count": null,
   "metadata": {
    "collapsed": true
   },
   "outputs": [],
   "source": []
  }
 ],
 "metadata": {
  "anaconda-cloud": {},
  "kernelspec": {
   "display_name": "Python 3",
   "language": "python",
   "name": "python3"
  },
  "language_info": {
   "codemirror_mode": {
    "name": "ipython",
    "version": 3
   },
   "file_extension": ".py",
   "mimetype": "text/x-python",
   "name": "python",
   "nbconvert_exporter": "python",
   "pygments_lexer": "ipython3",
   "version": "3.6.1"
  }
 },
 "nbformat": 4,
 "nbformat_minor": 1
}
