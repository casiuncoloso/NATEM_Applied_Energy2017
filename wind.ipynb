{
 "cells": [
  {
   "cell_type": "markdown",
   "metadata": {},
   "source": [
    "# Wind power expansion in Quebec: average availability factors per time slice"
   ]
  },
  {
   "cell_type": "markdown",
   "metadata": {},
   "source": [
    "We used data of hourly production of wind to calculate the availability factors. The data comes from the Pan-Canadian Wind Integration Study (PCWIS) and it can be downloaded in the [Canwea website](http://canwea.ca/wind-integration-study/wind-data/). (35% target, actual data)"
   ]
  },
  {
   "cell_type": "markdown",
   "metadata": {},
   "source": [
    "## import libraries and setup plotting style"
   ]
  },
  {
   "cell_type": "code",
   "execution_count": 1,
   "metadata": {
    "collapsed": true
   },
   "outputs": [],
   "source": [
    "import pandas as pd\n",
    "import matplotlib.pyplot as plt\n",
    "import numpy as np\n",
    "import urllib\n",
    "%matplotlib inline"
   ]
  },
  {
   "cell_type": "code",
   "execution_count": 2,
   "metadata": {
    "collapsed": true
   },
   "outputs": [],
   "source": [
    "SIZE = 8\n",
    "MEDIUM_SIZE = 10\n",
    "BIGGER_SIZE = 12\n",
    "\n",
    "plt.rc('font', size=SIZE)                # controls default text sizes\n",
    "plt.rc('axes', titlesize=SIZE)           # fontsize of the axes title\n",
    "plt.rc('axes', labelsize=MEDIUM_SIZE)    # fontsize of the x and y labels\n",
    "plt.rc('xtick', labelsize=SIZE)          # fontsize of the tick labels\n",
    "plt.rc('ytick', labelsize=SIZE)          # fontsize of the tick labels\n",
    "plt.rc('legend', fontsize=SIZE)          # legend fontsize\n",
    "plt.rc('figure', titlesize=BIGGER_SIZE)  # fontsize of the figure title\n",
    "\n",
    "plt.style.use('seaborn-deep')\n",
    "\n",
    "# witdth of figures\n",
    "smallwidth=3.54\n",
    "mediumwidth=5.51\n",
    "bigwidth=7.48"
   ]
  },
  {
   "cell_type": "markdown",
   "metadata": {},
   "source": [
    "## download the data \n",
    "(if you do not have it yet)"
   ]
  },
  {
   "cell_type": "code",
   "execution_count": 10,
   "metadata": {},
   "outputs": [],
   "source": [
    "urllib.request.urlretrieve('https://canwea.ca/wp-content/uploads/2016/10/CanWEA_Wind_Site_Metadata.xlsx',\n",
    "                           'wind/CanWEA_Wind_Site_Metadata.xlsx');"
   ]
  },
  {
   "cell_type": "code",
   "execution_count": 11,
   "metadata": {},
   "outputs": [
    {
     "data": {
      "text/plain": [
       "('wind/35TRGT_2008-2010_Actual.zip', <http.client.HTTPMessage at 0x10eade390>)"
      ]
     },
     "execution_count": 11,
     "metadata": {},
     "output_type": "execute_result"
    }
   ],
   "source": [
    "urllib.request.urlretrieve('https://canwea.ca/wp-content/uploads/2016/09/35TRGT_2008-2010_Actual.zip',\n",
    "                           'wind/35TRGT_2008-2010_Actual.zip');"
   ]
  },
  {
   "cell_type": "markdown",
   "metadata": {},
   "source": [
    "unzip the data in the wind folder (windows machines may need to use the library zipfile instead)"
   ]
  },
  {
   "cell_type": "code",
   "execution_count": 13,
   "metadata": {},
   "outputs": [
    {
     "name": "stdout",
     "output_type": "stream",
     "text": [
      "Archive:  wind/35TRGT_2008-2010_Actual.zip\n",
      "  inflating: wind/0031Pwr1HB.csv     \n",
      "  inflating: wind/0033Pwr1HB.csv     \n",
      "  inflating: wind/0034Pwr1HB.csv     \n",
      "  inflating: wind/0046Pwr1HB.csv     \n",
      "  inflating: wind/0047Pwr1HB.csv     \n",
      "  inflating: wind/0049Pwr1HB.csv     \n",
      "  inflating: wind/0064Pwr1HB.csv     \n",
      "  inflating: wind/0077Pwr1HB.csv     \n",
      "  inflating: wind/0088Pwr1HB.csv     \n",
      "  inflating: wind/0117Pwr1HB.csv     \n",
      "  inflating: wind/0130Pwr1HB.csv     \n",
      "  inflating: wind/0143Pwr1HB.csv     \n",
      "  inflating: wind/0160Pwr1HB.csv     \n",
      "  inflating: wind/0161Pwr1HB.csv     \n",
      "  inflating: wind/0175Pwr1HB.csv     \n",
      "  inflating: wind/0178Pwr1HB.csv     \n",
      "  inflating: wind/0192Pwr1HB.csv     \n",
      "  inflating: wind/0197Pwr1HB.csv     \n",
      "  inflating: wind/0203Pwr1HB.csv     \n",
      "  inflating: wind/0215Pwr1HB.csv     \n",
      "  inflating: wind/0216Pwr1HB.csv     \n",
      "  inflating: wind/0217Pwr1HB.csv     \n",
      "  inflating: wind/0229Pwr1HB.csv     \n",
      "  inflating: wind/0230Pwr1HB.csv     \n",
      "  inflating: wind/0231Pwr1HB.csv     \n",
      "  inflating: wind/0243Pwr1HB.csv     \n",
      "  inflating: wind/0244Pwr1HB.csv     \n",
      "  inflating: wind/0246Pwr1HB.csv     \n",
      "  inflating: wind/0247Pwr1HB.csv     \n",
      "  inflating: wind/0250Pwr1HB.csv     \n",
      "  inflating: wind/0271Pwr1HB.csv     \n",
      "  inflating: wind/0288Pwr1HB.csv     \n",
      "  inflating: wind/0289Pwr1HB.csv     \n",
      "  inflating: wind/0299Pwr1HB.csv     \n",
      "  inflating: wind/0305Pwr1HB.csv     \n",
      "  inflating: wind/0365Pwr1HB.csv     \n",
      "  inflating: wind/0438Pwr1HB.csv     \n",
      "  inflating: wind/0471Pwr1HB.csv     \n",
      "  inflating: wind/0616Pwr1HB.csv     \n",
      "  inflating: wind/0643Pwr1HB.csv     \n",
      "  inflating: wind/0644Pwr1HB.csv     \n",
      "  inflating: wind/0647Pwr1HB.csv     \n",
      "  inflating: wind/0721Pwr1HB.csv     \n",
      "  inflating: wind/0742Pwr1HB.csv     \n",
      "  inflating: wind/0745Pwr1HB.csv     \n",
      "  inflating: wind/0755Pwr1HB.csv     \n",
      "  inflating: wind/0767Pwr1HB.csv     \n",
      "  inflating: wind/0791Pwr1HB.csv     \n",
      "  inflating: wind/0823Pwr1HB.csv     \n",
      "  inflating: wind/0828Pwr1HB.csv     \n",
      "  inflating: wind/0852Pwr1HB.csv     \n",
      "  inflating: wind/0873Pwr1HB.csv     \n",
      "  inflating: wind/0966Pwr1HB.csv     \n",
      "  inflating: wind/1018Pwr1HB.csv     \n",
      "  inflating: wind/1035Pwr1HB.csv     \n",
      "  inflating: wind/1067Pwr1HB.csv     \n",
      "  inflating: wind/1068Pwr1HB.csv     \n",
      "  inflating: wind/1094Pwr1HB.csv     \n",
      "  inflating: wind/1095Pwr1HB.csv     \n",
      "  inflating: wind/1100Pwr1HB.csv     \n",
      "  inflating: wind/1105Pwr1HB.csv     \n",
      "  inflating: wind/1106Pwr1HB.csv     \n",
      "  inflating: wind/1125Pwr1HB.csv     \n",
      "  inflating: wind/1126Pwr1HB.csv     \n",
      "  inflating: wind/1127Pwr1HB.csv     \n",
      "  inflating: wind/1140Pwr1HB.csv     \n",
      "  inflating: wind/1148Pwr1HB.csv     \n",
      "  inflating: wind/1149Pwr1HB.csv     \n",
      "  inflating: wind/1150Pwr1HB.csv     \n",
      "  inflating: wind/1167Pwr1HB.csv     \n",
      "  inflating: wind/1168Pwr1HB.csv     \n",
      "  inflating: wind/1169Pwr1HB.csv     \n",
      "  inflating: wind/1196Pwr1HB.csv     \n",
      "  inflating: wind/1200Pwr1HB.csv     \n",
      "  inflating: wind/1229Pwr1HB.csv     \n",
      "  inflating: wind/1231Pwr1HB.csv     \n",
      "  inflating: wind/1233Pwr1HB.csv     \n",
      "  inflating: wind/1234Pwr1HB.csv     \n",
      "  inflating: wind/1237Pwr1HB.csv     \n",
      "  inflating: wind/1238Pwr1HB.csv     \n",
      "  inflating: wind/1240Pwr1HB.csv     \n",
      "  inflating: wind/1273Pwr1HB.csv     \n",
      "  inflating: wind/1274Pwr1HB.csv     \n",
      "  inflating: wind/1276Pwr1HB.csv     \n",
      "  inflating: wind/1318Pwr1HB.csv     \n",
      "  inflating: wind/1319Pwr1HB.csv     \n",
      "  inflating: wind/1321Pwr1HB.csv     \n",
      "  inflating: wind/1367Pwr1HB.csv     \n",
      "  inflating: wind/1369Pwr1HB.csv     \n",
      "  inflating: wind/1380Pwr1HB.csv     \n",
      "  inflating: wind/1427Pwr1HB.csv     \n",
      "  inflating: wind/1428Pwr1HB.csv     \n",
      "  inflating: wind/1429Pwr1HB.csv     \n",
      "  inflating: wind/1437Pwr1HB.csv     \n",
      "  inflating: wind/1477Pwr1HB.csv     \n",
      "  inflating: wind/1486Pwr1HB.csv     \n",
      "  inflating: wind/1487Pwr1HB.csv     \n",
      "  inflating: wind/1611Pwr1HB.csv     \n",
      "  inflating: wind/1615Pwr1HB.csv     \n",
      "  inflating: wind/1616Pwr1HB.csv     \n",
      "  inflating: wind/1666Pwr1HB.csv     \n",
      "  inflating: wind/1680Pwr1HB.csv     \n",
      "  inflating: wind/1694Pwr1HB.csv     \n",
      "  inflating: wind/1700Pwr1HB.csv     \n",
      "  inflating: wind/1701Pwr1HB.csv     \n",
      "  inflating: wind/1705Pwr1HB.csv     \n",
      "  inflating: wind/1706Pwr1HB.csv     \n",
      "  inflating: wind/1747Pwr1HB.csv     \n",
      "  inflating: wind/1765Pwr1HB.csv     \n",
      "  inflating: wind/1771Pwr1HB.csv     \n",
      "  inflating: wind/1786Pwr1HB.csv     \n",
      "  inflating: wind/1787Pwr1HB.csv     \n",
      "  inflating: wind/1788Pwr1HB.csv     \n",
      "  inflating: wind/1800Pwr1HB.csv     \n",
      "  inflating: wind/1851Pwr1HB.csv     \n",
      "  inflating: wind/1854Pwr1HB.csv     \n",
      "  inflating: wind/1856Pwr1HB.csv     \n",
      "  inflating: wind/1863Pwr1HB.csv     \n",
      "  inflating: wind/1889Pwr1HB.csv     \n",
      "  inflating: wind/1898Pwr1HB.csv     \n",
      "  inflating: wind/1899Pwr1HB.csv     \n",
      "  inflating: wind/1961Pwr1HB.csv     \n",
      "  inflating: wind/1963Pwr1HB.csv     \n",
      "  inflating: wind/1986Pwr1HB.csv     \n",
      "  inflating: wind/1995Pwr1HB.csv     \n",
      "  inflating: wind/2090Pwr1HB.csv     \n",
      "  inflating: wind/2180Pwr1HB.csv     \n",
      "  inflating: wind/2187Pwr1HB.csv     \n",
      "  inflating: wind/2214Pwr1HB.csv     \n",
      "  inflating: wind/2251Pwr1HB.csv     \n",
      "  inflating: wind/2314Pwr1HB.csv     \n",
      "  inflating: wind/2315Pwr1HB.csv     \n",
      "  inflating: wind/2316Pwr1HB.csv     \n",
      "  inflating: wind/2317Pwr1HB.csv     \n",
      "  inflating: wind/2370Pwr1HB.csv     \n",
      "  inflating: wind/2378Pwr1HB.csv     \n",
      "  inflating: wind/2380Pwr1HB.csv     \n",
      "  inflating: wind/2381Pwr1HB.csv     \n",
      "  inflating: wind/2382Pwr1HB.csv     \n",
      "  inflating: wind/2447Pwr1HB.csv     \n",
      "  inflating: wind/2476Pwr1HB.csv     \n",
      "  inflating: wind/2477Pwr1HB.csv     \n",
      "  inflating: wind/2478Pwr1HB.csv     \n",
      "  inflating: wind/2512Pwr1HB.csv     \n",
      "  inflating: wind/2566Pwr1HB.csv     \n",
      "  inflating: wind/2629Pwr1HB.csv     \n",
      "  inflating: wind/2663Pwr1HB.csv     \n",
      "  inflating: wind/2666Pwr1HB.csv     \n",
      "  inflating: wind/2667Pwr1HB.csv     \n",
      "  inflating: wind/2676Pwr1HB.csv     \n",
      "  inflating: wind/2699Pwr1HB.csv     \n",
      "  inflating: wind/2700Pwr1HB.csv     \n",
      "  inflating: wind/2708Pwr1HB.csv     \n",
      "  inflating: wind/2991Pwr1HB.csv     \n",
      "  inflating: wind/2992Pwr1HB.csv     \n",
      "  inflating: wind/3100Pwr1HB.csv     \n",
      "  inflating: wind/3136Pwr1HB.csv     \n",
      "  inflating: wind/3137Pwr1HB.csv     \n",
      "  inflating: wind/3182Pwr1HB.csv     \n",
      "  inflating: wind/3227Pwr1HB.csv     \n",
      "  inflating: wind/3292Pwr1HB.csv     \n",
      "  inflating: wind/3387Pwr1HB.csv     \n",
      "  inflating: wind/3388Pwr1HB.csv     \n",
      "  inflating: wind/3414Pwr1HB.csv     \n",
      "  inflating: wind/3416Pwr1HB.csv     \n",
      "  inflating: wind/3419Pwr1HB.csv     \n",
      "  inflating: wind/3424Pwr1HB.csv     \n",
      "  inflating: wind/3444Pwr1HB.csv     \n",
      "  inflating: wind/3470Pwr1HB.csv     \n",
      "  inflating: wind/3472Pwr1HB.csv     \n",
      "  inflating: wind/3473Pwr1HB.csv     \n",
      "  inflating: wind/3559Pwr1HB.csv     \n",
      "  inflating: wind/3645Pwr1HB.csv     \n",
      "  inflating: wind/3669Pwr1HB.csv     \n",
      "  inflating: wind/3671Pwr1HB.csv     \n",
      "  inflating: wind/3672Pwr1HB.csv     \n",
      "  inflating: wind/3675Pwr1HB.csv     \n",
      "  inflating: wind/3681Pwr1HB.csv     \n",
      "  inflating: wind/3691Pwr1HB.csv     \n",
      "  inflating: wind/3692Pwr1HB.csv     \n",
      "  inflating: wind/3701Pwr1HB.csv     \n",
      "  inflating: wind/3718Pwr1HB.csv     \n",
      "  inflating: wind/3719Pwr1HB.csv     \n",
      "  inflating: wind/3734Pwr1HB.csv     \n",
      "  inflating: wind/3747Pwr1HB.csv     \n",
      "  inflating: wind/3751Pwr1HB.csv     \n",
      "  inflating: wind/3758Pwr1HB.csv     \n",
      "  inflating: wind/3760Pwr1HB.csv     \n",
      "  inflating: wind/3778Pwr1HB.csv     \n",
      "  inflating: wind/3783Pwr1HB.csv     \n",
      "  inflating: wind/3894Pwr1HB.csv     \n",
      "  inflating: wind/3932Pwr1HB.csv     \n",
      "  inflating: wind/3978Pwr1HB.csv     \n",
      "  inflating: wind/4007Pwr1HB.csv     \n",
      "  inflating: wind/4010Pwr1HB.csv     \n",
      "  inflating: wind/4015Pwr1HB.csv     \n",
      "  inflating: wind/4036Pwr1HB.csv     \n",
      "  inflating: wind/4042Pwr1HB.csv     \n",
      "  inflating: wind/4071Pwr1HB.csv     \n",
      "  inflating: wind/4072Pwr1HB.csv     \n",
      "  inflating: wind/4132Pwr1HB.csv     \n",
      "  inflating: wind/4152Pwr1HB.csv     \n",
      "  inflating: wind/4172Pwr1HB.csv     \n",
      "  inflating: wind/4205Pwr1HB.csv     \n",
      "  inflating: wind/4211Pwr1HB.csv     \n",
      "  inflating: wind/4214Pwr1HB.csv     \n",
      "  inflating: wind/4215Pwr1HB.csv     \n",
      "  inflating: wind/4263Pwr1HB.csv     \n",
      "  inflating: wind/4265Pwr1HB.csv     \n",
      "  inflating: wind/4286Pwr1HB.csv     \n",
      "  inflating: wind/4287Pwr1HB.csv     \n",
      "  inflating: wind/0007Pwr1HB.csv     \n",
      "  inflating: wind/0011Pwr1HB.csv     \n",
      "  inflating: wind/0014Pwr1HB.csv     \n",
      "  inflating: wind/0022Pwr1HB.csv     \n",
      "  inflating: wind/0023Pwr1HB.csv     \n",
      "  inflating: wind/0030Pwr1HB.csv     \n"
     ]
    }
   ],
   "source": [
    "!unzip wind/35TRGT_2008-2010_Actual.zip -d wind;"
   ]
  },
  {
   "cell_type": "markdown",
   "metadata": {},
   "source": [
    "## Analyse metadata"
   ]
  },
  {
   "cell_type": "code",
   "execution_count": 15,
   "metadata": {
    "collapsed": true
   },
   "outputs": [],
   "source": [
    "metadata=pd.read_excel('wind/CanWEA_Wind_Site_Metadata.xlsx',sheet_name='Metadata')"
   ]
  },
  {
   "cell_type": "code",
   "execution_count": 16,
   "metadata": {
    "collapsed": true
   },
   "outputs": [],
   "source": [
    "metadata['Site ID #']=metadata['Site ID #'].astype(str).str.zfill(4) # format site ID"
   ]
  },
  {
   "cell_type": "code",
   "execution_count": 17,
   "metadata": {
    "collapsed": false
   },
   "outputs": [
    {
     "data": {
      "text/plain": [
       "(4984, 18)"
      ]
     },
     "execution_count": 17,
     "metadata": {},
     "output_type": "execute_result"
    }
   ],
   "source": [
    "metadata.shape"
   ]
  },
  {
   "cell_type": "markdown",
   "metadata": {},
   "source": [
    "The Pan-Canadian study considered 4984 locations. 53 of them are used to describe the high penetration scenario in Quebec."
   ]
  },
  {
   "cell_type": "code",
   "execution_count": 18,
   "metadata": {
    "collapsed": false
   },
   "outputs": [
    {
     "data": {
      "text/plain": [
       "5BAU Scenario      28\n",
       "20DISP Scenario    40\n",
       "20CONC Scenario    16\n",
       "35TRGT Scenario    53\n",
       "dtype: int64"
      ]
     },
     "execution_count": 18,
     "metadata": {},
     "output_type": "execute_result"
    }
   ],
   "source": [
    "metadata.loc[(metadata['Province']=='Quebec'),['5BAU Scenario',\n",
    "                                               '20DISP Scenario',\n",
    "                                               '20CONC Scenario',\n",
    "                                               '35TRGT Scenario']].sum()"
   ]
  },
  {
   "cell_type": "code",
   "execution_count": 19,
   "metadata": {
    "collapsed": false
   },
   "outputs": [
    {
     "data": {
      "text/html": [
       "<div>\n",
       "<style scoped>\n",
       "    .dataframe tbody tr th:only-of-type {\n",
       "        vertical-align: middle;\n",
       "    }\n",
       "\n",
       "    .dataframe tbody tr th {\n",
       "        vertical-align: top;\n",
       "    }\n",
       "\n",
       "    .dataframe thead th {\n",
       "        text-align: right;\n",
       "    }\n",
       "</style>\n",
       "<table border=\"1\" class=\"dataframe\">\n",
       "  <thead>\n",
       "    <tr style=\"text-align: right;\">\n",
       "      <th></th>\n",
       "      <th>Site ID #</th>\n",
       "      <th>Number of Grid Cells</th>\n",
       "      <th>Capacity (MW)</th>\n",
       "      <th>Gross Energy (GWh)</th>\n",
       "      <th>Maintenance Losses (GWh)</th>\n",
       "      <th>Electrical Losses (GWh)</th>\n",
       "      <th>Net Energy (GWh)</th>\n",
       "      <th>Capacity Factor (%)</th>\n",
       "      <th>Longitude</th>\n",
       "      <th>Latitude</th>\n",
       "      <th>Province</th>\n",
       "      <th>Onshore or Offshore</th>\n",
       "      <th>Dist to High Volt Transmission</th>\n",
       "      <th>5BAU Scenario</th>\n",
       "      <th>20DISP Scenario</th>\n",
       "      <th>20CONC Scenario</th>\n",
       "      <th>35TRGT Scenario</th>\n",
       "      <th>PCWIS Scalar</th>\n",
       "    </tr>\n",
       "  </thead>\n",
       "  <tbody>\n",
       "    <tr>\n",
       "      <th>0</th>\n",
       "      <td>0001</td>\n",
       "      <td>2</td>\n",
       "      <td>32</td>\n",
       "      <td>108.621663</td>\n",
       "      <td>5.431083</td>\n",
       "      <td>3.095717</td>\n",
       "      <td>100.094862</td>\n",
       "      <td>0.357074</td>\n",
       "      <td>-82.279000</td>\n",
       "      <td>42.172150</td>\n",
       "      <td>Ontario</td>\n",
       "      <td>Onshore</td>\n",
       "      <td>25 km</td>\n",
       "      <td>0</td>\n",
       "      <td>0</td>\n",
       "      <td>0</td>\n",
       "      <td>0</td>\n",
       "      <td>0.000000</td>\n",
       "    </tr>\n",
       "    <tr>\n",
       "      <th>1</th>\n",
       "      <td>0002</td>\n",
       "      <td>2</td>\n",
       "      <td>32</td>\n",
       "      <td>113.677474</td>\n",
       "      <td>5.683874</td>\n",
       "      <td>3.239808</td>\n",
       "      <td>104.753792</td>\n",
       "      <td>0.373694</td>\n",
       "      <td>-81.945000</td>\n",
       "      <td>42.263450</td>\n",
       "      <td>Ontario</td>\n",
       "      <td>Onshore</td>\n",
       "      <td>25 km</td>\n",
       "      <td>0</td>\n",
       "      <td>0</td>\n",
       "      <td>0</td>\n",
       "      <td>0</td>\n",
       "      <td>0.000000</td>\n",
       "    </tr>\n",
       "    <tr>\n",
       "      <th>2</th>\n",
       "      <td>0003</td>\n",
       "      <td>8</td>\n",
       "      <td>128</td>\n",
       "      <td>449.030320</td>\n",
       "      <td>22.451516</td>\n",
       "      <td>12.797364</td>\n",
       "      <td>413.781440</td>\n",
       "      <td>0.369026</td>\n",
       "      <td>-82.111375</td>\n",
       "      <td>42.253462</td>\n",
       "      <td>Ontario</td>\n",
       "      <td>Onshore</td>\n",
       "      <td>25 km</td>\n",
       "      <td>1</td>\n",
       "      <td>0</td>\n",
       "      <td>0</td>\n",
       "      <td>0</td>\n",
       "      <td>1.003125</td>\n",
       "    </tr>\n",
       "  </tbody>\n",
       "</table>\n",
       "</div>"
      ],
      "text/plain": [
       "  Site ID #  Number of Grid Cells  Capacity (MW)  Gross Energy (GWh)  \\\n",
       "0      0001                     2             32          108.621663   \n",
       "1      0002                     2             32          113.677474   \n",
       "2      0003                     8            128          449.030320   \n",
       "\n",
       "   Maintenance Losses (GWh)  Electrical Losses (GWh)  Net Energy (GWh)  \\\n",
       "0                  5.431083                 3.095717        100.094862   \n",
       "1                  5.683874                 3.239808        104.753792   \n",
       "2                 22.451516                12.797364        413.781440   \n",
       "\n",
       "   Capacity Factor (%)  Longitude   Latitude Province Onshore or Offshore  \\\n",
       "0             0.357074 -82.279000  42.172150  Ontario             Onshore   \n",
       "1             0.373694 -81.945000  42.263450  Ontario             Onshore   \n",
       "2             0.369026 -82.111375  42.253462  Ontario             Onshore   \n",
       "\n",
       "  Dist to High Volt Transmission  5BAU Scenario  20DISP Scenario  \\\n",
       "0                          25 km              0                0   \n",
       "1                          25 km              0                0   \n",
       "2                          25 km              1                0   \n",
       "\n",
       "   20CONC Scenario  35TRGT Scenario  PCWIS Scalar  \n",
       "0                0                0      0.000000  \n",
       "1                0                0      0.000000  \n",
       "2                0                0      1.003125  "
      ]
     },
     "execution_count": 19,
     "metadata": {},
     "output_type": "execute_result"
    }
   ],
   "source": [
    "metadata.head(3)"
   ]
  },
  {
   "cell_type": "markdown",
   "metadata": {},
   "source": [
    "Average capacity factor in Quebec:"
   ]
  },
  {
   "cell_type": "code",
   "execution_count": 20,
   "metadata": {
    "collapsed": false,
    "scrolled": true
   },
   "outputs": [
    {
     "data": {
      "text/plain": [
       "0.37749815255905556"
      ]
     },
     "execution_count": 20,
     "metadata": {},
     "output_type": "execute_result"
    }
   ],
   "source": [
    "metadata.loc[(metadata['Province']=='Quebec') &\n",
    "             (metadata['35TRGT Scenario']==1),'Capacity Factor (%)'].mean()"
   ]
  },
  {
   "cell_type": "markdown",
   "metadata": {},
   "source": [
    "## Read hourly wind production from the sites representative of the 35% penetration scenario."
   ]
  },
  {
   "cell_type": "markdown",
   "metadata": {},
   "source": [
    "Identification of the files with production data for the sites of our scenario"
   ]
  },
  {
   "cell_type": "code",
   "execution_count": 23,
   "metadata": {
    "collapsed": false
   },
   "outputs": [],
   "source": [
    "idQC=metadata.loc[(metadata['Province']=='Quebec') &\n",
    "             (metadata['35TRGT Scenario']==1) ,'Site ID #'].get_values()\n",
    "\n",
    "idQC='wind/'+idQC+'Pwr1HB.csv'"
   ]
  },
  {
   "cell_type": "code",
   "execution_count": 27,
   "metadata": {},
   "outputs": [
    {
     "data": {
      "text/plain": [
       "'wind/0471Pwr1HB.csv'"
      ]
     },
     "execution_count": 27,
     "metadata": {},
     "output_type": "execute_result"
    }
   ],
   "source": [
    "idQC[0]"
   ]
  },
  {
   "cell_type": "markdown",
   "metadata": {},
   "source": [
    "loop through the array of file names reading them and create a dataframe where each column is one site with the ID on the header"
   ]
  },
  {
   "cell_type": "code",
   "execution_count": 68,
   "metadata": {},
   "outputs": [],
   "source": [
    "w_list=[]\n",
    "for file in idQC:\n",
    "    w_list.append(pd.read_csv(file,\n",
    "                              skiprows=2,\n",
    "                              usecols=[1]).rename({' Value':pd.read_csv(file).columns[1].strip()},\n",
    "                                                   axis=1))\n",
    "    \n",
    "wdf=pd.concat(w_list,axis=1)"
   ]
  },
  {
   "cell_type": "code",
   "execution_count": 69,
   "metadata": {},
   "outputs": [
    {
     "data": {
      "text/html": [
       "<div>\n",
       "<style scoped>\n",
       "    .dataframe tbody tr th:only-of-type {\n",
       "        vertical-align: middle;\n",
       "    }\n",
       "\n",
       "    .dataframe tbody tr th {\n",
       "        vertical-align: top;\n",
       "    }\n",
       "\n",
       "    .dataframe thead th {\n",
       "        text-align: right;\n",
       "    }\n",
       "</style>\n",
       "<table border=\"1\" class=\"dataframe\">\n",
       "  <thead>\n",
       "    <tr style=\"text-align: right;\">\n",
       "      <th></th>\n",
       "      <th>471</th>\n",
       "      <th>1018</th>\n",
       "      <th>1067</th>\n",
       "      <th>1068</th>\n",
       "      <th>1094</th>\n",
       "      <th>1095</th>\n",
       "      <th>1100</th>\n",
       "      <th>1105</th>\n",
       "      <th>1106</th>\n",
       "      <th>1125</th>\n",
       "      <th>...</th>\n",
       "      <th>1487</th>\n",
       "      <th>2214</th>\n",
       "      <th>3645</th>\n",
       "      <th>3669</th>\n",
       "      <th>3671</th>\n",
       "      <th>3672</th>\n",
       "      <th>3691</th>\n",
       "      <th>3692</th>\n",
       "      <th>3734</th>\n",
       "      <th>3751</th>\n",
       "    </tr>\n",
       "  </thead>\n",
       "  <tbody>\n",
       "    <tr>\n",
       "      <th>0</th>\n",
       "      <td>43.386995</td>\n",
       "      <td>98.311608</td>\n",
       "      <td>108.037867</td>\n",
       "      <td>72.540224</td>\n",
       "      <td>47.088440</td>\n",
       "      <td>12.986280</td>\n",
       "      <td>211.866612</td>\n",
       "      <td>53.634608</td>\n",
       "      <td>85.575654</td>\n",
       "      <td>12.085572</td>\n",
       "      <td>...</td>\n",
       "      <td>152.189273</td>\n",
       "      <td>201.279867</td>\n",
       "      <td>13.510124</td>\n",
       "      <td>35.542816</td>\n",
       "      <td>6.594878</td>\n",
       "      <td>23.282481</td>\n",
       "      <td>8.254024</td>\n",
       "      <td>30.128034</td>\n",
       "      <td>11.768342</td>\n",
       "      <td>12.941560</td>\n",
       "    </tr>\n",
       "    <tr>\n",
       "      <th>1</th>\n",
       "      <td>41.975833</td>\n",
       "      <td>114.106980</td>\n",
       "      <td>169.564281</td>\n",
       "      <td>98.781127</td>\n",
       "      <td>86.774755</td>\n",
       "      <td>27.899195</td>\n",
       "      <td>175.792418</td>\n",
       "      <td>81.785460</td>\n",
       "      <td>141.042111</td>\n",
       "      <td>26.946931</td>\n",
       "      <td>...</td>\n",
       "      <td>149.546328</td>\n",
       "      <td>242.918566</td>\n",
       "      <td>17.456520</td>\n",
       "      <td>39.309347</td>\n",
       "      <td>7.913547</td>\n",
       "      <td>38.227146</td>\n",
       "      <td>8.882720</td>\n",
       "      <td>30.582091</td>\n",
       "      <td>16.608383</td>\n",
       "      <td>19.572912</td>\n",
       "    </tr>\n",
       "    <tr>\n",
       "      <th>2</th>\n",
       "      <td>53.936974</td>\n",
       "      <td>122.000506</td>\n",
       "      <td>179.136987</td>\n",
       "      <td>95.239415</td>\n",
       "      <td>103.878951</td>\n",
       "      <td>33.177226</td>\n",
       "      <td>170.021171</td>\n",
       "      <td>107.306374</td>\n",
       "      <td>203.492071</td>\n",
       "      <td>48.432183</td>\n",
       "      <td>...</td>\n",
       "      <td>150.766211</td>\n",
       "      <td>292.997423</td>\n",
       "      <td>26.459165</td>\n",
       "      <td>40.735028</td>\n",
       "      <td>11.364794</td>\n",
       "      <td>50.109251</td>\n",
       "      <td>7.756202</td>\n",
       "      <td>28.576315</td>\n",
       "      <td>27.956965</td>\n",
       "      <td>33.752373</td>\n",
       "    </tr>\n",
       "    <tr>\n",
       "      <th>3</th>\n",
       "      <td>62.825949</td>\n",
       "      <td>123.833869</td>\n",
       "      <td>159.972005</td>\n",
       "      <td>66.047915</td>\n",
       "      <td>99.746765</td>\n",
       "      <td>29.957824</td>\n",
       "      <td>164.850292</td>\n",
       "      <td>154.964162</td>\n",
       "      <td>280.621703</td>\n",
       "      <td>91.434585</td>\n",
       "      <td>...</td>\n",
       "      <td>128.862628</td>\n",
       "      <td>322.006459</td>\n",
       "      <td>30.029726</td>\n",
       "      <td>51.363429</td>\n",
       "      <td>14.287551</td>\n",
       "      <td>62.687057</td>\n",
       "      <td>10.057875</td>\n",
       "      <td>38.962240</td>\n",
       "      <td>41.237376</td>\n",
       "      <td>49.918604</td>\n",
       "    </tr>\n",
       "    <tr>\n",
       "      <th>4</th>\n",
       "      <td>57.425502</td>\n",
       "      <td>105.240263</td>\n",
       "      <td>73.595490</td>\n",
       "      <td>20.857419</td>\n",
       "      <td>57.801515</td>\n",
       "      <td>17.526703</td>\n",
       "      <td>134.145145</td>\n",
       "      <td>175.581241</td>\n",
       "      <td>284.156912</td>\n",
       "      <td>136.425282</td>\n",
       "      <td>...</td>\n",
       "      <td>125.141527</td>\n",
       "      <td>341.585593</td>\n",
       "      <td>37.195993</td>\n",
       "      <td>54.117488</td>\n",
       "      <td>23.524509</td>\n",
       "      <td>88.684104</td>\n",
       "      <td>11.352177</td>\n",
       "      <td>38.556863</td>\n",
       "      <td>54.431934</td>\n",
       "      <td>67.534270</td>\n",
       "    </tr>\n",
       "  </tbody>\n",
       "</table>\n",
       "<p>5 rows × 53 columns</p>\n",
       "</div>"
      ],
      "text/plain": [
       "         471        1018        1067       1068        1094       1095  \\\n",
       "0  43.386995   98.311608  108.037867  72.540224   47.088440  12.986280   \n",
       "1  41.975833  114.106980  169.564281  98.781127   86.774755  27.899195   \n",
       "2  53.936974  122.000506  179.136987  95.239415  103.878951  33.177226   \n",
       "3  62.825949  123.833869  159.972005  66.047915   99.746765  29.957824   \n",
       "4  57.425502  105.240263   73.595490  20.857419   57.801515  17.526703   \n",
       "\n",
       "         1100        1105        1106        1125    ...            1487  \\\n",
       "0  211.866612   53.634608   85.575654   12.085572    ...      152.189273   \n",
       "1  175.792418   81.785460  141.042111   26.946931    ...      149.546328   \n",
       "2  170.021171  107.306374  203.492071   48.432183    ...      150.766211   \n",
       "3  164.850292  154.964162  280.621703   91.434585    ...      128.862628   \n",
       "4  134.145145  175.581241  284.156912  136.425282    ...      125.141527   \n",
       "\n",
       "         2214       3645       3669       3671       3672       3691  \\\n",
       "0  201.279867  13.510124  35.542816   6.594878  23.282481   8.254024   \n",
       "1  242.918566  17.456520  39.309347   7.913547  38.227146   8.882720   \n",
       "2  292.997423  26.459165  40.735028  11.364794  50.109251   7.756202   \n",
       "3  322.006459  30.029726  51.363429  14.287551  62.687057  10.057875   \n",
       "4  341.585593  37.195993  54.117488  23.524509  88.684104  11.352177   \n",
       "\n",
       "        3692       3734       3751  \n",
       "0  30.128034  11.768342  12.941560  \n",
       "1  30.582091  16.608383  19.572912  \n",
       "2  28.576315  27.956965  33.752373  \n",
       "3  38.962240  41.237376  49.918604  \n",
       "4  38.556863  54.431934  67.534270  \n",
       "\n",
       "[5 rows x 53 columns]"
      ]
     },
     "execution_count": 69,
     "metadata": {},
     "output_type": "execute_result"
    }
   ],
   "source": [
    "wdf.head()"
   ]
  },
  {
   "cell_type": "markdown",
   "metadata": {},
   "source": [
    "we take the index from one of the files, as all have the same"
   ]
  },
  {
   "cell_type": "code",
   "execution_count": 70,
   "metadata": {
    "collapsed": true
   },
   "outputs": [],
   "source": [
    "windindex=pd.read_csv(idQC[0],skiprows=2,index_col='Date/Time ',parse_dates=True).index\n",
    "wdf.index=windindex"
   ]
  },
  {
   "cell_type": "code",
   "execution_count": 71,
   "metadata": {
    "collapsed": false
   },
   "outputs": [
    {
     "data": {
      "text/html": [
       "<div>\n",
       "<style scoped>\n",
       "    .dataframe tbody tr th:only-of-type {\n",
       "        vertical-align: middle;\n",
       "    }\n",
       "\n",
       "    .dataframe tbody tr th {\n",
       "        vertical-align: top;\n",
       "    }\n",
       "\n",
       "    .dataframe thead th {\n",
       "        text-align: right;\n",
       "    }\n",
       "</style>\n",
       "<table border=\"1\" class=\"dataframe\">\n",
       "  <thead>\n",
       "    <tr style=\"text-align: right;\">\n",
       "      <th></th>\n",
       "      <th>471</th>\n",
       "      <th>1018</th>\n",
       "      <th>1067</th>\n",
       "      <th>1068</th>\n",
       "      <th>1094</th>\n",
       "      <th>1095</th>\n",
       "      <th>1100</th>\n",
       "      <th>1105</th>\n",
       "      <th>1106</th>\n",
       "      <th>1125</th>\n",
       "      <th>...</th>\n",
       "      <th>1487</th>\n",
       "      <th>2214</th>\n",
       "      <th>3645</th>\n",
       "      <th>3669</th>\n",
       "      <th>3671</th>\n",
       "      <th>3672</th>\n",
       "      <th>3691</th>\n",
       "      <th>3692</th>\n",
       "      <th>3734</th>\n",
       "      <th>3751</th>\n",
       "    </tr>\n",
       "    <tr>\n",
       "      <th>Date/Time</th>\n",
       "      <th></th>\n",
       "      <th></th>\n",
       "      <th></th>\n",
       "      <th></th>\n",
       "      <th></th>\n",
       "      <th></th>\n",
       "      <th></th>\n",
       "      <th></th>\n",
       "      <th></th>\n",
       "      <th></th>\n",
       "      <th></th>\n",
       "      <th></th>\n",
       "      <th></th>\n",
       "      <th></th>\n",
       "      <th></th>\n",
       "      <th></th>\n",
       "      <th></th>\n",
       "      <th></th>\n",
       "      <th></th>\n",
       "      <th></th>\n",
       "      <th></th>\n",
       "    </tr>\n",
       "  </thead>\n",
       "  <tbody>\n",
       "    <tr>\n",
       "      <th>2010-12-31 19:00:00</th>\n",
       "      <td>19.458469</td>\n",
       "      <td>70.185479</td>\n",
       "      <td>28.521656</td>\n",
       "      <td>40.742359</td>\n",
       "      <td>21.178782</td>\n",
       "      <td>18.435549</td>\n",
       "      <td>57.512439</td>\n",
       "      <td>122.359026</td>\n",
       "      <td>149.911866</td>\n",
       "      <td>38.932510</td>\n",
       "      <td>...</td>\n",
       "      <td>0.0</td>\n",
       "      <td>0.564462</td>\n",
       "      <td>0.000000</td>\n",
       "      <td>0.0</td>\n",
       "      <td>7.263620</td>\n",
       "      <td>49.797562</td>\n",
       "      <td>0.0</td>\n",
       "      <td>0.0</td>\n",
       "      <td>0.0</td>\n",
       "      <td>0.0</td>\n",
       "    </tr>\n",
       "    <tr>\n",
       "      <th>2010-12-31 20:00:00</th>\n",
       "      <td>28.376684</td>\n",
       "      <td>108.115448</td>\n",
       "      <td>46.686212</td>\n",
       "      <td>77.306186</td>\n",
       "      <td>36.394423</td>\n",
       "      <td>19.545809</td>\n",
       "      <td>81.237001</td>\n",
       "      <td>119.508981</td>\n",
       "      <td>145.448330</td>\n",
       "      <td>53.364308</td>\n",
       "      <td>...</td>\n",
       "      <td>0.0</td>\n",
       "      <td>5.543133</td>\n",
       "      <td>0.000000</td>\n",
       "      <td>0.0</td>\n",
       "      <td>8.024248</td>\n",
       "      <td>59.623555</td>\n",
       "      <td>0.0</td>\n",
       "      <td>0.0</td>\n",
       "      <td>0.0</td>\n",
       "      <td>0.0</td>\n",
       "    </tr>\n",
       "    <tr>\n",
       "      <th>2010-12-31 21:00:00</th>\n",
       "      <td>37.635215</td>\n",
       "      <td>151.117980</td>\n",
       "      <td>69.454031</td>\n",
       "      <td>93.020372</td>\n",
       "      <td>47.409794</td>\n",
       "      <td>23.496754</td>\n",
       "      <td>99.857188</td>\n",
       "      <td>152.439458</td>\n",
       "      <td>156.481960</td>\n",
       "      <td>76.309153</td>\n",
       "      <td>...</td>\n",
       "      <td>0.0</td>\n",
       "      <td>6.587001</td>\n",
       "      <td>25.361630</td>\n",
       "      <td>0.0</td>\n",
       "      <td>19.599320</td>\n",
       "      <td>91.478041</td>\n",
       "      <td>0.0</td>\n",
       "      <td>0.0</td>\n",
       "      <td>0.0</td>\n",
       "      <td>0.0</td>\n",
       "    </tr>\n",
       "    <tr>\n",
       "      <th>2010-12-31 22:00:00</th>\n",
       "      <td>35.355530</td>\n",
       "      <td>169.208837</td>\n",
       "      <td>72.183341</td>\n",
       "      <td>73.877239</td>\n",
       "      <td>59.171990</td>\n",
       "      <td>28.092270</td>\n",
       "      <td>105.605814</td>\n",
       "      <td>185.518251</td>\n",
       "      <td>178.126366</td>\n",
       "      <td>129.280799</td>\n",
       "      <td>...</td>\n",
       "      <td>0.0</td>\n",
       "      <td>5.237689</td>\n",
       "      <td>49.834314</td>\n",
       "      <td>0.0</td>\n",
       "      <td>24.040354</td>\n",
       "      <td>88.928420</td>\n",
       "      <td>0.0</td>\n",
       "      <td>0.0</td>\n",
       "      <td>0.0</td>\n",
       "      <td>0.0</td>\n",
       "    </tr>\n",
       "    <tr>\n",
       "      <th>2010-12-31 23:00:00</th>\n",
       "      <td>32.486903</td>\n",
       "      <td>185.128554</td>\n",
       "      <td>69.947958</td>\n",
       "      <td>51.422545</td>\n",
       "      <td>73.109216</td>\n",
       "      <td>38.039911</td>\n",
       "      <td>125.403069</td>\n",
       "      <td>201.036700</td>\n",
       "      <td>226.818647</td>\n",
       "      <td>160.253972</td>\n",
       "      <td>...</td>\n",
       "      <td>0.0</td>\n",
       "      <td>11.253283</td>\n",
       "      <td>52.722286</td>\n",
       "      <td>0.0</td>\n",
       "      <td>27.174922</td>\n",
       "      <td>102.719735</td>\n",
       "      <td>0.0</td>\n",
       "      <td>0.0</td>\n",
       "      <td>0.0</td>\n",
       "      <td>0.0</td>\n",
       "    </tr>\n",
       "  </tbody>\n",
       "</table>\n",
       "<p>5 rows × 53 columns</p>\n",
       "</div>"
      ],
      "text/plain": [
       "                           471        1018       1067       1068       1094  \\\n",
       "Date/Time                                                                     \n",
       "2010-12-31 19:00:00  19.458469   70.185479  28.521656  40.742359  21.178782   \n",
       "2010-12-31 20:00:00  28.376684  108.115448  46.686212  77.306186  36.394423   \n",
       "2010-12-31 21:00:00  37.635215  151.117980  69.454031  93.020372  47.409794   \n",
       "2010-12-31 22:00:00  35.355530  169.208837  72.183341  73.877239  59.171990   \n",
       "2010-12-31 23:00:00  32.486903  185.128554  69.947958  51.422545  73.109216   \n",
       "\n",
       "                          1095        1100        1105        1106  \\\n",
       "Date/Time                                                            \n",
       "2010-12-31 19:00:00  18.435549   57.512439  122.359026  149.911866   \n",
       "2010-12-31 20:00:00  19.545809   81.237001  119.508981  145.448330   \n",
       "2010-12-31 21:00:00  23.496754   99.857188  152.439458  156.481960   \n",
       "2010-12-31 22:00:00  28.092270  105.605814  185.518251  178.126366   \n",
       "2010-12-31 23:00:00  38.039911  125.403069  201.036700  226.818647   \n",
       "\n",
       "                           1125  ...   1487       2214       3645  3669  \\\n",
       "Date/Time                        ...                                      \n",
       "2010-12-31 19:00:00   38.932510  ...    0.0   0.564462   0.000000   0.0   \n",
       "2010-12-31 20:00:00   53.364308  ...    0.0   5.543133   0.000000   0.0   \n",
       "2010-12-31 21:00:00   76.309153  ...    0.0   6.587001  25.361630   0.0   \n",
       "2010-12-31 22:00:00  129.280799  ...    0.0   5.237689  49.834314   0.0   \n",
       "2010-12-31 23:00:00  160.253972  ...    0.0  11.253283  52.722286   0.0   \n",
       "\n",
       "                          3671        3672  3691  3692  3734  3751  \n",
       "Date/Time                                                           \n",
       "2010-12-31 19:00:00   7.263620   49.797562   0.0   0.0   0.0   0.0  \n",
       "2010-12-31 20:00:00   8.024248   59.623555   0.0   0.0   0.0   0.0  \n",
       "2010-12-31 21:00:00  19.599320   91.478041   0.0   0.0   0.0   0.0  \n",
       "2010-12-31 22:00:00  24.040354   88.928420   0.0   0.0   0.0   0.0  \n",
       "2010-12-31 23:00:00  27.174922  102.719735   0.0   0.0   0.0   0.0  \n",
       "\n",
       "[5 rows x 53 columns]"
      ]
     },
     "execution_count": 71,
     "metadata": {},
     "output_type": "execute_result"
    }
   ],
   "source": [
    "wdf.tail()"
   ]
  },
  {
   "cell_type": "markdown",
   "metadata": {},
   "source": [
    "**validation**: compare the total production per site in the dataframe containing the hourly data with the values of *Gross energy* provided in the metadata"
   ]
  },
  {
   "cell_type": "code",
   "execution_count": 76,
   "metadata": {
    "collapsed": false
   },
   "outputs": [
    {
     "data": {
      "image/png": "[encoded data removed]",
      "text/plain": [
       "<matplotlib.figure.Figure at 0x11d90a550>"
      ]
     },
     "metadata": {},
     "output_type": "display_data"
    }
   ],
   "source": [
    "plt.scatter(x=metadata.loc[(metadata['Province']=='Quebec') &\n",
    "                           (metadata['35TRGT Scenario']==1) ,\\\n",
    "                           ['Gross Energy (GWh)','Site ID #']]\\\n",
    "                           .set_index('Site ID #').values,\n",
    "            y=(wdf.sum()/1000/3).values);\n",
    "\n",
    "plt.xlabel('Metadata values')\n",
    "plt.ylabel('Calculated values')\n",
    "plt.title('Gross energy production per site (GWh) metadata vs file data');"
   ]
  },
  {
   "cell_type": "markdown",
   "metadata": {},
   "source": [
    "There are some differences but roughly the same"
   ]
  },
  {
   "cell_type": "markdown",
   "metadata": {},
   "source": [
    "I erase the leap day of 2008 because it will mess up with my dayofyear grouping"
   ]
  },
  {
   "cell_type": "code",
   "execution_count": 77,
   "metadata": {
    "collapsed": true
   },
   "outputs": [],
   "source": [
    "wdf=wdf[~((wdf.index.month == 2) & (wdf.index.day == 29))]"
   ]
  },
  {
   "cell_type": "markdown",
   "metadata": {},
   "source": [
    "Sum all sites, we are not interested in intra-site variability"
   ]
  },
  {
   "cell_type": "code",
   "execution_count": 78,
   "metadata": {
    "collapsed": true
   },
   "outputs": [],
   "source": [
    "wdfagg=wdf.sum(axis=1)"
   ]
  },
  {
   "cell_type": "markdown",
   "metadata": {},
   "source": [
    "## calculate the average capacity factor per time slice "
   ]
  },
  {
   "cell_type": "markdown",
   "metadata": {},
   "source": [
    "### create a column with a tag indicating the time slice"
   ]
  },
  {
   "cell_type": "markdown",
   "metadata": {},
   "source": [
    "we create a dataframe instead of a series because otherwise gives some problems adding extra columns"
   ]
  },
  {
   "cell_type": "code",
   "execution_count": 79,
   "metadata": {
    "collapsed": true
   },
   "outputs": [],
   "source": [
    "df_wdfagg=pd.DataFrame({'production':wdfagg})"
   ]
  },
  {
   "cell_type": "code",
   "execution_count": 80,
   "metadata": {
    "collapsed": true
   },
   "outputs": [],
   "source": [
    "df_wdfagg['season']='empty'"
   ]
  },
  {
   "cell_type": "code",
   "execution_count": 81,
   "metadata": {
    "collapsed": true
   },
   "outputs": [],
   "source": [
    "df_wdfagg.loc[(df_wdfagg.index.month==3) & (df_wdfagg.index.day>20),'season']='spring'\n",
    "df_wdfagg.loc[(df_wdfagg.index.month==4),'season']='spring'\n",
    "df_wdfagg.loc[(df_wdfagg.index.month==5),'season']='spring'\n",
    "df_wdfagg.loc[(df_wdfagg.index.month==6) & (df_wdfagg.index.day<21),'season']='spring'"
   ]
  },
  {
   "cell_type": "code",
   "execution_count": 82,
   "metadata": {
    "collapsed": true
   },
   "outputs": [],
   "source": [
    "df_wdfagg.loc[(df_wdfagg.index.month==6) & (df_wdfagg.index.day>=21),'season']='summer'\n",
    "df_wdfagg.loc[(df_wdfagg.index.month==7),'season']='summer'\n",
    "df_wdfagg.loc[(df_wdfagg.index.month==8),'season']='summer'\n",
    "df_wdfagg.loc[(df_wdfagg.index.month==9) & (df_wdfagg.index.day<21),'season']='summer'"
   ]
  },
  {
   "cell_type": "code",
   "execution_count": 83,
   "metadata": {
    "collapsed": true
   },
   "outputs": [],
   "source": [
    "df_wdfagg.loc[(df_wdfagg.index.month==9) & (df_wdfagg.index.day>=21),'season']='fall'\n",
    "df_wdfagg.loc[(df_wdfagg.index.month==10),'season']='fall'\n",
    "df_wdfagg.loc[(df_wdfagg.index.month==11),'season']='fall'\n",
    "df_wdfagg.loc[(df_wdfagg.index.month==12) & (df_wdfagg.index.day<21),'season']='fall'"
   ]
  },
  {
   "cell_type": "code",
   "execution_count": 84,
   "metadata": {
    "collapsed": true
   },
   "outputs": [],
   "source": [
    "df_wdfagg.loc[(df_wdfagg.index.month==12) & (df_wdfagg.index.day>=21),'season']='winter'\n",
    "df_wdfagg.loc[(df_wdfagg.index.month==1),'season']='winter'\n",
    "df_wdfagg.loc[(df_wdfagg.index.month==2),'season']='winter'\n",
    "df_wdfagg.loc[(df_wdfagg.index.month==3) & (df_wdfagg.index.day<21),'season']='winter'"
   ]
  },
  {
   "cell_type": "code",
   "execution_count": 86,
   "metadata": {
    "collapsed": false
   },
   "outputs": [
    {
     "data": {
      "text/plain": [
       "<matplotlib.axes._subplots.AxesSubplot at 0x14410f828>"
      ]
     },
     "execution_count": 86,
     "metadata": {},
     "output_type": "execute_result"
    },
    {
     "data": {
      "image/png": "[encoded data removed]",
      "text/plain": [
       "<matplotlib.figure.Figure at 0x143b42a58>"
      ]
     },
     "metadata": {},
     "output_type": "display_data"
    }
   ],
   "source": [
    "df_wdfagg.boxplot(by='season',grid=False)"
   ]
  },
  {
   "cell_type": "markdown",
   "metadata": {},
   "source": [
    "_tag_ the slices per day"
   ]
  },
  {
   "cell_type": "code",
   "execution_count": 87,
   "metadata": {
    "collapsed": true
   },
   "outputs": [],
   "source": [
    "df_wdfagg['dailyts']='empty'"
   ]
  },
  {
   "cell_type": "code",
   "execution_count": 88,
   "metadata": {
    "collapsed": true
   },
   "outputs": [],
   "source": [
    "df_wdfagg.loc[(df_wdfagg.index.hour==6) | \n",
    "              (df_wdfagg.index.hour==7) | \n",
    "              (df_wdfagg.index.hour==8),'dailyts']='P1' \n",
    "\n",
    "df_wdfagg.loc[(df_wdfagg.index.hour==17) | \n",
    "              (df_wdfagg.index.hour==18) | \n",
    "              (df_wdfagg.index.hour==19),'dailyts']='P2' \n",
    "\n",
    "df_wdfagg.loc[(wdfagg.index.hour>8) & \n",
    "              (wdfagg.index.hour<17),'dailyts']='D' \n",
    "\n",
    "df_wdfagg.loc[(wdfagg.index.hour<6) |\n",
    "              (wdfagg.index.hour>19),'dailyts']='N' "
   ]
  },
  {
   "cell_type": "markdown",
   "metadata": {},
   "source": [
    "Checking we don't have empty values"
   ]
  },
  {
   "cell_type": "code",
   "execution_count": 89,
   "metadata": {
    "collapsed": false
   },
   "outputs": [
    {
     "name": "stdout",
     "output_type": "stream",
     "text": [
      "all hours have a daily ts tag\n"
     ]
    }
   ],
   "source": [
    "if len(df_wdfagg['dailyts'].unique())!=4:\n",
    "    print('we have a problem')\n",
    "else:\n",
    "    print('all hours have a daily ts tag')"
   ]
  },
  {
   "cell_type": "markdown",
   "metadata": {},
   "source": [
    "create a tag combining the seasonal and daily conditions"
   ]
  },
  {
   "cell_type": "code",
   "execution_count": 90,
   "metadata": {
    "collapsed": true
   },
   "outputs": [],
   "source": [
    "df_wdfagg['tstag']='empty' # initialise"
   ]
  },
  {
   "cell_type": "code",
   "execution_count": 91,
   "metadata": {
    "collapsed": true
   },
   "outputs": [],
   "source": [
    "df_wdfagg.loc[(df_wdfagg['dailyts']=='N') & (df_wdfagg['season']=='spring'),'tstag']='RN'\n",
    "df_wdfagg.loc[(df_wdfagg['dailyts']=='N') & (df_wdfagg['season']=='summer'),'tstag']='SN'\n",
    "df_wdfagg.loc[(df_wdfagg['dailyts']=='N') & (df_wdfagg['season']=='winter'),'tstag']='WN'\n",
    "df_wdfagg.loc[(df_wdfagg['dailyts']=='N') & (df_wdfagg['season']=='fall'),'tstag']='FN'\n",
    "\n",
    "df_wdfagg.loc[(df_wdfagg['dailyts']=='D') & (df_wdfagg['season']=='spring'),'tstag']='RD'\n",
    "df_wdfagg.loc[(df_wdfagg['dailyts']=='D') & (df_wdfagg['season']=='summer'),'tstag']='SD'\n",
    "df_wdfagg.loc[(df_wdfagg['dailyts']=='D') & (df_wdfagg['season']=='winter'),'tstag']='WD'\n",
    "df_wdfagg.loc[(df_wdfagg['dailyts']=='D') & (df_wdfagg['season']=='fall'),'tstag']='FD'\n",
    "\n",
    "df_wdfagg.loc[(df_wdfagg['dailyts']=='P1') & (df_wdfagg['season']=='spring'),'tstag']='RP1'\n",
    "df_wdfagg.loc[(df_wdfagg['dailyts']=='P1') & (df_wdfagg['season']=='summer'),'tstag']='SP1'\n",
    "df_wdfagg.loc[(df_wdfagg['dailyts']=='P1') & (df_wdfagg['season']=='winter'),'tstag']='WP1'\n",
    "df_wdfagg.loc[(df_wdfagg['dailyts']=='P1') & (df_wdfagg['season']=='fall'),'tstag']='FP1'\n",
    "\n",
    "df_wdfagg.loc[(df_wdfagg['dailyts']=='P2') & (df_wdfagg['season']=='spring'),'tstag']='RP2'\n",
    "df_wdfagg.loc[(df_wdfagg['dailyts']=='P2') & (df_wdfagg['season']=='summer'),'tstag']='SP2'\n",
    "df_wdfagg.loc[(df_wdfagg['dailyts']=='P2') & (df_wdfagg['season']=='winter'),'tstag']='WP2'\n",
    "df_wdfagg.loc[(df_wdfagg['dailyts']=='P2') & (df_wdfagg['season']=='fall'),'tstag']='FP2'"
   ]
  },
  {
   "cell_type": "code",
   "execution_count": 93,
   "metadata": {
    "collapsed": false
   },
   "outputs": [
    {
     "data": {
      "image/png": "[encoded data removed]",
      "text/plain": [
       "<matplotlib.figure.Figure at 0x11e0c2240>"
      ]
     },
     "metadata": {},
     "output_type": "display_data"
    }
   ],
   "source": [
    "bp2=df_wdfagg.boxplot(by='tstag',figsize=(7,3))\n",
    "bp2.set_title('')\n",
    "bp2.set_xlabel('time slice')\n",
    "bp2.set_ylabel('average hourly electricity \\n production (MWh)')\n",
    "plt.suptitle('')\n",
    "plt.tight_layout()\n",
    "#plt.savefig('boxplot_wind.png',dpi=600,)"
   ]
  },
  {
   "cell_type": "markdown",
   "metadata": {},
   "source": [
    "# calculation of availability factors"
   ]
  },
  {
   "cell_type": "markdown",
   "metadata": {},
   "source": [
    "the hourly availability factor is the hourly aggregated production divided by the total capacity"
   ]
  },
  {
   "cell_type": "code",
   "execution_count": 94,
   "metadata": {
    "collapsed": false
   },
   "outputs": [],
   "source": [
    "df_wdfagg['CF']=df_wdfagg['production']/metadata.loc[(metadata['Province']=='Quebec') &\n",
    "             (metadata['35TRGT Scenario']==1),'Capacity (MW)'].sum()"
   ]
  },
  {
   "cell_type": "code",
   "execution_count": 95,
   "metadata": {
    "collapsed": false
   },
   "outputs": [
    {
     "data": {
      "text/plain": [
       "0.39617675820713205"
      ]
     },
     "execution_count": 95,
     "metadata": {},
     "output_type": "execute_result"
    }
   ],
   "source": [
    "df_wdfagg['CF'].mean()"
   ]
  },
  {
   "cell_type": "code",
   "execution_count": 96,
   "metadata": {
    "collapsed": false
   },
   "outputs": [],
   "source": [
    "cf_avg_metadata=metadata.loc[(metadata['Province']=='Quebec') &\n",
    "             (metadata['35TRGT Scenario']==1),'Capacity Factor (%)'].mean()"
   ]
  },
  {
   "cell_type": "code",
   "execution_count": 97,
   "metadata": {
    "collapsed": false
   },
   "outputs": [
    {
     "data": {
      "text/plain": [
       "0.37749815255905556"
      ]
     },
     "execution_count": 97,
     "metadata": {},
     "output_type": "execute_result"
    }
   ],
   "source": [
    "cf_avg_metadata"
   ]
  },
  {
   "cell_type": "markdown",
   "metadata": {},
   "source": [
    "The capacity factor in the metadata is slightly lower, maybe because of transmission and distribution losses. Just in case, we adjust the values so the average CF corresponds to the summary of the metadata."
   ]
  },
  {
   "cell_type": "code",
   "execution_count": 98,
   "metadata": {
    "collapsed": false
   },
   "outputs": [],
   "source": [
    "df_wdfagg['CF2']=(df_wdfagg['CF']*cf_avg_metadata/df_wdfagg['CF'].mean())"
   ]
  },
  {
   "cell_type": "code",
   "execution_count": 99,
   "metadata": {
    "collapsed": false
   },
   "outputs": [
    {
     "data": {
      "text/html": [
       "<div>\n",
       "<style scoped>\n",
       "    .dataframe tbody tr th:only-of-type {\n",
       "        vertical-align: middle;\n",
       "    }\n",
       "\n",
       "    .dataframe tbody tr th {\n",
       "        vertical-align: top;\n",
       "    }\n",
       "\n",
       "    .dataframe thead th {\n",
       "        text-align: right;\n",
       "    }\n",
       "</style>\n",
       "<table border=\"1\" class=\"dataframe\">\n",
       "  <thead>\n",
       "    <tr style=\"text-align: right;\">\n",
       "      <th></th>\n",
       "      <th>CF</th>\n",
       "      <th>CF2</th>\n",
       "    </tr>\n",
       "    <tr>\n",
       "      <th>tstag</th>\n",
       "      <th></th>\n",
       "      <th></th>\n",
       "    </tr>\n",
       "  </thead>\n",
       "  <tbody>\n",
       "    <tr>\n",
       "      <th>FD</th>\n",
       "      <td>0.438181</td>\n",
       "      <td>0.417522</td>\n",
       "    </tr>\n",
       "    <tr>\n",
       "      <th>FN</th>\n",
       "      <td>0.457169</td>\n",
       "      <td>0.435614</td>\n",
       "    </tr>\n",
       "    <tr>\n",
       "      <th>FP1</th>\n",
       "      <td>0.473116</td>\n",
       "      <td>0.450810</td>\n",
       "    </tr>\n",
       "    <tr>\n",
       "      <th>FP2</th>\n",
       "      <td>0.378074</td>\n",
       "      <td>0.360249</td>\n",
       "    </tr>\n",
       "    <tr>\n",
       "      <th>RD</th>\n",
       "      <td>0.344499</td>\n",
       "      <td>0.328257</td>\n",
       "    </tr>\n",
       "    <tr>\n",
       "      <th>RN</th>\n",
       "      <td>0.376761</td>\n",
       "      <td>0.358998</td>\n",
       "    </tr>\n",
       "    <tr>\n",
       "      <th>RP1</th>\n",
       "      <td>0.436327</td>\n",
       "      <td>0.415756</td>\n",
       "    </tr>\n",
       "    <tr>\n",
       "      <th>RP2</th>\n",
       "      <td>0.325859</td>\n",
       "      <td>0.310496</td>\n",
       "    </tr>\n",
       "    <tr>\n",
       "      <th>SD</th>\n",
       "      <td>0.328111</td>\n",
       "      <td>0.312642</td>\n",
       "    </tr>\n",
       "    <tr>\n",
       "      <th>SN</th>\n",
       "      <td>0.372321</td>\n",
       "      <td>0.354767</td>\n",
       "    </tr>\n",
       "    <tr>\n",
       "      <th>SP1</th>\n",
       "      <td>0.430833</td>\n",
       "      <td>0.410520</td>\n",
       "    </tr>\n",
       "    <tr>\n",
       "      <th>SP2</th>\n",
       "      <td>0.303485</td>\n",
       "      <td>0.289177</td>\n",
       "    </tr>\n",
       "    <tr>\n",
       "      <th>WD</th>\n",
       "      <td>0.411129</td>\n",
       "      <td>0.391745</td>\n",
       "    </tr>\n",
       "    <tr>\n",
       "      <th>WN</th>\n",
       "      <td>0.435841</td>\n",
       "      <td>0.415293</td>\n",
       "    </tr>\n",
       "    <tr>\n",
       "      <th>WP1</th>\n",
       "      <td>0.448726</td>\n",
       "      <td>0.427570</td>\n",
       "    </tr>\n",
       "    <tr>\n",
       "      <th>WP2</th>\n",
       "      <td>0.357249</td>\n",
       "      <td>0.340406</td>\n",
       "    </tr>\n",
       "  </tbody>\n",
       "</table>\n",
       "</div>"
      ],
      "text/plain": [
       "             CF       CF2\n",
       "tstag                    \n",
       "FD     0.438181  0.417522\n",
       "FN     0.457169  0.435614\n",
       "FP1    0.473116  0.450810\n",
       "FP2    0.378074  0.360249\n",
       "RD     0.344499  0.328257\n",
       "RN     0.376761  0.358998\n",
       "RP1    0.436327  0.415756\n",
       "RP2    0.325859  0.310496\n",
       "SD     0.328111  0.312642\n",
       "SN     0.372321  0.354767\n",
       "SP1    0.430833  0.410520\n",
       "SP2    0.303485  0.289177\n",
       "WD     0.411129  0.391745\n",
       "WN     0.435841  0.415293\n",
       "WP1    0.448726  0.427570\n",
       "WP2    0.357249  0.340406"
      ]
     },
     "execution_count": 99,
     "metadata": {},
     "output_type": "execute_result"
    }
   ],
   "source": [
    "df_wdfagg[['CF','CF2','tstag']].groupby('tstag').mean()"
   ]
  },
  {
   "cell_type": "code",
   "execution_count": null,
   "metadata": {
    "collapsed": true
   },
   "outputs": [],
   "source": []
  }
 ],
 "metadata": {
  "kernelspec": {
   "display_name": "Python 3",
   "language": "python",
   "name": "python3"
  },
  "language_info": {
   "codemirror_mode": {
    "name": "ipython",
    "version": 3
   },
   "file_extension": ".py",
   "mimetype": "text/x-python",
   "name": "python",
   "nbconvert_exporter": "python",
   "pygments_lexer": "ipython3",
   "version": "3.6.4"
  }
 },
 "nbformat": 4,
 "nbformat_minor": 2
}
