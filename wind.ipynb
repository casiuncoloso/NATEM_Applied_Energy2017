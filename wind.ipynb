{
 "cells": [
  {
   "cell_type": "markdown",
   "metadata": {},
   "source": [
    "# Wind power expansion in Quebec: average capacity factors"
   ]
  },
  {
   "cell_type": "markdown",
   "metadata": {},
   "source": [
    "We used data of hourly production of wind to calculate the availability factors. The data comes from the Pan-Canadian Wind Integration Study (PCWIS) and it can be downloaded in the [Canwea website](http://canwea.ca/wind-integration-study/wind-data/). (35% target, actual data)"
   ]
  },
  {
   "cell_type": "markdown",
   "metadata": {},
   "source": [
    "## import libraries and setup plotting style"
   ]
  },
  {
   "cell_type": "code",
   "execution_count": 1,
   "metadata": {
    "collapsed": true
   },
   "outputs": [],
   "source": [
    "import pandas as pd\n",
    "import matplotlib.pyplot as plt\n",
    "import numpy as np\n",
    "%matplotlib inline"
   ]
  },
  {
   "cell_type": "code",
   "execution_count": 2,
   "metadata": {
    "collapsed": true
   },
   "outputs": [],
   "source": [
    "SIZE = 8\n",
    "MEDIUM_SIZE = 10\n",
    "BIGGER_SIZE = 12\n",
    "\n",
    "plt.rc('font', size=SIZE)                # controls default text sizes\n",
    "plt.rc('axes', titlesize=SIZE)           # fontsize of the axes title\n",
    "plt.rc('axes', labelsize=MEDIUM_SIZE)    # fontsize of the x and y labels\n",
    "plt.rc('xtick', labelsize=SIZE)          # fontsize of the tick labels\n",
    "plt.rc('ytick', labelsize=SIZE)          # fontsize of the tick labels\n",
    "plt.rc('legend', fontsize=SIZE)          # legend fontsize\n",
    "plt.rc('figure', titlesize=BIGGER_SIZE)  # fontsize of the figure title\n",
    "\n",
    "plt.style.use('seaborn-deep')\n",
    "\n",
    "# witdth of figures\n",
    "smallwidth=3.54\n",
    "mediumwidth=5.51\n",
    "bigwidth=7.48"
   ]
  },
  {
   "cell_type": "markdown",
   "metadata": {},
   "source": [
    "## Analyse metadata"
   ]
  },
  {
   "cell_type": "code",
   "execution_count": 3,
   "metadata": {
    "collapsed": true
   },
   "outputs": [],
   "source": [
    "metadata=pd.read_excel('35TRGT_2008-2010_Actual/CanWEA_Wind_Site_Metadata.xlsx',sheetname='Metadata')"
   ]
  },
  {
   "cell_type": "code",
   "execution_count": 4,
   "metadata": {
    "collapsed": true
   },
   "outputs": [],
   "source": [
    "metadata['Site ID #']=metadata['Site ID #'].astype(str).str.zfill(4) # format site ID"
   ]
  },
  {
   "cell_type": "code",
   "execution_count": 5,
   "metadata": {
    "collapsed": false
   },
   "outputs": [
    {
     "data": {
      "text/plain": [
       "(4984, 18)"
      ]
     },
     "execution_count": 5,
     "metadata": {},
     "output_type": "execute_result"
    }
   ],
   "source": [
    "metadata.shape"
   ]
  },
  {
   "cell_type": "markdown",
   "metadata": {},
   "source": [
    "The Pan-Canadian study considered 4984 locations. 53 of them are used to describe the high penetration scenario in Quebec."
   ]
  },
  {
   "cell_type": "code",
   "execution_count": 6,
   "metadata": {
    "collapsed": false
   },
   "outputs": [
    {
     "data": {
      "text/plain": [
       "5BAU Scenario      28\n",
       "20DISP Scenario    40\n",
       "20CONC Scenario    16\n",
       "35TRGT Scenario    53\n",
       "dtype: int64"
      ]
     },
     "execution_count": 6,
     "metadata": {},
     "output_type": "execute_result"
    }
   ],
   "source": [
    "metadata.loc[(metadata['Province']=='Quebec'),['5BAU Scenario',\n",
    "                                               '20DISP Scenario',\n",
    "                                               '20CONC Scenario',\n",
    "                                               '35TRGT Scenario']].sum()"
   ]
  },
  {
   "cell_type": "code",
   "execution_count": 7,
   "metadata": {
    "collapsed": false
   },
   "outputs": [
    {
     "data": {
      "text/html": [
       "<div>\n",
       "<table border=\"1\" class=\"dataframe\">\n",
       "  <thead>\n",
       "    <tr style=\"text-align: right;\">\n",
       "      <th></th>\n",
       "      <th>Site ID #</th>\n",
       "      <th>Number of Grid Cells</th>\n",
       "      <th>Capacity (MW)</th>\n",
       "      <th>Gross Energy (GWh)</th>\n",
       "      <th>Maintenance Losses (GWh)</th>\n",
       "      <th>Electrical Losses (GWh)</th>\n",
       "      <th>Net Energy (GWh)</th>\n",
       "      <th>Capacity Factor (%)</th>\n",
       "      <th>Longitude</th>\n",
       "      <th>Latitude</th>\n",
       "      <th>Province</th>\n",
       "      <th>Onshore or Offshore</th>\n",
       "      <th>Dist to High Volt Transmission</th>\n",
       "      <th>5BAU Scenario</th>\n",
       "      <th>20DISP Scenario</th>\n",
       "      <th>20CONC Scenario</th>\n",
       "      <th>35TRGT Scenario</th>\n",
       "      <th>PCWIS Scalar</th>\n",
       "    </tr>\n",
       "  </thead>\n",
       "  <tbody>\n",
       "    <tr>\n",
       "      <th>0</th>\n",
       "      <td>0001</td>\n",
       "      <td>2</td>\n",
       "      <td>32</td>\n",
       "      <td>108.621663</td>\n",
       "      <td>5.431083</td>\n",
       "      <td>3.095717</td>\n",
       "      <td>100.094862</td>\n",
       "      <td>0.357074</td>\n",
       "      <td>-82.279000</td>\n",
       "      <td>42.172150</td>\n",
       "      <td>Ontario</td>\n",
       "      <td>Onshore</td>\n",
       "      <td>25 km</td>\n",
       "      <td>0</td>\n",
       "      <td>0</td>\n",
       "      <td>0</td>\n",
       "      <td>0</td>\n",
       "      <td>0.000000</td>\n",
       "    </tr>\n",
       "    <tr>\n",
       "      <th>1</th>\n",
       "      <td>0002</td>\n",
       "      <td>2</td>\n",
       "      <td>32</td>\n",
       "      <td>113.677474</td>\n",
       "      <td>5.683874</td>\n",
       "      <td>3.239808</td>\n",
       "      <td>104.753792</td>\n",
       "      <td>0.373694</td>\n",
       "      <td>-81.945000</td>\n",
       "      <td>42.263450</td>\n",
       "      <td>Ontario</td>\n",
       "      <td>Onshore</td>\n",
       "      <td>25 km</td>\n",
       "      <td>0</td>\n",
       "      <td>0</td>\n",
       "      <td>0</td>\n",
       "      <td>0</td>\n",
       "      <td>0.000000</td>\n",
       "    </tr>\n",
       "    <tr>\n",
       "      <th>2</th>\n",
       "      <td>0003</td>\n",
       "      <td>8</td>\n",
       "      <td>128</td>\n",
       "      <td>449.030320</td>\n",
       "      <td>22.451516</td>\n",
       "      <td>12.797364</td>\n",
       "      <td>413.781440</td>\n",
       "      <td>0.369026</td>\n",
       "      <td>-82.111375</td>\n",
       "      <td>42.253462</td>\n",
       "      <td>Ontario</td>\n",
       "      <td>Onshore</td>\n",
       "      <td>25 km</td>\n",
       "      <td>1</td>\n",
       "      <td>0</td>\n",
       "      <td>0</td>\n",
       "      <td>0</td>\n",
       "      <td>1.003125</td>\n",
       "    </tr>\n",
       "  </tbody>\n",
       "</table>\n",
       "</div>"
      ],
      "text/plain": [
       "  Site ID #  Number of Grid Cells  Capacity (MW)  Gross Energy (GWh)  \\\n",
       "0      0001                     2             32          108.621663   \n",
       "1      0002                     2             32          113.677474   \n",
       "2      0003                     8            128          449.030320   \n",
       "\n",
       "   Maintenance Losses (GWh)  Electrical Losses (GWh)  Net Energy (GWh)  \\\n",
       "0                  5.431083                 3.095717        100.094862   \n",
       "1                  5.683874                 3.239808        104.753792   \n",
       "2                 22.451516                12.797364        413.781440   \n",
       "\n",
       "   Capacity Factor (%)  Longitude   Latitude Province Onshore or Offshore  \\\n",
       "0             0.357074 -82.279000  42.172150  Ontario             Onshore   \n",
       "1             0.373694 -81.945000  42.263450  Ontario             Onshore   \n",
       "2             0.369026 -82.111375  42.253462  Ontario             Onshore   \n",
       "\n",
       "  Dist to High Volt Transmission  5BAU Scenario  20DISP Scenario  \\\n",
       "0                          25 km              0                0   \n",
       "1                          25 km              0                0   \n",
       "2                          25 km              1                0   \n",
       "\n",
       "   20CONC Scenario  35TRGT Scenario  PCWIS Scalar  \n",
       "0                0                0      0.000000  \n",
       "1                0                0      0.000000  \n",
       "2                0                0      1.003125  "
      ]
     },
     "execution_count": 7,
     "metadata": {},
     "output_type": "execute_result"
    }
   ],
   "source": [
    "metadata.head(3)"
   ]
  },
  {
   "cell_type": "markdown",
   "metadata": {},
   "source": [
    "Average capacity factor in Quebec:"
   ]
  },
  {
   "cell_type": "code",
   "execution_count": 8,
   "metadata": {
    "collapsed": false,
    "scrolled": true
   },
   "outputs": [
    {
     "data": {
      "text/plain": [
       "0.37749815255905556"
      ]
     },
     "execution_count": 8,
     "metadata": {},
     "output_type": "execute_result"
    }
   ],
   "source": [
    "metadata.loc[(metadata['Province']=='Quebec') &\n",
    "             (metadata['35TRGT Scenario']==1),'Capacity Factor (%)'].mean()"
   ]
  },
  {
   "cell_type": "markdown",
   "metadata": {},
   "source": [
    "## Read hourly wind production from the sites representative of the 35% penetration scenario."
   ]
  },
  {
   "cell_type": "markdown",
   "metadata": {},
   "source": [
    "Identification of the files with production data for the sites of our scenario"
   ]
  },
  {
   "cell_type": "code",
   "execution_count": 9,
   "metadata": {
    "collapsed": false
   },
   "outputs": [],
   "source": [
    "idQC=metadata.loc[(metadata['Province']=='Quebec') &\n",
    "             (metadata['35TRGT Scenario']==1) ,'Site ID #'].get_values()\n",
    "\n",
    "idQC='35TRGT_2008-2010_Actual/'+idQC+'Pwr1HB.csv'"
   ]
  },
  {
   "cell_type": "code",
   "execution_count": 10,
   "metadata": {
    "collapsed": false
   },
   "outputs": [
    {
     "data": {
      "text/plain": [
       "array(['35TRGT_2008-2010_Actual/0471Pwr1HB.csv',\n",
       "       '35TRGT_2008-2010_Actual/1018Pwr1HB.csv',\n",
       "       '35TRGT_2008-2010_Actual/1067Pwr1HB.csv',\n",
       "       '35TRGT_2008-2010_Actual/1068Pwr1HB.csv',\n",
       "       '35TRGT_2008-2010_Actual/1094Pwr1HB.csv',\n",
       "       '35TRGT_2008-2010_Actual/1095Pwr1HB.csv',\n",
       "       '35TRGT_2008-2010_Actual/1100Pwr1HB.csv',\n",
       "       '35TRGT_2008-2010_Actual/1105Pwr1HB.csv',\n",
       "       '35TRGT_2008-2010_Actual/1106Pwr1HB.csv',\n",
       "       '35TRGT_2008-2010_Actual/1125Pwr1HB.csv',\n",
       "       '35TRGT_2008-2010_Actual/1126Pwr1HB.csv',\n",
       "       '35TRGT_2008-2010_Actual/1127Pwr1HB.csv',\n",
       "       '35TRGT_2008-2010_Actual/1140Pwr1HB.csv',\n",
       "       '35TRGT_2008-2010_Actual/1148Pwr1HB.csv',\n",
       "       '35TRGT_2008-2010_Actual/1149Pwr1HB.csv',\n",
       "       '35TRGT_2008-2010_Actual/1150Pwr1HB.csv',\n",
       "       '35TRGT_2008-2010_Actual/1167Pwr1HB.csv',\n",
       "       '35TRGT_2008-2010_Actual/1168Pwr1HB.csv',\n",
       "       '35TRGT_2008-2010_Actual/1169Pwr1HB.csv',\n",
       "       '35TRGT_2008-2010_Actual/1196Pwr1HB.csv',\n",
       "       '35TRGT_2008-2010_Actual/1200Pwr1HB.csv',\n",
       "       '35TRGT_2008-2010_Actual/1229Pwr1HB.csv',\n",
       "       '35TRGT_2008-2010_Actual/1231Pwr1HB.csv',\n",
       "       '35TRGT_2008-2010_Actual/1233Pwr1HB.csv',\n",
       "       '35TRGT_2008-2010_Actual/1234Pwr1HB.csv',\n",
       "       '35TRGT_2008-2010_Actual/1237Pwr1HB.csv',\n",
       "       '35TRGT_2008-2010_Actual/1238Pwr1HB.csv',\n",
       "       '35TRGT_2008-2010_Actual/1240Pwr1HB.csv',\n",
       "       '35TRGT_2008-2010_Actual/1273Pwr1HB.csv',\n",
       "       '35TRGT_2008-2010_Actual/1274Pwr1HB.csv',\n",
       "       '35TRGT_2008-2010_Actual/1276Pwr1HB.csv',\n",
       "       '35TRGT_2008-2010_Actual/1318Pwr1HB.csv',\n",
       "       '35TRGT_2008-2010_Actual/1319Pwr1HB.csv',\n",
       "       '35TRGT_2008-2010_Actual/1321Pwr1HB.csv',\n",
       "       '35TRGT_2008-2010_Actual/1367Pwr1HB.csv',\n",
       "       '35TRGT_2008-2010_Actual/1369Pwr1HB.csv',\n",
       "       '35TRGT_2008-2010_Actual/1380Pwr1HB.csv',\n",
       "       '35TRGT_2008-2010_Actual/1427Pwr1HB.csv',\n",
       "       '35TRGT_2008-2010_Actual/1428Pwr1HB.csv',\n",
       "       '35TRGT_2008-2010_Actual/1429Pwr1HB.csv',\n",
       "       '35TRGT_2008-2010_Actual/1437Pwr1HB.csv',\n",
       "       '35TRGT_2008-2010_Actual/1477Pwr1HB.csv',\n",
       "       '35TRGT_2008-2010_Actual/1486Pwr1HB.csv',\n",
       "       '35TRGT_2008-2010_Actual/1487Pwr1HB.csv',\n",
       "       '35TRGT_2008-2010_Actual/2214Pwr1HB.csv',\n",
       "       '35TRGT_2008-2010_Actual/3645Pwr1HB.csv',\n",
       "       '35TRGT_2008-2010_Actual/3669Pwr1HB.csv',\n",
       "       '35TRGT_2008-2010_Actual/3671Pwr1HB.csv',\n",
       "       '35TRGT_2008-2010_Actual/3672Pwr1HB.csv',\n",
       "       '35TRGT_2008-2010_Actual/3691Pwr1HB.csv',\n",
       "       '35TRGT_2008-2010_Actual/3692Pwr1HB.csv',\n",
       "       '35TRGT_2008-2010_Actual/3734Pwr1HB.csv',\n",
       "       '35TRGT_2008-2010_Actual/3751Pwr1HB.csv'], dtype=object)"
      ]
     },
     "execution_count": 10,
     "metadata": {},
     "output_type": "execute_result"
    }
   ],
   "source": [
    "idQC"
   ]
  },
  {
   "cell_type": "markdown",
   "metadata": {},
   "source": [
    "coumbersome procedure to create a dataframe where each colum is one potential site for wind production. the dataset contains hourly production by site for years 2008,2009 and 2010"
   ]
  },
  {
   "cell_type": "code",
   "execution_count": 11,
   "metadata": {
    "collapsed": false
   },
   "outputs": [
    {
     "name": "stdout",
     "output_type": "stream",
     "text": [
      "0\n"
     ]
    }
   ],
   "source": [
    "counter=0\n",
    "wdf=[]\n",
    "for file in idQC:\n",
    "    #print(file)\n",
    "    w=pd.read_csv(file)\n",
    "    w.iloc[1,1]=w.columns[1].strip()\n",
    "    w.drop([0,1],inplace=True)\n",
    "    w.drop('PlantID = ',axis=1,inplace=True)\n",
    "    w.reset_index(drop=True,inplace=True)\n",
    "    \n",
    "    if counter == 0:\n",
    "        wdf=w\n",
    "        print(counter)\n",
    "        counter=counter+1\n",
    "        continue\n",
    "    else:\n",
    "        wdf=wdf.merge(w,how='inner',left_index=True,right_index=True)\n",
    "        counter=counter+1"
   ]
  },
  {
   "cell_type": "code",
   "execution_count": 12,
   "metadata": {
    "collapsed": true
   },
   "outputs": [],
   "source": [
    "windindex=pd.read_csv(idQC[0],skiprows=2,index_col='Date/Time ',parse_dates=True).index\n",
    "wdf.index=windindex"
   ]
  },
  {
   "cell_type": "code",
   "execution_count": 13,
   "metadata": {
    "collapsed": true
   },
   "outputs": [],
   "source": [
    "# use replace with regex to substitute empty characters with blankspaces\n",
    "wdf.replace(regex=True,to_replace=r'\\s',value=r'',inplace=True)\n",
    "# convert from strings to numeric\n",
    "wdf=wdf.apply(pd.to_numeric)"
   ]
  },
  {
   "cell_type": "code",
   "execution_count": 14,
   "metadata": {
    "collapsed": false
   },
   "outputs": [
    {
     "data": {
      "text/html": [
       "<div>\n",
       "<table border=\"1\" class=\"dataframe\">\n",
       "  <thead>\n",
       "    <tr style=\"text-align: right;\">\n",
       "      <th></th>\n",
       "      <th>471</th>\n",
       "      <th>1018</th>\n",
       "      <th>1067</th>\n",
       "      <th>1068</th>\n",
       "      <th>1094</th>\n",
       "      <th>1095</th>\n",
       "      <th>1100</th>\n",
       "      <th>1105</th>\n",
       "      <th>1106</th>\n",
       "      <th>1125</th>\n",
       "      <th>...</th>\n",
       "      <th>1487</th>\n",
       "      <th>2214</th>\n",
       "      <th>3645</th>\n",
       "      <th>3669</th>\n",
       "      <th>3671</th>\n",
       "      <th>3672</th>\n",
       "      <th>3691</th>\n",
       "      <th>3692</th>\n",
       "      <th>3734</th>\n",
       "      <th>3751</th>\n",
       "    </tr>\n",
       "    <tr>\n",
       "      <th>Date/Time</th>\n",
       "      <th></th>\n",
       "      <th></th>\n",
       "      <th></th>\n",
       "      <th></th>\n",
       "      <th></th>\n",
       "      <th></th>\n",
       "      <th></th>\n",
       "      <th></th>\n",
       "      <th></th>\n",
       "      <th></th>\n",
       "      <th></th>\n",
       "      <th></th>\n",
       "      <th></th>\n",
       "      <th></th>\n",
       "      <th></th>\n",
       "      <th></th>\n",
       "      <th></th>\n",
       "      <th></th>\n",
       "      <th></th>\n",
       "      <th></th>\n",
       "      <th></th>\n",
       "    </tr>\n",
       "  </thead>\n",
       "  <tbody>\n",
       "    <tr>\n",
       "      <th>2010-12-31 19:00:00</th>\n",
       "      <td>19.458469</td>\n",
       "      <td>70.185479</td>\n",
       "      <td>28.521656</td>\n",
       "      <td>40.742359</td>\n",
       "      <td>21.178782</td>\n",
       "      <td>18.435549</td>\n",
       "      <td>57.512439</td>\n",
       "      <td>122.359026</td>\n",
       "      <td>149.911866</td>\n",
       "      <td>38.932510</td>\n",
       "      <td>...</td>\n",
       "      <td>0.0</td>\n",
       "      <td>0.564462</td>\n",
       "      <td>0.000000</td>\n",
       "      <td>0.0</td>\n",
       "      <td>7.263620</td>\n",
       "      <td>49.797562</td>\n",
       "      <td>0.0</td>\n",
       "      <td>0.0</td>\n",
       "      <td>0.0</td>\n",
       "      <td>0.0</td>\n",
       "    </tr>\n",
       "    <tr>\n",
       "      <th>2010-12-31 20:00:00</th>\n",
       "      <td>28.376684</td>\n",
       "      <td>108.115448</td>\n",
       "      <td>46.686212</td>\n",
       "      <td>77.306186</td>\n",
       "      <td>36.394423</td>\n",
       "      <td>19.545809</td>\n",
       "      <td>81.237001</td>\n",
       "      <td>119.508981</td>\n",
       "      <td>145.448330</td>\n",
       "      <td>53.364308</td>\n",
       "      <td>...</td>\n",
       "      <td>0.0</td>\n",
       "      <td>5.543133</td>\n",
       "      <td>0.000000</td>\n",
       "      <td>0.0</td>\n",
       "      <td>8.024248</td>\n",
       "      <td>59.623555</td>\n",
       "      <td>0.0</td>\n",
       "      <td>0.0</td>\n",
       "      <td>0.0</td>\n",
       "      <td>0.0</td>\n",
       "    </tr>\n",
       "    <tr>\n",
       "      <th>2010-12-31 21:00:00</th>\n",
       "      <td>37.635215</td>\n",
       "      <td>151.117980</td>\n",
       "      <td>69.454031</td>\n",
       "      <td>93.020372</td>\n",
       "      <td>47.409794</td>\n",
       "      <td>23.496754</td>\n",
       "      <td>99.857188</td>\n",
       "      <td>152.439458</td>\n",
       "      <td>156.481960</td>\n",
       "      <td>76.309153</td>\n",
       "      <td>...</td>\n",
       "      <td>0.0</td>\n",
       "      <td>6.587001</td>\n",
       "      <td>25.361630</td>\n",
       "      <td>0.0</td>\n",
       "      <td>19.599320</td>\n",
       "      <td>91.478041</td>\n",
       "      <td>0.0</td>\n",
       "      <td>0.0</td>\n",
       "      <td>0.0</td>\n",
       "      <td>0.0</td>\n",
       "    </tr>\n",
       "    <tr>\n",
       "      <th>2010-12-31 22:00:00</th>\n",
       "      <td>35.355530</td>\n",
       "      <td>169.208837</td>\n",
       "      <td>72.183341</td>\n",
       "      <td>73.877239</td>\n",
       "      <td>59.171990</td>\n",
       "      <td>28.092270</td>\n",
       "      <td>105.605814</td>\n",
       "      <td>185.518251</td>\n",
       "      <td>178.126366</td>\n",
       "      <td>129.280799</td>\n",
       "      <td>...</td>\n",
       "      <td>0.0</td>\n",
       "      <td>5.237689</td>\n",
       "      <td>49.834314</td>\n",
       "      <td>0.0</td>\n",
       "      <td>24.040354</td>\n",
       "      <td>88.928420</td>\n",
       "      <td>0.0</td>\n",
       "      <td>0.0</td>\n",
       "      <td>0.0</td>\n",
       "      <td>0.0</td>\n",
       "    </tr>\n",
       "    <tr>\n",
       "      <th>2010-12-31 23:00:00</th>\n",
       "      <td>32.486903</td>\n",
       "      <td>185.128554</td>\n",
       "      <td>69.947958</td>\n",
       "      <td>51.422545</td>\n",
       "      <td>73.109216</td>\n",
       "      <td>38.039911</td>\n",
       "      <td>125.403069</td>\n",
       "      <td>201.036700</td>\n",
       "      <td>226.818647</td>\n",
       "      <td>160.253972</td>\n",
       "      <td>...</td>\n",
       "      <td>0.0</td>\n",
       "      <td>11.253283</td>\n",
       "      <td>52.722286</td>\n",
       "      <td>0.0</td>\n",
       "      <td>27.174922</td>\n",
       "      <td>102.719735</td>\n",
       "      <td>0.0</td>\n",
       "      <td>0.0</td>\n",
       "      <td>0.0</td>\n",
       "      <td>0.0</td>\n",
       "    </tr>\n",
       "  </tbody>\n",
       "</table>\n",
       "<p>5 rows × 53 columns</p>\n",
       "</div>"
      ],
      "text/plain": [
       "                           471        1018       1067       1068       1094  \\\n",
       "Date/Time                                                                     \n",
       "2010-12-31 19:00:00  19.458469   70.185479  28.521656  40.742359  21.178782   \n",
       "2010-12-31 20:00:00  28.376684  108.115448  46.686212  77.306186  36.394423   \n",
       "2010-12-31 21:00:00  37.635215  151.117980  69.454031  93.020372  47.409794   \n",
       "2010-12-31 22:00:00  35.355530  169.208837  72.183341  73.877239  59.171990   \n",
       "2010-12-31 23:00:00  32.486903  185.128554  69.947958  51.422545  73.109216   \n",
       "\n",
       "                          1095        1100        1105        1106  \\\n",
       "Date/Time                                                            \n",
       "2010-12-31 19:00:00  18.435549   57.512439  122.359026  149.911866   \n",
       "2010-12-31 20:00:00  19.545809   81.237001  119.508981  145.448330   \n",
       "2010-12-31 21:00:00  23.496754   99.857188  152.439458  156.481960   \n",
       "2010-12-31 22:00:00  28.092270  105.605814  185.518251  178.126366   \n",
       "2010-12-31 23:00:00  38.039911  125.403069  201.036700  226.818647   \n",
       "\n",
       "                           1125   ...      1487       2214       3645    3669  \\\n",
       "Date/Time                         ...                                           \n",
       "2010-12-31 19:00:00   38.932510   ...       0.0   0.564462   0.000000     0.0   \n",
       "2010-12-31 20:00:00   53.364308   ...       0.0   5.543133   0.000000     0.0   \n",
       "2010-12-31 21:00:00   76.309153   ...       0.0   6.587001  25.361630     0.0   \n",
       "2010-12-31 22:00:00  129.280799   ...       0.0   5.237689  49.834314     0.0   \n",
       "2010-12-31 23:00:00  160.253972   ...       0.0  11.253283  52.722286     0.0   \n",
       "\n",
       "                          3671        3672    3691    3692    3734    3751  \n",
       "Date/Time                                                                   \n",
       "2010-12-31 19:00:00   7.263620   49.797562     0.0     0.0     0.0     0.0  \n",
       "2010-12-31 20:00:00   8.024248   59.623555     0.0     0.0     0.0     0.0  \n",
       "2010-12-31 21:00:00  19.599320   91.478041     0.0     0.0     0.0     0.0  \n",
       "2010-12-31 22:00:00  24.040354   88.928420     0.0     0.0     0.0     0.0  \n",
       "2010-12-31 23:00:00  27.174922  102.719735     0.0     0.0     0.0     0.0  \n",
       "\n",
       "[5 rows x 53 columns]"
      ]
     },
     "execution_count": 14,
     "metadata": {},
     "output_type": "execute_result"
    }
   ],
   "source": [
    "wdf.tail()"
   ]
  },
  {
   "cell_type": "markdown",
   "metadata": {},
   "source": [
    "**validation**: compare the total production per site in the dataframe containing the hourly data with the values of *Gross energy* provided in the metadata"
   ]
  },
  {
   "cell_type": "code",
   "execution_count": 15,
   "metadata": {
    "collapsed": false
   },
   "outputs": [
    {
     "data": {
      "text/plain": [
       "<matplotlib.collections.PathCollection at 0x1acde2a9208>"
      ]
     },
     "execution_count": 15,
     "metadata": {},
     "output_type": "execute_result"
    },
    {
     "data": {
      "image/png": "[encoded data removed]",
      "text/plain": [
       "<matplotlib.figure.Figure at 0x1acde2bca20>"
      ]
     },
     "metadata": {},
     "output_type": "display_data"
    }
   ],
   "source": [
    "plt.scatter(metadata.loc[(metadata['Province']=='Quebec') &\n",
    "                         (metadata['35TRGT Scenario']==1) ,\\\n",
    "                         ['Gross Energy (GWh)','Site ID #']]\\\n",
    "                         .set_index('Site ID #').values,\n",
    "            (wdf.sum()/1000/3).values)"
   ]
  },
  {
   "cell_type": "markdown",
   "metadata": {},
   "source": [
    "There are some differences but roughly the same"
   ]
  },
  {
   "cell_type": "markdown",
   "metadata": {},
   "source": [
    "I erase the leap day of 2008 because it will mess up with my dayofyear grouping"
   ]
  },
  {
   "cell_type": "code",
   "execution_count": 16,
   "metadata": {
    "collapsed": true
   },
   "outputs": [],
   "source": [
    "wdf=wdf[~((wdf.index.month == 2) & (wdf.index.day == 29))]"
   ]
  },
  {
   "cell_type": "markdown",
   "metadata": {},
   "source": [
    "Sum all sites, we are not interested in intra-site variability"
   ]
  },
  {
   "cell_type": "code",
   "execution_count": 17,
   "metadata": {
    "collapsed": true
   },
   "outputs": [],
   "source": [
    "wdfagg=wdf.sum(axis=1)"
   ]
  },
  {
   "cell_type": "markdown",
   "metadata": {},
   "source": [
    "## calculate the average capacity factor per time slice "
   ]
  },
  {
   "cell_type": "markdown",
   "metadata": {},
   "source": [
    "### create a column with a tag indicating the time slice"
   ]
  },
  {
   "cell_type": "markdown",
   "metadata": {},
   "source": [
    "we create a dataframe instead of a series because otherwise gives some problems adding extra columns"
   ]
  },
  {
   "cell_type": "code",
   "execution_count": 18,
   "metadata": {
    "collapsed": true
   },
   "outputs": [],
   "source": [
    "df_wdfagg=pd.DataFrame({'production':wdfagg})"
   ]
  },
  {
   "cell_type": "code",
   "execution_count": 19,
   "metadata": {
    "collapsed": true
   },
   "outputs": [],
   "source": [
    "df_wdfagg['season']='empty'"
   ]
  },
  {
   "cell_type": "code",
   "execution_count": 20,
   "metadata": {
    "collapsed": true
   },
   "outputs": [],
   "source": [
    "df_wdfagg.loc[(df_wdfagg.index.month==3) & (df_wdfagg.index.day>20),'season']='spring'\n",
    "df_wdfagg.loc[(df_wdfagg.index.month==4),'season']='spring'\n",
    "df_wdfagg.loc[(df_wdfagg.index.month==5),'season']='spring'\n",
    "df_wdfagg.loc[(df_wdfagg.index.month==6) & (df_wdfagg.index.day<21),'season']='spring'"
   ]
  },
  {
   "cell_type": "code",
   "execution_count": 21,
   "metadata": {
    "collapsed": true
   },
   "outputs": [],
   "source": [
    "df_wdfagg.loc[(df_wdfagg.index.month==6) & (df_wdfagg.index.day>=21),'season']='summer'\n",
    "df_wdfagg.loc[(df_wdfagg.index.month==7),'season']='summer'\n",
    "df_wdfagg.loc[(df_wdfagg.index.month==8),'season']='summer'\n",
    "df_wdfagg.loc[(df_wdfagg.index.month==9) & (df_wdfagg.index.day<21),'season']='summer'"
   ]
  },
  {
   "cell_type": "code",
   "execution_count": 22,
   "metadata": {
    "collapsed": true
   },
   "outputs": [],
   "source": [
    "df_wdfagg.loc[(df_wdfagg.index.month==9) & (df_wdfagg.index.day>=21),'season']='fall'\n",
    "df_wdfagg.loc[(df_wdfagg.index.month==10),'season']='fall'\n",
    "df_wdfagg.loc[(df_wdfagg.index.month==11),'season']='fall'\n",
    "df_wdfagg.loc[(df_wdfagg.index.month==12) & (df_wdfagg.index.day<21),'season']='fall'"
   ]
  },
  {
   "cell_type": "code",
   "execution_count": 23,
   "metadata": {
    "collapsed": true
   },
   "outputs": [],
   "source": [
    "df_wdfagg.loc[(df_wdfagg.index.month==12) & (df_wdfagg.index.day>=21),'season']='winter'\n",
    "df_wdfagg.loc[(df_wdfagg.index.month==1),'season']='winter'\n",
    "df_wdfagg.loc[(df_wdfagg.index.month==2),'season']='winter'\n",
    "df_wdfagg.loc[(df_wdfagg.index.month==3) & (df_wdfagg.index.day<21),'season']='winter'"
   ]
  },
  {
   "cell_type": "code",
   "execution_count": 24,
   "metadata": {
    "collapsed": false
   },
   "outputs": [
    {
     "data": {
      "text/plain": [
       "<matplotlib.axes._subplots.AxesSubplot at 0x1ace6907390>"
      ]
     },
     "execution_count": 24,
     "metadata": {},
     "output_type": "execute_result"
    },
    {
     "data": {
      "image/png": "[encoded data removed]",
      "text/plain": [
       "<matplotlib.figure.Figure at 0x1ace5509b70>"
      ]
     },
     "metadata": {},
     "output_type": "display_data"
    }
   ],
   "source": [
    "df_wdfagg.boxplot(by='season')"
   ]
  },
  {
   "cell_type": "code",
   "execution_count": 25,
   "metadata": {
    "collapsed": true
   },
   "outputs": [],
   "source": [
    "df_wdfagg['dailyts']='empty'"
   ]
  },
  {
   "cell_type": "code",
   "execution_count": 26,
   "metadata": {
    "collapsed": true
   },
   "outputs": [],
   "source": [
    "df_wdfagg.loc[(df_wdfagg.index.hour==6) | \n",
    "              (df_wdfagg.index.hour==7) | \n",
    "              (df_wdfagg.index.hour==8),'dailyts']='P1' \n",
    "\n",
    "df_wdfagg.loc[(df_wdfagg.index.hour==17) | \n",
    "              (df_wdfagg.index.hour==18) | \n",
    "              (df_wdfagg.index.hour==19),'dailyts']='P2' \n",
    "\n",
    "df_wdfagg.loc[(wdfagg.index.hour>8) & \n",
    "              (wdfagg.index.hour<17),'dailyts']='D' \n",
    "\n",
    "df_wdfagg.loc[(wdfagg.index.hour<6) |\n",
    "              (wdfagg.index.hour>19),'dailyts']='N' "
   ]
  },
  {
   "cell_type": "markdown",
   "metadata": {},
   "source": [
    "Checking we don't have empty values"
   ]
  },
  {
   "cell_type": "code",
   "execution_count": 27,
   "metadata": {
    "collapsed": false
   },
   "outputs": [
    {
     "name": "stdout",
     "output_type": "stream",
     "text": [
      "all hours have a daily ts tag\n"
     ]
    }
   ],
   "source": [
    "if len(df_wdfagg['dailyts'].unique())!=4:\n",
    "    print('we have a problem')\n",
    "else:\n",
    "    print('all hours have a daily ts tag')"
   ]
  },
  {
   "cell_type": "markdown",
   "metadata": {},
   "source": [
    "create a tag combining the seasonal and daily conditions"
   ]
  },
  {
   "cell_type": "code",
   "execution_count": 28,
   "metadata": {
    "collapsed": true
   },
   "outputs": [],
   "source": [
    "df_wdfagg['tstag']='empty' # initialise"
   ]
  },
  {
   "cell_type": "code",
   "execution_count": 29,
   "metadata": {
    "collapsed": true
   },
   "outputs": [],
   "source": [
    "df_wdfagg.loc[(df_wdfagg['dailyts']=='N') & (df_wdfagg['season']=='spring'),'tstag']='RN'\n",
    "df_wdfagg.loc[(df_wdfagg['dailyts']=='N') & (df_wdfagg['season']=='summer'),'tstag']='SN'\n",
    "df_wdfagg.loc[(df_wdfagg['dailyts']=='N') & (df_wdfagg['season']=='winter'),'tstag']='WN'\n",
    "df_wdfagg.loc[(df_wdfagg['dailyts']=='N') & (df_wdfagg['season']=='fall'),'tstag']='FN'\n",
    "\n",
    "df_wdfagg.loc[(df_wdfagg['dailyts']=='D') & (df_wdfagg['season']=='spring'),'tstag']='RD'\n",
    "df_wdfagg.loc[(df_wdfagg['dailyts']=='D') & (df_wdfagg['season']=='summer'),'tstag']='SD'\n",
    "df_wdfagg.loc[(df_wdfagg['dailyts']=='D') & (df_wdfagg['season']=='winter'),'tstag']='WD'\n",
    "df_wdfagg.loc[(df_wdfagg['dailyts']=='D') & (df_wdfagg['season']=='fall'),'tstag']='FD'\n",
    "\n",
    "df_wdfagg.loc[(df_wdfagg['dailyts']=='P1') & (df_wdfagg['season']=='spring'),'tstag']='RP1'\n",
    "df_wdfagg.loc[(df_wdfagg['dailyts']=='P1') & (df_wdfagg['season']=='summer'),'tstag']='SP1'\n",
    "df_wdfagg.loc[(df_wdfagg['dailyts']=='P1') & (df_wdfagg['season']=='winter'),'tstag']='WP1'\n",
    "df_wdfagg.loc[(df_wdfagg['dailyts']=='P1') & (df_wdfagg['season']=='fall'),'tstag']='FP1'\n",
    "\n",
    "df_wdfagg.loc[(df_wdfagg['dailyts']=='P2') & (df_wdfagg['season']=='spring'),'tstag']='RP2'\n",
    "df_wdfagg.loc[(df_wdfagg['dailyts']=='P2') & (df_wdfagg['season']=='summer'),'tstag']='SP2'\n",
    "df_wdfagg.loc[(df_wdfagg['dailyts']=='P2') & (df_wdfagg['season']=='winter'),'tstag']='WP2'\n",
    "df_wdfagg.loc[(df_wdfagg['dailyts']=='P2') & (df_wdfagg['season']=='fall'),'tstag']='FP2'"
   ]
  },
  {
   "cell_type": "code",
   "execution_count": 30,
   "metadata": {
    "collapsed": false
   },
   "outputs": [
    {
     "data": {
      "image/png": "[encoded data removed]",
      "text/plain": [
       "<matplotlib.figure.Figure at 0x1ace02f7978>"
      ]
     },
     "metadata": {},
     "output_type": "display_data"
    }
   ],
   "source": [
    "bp2=df_wdfagg.boxplot(by='tstag',figsize=(7,3))\n",
    "bp2.set_title('')\n",
    "bp2.set_xlabel('time slice')\n",
    "bp2.set_ylabel('average hourly electricity \\n production (MWh)')\n",
    "plt.suptitle('')\n",
    "plt.tight_layout()\n",
    "plt.savefig('boxplot_wind.png',dpi=600,)"
   ]
  },
  {
   "cell_type": "code",
   "execution_count": 31,
   "metadata": {
    "collapsed": false
   },
   "outputs": [
    {
     "data": {
      "text/html": [
       "<div>\n",
       "<table border=\"1\" class=\"dataframe\">\n",
       "  <thead>\n",
       "    <tr style=\"text-align: right;\">\n",
       "      <th></th>\n",
       "      <th>production</th>\n",
       "      <th>season</th>\n",
       "      <th>dailyts</th>\n",
       "      <th>tstag</th>\n",
       "    </tr>\n",
       "    <tr>\n",
       "      <th>Date/Time</th>\n",
       "      <th></th>\n",
       "      <th></th>\n",
       "      <th></th>\n",
       "      <th></th>\n",
       "    </tr>\n",
       "  </thead>\n",
       "  <tbody>\n",
       "    <tr>\n",
       "      <th>2008-01-01 00:00:00</th>\n",
       "      <td>3397.957267</td>\n",
       "      <td>winter</td>\n",
       "      <td>N</td>\n",
       "      <td>WN</td>\n",
       "    </tr>\n",
       "    <tr>\n",
       "      <th>2008-01-01 01:00:00</th>\n",
       "      <td>4249.773235</td>\n",
       "      <td>winter</td>\n",
       "      <td>N</td>\n",
       "      <td>WN</td>\n",
       "    </tr>\n",
       "    <tr>\n",
       "      <th>2008-01-01 02:00:00</th>\n",
       "      <td>4883.350543</td>\n",
       "      <td>winter</td>\n",
       "      <td>N</td>\n",
       "      <td>WN</td>\n",
       "    </tr>\n",
       "    <tr>\n",
       "      <th>2008-01-01 03:00:00</th>\n",
       "      <td>5169.177240</td>\n",
       "      <td>winter</td>\n",
       "      <td>N</td>\n",
       "      <td>WN</td>\n",
       "    </tr>\n",
       "    <tr>\n",
       "      <th>2008-01-01 04:00:00</th>\n",
       "      <td>5388.262450</td>\n",
       "      <td>winter</td>\n",
       "      <td>N</td>\n",
       "      <td>WN</td>\n",
       "    </tr>\n",
       "  </tbody>\n",
       "</table>\n",
       "</div>"
      ],
      "text/plain": [
       "                      production  season dailyts tstag\n",
       "Date/Time                                             \n",
       "2008-01-01 00:00:00  3397.957267  winter       N    WN\n",
       "2008-01-01 01:00:00  4249.773235  winter       N    WN\n",
       "2008-01-01 02:00:00  4883.350543  winter       N    WN\n",
       "2008-01-01 03:00:00  5169.177240  winter       N    WN\n",
       "2008-01-01 04:00:00  5388.262450  winter       N    WN"
      ]
     },
     "execution_count": 31,
     "metadata": {},
     "output_type": "execute_result"
    }
   ],
   "source": [
    "df_wdfagg.head()"
   ]
  },
  {
   "cell_type": "markdown",
   "metadata": {},
   "source": [
    "# calculation of capacity factors"
   ]
  },
  {
   "cell_type": "markdown",
   "metadata": {},
   "source": [
    "the hourly capacity factor is the hourly aggregated production divided by the total capacity"
   ]
  },
  {
   "cell_type": "code",
   "execution_count": 32,
   "metadata": {
    "collapsed": false
   },
   "outputs": [],
   "source": [
    "df_wdfagg['CF']=df_wdfagg['production']/metadata.loc[(metadata['Province']=='Quebec') &\n",
    "             (metadata['35TRGT Scenario']==1),'Capacity (MW)'].sum()"
   ]
  },
  {
   "cell_type": "code",
   "execution_count": 33,
   "metadata": {
    "collapsed": false
   },
   "outputs": [
    {
     "data": {
      "text/plain": [
       "0.396176758207132"
      ]
     },
     "execution_count": 33,
     "metadata": {},
     "output_type": "execute_result"
    }
   ],
   "source": [
    "df_wdfagg['CF'].mean()"
   ]
  },
  {
   "cell_type": "code",
   "execution_count": 34,
   "metadata": {
    "collapsed": false
   },
   "outputs": [],
   "source": [
    "cf_avg_metadata=metadata.loc[(metadata['Province']=='Quebec') &\n",
    "             (metadata['35TRGT Scenario']==1),'Capacity Factor (%)'].mean()"
   ]
  },
  {
   "cell_type": "code",
   "execution_count": 35,
   "metadata": {
    "collapsed": false
   },
   "outputs": [
    {
     "data": {
      "text/plain": [
       "0.37749815255905556"
      ]
     },
     "execution_count": 35,
     "metadata": {},
     "output_type": "execute_result"
    }
   ],
   "source": [
    "cf_avg_metadata"
   ]
  },
  {
   "cell_type": "markdown",
   "metadata": {},
   "source": [
    "The capacity factor in the metadata is slightly lower, maybe because of transmission and distribution losses. Just in case, we adjust the values so the average CF corresponds to the summary of the metadata."
   ]
  },
  {
   "cell_type": "code",
   "execution_count": 36,
   "metadata": {
    "collapsed": false
   },
   "outputs": [],
   "source": [
    "df_wdfagg['CF2']=(df_wdfagg['CF']*cf_avg_metadata/df_wdfagg['CF'].mean())"
   ]
  },
  {
   "cell_type": "code",
   "execution_count": 37,
   "metadata": {
    "collapsed": false
   },
   "outputs": [
    {
     "data": {
      "text/html": [
       "<div>\n",
       "<table border=\"1\" class=\"dataframe\">\n",
       "  <thead>\n",
       "    <tr style=\"text-align: right;\">\n",
       "      <th></th>\n",
       "      <th>CF</th>\n",
       "      <th>CF2</th>\n",
       "    </tr>\n",
       "    <tr>\n",
       "      <th>tstag</th>\n",
       "      <th></th>\n",
       "      <th></th>\n",
       "    </tr>\n",
       "  </thead>\n",
       "  <tbody>\n",
       "    <tr>\n",
       "      <th>FD</th>\n",
       "      <td>0.438181</td>\n",
       "      <td>0.417522</td>\n",
       "    </tr>\n",
       "    <tr>\n",
       "      <th>FN</th>\n",
       "      <td>0.457169</td>\n",
       "      <td>0.435614</td>\n",
       "    </tr>\n",
       "    <tr>\n",
       "      <th>FP1</th>\n",
       "      <td>0.473116</td>\n",
       "      <td>0.450810</td>\n",
       "    </tr>\n",
       "    <tr>\n",
       "      <th>FP2</th>\n",
       "      <td>0.378074</td>\n",
       "      <td>0.360249</td>\n",
       "    </tr>\n",
       "    <tr>\n",
       "      <th>RD</th>\n",
       "      <td>0.344499</td>\n",
       "      <td>0.328257</td>\n",
       "    </tr>\n",
       "    <tr>\n",
       "      <th>RN</th>\n",
       "      <td>0.376761</td>\n",
       "      <td>0.358998</td>\n",
       "    </tr>\n",
       "    <tr>\n",
       "      <th>RP1</th>\n",
       "      <td>0.436327</td>\n",
       "      <td>0.415756</td>\n",
       "    </tr>\n",
       "    <tr>\n",
       "      <th>RP2</th>\n",
       "      <td>0.325859</td>\n",
       "      <td>0.310496</td>\n",
       "    </tr>\n",
       "    <tr>\n",
       "      <th>SD</th>\n",
       "      <td>0.328111</td>\n",
       "      <td>0.312642</td>\n",
       "    </tr>\n",
       "    <tr>\n",
       "      <th>SN</th>\n",
       "      <td>0.372321</td>\n",
       "      <td>0.354767</td>\n",
       "    </tr>\n",
       "    <tr>\n",
       "      <th>SP1</th>\n",
       "      <td>0.430833</td>\n",
       "      <td>0.410520</td>\n",
       "    </tr>\n",
       "    <tr>\n",
       "      <th>SP2</th>\n",
       "      <td>0.303485</td>\n",
       "      <td>0.289177</td>\n",
       "    </tr>\n",
       "    <tr>\n",
       "      <th>WD</th>\n",
       "      <td>0.411129</td>\n",
       "      <td>0.391745</td>\n",
       "    </tr>\n",
       "    <tr>\n",
       "      <th>WN</th>\n",
       "      <td>0.435841</td>\n",
       "      <td>0.415293</td>\n",
       "    </tr>\n",
       "    <tr>\n",
       "      <th>WP1</th>\n",
       "      <td>0.448726</td>\n",
       "      <td>0.427570</td>\n",
       "    </tr>\n",
       "    <tr>\n",
       "      <th>WP2</th>\n",
       "      <td>0.357249</td>\n",
       "      <td>0.340406</td>\n",
       "    </tr>\n",
       "  </tbody>\n",
       "</table>\n",
       "</div>"
      ],
      "text/plain": [
       "             CF       CF2\n",
       "tstag                    \n",
       "FD     0.438181  0.417522\n",
       "FN     0.457169  0.435614\n",
       "FP1    0.473116  0.450810\n",
       "FP2    0.378074  0.360249\n",
       "RD     0.344499  0.328257\n",
       "RN     0.376761  0.358998\n",
       "RP1    0.436327  0.415756\n",
       "RP2    0.325859  0.310496\n",
       "SD     0.328111  0.312642\n",
       "SN     0.372321  0.354767\n",
       "SP1    0.430833  0.410520\n",
       "SP2    0.303485  0.289177\n",
       "WD     0.411129  0.391745\n",
       "WN     0.435841  0.415293\n",
       "WP1    0.448726  0.427570\n",
       "WP2    0.357249  0.340406"
      ]
     },
     "execution_count": 37,
     "metadata": {},
     "output_type": "execute_result"
    }
   ],
   "source": [
    "df_wdfagg[['CF','CF2','tstag']].groupby('tstag').mean()"
   ]
  },
  {
   "cell_type": "code",
   "execution_count": null,
   "metadata": {
    "collapsed": true
   },
   "outputs": [],
   "source": []
  }
 ],
 "metadata": {
  "kernelspec": {
   "display_name": "Python 3",
   "language": "python",
   "name": "python3"
  },
  "language_info": {
   "codemirror_mode": {
    "name": "ipython",
    "version": 3
   },
   "file_extension": ".py",
   "mimetype": "text/x-python",
   "name": "python",
   "nbconvert_exporter": "python",
   "pygments_lexer": "ipython3",
   "version": "3.5.1"
  }
 },
 "nbformat": 4,
 "nbformat_minor": 2
}
