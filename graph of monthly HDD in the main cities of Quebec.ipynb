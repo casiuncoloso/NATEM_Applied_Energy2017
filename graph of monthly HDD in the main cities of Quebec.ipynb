{
 "cells": [
  {
   "cell_type": "markdown",
   "metadata": {},
   "source": [
    "### Monthly HDD - graph"
   ]
  },
  {
   "cell_type": "code",
   "execution_count": 13,
   "metadata": {
    "collapsed": true
   },
   "outputs": [],
   "source": [
    "%matplotlib inline"
   ]
  },
  {
   "cell_type": "code",
   "execution_count": 1,
   "metadata": {
    "collapsed": true
   },
   "outputs": [],
   "source": [
    "import pandas as pd\n",
    "import matplotlib.pyplot as plt"
   ]
  },
  {
   "cell_type": "code",
   "execution_count": 22,
   "metadata": {
    "collapsed": true
   },
   "outputs": [],
   "source": [
    "SIZE = 8\n",
    "MEDIUM_SIZE = 10\n",
    "BIGGER_SIZE = 12\n",
    "\n",
    "plt.rc('font', size=SIZE)                # controls default text sizes\n",
    "plt.rc('axes', titlesize=SIZE)           # fontsize of the axes title\n",
    "plt.rc('axes', labelsize=SIZE)           # fontsize of the x and y labels\n",
    "plt.rc('xtick', labelsize=SIZE)          # fontsize of the tick labels\n",
    "plt.rc('ytick', labelsize=SIZE)          # fontsize of the tick labels\n",
    "plt.rc('legend', fontsize=SIZE)          # legend fontsize\n",
    "plt.rc('figure', titlesize=BIGGER_SIZE)  # fontsize of the figure title"
   ]
  },
  {
   "cell_type": "code",
   "execution_count": 23,
   "metadata": {
    "collapsed": true
   },
   "outputs": [],
   "source": [
    "plt.style.use('seaborn-deep')"
   ]
  },
  {
   "cell_type": "code",
   "execution_count": 19,
   "metadata": {
    "collapsed": false
   },
   "outputs": [],
   "source": [
    "hdd_qc=pd.read_csv('monthly HDD/monthly HDD by city.csv',sep=';',index_col='date',parse_dates=True,dayfirst=True)"
   ]
  },
  {
   "cell_type": "code",
   "execution_count": 34,
   "metadata": {
    "collapsed": false
   },
   "outputs": [
    {
     "data": {
      "image/png": "[encoded data removed]",
      "text/plain": [
       "<matplotlib.figure.Figure at 0x2b4c4082c88>"
      ]
     },
     "metadata": {},
     "output_type": "display_data"
    }
   ],
   "source": [
    "hdd_qc.plot(figsize=(5.6,2.5))\n",
    "a=plt.gca()\n",
    "L=plt.legend(loc='upper center',ncol=4,framealpha=0.5)\n",
    "a.set_ylabel('monthly heating degree days (celsius degrees)')\n",
    "plt.tight_layout()\n",
    "plt.savefig('HDD by city.png',dpi=800)"
   ]
  },
  {
   "cell_type": "code",
   "execution_count": 29,
   "metadata": {
    "collapsed": false
   },
   "outputs": [
    {
     "data": {
      "text/html": [
       "<div>\n",
       "<table border=\"1\" class=\"dataframe\">\n",
       "  <thead>\n",
       "    <tr style=\"text-align: right;\">\n",
       "      <th></th>\n",
       "      <th>Quebec</th>\n",
       "      <th>Montreal</th>\n",
       "      <th>Gatineau</th>\n",
       "      <th>Sherbrooke</th>\n",
       "    </tr>\n",
       "    <tr>\n",
       "      <th>date</th>\n",
       "      <th></th>\n",
       "      <th></th>\n",
       "      <th></th>\n",
       "      <th></th>\n",
       "    </tr>\n",
       "  </thead>\n",
       "  <tbody>\n",
       "    <tr>\n",
       "      <th>2014-12-01</th>\n",
       "      <td>743.6</td>\n",
       "      <td>664.7</td>\n",
       "      <td>696.4</td>\n",
       "      <td>640.3</td>\n",
       "    </tr>\n",
       "    <tr>\n",
       "      <th>2015-01-01</th>\n",
       "      <td>1018.0</td>\n",
       "      <td>926.3</td>\n",
       "      <td>968.2</td>\n",
       "      <td>938.0</td>\n",
       "    </tr>\n",
       "    <tr>\n",
       "      <th>2015-02-01</th>\n",
       "      <td>999.8</td>\n",
       "      <td>929.3</td>\n",
       "      <td>957.8</td>\n",
       "      <td>780.5</td>\n",
       "    </tr>\n",
       "    <tr>\n",
       "      <th>2015-03-01</th>\n",
       "      <td>813.7</td>\n",
       "      <td>706.5</td>\n",
       "      <td>718.6</td>\n",
       "      <td>789.5</td>\n",
       "    </tr>\n",
       "    <tr>\n",
       "      <th>2015-04-01</th>\n",
       "      <td>461.7</td>\n",
       "      <td>351.6</td>\n",
       "      <td>352.6</td>\n",
       "      <td>448.9</td>\n",
       "    </tr>\n",
       "    <tr>\n",
       "      <th>2015-05-01</th>\n",
       "      <td>144.8</td>\n",
       "      <td>73.0</td>\n",
       "      <td>94.2</td>\n",
       "      <td>137.2</td>\n",
       "    </tr>\n",
       "    <tr>\n",
       "      <th>2015-06-01</th>\n",
       "      <td>92.0</td>\n",
       "      <td>40.1</td>\n",
       "      <td>45.2</td>\n",
       "      <td>95.3</td>\n",
       "    </tr>\n",
       "    <tr>\n",
       "      <th>2015-07-01</th>\n",
       "      <td>19.8</td>\n",
       "      <td>1.1</td>\n",
       "      <td>9.3</td>\n",
       "      <td>31.7</td>\n",
       "    </tr>\n",
       "    <tr>\n",
       "      <th>2015-08-01</th>\n",
       "      <td>9.6</td>\n",
       "      <td>0.9</td>\n",
       "      <td>5.6</td>\n",
       "      <td>16.4</td>\n",
       "    </tr>\n",
       "    <tr>\n",
       "      <th>2015-09-01</th>\n",
       "      <td>75.1</td>\n",
       "      <td>39.5</td>\n",
       "      <td>48.4</td>\n",
       "      <td>82.8</td>\n",
       "    </tr>\n",
       "    <tr>\n",
       "      <th>2015-10-01</th>\n",
       "      <td>403.3</td>\n",
       "      <td>315.5</td>\n",
       "      <td>337.3</td>\n",
       "      <td>379.5</td>\n",
       "    </tr>\n",
       "    <tr>\n",
       "      <th>2015-11-01</th>\n",
       "      <td>476.8</td>\n",
       "      <td>410.1</td>\n",
       "      <td>429.0</td>\n",
       "      <td>462.2</td>\n",
       "    </tr>\n",
       "    <tr>\n",
       "      <th>2015-12-01</th>\n",
       "      <td>566.9</td>\n",
       "      <td>485.8</td>\n",
       "      <td>498.2</td>\n",
       "      <td>474.5</td>\n",
       "    </tr>\n",
       "  </tbody>\n",
       "</table>\n",
       "</div>"
      ],
      "text/plain": [
       "            Quebec  Montreal  Gatineau  Sherbrooke\n",
       "date                                              \n",
       "2014-12-01   743.6     664.7     696.4       640.3\n",
       "2015-01-01  1018.0     926.3     968.2       938.0\n",
       "2015-02-01   999.8     929.3     957.8       780.5\n",
       "2015-03-01   813.7     706.5     718.6       789.5\n",
       "2015-04-01   461.7     351.6     352.6       448.9\n",
       "2015-05-01   144.8      73.0      94.2       137.2\n",
       "2015-06-01    92.0      40.1      45.2        95.3\n",
       "2015-07-01    19.8       1.1       9.3        31.7\n",
       "2015-08-01     9.6       0.9       5.6        16.4\n",
       "2015-09-01    75.1      39.5      48.4        82.8\n",
       "2015-10-01   403.3     315.5     337.3       379.5\n",
       "2015-11-01   476.8     410.1     429.0       462.2\n",
       "2015-12-01   566.9     485.8     498.2       474.5"
      ]
     },
     "execution_count": 29,
     "metadata": {},
     "output_type": "execute_result"
    }
   ],
   "source": [
    "hdd_qc.tail(13)"
   ]
  },
  {
   "cell_type": "markdown",
   "metadata": {},
   "source": [
    "http://climate.weather.gc.ca/index_e.html"
   ]
  },
  {
   "cell_type": "code",
   "execution_count": null,
   "metadata": {
    "collapsed": true
   },
   "outputs": [],
   "source": []
  }
 ],
 "metadata": {
  "kernelspec": {
   "display_name": "Python 3",
   "language": "python",
   "name": "python3"
  },
  "language_info": {
   "codemirror_mode": {
    "name": "ipython",
    "version": 3
   },
   "file_extension": ".py",
   "mimetype": "text/x-python",
   "name": "python",
   "nbconvert_exporter": "python",
   "pygments_lexer": "ipython3",
   "version": "3.5.1"
  }
 },
 "nbformat": 4,
 "nbformat_minor": 0
}
