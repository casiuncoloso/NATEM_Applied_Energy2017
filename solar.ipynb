{
 "cells": [
  {
   "cell_type": "markdown",
   "metadata": {},
   "source": [
    "# Availability factors per time slice for solar generation"
   ]
  },
  {
   "cell_type": "markdown",
   "metadata": {},
   "source": [
    "### import libraries"
   ]
  },
  {
   "cell_type": "code",
   "execution_count": 1,
   "metadata": {
    "collapsed": true
   },
   "outputs": [],
   "source": [
    "import pandas as pd\n",
    "% matplotlib inline "
   ]
  },
  {
   "cell_type": "markdown",
   "metadata": {},
   "source": [
    "### Load data"
   ]
  },
  {
   "cell_type": "markdown",
   "metadata": {},
   "source": [
    "The data comes from the SWEEDS dataset, from the Canadian government http://climate.weather.gc.ca/prods_servs/engineering_e.html (STR file on Quebec\\the MontrealMirabelA_1976_2005 folder)"
   ]
  },
  {
   "cell_type": "code",
   "execution_count": 2,
   "metadata": {
    "collapsed": false
   },
   "outputs": [],
   "source": [
    "solarIRR=pd.read_csv('solar/mirabel solar sweeds.csv')"
   ]
  },
  {
   "cell_type": "markdown",
   "metadata": {},
   "source": [
    "data cleaning"
   ]
  },
  {
   "cell_type": "code",
   "execution_count": 3,
   "metadata": {
    "collapsed": false
   },
   "outputs": [],
   "source": [
    "solarIRR=solarIRR.rename(columns=lambda x:x.strip())"
   ]
  },
  {
   "cell_type": "code",
   "execution_count": 4,
   "metadata": {
    "collapsed": false
   },
   "outputs": [],
   "source": [
    "solarIRR=solarIRR.drop('Unnamed: 5',axis=1)"
   ]
  },
  {
   "cell_type": "code",
   "execution_count": 5,
   "metadata": {
    "collapsed": false
   },
   "outputs": [
    {
     "data": {
      "text/plain": [
       "array([101, 102, 103, 104, 105, 106, 107], dtype=int64)"
      ]
     },
     "execution_count": 5,
     "metadata": {},
     "output_type": "execute_result"
    }
   ],
   "source": [
    "solarIRR['ELT'].unique()"
   ]
  },
  {
   "cell_type": "code",
   "execution_count": 6,
   "metadata": {
    "collapsed": false
   },
   "outputs": [
    {
     "data": {
      "text/plain": [
       "(672, 5)"
      ]
     },
     "execution_count": 6,
     "metadata": {},
     "output_type": "execute_result"
    }
   ],
   "source": [
    "solarIRR.shape"
   ]
  },
  {
   "cell_type": "markdown",
   "metadata": {},
   "source": [
    "From the documentation the dataset contains 5 columns\n",
    "- ELT: code for the day of the week, from 101 to 107\n",
    "- QR:(quarter) from 1:winter to 4: fall\n",
    "- HR: hour of the day (from 1 to 24)\n",
    "- XMAX: maximum solar irradiation\n",
    "- MEAN: mean solar irradiation"
   ]
  },
  {
   "cell_type": "markdown",
   "metadata": {},
   "source": [
    "### Create a column with the time slice"
   ]
  },
  {
   "cell_type": "code",
   "execution_count": 7,
   "metadata": {
    "collapsed": true
   },
   "outputs": [],
   "source": [
    "# dict to convert hours to the corresponding time slices\n",
    "slices_equiv={20:'night',\n",
    "              21:'night',\n",
    "              22:'night',\n",
    "              23:'night',\n",
    "              24:'night',\n",
    "              1:'night',\n",
    "              2:'night',\n",
    "              3:'night',\n",
    "              4:'night',\n",
    "              5:'night',\n",
    "              6:'peak morning',\n",
    "              7:'peak morning',\n",
    "              8:'peak morning', \n",
    "              9:'day',\n",
    "              10:'day',\n",
    "              11:'day',\n",
    "              12:'day',\n",
    "              13:'day',\n",
    "              14:'day',\n",
    "              15:'day',\n",
    "              16:'day',\n",
    "              17:'peak evening',\n",
    "              18:'peak evening',\n",
    "              19:'peak evening',\n",
    "}"
   ]
  },
  {
   "cell_type": "code",
   "execution_count": 8,
   "metadata": {
    "collapsed": false
   },
   "outputs": [],
   "source": [
    "solarIRR.loc[:,'dayts']=solarIRR['HR'].map(slices_equiv)"
   ]
  },
  {
   "cell_type": "code",
   "execution_count": 9,
   "metadata": {
    "collapsed": false
   },
   "outputs": [
    {
     "data": {
      "text/html": [
       "<div>\n",
       "<table border=\"1\" class=\"dataframe\">\n",
       "  <thead>\n",
       "    <tr style=\"text-align: right;\">\n",
       "      <th></th>\n",
       "      <th>ELT</th>\n",
       "      <th>QR</th>\n",
       "      <th>HR</th>\n",
       "      <th>XMAX</th>\n",
       "      <th>MEAN</th>\n",
       "      <th>dayts</th>\n",
       "    </tr>\n",
       "  </thead>\n",
       "  <tbody>\n",
       "    <tr>\n",
       "      <th>1</th>\n",
       "      <td>101</td>\n",
       "      <td>1</td>\n",
       "      <td>2</td>\n",
       "      <td>0.0</td>\n",
       "      <td>0.000</td>\n",
       "      <td>night</td>\n",
       "    </tr>\n",
       "    <tr>\n",
       "      <th>2</th>\n",
       "      <td>101</td>\n",
       "      <td>1</td>\n",
       "      <td>3</td>\n",
       "      <td>0.0</td>\n",
       "      <td>0.000</td>\n",
       "      <td>night</td>\n",
       "    </tr>\n",
       "    <tr>\n",
       "      <th>3</th>\n",
       "      <td>101</td>\n",
       "      <td>1</td>\n",
       "      <td>4</td>\n",
       "      <td>0.0</td>\n",
       "      <td>0.000</td>\n",
       "      <td>night</td>\n",
       "    </tr>\n",
       "    <tr>\n",
       "      <th>4</th>\n",
       "      <td>101</td>\n",
       "      <td>1</td>\n",
       "      <td>5</td>\n",
       "      <td>0.0</td>\n",
       "      <td>0.000</td>\n",
       "      <td>night</td>\n",
       "    </tr>\n",
       "    <tr>\n",
       "      <th>5</th>\n",
       "      <td>101</td>\n",
       "      <td>1</td>\n",
       "      <td>6</td>\n",
       "      <td>0.0</td>\n",
       "      <td>0.000</td>\n",
       "      <td>peak morning</td>\n",
       "    </tr>\n",
       "    <tr>\n",
       "      <th>6</th>\n",
       "      <td>101</td>\n",
       "      <td>1</td>\n",
       "      <td>7</td>\n",
       "      <td>19.0</td>\n",
       "      <td>0.719</td>\n",
       "      <td>peak morning</td>\n",
       "    </tr>\n",
       "    <tr>\n",
       "      <th>7</th>\n",
       "      <td>101</td>\n",
       "      <td>1</td>\n",
       "      <td>8</td>\n",
       "      <td>580.0</td>\n",
       "      <td>150.000</td>\n",
       "      <td>peak morning</td>\n",
       "    </tr>\n",
       "    <tr>\n",
       "      <th>8</th>\n",
       "      <td>101</td>\n",
       "      <td>1</td>\n",
       "      <td>9</td>\n",
       "      <td>1300.0</td>\n",
       "      <td>779.000</td>\n",
       "      <td>day</td>\n",
       "    </tr>\n",
       "    <tr>\n",
       "      <th>9</th>\n",
       "      <td>101</td>\n",
       "      <td>1</td>\n",
       "      <td>10</td>\n",
       "      <td>1860.0</td>\n",
       "      <td>1370.000</td>\n",
       "      <td>day</td>\n",
       "    </tr>\n",
       "  </tbody>\n",
       "</table>\n",
       "</div>"
      ],
      "text/plain": [
       "   ELT  QR  HR    XMAX      MEAN         dayts\n",
       "1  101   1   2     0.0     0.000         night\n",
       "2  101   1   3     0.0     0.000         night\n",
       "3  101   1   4     0.0     0.000         night\n",
       "4  101   1   5     0.0     0.000         night\n",
       "5  101   1   6     0.0     0.000  peak morning\n",
       "6  101   1   7    19.0     0.719  peak morning\n",
       "7  101   1   8   580.0   150.000  peak morning\n",
       "8  101   1   9  1300.0   779.000           day\n",
       "9  101   1  10  1860.0  1370.000           day"
      ]
     },
     "execution_count": 9,
     "metadata": {},
     "output_type": "execute_result"
    }
   ],
   "source": [
    "solarIRR.iloc[1:10]"
   ]
  },
  {
   "cell_type": "markdown",
   "metadata": {},
   "source": [
    "tag by time slice. From the QR we get the season, from dayts to what part of the day it belongs"
   ]
  },
  {
   "cell_type": "code",
   "execution_count": 10,
   "metadata": {
    "collapsed": true
   },
   "outputs": [],
   "source": [
    "solarIRR.loc[(solarIRR['dayts']=='day') & (solarIRR['QR']==1) ,'TS']='WD'\n",
    "solarIRR.loc[(solarIRR['dayts']=='day') & (solarIRR['QR']==2) ,'TS']='RD'\n",
    "solarIRR.loc[(solarIRR['dayts']=='day') & (solarIRR['QR']==3) ,'TS']='SD'\n",
    "solarIRR.loc[(solarIRR['dayts']=='day') & (solarIRR['QR']==4) ,'TS']='FD'"
   ]
  },
  {
   "cell_type": "code",
   "execution_count": 11,
   "metadata": {
    "collapsed": true
   },
   "outputs": [],
   "source": [
    "solarIRR.loc[(solarIRR['dayts']=='night') & (solarIRR['QR']==1) ,'TS']='WN'\n",
    "solarIRR.loc[(solarIRR['dayts']=='night') & (solarIRR['QR']==2) ,'TS']='RN'\n",
    "solarIRR.loc[(solarIRR['dayts']=='night') & (solarIRR['QR']==3) ,'TS']='SN'\n",
    "solarIRR.loc[(solarIRR['dayts']=='night') & (solarIRR['QR']==4) ,'TS']='FN'"
   ]
  },
  {
   "cell_type": "code",
   "execution_count": 12,
   "metadata": {
    "collapsed": true
   },
   "outputs": [],
   "source": [
    "solarIRR.loc[(solarIRR['dayts']=='peak morning') & (solarIRR['QR']==1) ,'TS']='WP1'\n",
    "solarIRR.loc[(solarIRR['dayts']=='peak morning') & (solarIRR['QR']==2) ,'TS']='RP1'\n",
    "solarIRR.loc[(solarIRR['dayts']=='peak morning') & (solarIRR['QR']==3) ,'TS']='SP1'\n",
    "solarIRR.loc[(solarIRR['dayts']=='peak morning') & (solarIRR['QR']==4) ,'TS']='FP1'"
   ]
  },
  {
   "cell_type": "code",
   "execution_count": 13,
   "metadata": {
    "collapsed": true
   },
   "outputs": [],
   "source": [
    "solarIRR.loc[(solarIRR['dayts']=='peak evening') & (solarIRR['QR']==1) ,'TS']='WP2'\n",
    "solarIRR.loc[(solarIRR['dayts']=='peak evening') & (solarIRR['QR']==2) ,'TS']='RP2'\n",
    "solarIRR.loc[(solarIRR['dayts']=='peak evening') & (solarIRR['QR']==3) ,'TS']='SP2'\n",
    "solarIRR.loc[(solarIRR['dayts']=='peak evening') & (solarIRR['QR']==4) ,'TS']='FP2'"
   ]
  },
  {
   "cell_type": "markdown",
   "metadata": {},
   "source": [
    "The sum of weekly irradiance per time slice. the largest values are during summer day. The sum of irradiance is lower during the morning peak and evening peak because they are shorter. there is no irradince during night time slice"
   ]
  },
  {
   "cell_type": "code",
   "execution_count": 14,
   "metadata": {
    "collapsed": false,
    "scrolled": true
   },
   "outputs": [
    {
     "data": {
      "text/plain": [
       "<matplotlib.axes._subplots.AxesSubplot at 0x1e88e747be0>"
      ]
     },
     "execution_count": 14,
     "metadata": {},
     "output_type": "execute_result"
    },
    {
     "data": {
      "image/png": "[encoded data removed]",
      "text/plain": [
       "<matplotlib.figure.Figure at 0x1e88e747198>"
      ]
     },
     "metadata": {},
     "output_type": "display_data"
    }
   ],
   "source": [
    "solarIRR.groupby('TS').sum().loc[:,'MEAN'].sort_values(ascending=False).plot(kind='bar')"
   ]
  },
  {
   "cell_type": "markdown",
   "metadata": {},
   "source": [
    "Now we now how it is distributed in time, but we need to calculate the availability factor, in a way that the weighted average is 0.14, the average annual AF according to the Trottier Energy Futures Project"
   ]
  },
  {
   "cell_type": "markdown",
   "metadata": {},
   "source": [
    "### calculate the mean solar irradiation per time slice"
   ]
  },
  {
   "cell_type": "code",
   "execution_count": 15,
   "metadata": {
    "collapsed": true
   },
   "outputs": [],
   "source": [
    "solar_ts_mean=solarIRR.groupby('TS').mean() "
   ]
  },
  {
   "cell_type": "code",
   "execution_count": 16,
   "metadata": {
    "collapsed": false
   },
   "outputs": [
    {
     "data": {
      "text/plain": [
       "TS\n",
       "FD     1033.232143\n",
       "FN        0.015129\n",
       "FP1     321.961905\n",
       "FP2     264.705714\n",
       "RD     1131.428571\n",
       "RN        0.024014\n",
       "RP1     293.482857\n",
       "RP2     302.786190\n",
       "SD     1358.446429\n",
       "SN       10.081429\n",
       "SP1     682.700000\n",
       "SP2     657.004762\n",
       "WD      595.398214\n",
       "WN        0.000000\n",
       "WP1      18.189952\n",
       "WP2      11.062857\n",
       "Name: MEAN, dtype: float64"
      ]
     },
     "execution_count": 16,
     "metadata": {},
     "output_type": "execute_result"
    }
   ],
   "source": [
    "solar_ts_mean['MEAN']"
   ]
  },
  {
   "cell_type": "markdown",
   "metadata": {},
   "source": [
    "number of hours per time slice"
   ]
  },
  {
   "cell_type": "code",
   "execution_count": 17,
   "metadata": {
    "collapsed": false
   },
   "outputs": [],
   "source": [
    "duration= {'FD':     728,\n",
    "           'FN':     910,\n",
    "           'FP1':    273,\n",
    "           'FP2':    273,\n",
    "           'RD':     736,\n",
    "           'RN':     920,\n",
    "           'RP1':    276,\n",
    "           'RP2':    276, \n",
    "           'SD':     736,\n",
    "           'SN':     920,\n",
    "           'SP1':    276,\n",
    "           'SP2':    276,\n",
    "           'WD' :    728,\n",
    "           'WN' :    910,\n",
    "           'WP1':    273,\n",
    "           'WP2':    273,\n",
    "          }"
   ]
  },
  {
   "cell_type": "code",
   "execution_count": 18,
   "metadata": {
    "collapsed": false
   },
   "outputs": [],
   "source": [
    "solar_ts_mean['duration_h']=pd.Series(duration)"
   ]
  },
  {
   "cell_type": "code",
   "execution_count": 19,
   "metadata": {
    "collapsed": false
   },
   "outputs": [
    {
     "data": {
      "text/html": [
       "<div>\n",
       "<table border=\"1\" class=\"dataframe\">\n",
       "  <thead>\n",
       "    <tr style=\"text-align: right;\">\n",
       "      <th></th>\n",
       "      <th>ELT</th>\n",
       "      <th>QR</th>\n",
       "      <th>HR</th>\n",
       "      <th>XMAX</th>\n",
       "      <th>MEAN</th>\n",
       "      <th>duration_h</th>\n",
       "    </tr>\n",
       "    <tr>\n",
       "      <th>TS</th>\n",
       "      <th></th>\n",
       "      <th></th>\n",
       "      <th></th>\n",
       "      <th></th>\n",
       "      <th></th>\n",
       "      <th></th>\n",
       "    </tr>\n",
       "  </thead>\n",
       "  <tbody>\n",
       "    <tr>\n",
       "      <th>FD</th>\n",
       "      <td>104.0</td>\n",
       "      <td>4.0</td>\n",
       "      <td>12.5</td>\n",
       "      <td>2154.464286</td>\n",
       "      <td>1033.232143</td>\n",
       "      <td>728</td>\n",
       "    </tr>\n",
       "    <tr>\n",
       "      <th>FN</th>\n",
       "      <td>104.0</td>\n",
       "      <td>4.0</td>\n",
       "      <td>12.5</td>\n",
       "      <td>0.414286</td>\n",
       "      <td>0.015129</td>\n",
       "      <td>910</td>\n",
       "    </tr>\n",
       "    <tr>\n",
       "      <th>FP1</th>\n",
       "      <td>104.0</td>\n",
       "      <td>4.0</td>\n",
       "      <td>7.0</td>\n",
       "      <td>957.476190</td>\n",
       "      <td>321.961905</td>\n",
       "      <td>273</td>\n",
       "    </tr>\n",
       "    <tr>\n",
       "      <th>FP2</th>\n",
       "      <td>104.0</td>\n",
       "      <td>4.0</td>\n",
       "      <td>18.0</td>\n",
       "      <td>978.523810</td>\n",
       "      <td>264.705714</td>\n",
       "      <td>273</td>\n",
       "    </tr>\n",
       "    <tr>\n",
       "      <th>RD</th>\n",
       "      <td>104.0</td>\n",
       "      <td>2.0</td>\n",
       "      <td>12.5</td>\n",
       "      <td>2456.285714</td>\n",
       "      <td>1131.428571</td>\n",
       "      <td>736</td>\n",
       "    </tr>\n",
       "    <tr>\n",
       "      <th>RN</th>\n",
       "      <td>104.0</td>\n",
       "      <td>2.0</td>\n",
       "      <td>12.5</td>\n",
       "      <td>0.542857</td>\n",
       "      <td>0.024014</td>\n",
       "      <td>920</td>\n",
       "    </tr>\n",
       "    <tr>\n",
       "      <th>RP1</th>\n",
       "      <td>104.0</td>\n",
       "      <td>2.0</td>\n",
       "      <td>7.0</td>\n",
       "      <td>1085.142857</td>\n",
       "      <td>293.482857</td>\n",
       "      <td>276</td>\n",
       "    </tr>\n",
       "    <tr>\n",
       "      <th>RP2</th>\n",
       "      <td>104.0</td>\n",
       "      <td>2.0</td>\n",
       "      <td>18.0</td>\n",
       "      <td>1003.857143</td>\n",
       "      <td>302.786190</td>\n",
       "      <td>276</td>\n",
       "    </tr>\n",
       "    <tr>\n",
       "      <th>SD</th>\n",
       "      <td>104.0</td>\n",
       "      <td>3.0</td>\n",
       "      <td>12.5</td>\n",
       "      <td>2355.946429</td>\n",
       "      <td>1358.446429</td>\n",
       "      <td>736</td>\n",
       "    </tr>\n",
       "    <tr>\n",
       "      <th>SN</th>\n",
       "      <td>104.0</td>\n",
       "      <td>3.0</td>\n",
       "      <td>12.5</td>\n",
       "      <td>40.371429</td>\n",
       "      <td>10.081429</td>\n",
       "      <td>920</td>\n",
       "    </tr>\n",
       "    <tr>\n",
       "      <th>SP1</th>\n",
       "      <td>104.0</td>\n",
       "      <td>3.0</td>\n",
       "      <td>7.0</td>\n",
       "      <td>1271.047619</td>\n",
       "      <td>682.700000</td>\n",
       "      <td>276</td>\n",
       "    </tr>\n",
       "    <tr>\n",
       "      <th>SP2</th>\n",
       "      <td>104.0</td>\n",
       "      <td>3.0</td>\n",
       "      <td>18.0</td>\n",
       "      <td>1204.047619</td>\n",
       "      <td>657.004762</td>\n",
       "      <td>276</td>\n",
       "    </tr>\n",
       "    <tr>\n",
       "      <th>WD</th>\n",
       "      <td>104.0</td>\n",
       "      <td>1.0</td>\n",
       "      <td>12.5</td>\n",
       "      <td>1495.053571</td>\n",
       "      <td>595.398214</td>\n",
       "      <td>728</td>\n",
       "    </tr>\n",
       "    <tr>\n",
       "      <th>WN</th>\n",
       "      <td>104.0</td>\n",
       "      <td>1.0</td>\n",
       "      <td>12.5</td>\n",
       "      <td>0.000000</td>\n",
       "      <td>0.000000</td>\n",
       "      <td>910</td>\n",
       "    </tr>\n",
       "    <tr>\n",
       "      <th>WP1</th>\n",
       "      <td>104.0</td>\n",
       "      <td>1.0</td>\n",
       "      <td>7.0</td>\n",
       "      <td>178.095238</td>\n",
       "      <td>18.189952</td>\n",
       "      <td>273</td>\n",
       "    </tr>\n",
       "    <tr>\n",
       "      <th>WP2</th>\n",
       "      <td>104.0</td>\n",
       "      <td>1.0</td>\n",
       "      <td>18.0</td>\n",
       "      <td>157.952381</td>\n",
       "      <td>11.062857</td>\n",
       "      <td>273</td>\n",
       "    </tr>\n",
       "  </tbody>\n",
       "</table>\n",
       "</div>"
      ],
      "text/plain": [
       "       ELT   QR    HR         XMAX         MEAN  duration_h\n",
       "TS                                                         \n",
       "FD   104.0  4.0  12.5  2154.464286  1033.232143         728\n",
       "FN   104.0  4.0  12.5     0.414286     0.015129         910\n",
       "FP1  104.0  4.0   7.0   957.476190   321.961905         273\n",
       "FP2  104.0  4.0  18.0   978.523810   264.705714         273\n",
       "RD   104.0  2.0  12.5  2456.285714  1131.428571         736\n",
       "RN   104.0  2.0  12.5     0.542857     0.024014         920\n",
       "RP1  104.0  2.0   7.0  1085.142857   293.482857         276\n",
       "RP2  104.0  2.0  18.0  1003.857143   302.786190         276\n",
       "SD   104.0  3.0  12.5  2355.946429  1358.446429         736\n",
       "SN   104.0  3.0  12.5    40.371429    10.081429         920\n",
       "SP1  104.0  3.0   7.0  1271.047619   682.700000         276\n",
       "SP2  104.0  3.0  18.0  1204.047619   657.004762         276\n",
       "WD   104.0  1.0  12.5  1495.053571   595.398214         728\n",
       "WN   104.0  1.0  12.5     0.000000     0.000000         910\n",
       "WP1  104.0  1.0   7.0   178.095238    18.189952         273\n",
       "WP2  104.0  1.0  18.0   157.952381    11.062857         273"
      ]
     },
     "execution_count": 19,
     "metadata": {},
     "output_type": "execute_result"
    }
   ],
   "source": [
    "solar_ts_mean"
   ]
  },
  {
   "cell_type": "markdown",
   "metadata": {},
   "source": [
    "### Checking the results make sense"
   ]
  },
  {
   "cell_type": "code",
   "execution_count": 20,
   "metadata": {
    "collapsed": false
   },
   "outputs": [
    {
     "data": {
      "text/plain": [
       "424.63305132708814"
      ]
     },
     "execution_count": 20,
     "metadata": {},
     "output_type": "execute_result"
    }
   ],
   "source": [
    "(solar_ts_mean['MEAN']*solar_ts_mean['duration_h']).sum()/solar_ts_mean['duration_h'].sum()"
   ]
  },
  {
   "cell_type": "markdown",
   "metadata": {},
   "source": [
    "roughly the average annuals solar irradiation, with something missed in the decimals"
   ]
  },
  {
   "cell_type": "code",
   "execution_count": 21,
   "metadata": {
    "collapsed": false
   },
   "outputs": [
    {
     "data": {
      "text/plain": [
       "424.0097008928572"
      ]
     },
     "execution_count": 21,
     "metadata": {},
     "output_type": "execute_result"
    }
   ],
   "source": [
    "solarIRR['MEAN'].mean()"
   ]
  },
  {
   "cell_type": "markdown",
   "metadata": {},
   "source": [
    "### Calculate the availability factor per time slice"
   ]
  },
  {
   "cell_type": "markdown",
   "metadata": {},
   "source": [
    "we normalise and then multiply by the annual availability factor"
   ]
  },
  {
   "cell_type": "code",
   "execution_count": 22,
   "metadata": {
    "collapsed": false
   },
   "outputs": [],
   "source": [
    "solar_ts_mean['AF']=solar_ts_mean['MEAN']/solarIRR['MEAN'].mean()*0.14"
   ]
  },
  {
   "cell_type": "markdown",
   "metadata": {},
   "source": [
    "if we calculate the weighted average of the AF using the duration of the TS we get in effect the annual average AF\n",
    "or very close, The difference is probably because I am dividing by the average irradiance calculated from solarIRR instead of my transformed data"
   ]
  },
  {
   "cell_type": "code",
   "execution_count": 23,
   "metadata": {
    "collapsed": false
   },
   "outputs": [
    {
     "data": {
      "text/plain": [
       "0.1402058185475676"
      ]
     },
     "execution_count": 23,
     "metadata": {},
     "output_type": "execute_result"
    }
   ],
   "source": [
    "(solar_ts_mean['AF']*solar_ts_mean['duration_h']).sum()/solar_ts_mean['duration_h'].sum()"
   ]
  },
  {
   "cell_type": "code",
   "execution_count": 24,
   "metadata": {
    "collapsed": false
   },
   "outputs": [
    {
     "data": {
      "text/html": [
       "<div>\n",
       "<table border=\"1\" class=\"dataframe\">\n",
       "  <thead>\n",
       "    <tr style=\"text-align: right;\">\n",
       "      <th></th>\n",
       "      <th>ELT</th>\n",
       "      <th>QR</th>\n",
       "      <th>HR</th>\n",
       "      <th>XMAX</th>\n",
       "      <th>MEAN</th>\n",
       "      <th>duration_h</th>\n",
       "      <th>AF</th>\n",
       "    </tr>\n",
       "    <tr>\n",
       "      <th>TS</th>\n",
       "      <th></th>\n",
       "      <th></th>\n",
       "      <th></th>\n",
       "      <th></th>\n",
       "      <th></th>\n",
       "      <th></th>\n",
       "      <th></th>\n",
       "    </tr>\n",
       "  </thead>\n",
       "  <tbody>\n",
       "    <tr>\n",
       "      <th>FD</th>\n",
       "      <td>104.0</td>\n",
       "      <td>4.0</td>\n",
       "      <td>12.5</td>\n",
       "      <td>2154.464286</td>\n",
       "      <td>1033.232143</td>\n",
       "      <td>728</td>\n",
       "      <td>0.341154</td>\n",
       "    </tr>\n",
       "    <tr>\n",
       "      <th>FN</th>\n",
       "      <td>104.0</td>\n",
       "      <td>4.0</td>\n",
       "      <td>12.5</td>\n",
       "      <td>0.414286</td>\n",
       "      <td>0.015129</td>\n",
       "      <td>910</td>\n",
       "      <td>0.000005</td>\n",
       "    </tr>\n",
       "    <tr>\n",
       "      <th>FP1</th>\n",
       "      <td>104.0</td>\n",
       "      <td>4.0</td>\n",
       "      <td>7.0</td>\n",
       "      <td>957.476190</td>\n",
       "      <td>321.961905</td>\n",
       "      <td>273</td>\n",
       "      <td>0.106306</td>\n",
       "    </tr>\n",
       "    <tr>\n",
       "      <th>FP2</th>\n",
       "      <td>104.0</td>\n",
       "      <td>4.0</td>\n",
       "      <td>18.0</td>\n",
       "      <td>978.523810</td>\n",
       "      <td>264.705714</td>\n",
       "      <td>273</td>\n",
       "      <td>0.087401</td>\n",
       "    </tr>\n",
       "    <tr>\n",
       "      <th>RD</th>\n",
       "      <td>104.0</td>\n",
       "      <td>2.0</td>\n",
       "      <td>12.5</td>\n",
       "      <td>2456.285714</td>\n",
       "      <td>1131.428571</td>\n",
       "      <td>736</td>\n",
       "      <td>0.373576</td>\n",
       "    </tr>\n",
       "    <tr>\n",
       "      <th>RN</th>\n",
       "      <td>104.0</td>\n",
       "      <td>2.0</td>\n",
       "      <td>12.5</td>\n",
       "      <td>0.542857</td>\n",
       "      <td>0.024014</td>\n",
       "      <td>920</td>\n",
       "      <td>0.000008</td>\n",
       "    </tr>\n",
       "    <tr>\n",
       "      <th>RP1</th>\n",
       "      <td>104.0</td>\n",
       "      <td>2.0</td>\n",
       "      <td>7.0</td>\n",
       "      <td>1085.142857</td>\n",
       "      <td>293.482857</td>\n",
       "      <td>276</td>\n",
       "      <td>0.096902</td>\n",
       "    </tr>\n",
       "    <tr>\n",
       "      <th>RP2</th>\n",
       "      <td>104.0</td>\n",
       "      <td>2.0</td>\n",
       "      <td>18.0</td>\n",
       "      <td>1003.857143</td>\n",
       "      <td>302.786190</td>\n",
       "      <td>276</td>\n",
       "      <td>0.099974</td>\n",
       "    </tr>\n",
       "    <tr>\n",
       "      <th>SD</th>\n",
       "      <td>104.0</td>\n",
       "      <td>3.0</td>\n",
       "      <td>12.5</td>\n",
       "      <td>2355.946429</td>\n",
       "      <td>1358.446429</td>\n",
       "      <td>736</td>\n",
       "      <td>0.448533</td>\n",
       "    </tr>\n",
       "    <tr>\n",
       "      <th>SN</th>\n",
       "      <td>104.0</td>\n",
       "      <td>3.0</td>\n",
       "      <td>12.5</td>\n",
       "      <td>40.371429</td>\n",
       "      <td>10.081429</td>\n",
       "      <td>920</td>\n",
       "      <td>0.003329</td>\n",
       "    </tr>\n",
       "    <tr>\n",
       "      <th>SP1</th>\n",
       "      <td>104.0</td>\n",
       "      <td>3.0</td>\n",
       "      <td>7.0</td>\n",
       "      <td>1271.047619</td>\n",
       "      <td>682.700000</td>\n",
       "      <td>276</td>\n",
       "      <td>0.225415</td>\n",
       "    </tr>\n",
       "    <tr>\n",
       "      <th>SP2</th>\n",
       "      <td>104.0</td>\n",
       "      <td>3.0</td>\n",
       "      <td>18.0</td>\n",
       "      <td>1204.047619</td>\n",
       "      <td>657.004762</td>\n",
       "      <td>276</td>\n",
       "      <td>0.216931</td>\n",
       "    </tr>\n",
       "    <tr>\n",
       "      <th>WD</th>\n",
       "      <td>104.0</td>\n",
       "      <td>1.0</td>\n",
       "      <td>12.5</td>\n",
       "      <td>1495.053571</td>\n",
       "      <td>595.398214</td>\n",
       "      <td>728</td>\n",
       "      <td>0.196589</td>\n",
       "    </tr>\n",
       "    <tr>\n",
       "      <th>WN</th>\n",
       "      <td>104.0</td>\n",
       "      <td>1.0</td>\n",
       "      <td>12.5</td>\n",
       "      <td>0.000000</td>\n",
       "      <td>0.000000</td>\n",
       "      <td>910</td>\n",
       "      <td>0.000000</td>\n",
       "    </tr>\n",
       "    <tr>\n",
       "      <th>WP1</th>\n",
       "      <td>104.0</td>\n",
       "      <td>1.0</td>\n",
       "      <td>7.0</td>\n",
       "      <td>178.095238</td>\n",
       "      <td>18.189952</td>\n",
       "      <td>273</td>\n",
       "      <td>0.006006</td>\n",
       "    </tr>\n",
       "    <tr>\n",
       "      <th>WP2</th>\n",
       "      <td>104.0</td>\n",
       "      <td>1.0</td>\n",
       "      <td>18.0</td>\n",
       "      <td>157.952381</td>\n",
       "      <td>11.062857</td>\n",
       "      <td>273</td>\n",
       "      <td>0.003653</td>\n",
       "    </tr>\n",
       "  </tbody>\n",
       "</table>\n",
       "</div>"
      ],
      "text/plain": [
       "       ELT   QR    HR         XMAX         MEAN  duration_h        AF\n",
       "TS                                                                   \n",
       "FD   104.0  4.0  12.5  2154.464286  1033.232143         728  0.341154\n",
       "FN   104.0  4.0  12.5     0.414286     0.015129         910  0.000005\n",
       "FP1  104.0  4.0   7.0   957.476190   321.961905         273  0.106306\n",
       "FP2  104.0  4.0  18.0   978.523810   264.705714         273  0.087401\n",
       "RD   104.0  2.0  12.5  2456.285714  1131.428571         736  0.373576\n",
       "RN   104.0  2.0  12.5     0.542857     0.024014         920  0.000008\n",
       "RP1  104.0  2.0   7.0  1085.142857   293.482857         276  0.096902\n",
       "RP2  104.0  2.0  18.0  1003.857143   302.786190         276  0.099974\n",
       "SD   104.0  3.0  12.5  2355.946429  1358.446429         736  0.448533\n",
       "SN   104.0  3.0  12.5    40.371429    10.081429         920  0.003329\n",
       "SP1  104.0  3.0   7.0  1271.047619   682.700000         276  0.225415\n",
       "SP2  104.0  3.0  18.0  1204.047619   657.004762         276  0.216931\n",
       "WD   104.0  1.0  12.5  1495.053571   595.398214         728  0.196589\n",
       "WN   104.0  1.0  12.5     0.000000     0.000000         910  0.000000\n",
       "WP1  104.0  1.0   7.0   178.095238    18.189952         273  0.006006\n",
       "WP2  104.0  1.0  18.0   157.952381    11.062857         273  0.003653"
      ]
     },
     "execution_count": 24,
     "metadata": {},
     "output_type": "execute_result"
    }
   ],
   "source": [
    "solar_ts_mean"
   ]
  },
  {
   "cell_type": "code",
   "execution_count": 25,
   "metadata": {
    "collapsed": false
   },
   "outputs": [],
   "source": [
    "#solar_ts_mean.to_csv('solarAFperTS.csv')"
   ]
  }
 ],
 "metadata": {
  "anaconda-cloud": {},
  "kernelspec": {
   "display_name": "Python 3",
   "language": "python",
   "name": "python3"
  },
  "language_info": {
   "codemirror_mode": {
    "name": "ipython",
    "version": 3
   },
   "file_extension": ".py",
   "mimetype": "text/x-python",
   "name": "python",
   "nbconvert_exporter": "python",
   "pygments_lexer": "ipython3",
   "version": "3.5.1"
  }
 },
 "nbformat": 4,
 "nbformat_minor": 1
}
