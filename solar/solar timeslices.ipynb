{
 "cells": [
  {
   "cell_type": "code",
   "execution_count": 1,
   "metadata": {
    "collapsed": true
   },
   "outputs": [],
   "source": [
    "import pandas as pd\n",
    "% matplotlib inline "
   ]
  },
  {
   "cell_type": "code",
   "execution_count": 2,
   "metadata": {
    "collapsed": false
   },
   "outputs": [],
   "source": [
    "solarIRR=pd.read_csv('mirabel solar sweeds.csv')"
   ]
  },
  {
   "cell_type": "code",
   "execution_count": 3,
   "metadata": {
    "collapsed": false
   },
   "outputs": [],
   "source": [
    "solarIRR=solarIRR.rename(columns=lambda x:x.strip())"
   ]
  },
  {
   "cell_type": "code",
   "execution_count": 4,
   "metadata": {
    "collapsed": false
   },
   "outputs": [],
   "source": [
    "solarIRR=solarIRR.drop('Unnamed: 5',axis=1)"
   ]
  },
  {
   "cell_type": "code",
   "execution_count": 5,
   "metadata": {
    "collapsed": false
   },
   "outputs": [
    {
     "data": {
      "text/plain": [
       "Index(['ELT', 'QR', 'HR', 'XMAX', 'MEAN'], dtype='object')"
      ]
     },
     "execution_count": 5,
     "metadata": {},
     "output_type": "execute_result"
    }
   ],
   "source": [
    "solarIRR.columns"
   ]
  },
  {
   "cell_type": "code",
   "execution_count": 6,
   "metadata": {
    "collapsed": true
   },
   "outputs": [],
   "source": [
    "# dict to convert hours to the corresponding time slices\n",
    "slices_equiv={20:'night',\n",
    "              21:'night',\n",
    "              22:'night',\n",
    "              23:'night',\n",
    "              24:'night',\n",
    "              1:'night',\n",
    "              2:'night',\n",
    "              3:'night',\n",
    "              4:'night',\n",
    "              5:'night',\n",
    "              6:'peak morning',\n",
    "              7:'peak morning',\n",
    "              8:'peak morning', # ts have one more extra hour for the morning peak in natem-quebec\n",
    "              9:'day',\n",
    "              10:'day',\n",
    "              11:'day',\n",
    "              12:'day',\n",
    "              13:'day',\n",
    "              14:'day',\n",
    "              15:'day',\n",
    "              16:'day',\n",
    "              17:'peak evening',\n",
    "              18:'peak evening',\n",
    "              19:'peak evening',\n",
    "}"
   ]
  },
  {
   "cell_type": "code",
   "execution_count": 7,
   "metadata": {
    "collapsed": false
   },
   "outputs": [],
   "source": [
    "solarIRR.loc[:,'dayts']=solarIRR['HR'].map(slices_equiv)"
   ]
  },
  {
   "cell_type": "code",
   "execution_count": 8,
   "metadata": {
    "collapsed": false
   },
   "outputs": [
    {
     "data": {
      "text/html": [
       "<div>\n",
       "<table border=\"1\" class=\"dataframe\">\n",
       "  <thead>\n",
       "    <tr style=\"text-align: right;\">\n",
       "      <th></th>\n",
       "      <th>ELT</th>\n",
       "      <th>QR</th>\n",
       "      <th>HR</th>\n",
       "      <th>XMAX</th>\n",
       "      <th>MEAN</th>\n",
       "      <th>dayts</th>\n",
       "    </tr>\n",
       "  </thead>\n",
       "  <tbody>\n",
       "    <tr>\n",
       "      <th>1</th>\n",
       "      <td>101</td>\n",
       "      <td>1</td>\n",
       "      <td>2</td>\n",
       "      <td>0.0</td>\n",
       "      <td>0.000</td>\n",
       "      <td>night</td>\n",
       "    </tr>\n",
       "    <tr>\n",
       "      <th>2</th>\n",
       "      <td>101</td>\n",
       "      <td>1</td>\n",
       "      <td>3</td>\n",
       "      <td>0.0</td>\n",
       "      <td>0.000</td>\n",
       "      <td>night</td>\n",
       "    </tr>\n",
       "    <tr>\n",
       "      <th>3</th>\n",
       "      <td>101</td>\n",
       "      <td>1</td>\n",
       "      <td>4</td>\n",
       "      <td>0.0</td>\n",
       "      <td>0.000</td>\n",
       "      <td>night</td>\n",
       "    </tr>\n",
       "    <tr>\n",
       "      <th>4</th>\n",
       "      <td>101</td>\n",
       "      <td>1</td>\n",
       "      <td>5</td>\n",
       "      <td>0.0</td>\n",
       "      <td>0.000</td>\n",
       "      <td>night</td>\n",
       "    </tr>\n",
       "    <tr>\n",
       "      <th>5</th>\n",
       "      <td>101</td>\n",
       "      <td>1</td>\n",
       "      <td>6</td>\n",
       "      <td>0.0</td>\n",
       "      <td>0.000</td>\n",
       "      <td>peak morning</td>\n",
       "    </tr>\n",
       "    <tr>\n",
       "      <th>6</th>\n",
       "      <td>101</td>\n",
       "      <td>1</td>\n",
       "      <td>7</td>\n",
       "      <td>19.0</td>\n",
       "      <td>0.719</td>\n",
       "      <td>peak morning</td>\n",
       "    </tr>\n",
       "    <tr>\n",
       "      <th>7</th>\n",
       "      <td>101</td>\n",
       "      <td>1</td>\n",
       "      <td>8</td>\n",
       "      <td>580.0</td>\n",
       "      <td>150.000</td>\n",
       "      <td>peak morning</td>\n",
       "    </tr>\n",
       "    <tr>\n",
       "      <th>8</th>\n",
       "      <td>101</td>\n",
       "      <td>1</td>\n",
       "      <td>9</td>\n",
       "      <td>1300.0</td>\n",
       "      <td>779.000</td>\n",
       "      <td>day</td>\n",
       "    </tr>\n",
       "    <tr>\n",
       "      <th>9</th>\n",
       "      <td>101</td>\n",
       "      <td>1</td>\n",
       "      <td>10</td>\n",
       "      <td>1860.0</td>\n",
       "      <td>1370.000</td>\n",
       "      <td>day</td>\n",
       "    </tr>\n",
       "    <tr>\n",
       "      <th>10</th>\n",
       "      <td>101</td>\n",
       "      <td>1</td>\n",
       "      <td>11</td>\n",
       "      <td>2230.0</td>\n",
       "      <td>1780.000</td>\n",
       "      <td>day</td>\n",
       "    </tr>\n",
       "    <tr>\n",
       "      <th>11</th>\n",
       "      <td>101</td>\n",
       "      <td>1</td>\n",
       "      <td>12</td>\n",
       "      <td>2380.0</td>\n",
       "      <td>1980.000</td>\n",
       "      <td>day</td>\n",
       "    </tr>\n",
       "    <tr>\n",
       "      <th>12</th>\n",
       "      <td>101</td>\n",
       "      <td>1</td>\n",
       "      <td>13</td>\n",
       "      <td>2340.0</td>\n",
       "      <td>1960.000</td>\n",
       "      <td>day</td>\n",
       "    </tr>\n",
       "    <tr>\n",
       "      <th>13</th>\n",
       "      <td>101</td>\n",
       "      <td>1</td>\n",
       "      <td>14</td>\n",
       "      <td>2150.0</td>\n",
       "      <td>1720.000</td>\n",
       "      <td>day</td>\n",
       "    </tr>\n",
       "    <tr>\n",
       "      <th>14</th>\n",
       "      <td>101</td>\n",
       "      <td>1</td>\n",
       "      <td>15</td>\n",
       "      <td>1740.0</td>\n",
       "      <td>1270.000</td>\n",
       "      <td>day</td>\n",
       "    </tr>\n",
       "    <tr>\n",
       "      <th>15</th>\n",
       "      <td>101</td>\n",
       "      <td>1</td>\n",
       "      <td>16</td>\n",
       "      <td>1140.0</td>\n",
       "      <td>649.000</td>\n",
       "      <td>day</td>\n",
       "    </tr>\n",
       "    <tr>\n",
       "      <th>16</th>\n",
       "      <td>101</td>\n",
       "      <td>1</td>\n",
       "      <td>17</td>\n",
       "      <td>399.0</td>\n",
       "      <td>77.900</td>\n",
       "      <td>peak evening</td>\n",
       "    </tr>\n",
       "    <tr>\n",
       "      <th>17</th>\n",
       "      <td>101</td>\n",
       "      <td>1</td>\n",
       "      <td>18</td>\n",
       "      <td>0.0</td>\n",
       "      <td>0.000</td>\n",
       "      <td>peak evening</td>\n",
       "    </tr>\n",
       "    <tr>\n",
       "      <th>18</th>\n",
       "      <td>101</td>\n",
       "      <td>1</td>\n",
       "      <td>19</td>\n",
       "      <td>0.0</td>\n",
       "      <td>0.000</td>\n",
       "      <td>peak evening</td>\n",
       "    </tr>\n",
       "    <tr>\n",
       "      <th>19</th>\n",
       "      <td>101</td>\n",
       "      <td>1</td>\n",
       "      <td>20</td>\n",
       "      <td>0.0</td>\n",
       "      <td>0.000</td>\n",
       "      <td>night</td>\n",
       "    </tr>\n",
       "    <tr>\n",
       "      <th>20</th>\n",
       "      <td>101</td>\n",
       "      <td>1</td>\n",
       "      <td>21</td>\n",
       "      <td>0.0</td>\n",
       "      <td>0.000</td>\n",
       "      <td>night</td>\n",
       "    </tr>\n",
       "    <tr>\n",
       "      <th>21</th>\n",
       "      <td>101</td>\n",
       "      <td>1</td>\n",
       "      <td>22</td>\n",
       "      <td>0.0</td>\n",
       "      <td>0.000</td>\n",
       "      <td>night</td>\n",
       "    </tr>\n",
       "    <tr>\n",
       "      <th>22</th>\n",
       "      <td>101</td>\n",
       "      <td>1</td>\n",
       "      <td>23</td>\n",
       "      <td>0.0</td>\n",
       "      <td>0.000</td>\n",
       "      <td>night</td>\n",
       "    </tr>\n",
       "    <tr>\n",
       "      <th>23</th>\n",
       "      <td>101</td>\n",
       "      <td>1</td>\n",
       "      <td>24</td>\n",
       "      <td>0.0</td>\n",
       "      <td>0.000</td>\n",
       "      <td>night</td>\n",
       "    </tr>\n",
       "    <tr>\n",
       "      <th>24</th>\n",
       "      <td>101</td>\n",
       "      <td>2</td>\n",
       "      <td>1</td>\n",
       "      <td>0.0</td>\n",
       "      <td>0.000</td>\n",
       "      <td>night</td>\n",
       "    </tr>\n",
       "    <tr>\n",
       "      <th>25</th>\n",
       "      <td>101</td>\n",
       "      <td>2</td>\n",
       "      <td>2</td>\n",
       "      <td>0.0</td>\n",
       "      <td>0.000</td>\n",
       "      <td>night</td>\n",
       "    </tr>\n",
       "    <tr>\n",
       "      <th>26</th>\n",
       "      <td>101</td>\n",
       "      <td>2</td>\n",
       "      <td>3</td>\n",
       "      <td>0.0</td>\n",
       "      <td>0.000</td>\n",
       "      <td>night</td>\n",
       "    </tr>\n",
       "    <tr>\n",
       "      <th>27</th>\n",
       "      <td>101</td>\n",
       "      <td>2</td>\n",
       "      <td>4</td>\n",
       "      <td>0.0</td>\n",
       "      <td>0.000</td>\n",
       "      <td>night</td>\n",
       "    </tr>\n",
       "    <tr>\n",
       "      <th>28</th>\n",
       "      <td>101</td>\n",
       "      <td>2</td>\n",
       "      <td>5</td>\n",
       "      <td>37.0</td>\n",
       "      <td>1.670</td>\n",
       "      <td>night</td>\n",
       "    </tr>\n",
       "    <tr>\n",
       "      <th>29</th>\n",
       "      <td>101</td>\n",
       "      <td>2</td>\n",
       "      <td>6</td>\n",
       "      <td>665.0</td>\n",
       "      <td>126.000</td>\n",
       "      <td>peak morning</td>\n",
       "    </tr>\n",
       "    <tr>\n",
       "      <th>30</th>\n",
       "      <td>101</td>\n",
       "      <td>2</td>\n",
       "      <td>7</td>\n",
       "      <td>1510.0</td>\n",
       "      <td>554.000</td>\n",
       "      <td>peak morning</td>\n",
       "    </tr>\n",
       "    <tr>\n",
       "      <th>31</th>\n",
       "      <td>101</td>\n",
       "      <td>2</td>\n",
       "      <td>8</td>\n",
       "      <td>2310.0</td>\n",
       "      <td>1270.000</td>\n",
       "      <td>peak morning</td>\n",
       "    </tr>\n",
       "    <tr>\n",
       "      <th>32</th>\n",
       "      <td>101</td>\n",
       "      <td>2</td>\n",
       "      <td>9</td>\n",
       "      <td>3030.0</td>\n",
       "      <td>2040.000</td>\n",
       "      <td>day</td>\n",
       "    </tr>\n",
       "    <tr>\n",
       "      <th>33</th>\n",
       "      <td>101</td>\n",
       "      <td>2</td>\n",
       "      <td>10</td>\n",
       "      <td>3610.0</td>\n",
       "      <td>2680.000</td>\n",
       "      <td>day</td>\n",
       "    </tr>\n",
       "    <tr>\n",
       "      <th>34</th>\n",
       "      <td>101</td>\n",
       "      <td>2</td>\n",
       "      <td>11</td>\n",
       "      <td>4000.0</td>\n",
       "      <td>3130.000</td>\n",
       "      <td>day</td>\n",
       "    </tr>\n",
       "    <tr>\n",
       "      <th>35</th>\n",
       "      <td>101</td>\n",
       "      <td>2</td>\n",
       "      <td>12</td>\n",
       "      <td>4190.0</td>\n",
       "      <td>3370.000</td>\n",
       "      <td>day</td>\n",
       "    </tr>\n",
       "    <tr>\n",
       "      <th>36</th>\n",
       "      <td>101</td>\n",
       "      <td>2</td>\n",
       "      <td>13</td>\n",
       "      <td>4170.0</td>\n",
       "      <td>3390.000</td>\n",
       "      <td>day</td>\n",
       "    </tr>\n",
       "    <tr>\n",
       "      <th>37</th>\n",
       "      <td>101</td>\n",
       "      <td>2</td>\n",
       "      <td>14</td>\n",
       "      <td>3920.0</td>\n",
       "      <td>3170.000</td>\n",
       "      <td>day</td>\n",
       "    </tr>\n",
       "    <tr>\n",
       "      <th>38</th>\n",
       "      <td>101</td>\n",
       "      <td>2</td>\n",
       "      <td>15</td>\n",
       "      <td>3480.0</td>\n",
       "      <td>2730.000</td>\n",
       "      <td>day</td>\n",
       "    </tr>\n",
       "    <tr>\n",
       "      <th>39</th>\n",
       "      <td>101</td>\n",
       "      <td>2</td>\n",
       "      <td>16</td>\n",
       "      <td>2860.0</td>\n",
       "      <td>2110.000</td>\n",
       "      <td>day</td>\n",
       "    </tr>\n",
       "    <tr>\n",
       "      <th>40</th>\n",
       "      <td>101</td>\n",
       "      <td>2</td>\n",
       "      <td>17</td>\n",
       "      <td>2120.0</td>\n",
       "      <td>1350.000</td>\n",
       "      <td>peak evening</td>\n",
       "    </tr>\n",
       "    <tr>\n",
       "      <th>41</th>\n",
       "      <td>101</td>\n",
       "      <td>2</td>\n",
       "      <td>18</td>\n",
       "      <td>1300.0</td>\n",
       "      <td>559.000</td>\n",
       "      <td>peak evening</td>\n",
       "    </tr>\n",
       "    <tr>\n",
       "      <th>42</th>\n",
       "      <td>101</td>\n",
       "      <td>2</td>\n",
       "      <td>19</td>\n",
       "      <td>456.0</td>\n",
       "      <td>86.400</td>\n",
       "      <td>peak evening</td>\n",
       "    </tr>\n",
       "    <tr>\n",
       "      <th>43</th>\n",
       "      <td>101</td>\n",
       "      <td>2</td>\n",
       "      <td>20</td>\n",
       "      <td>1.0</td>\n",
       "      <td>0.011</td>\n",
       "      <td>night</td>\n",
       "    </tr>\n",
       "    <tr>\n",
       "      <th>44</th>\n",
       "      <td>101</td>\n",
       "      <td>2</td>\n",
       "      <td>21</td>\n",
       "      <td>0.0</td>\n",
       "      <td>0.000</td>\n",
       "      <td>night</td>\n",
       "    </tr>\n",
       "    <tr>\n",
       "      <th>45</th>\n",
       "      <td>101</td>\n",
       "      <td>2</td>\n",
       "      <td>22</td>\n",
       "      <td>0.0</td>\n",
       "      <td>0.000</td>\n",
       "      <td>night</td>\n",
       "    </tr>\n",
       "    <tr>\n",
       "      <th>46</th>\n",
       "      <td>101</td>\n",
       "      <td>2</td>\n",
       "      <td>23</td>\n",
       "      <td>0.0</td>\n",
       "      <td>0.000</td>\n",
       "      <td>night</td>\n",
       "    </tr>\n",
       "    <tr>\n",
       "      <th>47</th>\n",
       "      <td>101</td>\n",
       "      <td>2</td>\n",
       "      <td>24</td>\n",
       "      <td>0.0</td>\n",
       "      <td>0.000</td>\n",
       "      <td>night</td>\n",
       "    </tr>\n",
       "  </tbody>\n",
       "</table>\n",
       "</div>"
      ],
      "text/plain": [
       "    ELT  QR  HR    XMAX      MEAN         dayts\n",
       "1   101   1   2     0.0     0.000         night\n",
       "2   101   1   3     0.0     0.000         night\n",
       "3   101   1   4     0.0     0.000         night\n",
       "4   101   1   5     0.0     0.000         night\n",
       "5   101   1   6     0.0     0.000  peak morning\n",
       "6   101   1   7    19.0     0.719  peak morning\n",
       "7   101   1   8   580.0   150.000  peak morning\n",
       "8   101   1   9  1300.0   779.000           day\n",
       "9   101   1  10  1860.0  1370.000           day\n",
       "10  101   1  11  2230.0  1780.000           day\n",
       "11  101   1  12  2380.0  1980.000           day\n",
       "12  101   1  13  2340.0  1960.000           day\n",
       "13  101   1  14  2150.0  1720.000           day\n",
       "14  101   1  15  1740.0  1270.000           day\n",
       "15  101   1  16  1140.0   649.000           day\n",
       "16  101   1  17   399.0    77.900  peak evening\n",
       "17  101   1  18     0.0     0.000  peak evening\n",
       "18  101   1  19     0.0     0.000  peak evening\n",
       "19  101   1  20     0.0     0.000         night\n",
       "20  101   1  21     0.0     0.000         night\n",
       "21  101   1  22     0.0     0.000         night\n",
       "22  101   1  23     0.0     0.000         night\n",
       "23  101   1  24     0.0     0.000         night\n",
       "24  101   2   1     0.0     0.000         night\n",
       "25  101   2   2     0.0     0.000         night\n",
       "26  101   2   3     0.0     0.000         night\n",
       "27  101   2   4     0.0     0.000         night\n",
       "28  101   2   5    37.0     1.670         night\n",
       "29  101   2   6   665.0   126.000  peak morning\n",
       "30  101   2   7  1510.0   554.000  peak morning\n",
       "31  101   2   8  2310.0  1270.000  peak morning\n",
       "32  101   2   9  3030.0  2040.000           day\n",
       "33  101   2  10  3610.0  2680.000           day\n",
       "34  101   2  11  4000.0  3130.000           day\n",
       "35  101   2  12  4190.0  3370.000           day\n",
       "36  101   2  13  4170.0  3390.000           day\n",
       "37  101   2  14  3920.0  3170.000           day\n",
       "38  101   2  15  3480.0  2730.000           day\n",
       "39  101   2  16  2860.0  2110.000           day\n",
       "40  101   2  17  2120.0  1350.000  peak evening\n",
       "41  101   2  18  1300.0   559.000  peak evening\n",
       "42  101   2  19   456.0    86.400  peak evening\n",
       "43  101   2  20     1.0     0.011         night\n",
       "44  101   2  21     0.0     0.000         night\n",
       "45  101   2  22     0.0     0.000         night\n",
       "46  101   2  23     0.0     0.000         night\n",
       "47  101   2  24     0.0     0.000         night"
      ]
     },
     "execution_count": 8,
     "metadata": {},
     "output_type": "execute_result"
    }
   ],
   "source": [
    "solarIRR.iloc[1:48]"
   ]
  },
  {
   "cell_type": "code",
   "execution_count": 9,
   "metadata": {
    "collapsed": true
   },
   "outputs": [],
   "source": [
    "solarIRR.loc[(solarIRR['dayts']=='day') & (solarIRR['QR']==1) ,'TS']='WD'\n",
    "solarIRR.loc[(solarIRR['dayts']=='day') & (solarIRR['QR']==2) ,'TS']='RD'\n",
    "solarIRR.loc[(solarIRR['dayts']=='day') & (solarIRR['QR']==3) ,'TS']='SD'\n",
    "solarIRR.loc[(solarIRR['dayts']=='day') & (solarIRR['QR']==4) ,'TS']='FD'"
   ]
  },
  {
   "cell_type": "code",
   "execution_count": 10,
   "metadata": {
    "collapsed": true
   },
   "outputs": [],
   "source": [
    "solarIRR.loc[(solarIRR['dayts']=='night') & (solarIRR['QR']==1) ,'TS']='WN'\n",
    "solarIRR.loc[(solarIRR['dayts']=='night') & (solarIRR['QR']==2) ,'TS']='RN'\n",
    "solarIRR.loc[(solarIRR['dayts']=='night') & (solarIRR['QR']==3) ,'TS']='SN'\n",
    "solarIRR.loc[(solarIRR['dayts']=='night') & (solarIRR['QR']==4) ,'TS']='FN'"
   ]
  },
  {
   "cell_type": "code",
   "execution_count": 11,
   "metadata": {
    "collapsed": true
   },
   "outputs": [],
   "source": [
    "solarIRR.loc[(solarIRR['dayts']=='peak morning') & (solarIRR['QR']==1) ,'TS']='WP1'\n",
    "solarIRR.loc[(solarIRR['dayts']=='peak morning') & (solarIRR['QR']==2) ,'TS']='RP1'\n",
    "solarIRR.loc[(solarIRR['dayts']=='peak morning') & (solarIRR['QR']==3) ,'TS']='SP1'\n",
    "solarIRR.loc[(solarIRR['dayts']=='peak morning') & (solarIRR['QR']==4) ,'TS']='FP1'"
   ]
  },
  {
   "cell_type": "code",
   "execution_count": 12,
   "metadata": {
    "collapsed": true
   },
   "outputs": [],
   "source": [
    "solarIRR.loc[(solarIRR['dayts']=='peak evening') & (solarIRR['QR']==1) ,'TS']='WP2'\n",
    "solarIRR.loc[(solarIRR['dayts']=='peak evening') & (solarIRR['QR']==2) ,'TS']='RP2'\n",
    "solarIRR.loc[(solarIRR['dayts']=='peak evening') & (solarIRR['QR']==3) ,'TS']='SP2'\n",
    "solarIRR.loc[(solarIRR['dayts']=='peak evening') & (solarIRR['QR']==4) ,'TS']='FP2'"
   ]
  },
  {
   "cell_type": "code",
   "execution_count": 13,
   "metadata": {
    "collapsed": false
   },
   "outputs": [
    {
     "data": {
      "text/plain": [
       "<matplotlib.axes._subplots.AxesSubplot at 0x9aa7da0>"
      ]
     },
     "execution_count": 13,
     "metadata": {},
     "output_type": "execute_result"
    },
    {
     "data": {
      "image/png": "[encoded data removed]",
      "text/plain": [
       "<matplotlib.figure.Figure at 0x9aa7278>"
      ]
     },
     "metadata": {},
     "output_type": "display_data"
    }
   ],
   "source": [
    "solarIRR.groupby('TS').sum().loc[:,'MEAN'].plot(kind='bar')"
   ]
  },
  {
   "cell_type": "code",
   "execution_count": 14,
   "metadata": {
    "collapsed": false
   },
   "outputs": [],
   "source": [
    "solar_ts_sum=solarIRR.groupby('TS').sum() \n",
    "# we sum it because the sum of solar IR per ts is a proxy of energy generated per ts\n",
    "# and that takes into account the different duration of the TS, which are not taken\n",
    "#into account with the mean"
   ]
  },
  {
   "cell_type": "code",
   "execution_count": null,
   "metadata": {
    "collapsed": true
   },
   "outputs": [],
   "source": []
  },
  {
   "cell_type": "code",
   "execution_count": 35,
   "metadata": {
    "collapsed": false
   },
   "outputs": [],
   "source": [
    "#solar_ts_sum.loc[:,'solar_fraction']=solar_ts_sum['MEAN']/solar_ts_sum['MEAN'].sum()\n",
    "\n",
    "# so far I've calculated this with the sum of annual production.. but what if I use the average\n",
    "\n",
    "solar_ts_sum.loc[:,'solar_fraction']=solar_ts_sum['MEAN']/solar_ts_sum['MEAN'].mean()"
   ]
  },
  {
   "cell_type": "code",
   "execution_count": 36,
   "metadata": {
    "collapsed": false
   },
   "outputs": [
    {
     "data": {
      "text/html": [
       "<div>\n",
       "<table border=\"1\" class=\"dataframe\">\n",
       "  <thead>\n",
       "    <tr style=\"text-align: right;\">\n",
       "      <th></th>\n",
       "      <th>ELT</th>\n",
       "      <th>QR</th>\n",
       "      <th>HR</th>\n",
       "      <th>XMAX</th>\n",
       "      <th>MEAN</th>\n",
       "      <th>solar_fraction</th>\n",
       "      <th>solar_AF</th>\n",
       "    </tr>\n",
       "    <tr>\n",
       "      <th>TS</th>\n",
       "      <th></th>\n",
       "      <th></th>\n",
       "      <th></th>\n",
       "      <th></th>\n",
       "      <th></th>\n",
       "      <th></th>\n",
       "      <th></th>\n",
       "    </tr>\n",
       "  </thead>\n",
       "  <tbody>\n",
       "    <tr>\n",
       "      <th>FD</th>\n",
       "      <td>5824</td>\n",
       "      <td>224</td>\n",
       "      <td>700</td>\n",
       "      <td>120650.0</td>\n",
       "      <td>57861.000</td>\n",
       "      <td>3.249083</td>\n",
       "      <td>0.454872</td>\n",
       "    </tr>\n",
       "    <tr>\n",
       "      <th>FN</th>\n",
       "      <td>7280</td>\n",
       "      <td>280</td>\n",
       "      <td>875</td>\n",
       "      <td>29.0</td>\n",
       "      <td>1.059</td>\n",
       "      <td>0.000059</td>\n",
       "      <td>0.000008</td>\n",
       "    </tr>\n",
       "    <tr>\n",
       "      <th>FP1</th>\n",
       "      <td>2184</td>\n",
       "      <td>84</td>\n",
       "      <td>147</td>\n",
       "      <td>20107.0</td>\n",
       "      <td>6761.200</td>\n",
       "      <td>0.379663</td>\n",
       "      <td>0.053153</td>\n",
       "    </tr>\n",
       "    <tr>\n",
       "      <th>FP2</th>\n",
       "      <td>2184</td>\n",
       "      <td>84</td>\n",
       "      <td>378</td>\n",
       "      <td>20549.0</td>\n",
       "      <td>5558.820</td>\n",
       "      <td>0.312146</td>\n",
       "      <td>0.043700</td>\n",
       "    </tr>\n",
       "    <tr>\n",
       "      <th>RD</th>\n",
       "      <td>5824</td>\n",
       "      <td>112</td>\n",
       "      <td>700</td>\n",
       "      <td>137552.0</td>\n",
       "      <td>63360.000</td>\n",
       "      <td>3.557870</td>\n",
       "      <td>0.498102</td>\n",
       "    </tr>\n",
       "    <tr>\n",
       "      <th>RN</th>\n",
       "      <td>7280</td>\n",
       "      <td>140</td>\n",
       "      <td>875</td>\n",
       "      <td>38.0</td>\n",
       "      <td>1.681</td>\n",
       "      <td>0.000094</td>\n",
       "      <td>0.000013</td>\n",
       "    </tr>\n",
       "    <tr>\n",
       "      <th>RP1</th>\n",
       "      <td>2184</td>\n",
       "      <td>42</td>\n",
       "      <td>147</td>\n",
       "      <td>22788.0</td>\n",
       "      <td>6163.140</td>\n",
       "      <td>0.346080</td>\n",
       "      <td>0.048451</td>\n",
       "    </tr>\n",
       "    <tr>\n",
       "      <th>RP2</th>\n",
       "      <td>2184</td>\n",
       "      <td>42</td>\n",
       "      <td>378</td>\n",
       "      <td>21081.0</td>\n",
       "      <td>6358.510</td>\n",
       "      <td>0.357051</td>\n",
       "      <td>0.049987</td>\n",
       "    </tr>\n",
       "    <tr>\n",
       "      <th>SD</th>\n",
       "      <td>5824</td>\n",
       "      <td>168</td>\n",
       "      <td>700</td>\n",
       "      <td>131933.0</td>\n",
       "      <td>76073.000</td>\n",
       "      <td>4.271746</td>\n",
       "      <td>0.598044</td>\n",
       "    </tr>\n",
       "    <tr>\n",
       "      <th>SN</th>\n",
       "      <td>7280</td>\n",
       "      <td>210</td>\n",
       "      <td>875</td>\n",
       "      <td>2826.0</td>\n",
       "      <td>705.700</td>\n",
       "      <td>0.039627</td>\n",
       "      <td>0.005548</td>\n",
       "    </tr>\n",
       "    <tr>\n",
       "      <th>SP1</th>\n",
       "      <td>2184</td>\n",
       "      <td>63</td>\n",
       "      <td>147</td>\n",
       "      <td>26692.0</td>\n",
       "      <td>14336.700</td>\n",
       "      <td>0.805052</td>\n",
       "      <td>0.112707</td>\n",
       "    </tr>\n",
       "    <tr>\n",
       "      <th>SP2</th>\n",
       "      <td>2184</td>\n",
       "      <td>63</td>\n",
       "      <td>378</td>\n",
       "      <td>25285.0</td>\n",
       "      <td>13797.100</td>\n",
       "      <td>0.774752</td>\n",
       "      <td>0.108465</td>\n",
       "    </tr>\n",
       "    <tr>\n",
       "      <th>WD</th>\n",
       "      <td>5824</td>\n",
       "      <td>56</td>\n",
       "      <td>700</td>\n",
       "      <td>83723.0</td>\n",
       "      <td>33342.300</td>\n",
       "      <td>1.872279</td>\n",
       "      <td>0.262119</td>\n",
       "    </tr>\n",
       "    <tr>\n",
       "      <th>WN</th>\n",
       "      <td>7280</td>\n",
       "      <td>70</td>\n",
       "      <td>875</td>\n",
       "      <td>0.0</td>\n",
       "      <td>0.000</td>\n",
       "      <td>0.000000</td>\n",
       "      <td>0.000000</td>\n",
       "    </tr>\n",
       "    <tr>\n",
       "      <th>WP1</th>\n",
       "      <td>2184</td>\n",
       "      <td>21</td>\n",
       "      <td>147</td>\n",
       "      <td>3740.0</td>\n",
       "      <td>381.989</td>\n",
       "      <td>0.021450</td>\n",
       "      <td>0.003003</td>\n",
       "    </tr>\n",
       "    <tr>\n",
       "      <th>WP2</th>\n",
       "      <td>2184</td>\n",
       "      <td>21</td>\n",
       "      <td>378</td>\n",
       "      <td>3317.0</td>\n",
       "      <td>232.320</td>\n",
       "      <td>0.013046</td>\n",
       "      <td>0.001826</td>\n",
       "    </tr>\n",
       "  </tbody>\n",
       "</table>\n",
       "</div>"
      ],
      "text/plain": [
       "      ELT   QR   HR      XMAX       MEAN  solar_fraction  solar_AF\n",
       "TS                                                                \n",
       "FD   5824  224  700  120650.0  57861.000        3.249083  0.454872\n",
       "FN   7280  280  875      29.0      1.059        0.000059  0.000008\n",
       "FP1  2184   84  147   20107.0   6761.200        0.379663  0.053153\n",
       "FP2  2184   84  378   20549.0   5558.820        0.312146  0.043700\n",
       "RD   5824  112  700  137552.0  63360.000        3.557870  0.498102\n",
       "RN   7280  140  875      38.0      1.681        0.000094  0.000013\n",
       "RP1  2184   42  147   22788.0   6163.140        0.346080  0.048451\n",
       "RP2  2184   42  378   21081.0   6358.510        0.357051  0.049987\n",
       "SD   5824  168  700  131933.0  76073.000        4.271746  0.598044\n",
       "SN   7280  210  875    2826.0    705.700        0.039627  0.005548\n",
       "SP1  2184   63  147   26692.0  14336.700        0.805052  0.112707\n",
       "SP2  2184   63  378   25285.0  13797.100        0.774752  0.108465\n",
       "WD   5824   56  700   83723.0  33342.300        1.872279  0.262119\n",
       "WN   7280   70  875       0.0      0.000        0.000000  0.000000\n",
       "WP1  2184   21  147    3740.0    381.989        0.021450  0.003003\n",
       "WP2  2184   21  378    3317.0    232.320        0.013046  0.001826"
      ]
     },
     "execution_count": 36,
     "metadata": {},
     "output_type": "execute_result"
    }
   ],
   "source": [
    "solar_ts_sum"
   ]
  },
  {
   "cell_type": "markdown",
   "metadata": {},
   "source": [
    "solar_fraction is the % of the annual solar irradiation that occurs during that ts"
   ]
  },
  {
   "cell_type": "code",
   "execution_count": 38,
   "metadata": {
    "collapsed": false,
    "scrolled": false
   },
   "outputs": [
    {
     "data": {
      "text/plain": [
       "0.9999999999999998"
      ]
     },
     "execution_count": 38,
     "metadata": {},
     "output_type": "execute_result"
    }
   ],
   "source": [
    "solar_ts_sum['solar_fraction'].mean()"
   ]
  },
  {
   "cell_type": "code",
   "execution_count": 39,
   "metadata": {
    "collapsed": false
   },
   "outputs": [],
   "source": [
    "solar_ts_sum['solar_AF']=solar_ts_sum['solar_fraction']*0.14/solar_ts_sum['solar_fraction'].mean()"
   ]
  },
  {
   "cell_type": "code",
   "execution_count": null,
   "metadata": {
    "collapsed": true
   },
   "outputs": [],
   "source": [
    "solar"
   ]
  },
  {
   "cell_type": "code",
   "execution_count": 40,
   "metadata": {
    "collapsed": true
   },
   "outputs": [],
   "source": [
    "solar_ts_sum.to_csv('solarAFperTS2.csv')"
   ]
  },
  {
   "cell_type": "code",
   "execution_count": 17,
   "metadata": {
    "collapsed": false
   },
   "outputs": [
    {
     "ename": "NameError",
     "evalue": "name 'WP1' is not defined",
     "output_type": "error",
     "traceback": [
      "\u001b[0;31m---------------------------------------------------------------------------\u001b[0m",
      "\u001b[0;31mNameError\u001b[0m                                 Traceback (most recent call last)",
      "\u001b[0;32m<ipython-input-17-19a207b774db>\u001b[0m in \u001b[0;36m<module>\u001b[0;34m()\u001b[0m\n\u001b[0;32m----> 1\u001b[0;31m solardf=pd.DataFrame({'morning peak': [WP1,RP1,SP1,FP1],\n\u001b[0m\u001b[1;32m      2\u001b[0m               \u001b[1;34m'evening peak'\u001b[0m\u001b[1;33m:\u001b[0m \u001b[1;33m[\u001b[0m\u001b[0mWP2\u001b[0m\u001b[1;33m,\u001b[0m\u001b[0mRP2\u001b[0m\u001b[1;33m,\u001b[0m\u001b[0mSP2\u001b[0m\u001b[1;33m,\u001b[0m\u001b[0mFP2\u001b[0m\u001b[1;33m]\u001b[0m\u001b[1;33m,\u001b[0m\u001b[1;33m\u001b[0m\u001b[0m\n\u001b[1;32m      3\u001b[0m               \u001b[1;34m'day'\u001b[0m\u001b[1;33m:\u001b[0m \u001b[1;33m[\u001b[0m\u001b[0mWD\u001b[0m\u001b[1;33m,\u001b[0m\u001b[0mRD\u001b[0m\u001b[1;33m,\u001b[0m\u001b[0mSD\u001b[0m\u001b[1;33m,\u001b[0m\u001b[0mFD\u001b[0m\u001b[1;33m]\u001b[0m\u001b[1;33m,\u001b[0m\u001b[1;33m\u001b[0m\u001b[0m\n\u001b[1;32m      4\u001b[0m               \u001b[1;34m'night'\u001b[0m\u001b[1;33m:\u001b[0m\u001b[1;33m[\u001b[0m\u001b[0mWN\u001b[0m\u001b[1;33m,\u001b[0m\u001b[0mRN\u001b[0m\u001b[1;33m,\u001b[0m\u001b[0mSN\u001b[0m\u001b[1;33m,\u001b[0m\u001b[0mFN\u001b[0m\u001b[1;33m]\u001b[0m\u001b[1;33m\u001b[0m\u001b[0m\n\u001b[1;32m      5\u001b[0m              },index=['winter','spring','summer','fall'])\n",
      "\u001b[0;31mNameError\u001b[0m: name 'WP1' is not defined"
     ]
    }
   ],
   "source": [
    "solardf=pd.DataFrame({'morning peak': [WP1,RP1,SP1,FP1],\n",
    "              'evening peak': [WP2,RP2,SP2,FP2],\n",
    "              'day': [WD,RD,SD,FD],\n",
    "              'night':[WN,RN,SN,FN]\n",
    "             },index=['winter','spring','summer','fall'])"
   ]
  },
  {
   "cell_type": "code",
   "execution_count": null,
   "metadata": {
    "collapsed": true
   },
   "outputs": [],
   "source": []
  },
  {
   "cell_type": "code",
   "execution_count": 19,
   "metadata": {
    "collapsed": false
   },
   "outputs": [],
   "source": [
    "solarIRR_av=solarIRR.groupby(['QR','HR']).mean()['MEAN']"
   ]
  },
  {
   "cell_type": "code",
   "execution_count": 20,
   "metadata": {
    "collapsed": true
   },
   "outputs": [
    {
     "data": {
      "text/plain": [
       "QR  HR\n",
       "1   1        0.000000\n",
       "    2        0.000000\n",
       "    3        0.000000\n",
       "    4        0.000000\n",
       "    5        0.000000\n",
       "    6        0.000000\n",
       "    7        0.102714\n",
       "    8       54.467143\n",
       "    9      350.571429\n",
       "    10     567.285714\n",
       "    11     717.428571\n",
       "    12     793.428571\n",
       "    13     786.142857\n",
       "    14     697.857143\n",
       "    15     539.714286\n",
       "    16     310.757143\n",
       "    17      33.188571\n",
       "    18       0.000000\n",
       "    19       0.000000\n",
       "    20       0.000000\n",
       "    21       0.000000\n",
       "    22       0.000000\n",
       "    23       0.000000\n",
       "    24       0.000000\n",
       "2   1        0.000000\n",
       "    2        0.000000\n",
       "    3        0.000000\n",
       "    4        0.000000\n",
       "    5        0.238571\n",
       "    6       62.848571\n",
       "             ...     \n",
       "3   19     381.871429\n",
       "    20      40.257143\n",
       "    21       0.000000\n",
       "    22       0.000000\n",
       "    23       0.000000\n",
       "    24       0.000000\n",
       "4   1        0.000000\n",
       "    2        0.000000\n",
       "    3        0.000000\n",
       "    4        0.000000\n",
       "    5        0.041143\n",
       "    6       58.228571\n",
       "    7      303.357143\n",
       "    8      604.300000\n",
       "    9      845.285714\n",
       "    10    1029.571429\n",
       "    11    1155.571429\n",
       "    12    1207.714286\n",
       "    13    1189.285714\n",
       "    14    1107.857143\n",
       "    15     967.428571\n",
       "    16     763.142857\n",
       "    17     503.728571\n",
       "    18     236.814286\n",
       "    19      53.574286\n",
       "    20       0.110143\n",
       "    21       0.000000\n",
       "    22       0.000000\n",
       "    23       0.000000\n",
       "    24       0.000000\n",
       "Name: MEAN, dtype: float64"
      ]
     },
     "execution_count": 20,
     "metadata": {},
     "output_type": "execute_result"
    }
   ],
   "source": [
    "solarIRR_av"
   ]
  },
  {
   "cell_type": "markdown",
   "metadata": {},
   "source": [
    "alternative, calculating the mean solar irradiation per ts"
   ]
  },
  {
   "cell_type": "code",
   "execution_count": 77,
   "metadata": {
    "collapsed": true
   },
   "outputs": [],
   "source": [
    "solar_ts_mean=solarIRR.groupby('TS').mean() "
   ]
  },
  {
   "cell_type": "code",
   "execution_count": 45,
   "metadata": {
    "collapsed": false
   },
   "outputs": [
    {
     "data": {
      "text/plain": [
       "TS\n",
       "FD     1033.232143\n",
       "FN        0.015129\n",
       "FP1     321.961905\n",
       "FP2     264.705714\n",
       "RD     1131.428571\n",
       "RN        0.024014\n",
       "RP1     293.482857\n",
       "RP2     302.786190\n",
       "SD     1358.446429\n",
       "SN       10.081429\n",
       "SP1     682.700000\n",
       "SP2     657.004762\n",
       "WD      595.398214\n",
       "WN        0.000000\n",
       "WP1      18.189952\n",
       "WP2      11.062857\n",
       "Name: MEAN, dtype: float64"
      ]
     },
     "execution_count": 45,
     "metadata": {},
     "output_type": "execute_result"
    }
   ],
   "source": [
    "solar_ts_mean['MEAN']"
   ]
  },
  {
   "cell_type": "code",
   "execution_count": 50,
   "metadata": {
    "collapsed": false
   },
   "outputs": [],
   "source": [
    "duration= {'FD':     728,\n",
    "           'FN':     910,\n",
    "           'FP1':    273,\n",
    "           'FP2':    273,\n",
    "           'RD':     736,\n",
    "           'RN':     920,\n",
    "           'RP1':    276,\n",
    "           'RP2':    276, \n",
    "           'SD':     736,\n",
    "           'SN':     920,\n",
    "           'SP1':    276,\n",
    "           'SP2':    276,\n",
    "           'WD' :    728,\n",
    "           'WN' :    910,\n",
    "           'WP1':    273,\n",
    "           'WP2':    273,\n",
    "          }"
   ]
  },
  {
   "cell_type": "code",
   "execution_count": 58,
   "metadata": {
    "collapsed": false
   },
   "outputs": [],
   "source": [
    "# it does not work\n",
    "\n",
    "#pd.concat([solar_ts_mean,pd.Series(duration)])"
   ]
  },
  {
   "cell_type": "code",
   "execution_count": 78,
   "metadata": {
    "collapsed": false
   },
   "outputs": [],
   "source": [
    "solar_ts_mean['duration_h']=pd.Series(duration)"
   ]
  },
  {
   "cell_type": "code",
   "execution_count": 79,
   "metadata": {
    "collapsed": false
   },
   "outputs": [
    {
     "data": {
      "text/html": [
       "<div>\n",
       "<table border=\"1\" class=\"dataframe\">\n",
       "  <thead>\n",
       "    <tr style=\"text-align: right;\">\n",
       "      <th></th>\n",
       "      <th>ELT</th>\n",
       "      <th>QR</th>\n",
       "      <th>HR</th>\n",
       "      <th>XMAX</th>\n",
       "      <th>MEAN</th>\n",
       "      <th>duration_h</th>\n",
       "    </tr>\n",
       "    <tr>\n",
       "      <th>TS</th>\n",
       "      <th></th>\n",
       "      <th></th>\n",
       "      <th></th>\n",
       "      <th></th>\n",
       "      <th></th>\n",
       "      <th></th>\n",
       "    </tr>\n",
       "  </thead>\n",
       "  <tbody>\n",
       "    <tr>\n",
       "      <th>FD</th>\n",
       "      <td>104.0</td>\n",
       "      <td>4.0</td>\n",
       "      <td>12.5</td>\n",
       "      <td>2154.464286</td>\n",
       "      <td>1033.232143</td>\n",
       "      <td>728</td>\n",
       "    </tr>\n",
       "    <tr>\n",
       "      <th>FN</th>\n",
       "      <td>104.0</td>\n",
       "      <td>4.0</td>\n",
       "      <td>12.5</td>\n",
       "      <td>0.414286</td>\n",
       "      <td>0.015129</td>\n",
       "      <td>910</td>\n",
       "    </tr>\n",
       "    <tr>\n",
       "      <th>FP1</th>\n",
       "      <td>104.0</td>\n",
       "      <td>4.0</td>\n",
       "      <td>7.0</td>\n",
       "      <td>957.476190</td>\n",
       "      <td>321.961905</td>\n",
       "      <td>273</td>\n",
       "    </tr>\n",
       "    <tr>\n",
       "      <th>FP2</th>\n",
       "      <td>104.0</td>\n",
       "      <td>4.0</td>\n",
       "      <td>18.0</td>\n",
       "      <td>978.523810</td>\n",
       "      <td>264.705714</td>\n",
       "      <td>273</td>\n",
       "    </tr>\n",
       "    <tr>\n",
       "      <th>RD</th>\n",
       "      <td>104.0</td>\n",
       "      <td>2.0</td>\n",
       "      <td>12.5</td>\n",
       "      <td>2456.285714</td>\n",
       "      <td>1131.428571</td>\n",
       "      <td>736</td>\n",
       "    </tr>\n",
       "    <tr>\n",
       "      <th>RN</th>\n",
       "      <td>104.0</td>\n",
       "      <td>2.0</td>\n",
       "      <td>12.5</td>\n",
       "      <td>0.542857</td>\n",
       "      <td>0.024014</td>\n",
       "      <td>920</td>\n",
       "    </tr>\n",
       "    <tr>\n",
       "      <th>RP1</th>\n",
       "      <td>104.0</td>\n",
       "      <td>2.0</td>\n",
       "      <td>7.0</td>\n",
       "      <td>1085.142857</td>\n",
       "      <td>293.482857</td>\n",
       "      <td>276</td>\n",
       "    </tr>\n",
       "    <tr>\n",
       "      <th>RP2</th>\n",
       "      <td>104.0</td>\n",
       "      <td>2.0</td>\n",
       "      <td>18.0</td>\n",
       "      <td>1003.857143</td>\n",
       "      <td>302.786190</td>\n",
       "      <td>276</td>\n",
       "    </tr>\n",
       "    <tr>\n",
       "      <th>SD</th>\n",
       "      <td>104.0</td>\n",
       "      <td>3.0</td>\n",
       "      <td>12.5</td>\n",
       "      <td>2355.946429</td>\n",
       "      <td>1358.446429</td>\n",
       "      <td>736</td>\n",
       "    </tr>\n",
       "    <tr>\n",
       "      <th>SN</th>\n",
       "      <td>104.0</td>\n",
       "      <td>3.0</td>\n",
       "      <td>12.5</td>\n",
       "      <td>40.371429</td>\n",
       "      <td>10.081429</td>\n",
       "      <td>920</td>\n",
       "    </tr>\n",
       "    <tr>\n",
       "      <th>SP1</th>\n",
       "      <td>104.0</td>\n",
       "      <td>3.0</td>\n",
       "      <td>7.0</td>\n",
       "      <td>1271.047619</td>\n",
       "      <td>682.700000</td>\n",
       "      <td>276</td>\n",
       "    </tr>\n",
       "    <tr>\n",
       "      <th>SP2</th>\n",
       "      <td>104.0</td>\n",
       "      <td>3.0</td>\n",
       "      <td>18.0</td>\n",
       "      <td>1204.047619</td>\n",
       "      <td>657.004762</td>\n",
       "      <td>276</td>\n",
       "    </tr>\n",
       "    <tr>\n",
       "      <th>WD</th>\n",
       "      <td>104.0</td>\n",
       "      <td>1.0</td>\n",
       "      <td>12.5</td>\n",
       "      <td>1495.053571</td>\n",
       "      <td>595.398214</td>\n",
       "      <td>728</td>\n",
       "    </tr>\n",
       "    <tr>\n",
       "      <th>WN</th>\n",
       "      <td>104.0</td>\n",
       "      <td>1.0</td>\n",
       "      <td>12.5</td>\n",
       "      <td>0.000000</td>\n",
       "      <td>0.000000</td>\n",
       "      <td>910</td>\n",
       "    </tr>\n",
       "    <tr>\n",
       "      <th>WP1</th>\n",
       "      <td>104.0</td>\n",
       "      <td>1.0</td>\n",
       "      <td>7.0</td>\n",
       "      <td>178.095238</td>\n",
       "      <td>18.189952</td>\n",
       "      <td>273</td>\n",
       "    </tr>\n",
       "    <tr>\n",
       "      <th>WP2</th>\n",
       "      <td>104.0</td>\n",
       "      <td>1.0</td>\n",
       "      <td>18.0</td>\n",
       "      <td>157.952381</td>\n",
       "      <td>11.062857</td>\n",
       "      <td>273</td>\n",
       "    </tr>\n",
       "  </tbody>\n",
       "</table>\n",
       "</div>"
      ],
      "text/plain": [
       "       ELT   QR    HR         XMAX         MEAN  duration_h\n",
       "TS                                                         \n",
       "FD   104.0  4.0  12.5  2154.464286  1033.232143         728\n",
       "FN   104.0  4.0  12.5     0.414286     0.015129         910\n",
       "FP1  104.0  4.0   7.0   957.476190   321.961905         273\n",
       "FP2  104.0  4.0  18.0   978.523810   264.705714         273\n",
       "RD   104.0  2.0  12.5  2456.285714  1131.428571         736\n",
       "RN   104.0  2.0  12.5     0.542857     0.024014         920\n",
       "RP1  104.0  2.0   7.0  1085.142857   293.482857         276\n",
       "RP2  104.0  2.0  18.0  1003.857143   302.786190         276\n",
       "SD   104.0  3.0  12.5  2355.946429  1358.446429         736\n",
       "SN   104.0  3.0  12.5    40.371429    10.081429         920\n",
       "SP1  104.0  3.0   7.0  1271.047619   682.700000         276\n",
       "SP2  104.0  3.0  18.0  1204.047619   657.004762         276\n",
       "WD   104.0  1.0  12.5  1495.053571   595.398214         728\n",
       "WN   104.0  1.0  12.5     0.000000     0.000000         910\n",
       "WP1  104.0  1.0   7.0   178.095238    18.189952         273\n",
       "WP2  104.0  1.0  18.0   157.952381    11.062857         273"
      ]
     },
     "execution_count": 79,
     "metadata": {},
     "output_type": "execute_result"
    }
   ],
   "source": [
    "solar_ts_mean"
   ]
  },
  {
   "cell_type": "code",
   "execution_count": 87,
   "metadata": {
    "collapsed": false
   },
   "outputs": [
    {
     "data": {
      "text/plain": [
       "424.63305132708814"
      ]
     },
     "execution_count": 87,
     "metadata": {},
     "output_type": "execute_result"
    }
   ],
   "source": [
    "(solar_ts_mean['MEAN']*solar_ts_mean['duration_h']).sum()/solar_ts_mean['duration_h'].sum()"
   ]
  },
  {
   "cell_type": "markdown",
   "metadata": {},
   "source": [
    "roughly the average annuals solar irradiation, with something missed in the decimals"
   ]
  },
  {
   "cell_type": "code",
   "execution_count": 47,
   "metadata": {
    "collapsed": false
   },
   "outputs": [
    {
     "data": {
      "text/plain": [
       "424.0097008928572"
      ]
     },
     "execution_count": 47,
     "metadata": {},
     "output_type": "execute_result"
    }
   ],
   "source": [
    "solarIRR['MEAN'].mean()"
   ]
  },
  {
   "cell_type": "code",
   "execution_count": 89,
   "metadata": {
    "collapsed": false
   },
   "outputs": [],
   "source": [
    "solar_ts_mean['CF']=solar_ts_mean['MEAN']/solarIRR['MEAN'].mean()*0.14"
   ]
  },
  {
   "cell_type": "markdown",
   "metadata": {},
   "source": [
    "if we calculate the weighted average of the CF using the duration of the TS we get in effect the annual average CF ... \n",
    "\n",
    "or very close, The difference is probably because I am dividing by the average irradiance calculated from solarIRR instead of my transformed data"
   ]
  },
  {
   "cell_type": "code",
   "execution_count": 93,
   "metadata": {
    "collapsed": false
   },
   "outputs": [
    {
     "data": {
      "text/plain": [
       "0.1402058185475676"
      ]
     },
     "execution_count": 93,
     "metadata": {},
     "output_type": "execute_result"
    }
   ],
   "source": [
    "(solar_ts_mean['CF']*solar_ts_mean['duration_h']).sum()/solar_ts_mean['duration_h'].sum()"
   ]
  },
  {
   "cell_type": "code",
   "execution_count": 95,
   "metadata": {
    "collapsed": false
   },
   "outputs": [],
   "source": [
    "solar_ts_mean.to_csv('solarAFperTS.csv')"
   ]
  },
  {
   "cell_type": "code",
   "execution_count": null,
   "metadata": {
    "collapsed": true
   },
   "outputs": [],
   "source": []
  }
 ],
 "metadata": {
  "anaconda-cloud": {},
  "kernelspec": {
   "display_name": "Python 3",
   "language": "python",
   "name": "python3"
  },
  "language_info": {
   "codemirror_mode": {
    "name": "ipython",
    "version": 3
   },
   "file_extension": ".py",
   "mimetype": "text/x-python",
   "name": "python",
   "nbconvert_exporter": "python",
   "pygments_lexer": "ipython3",
   "version": "3.5.1"
  }
 },
 "nbformat": 4,
 "nbformat_minor": 1
}
