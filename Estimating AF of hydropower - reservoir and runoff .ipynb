{
 "cells": [
  {
   "cell_type": "markdown",
   "metadata": {},
   "source": [
    "# Estimating availability factors of hydropower plants in Quebec"
   ]
  },
  {
   "cell_type": "markdown",
   "metadata": {},
   "source": [
    "This notebook documents the estimation of availability factors of hydropower plants in Quebec, used in the NATEM-Quebec model. They are based on monthly production data of hydropower made available by the Canadian government [CANSIM table 127-0002](http://www5.statcan.gc.ca/cansim/a34?lang=eng&mode=tableSummary&id=1270002&stByVal=2&p1=-1&p2=9)"
   ]
  },
  {
   "cell_type": "markdown",
   "metadata": {},
   "source": [
    "## Importing libraries"
   ]
  },
  {
   "cell_type": "code",
   "execution_count": 1,
   "metadata": {
    "collapsed": false
   },
   "outputs": [],
   "source": [
    "import pandas as pd\n",
    "import matplotlib.pyplot as plt\n",
    "%matplotlib inline"
   ]
  },
  {
   "cell_type": "code",
   "execution_count": 2,
   "metadata": {
    "collapsed": true
   },
   "outputs": [],
   "source": [
    "from calendar import monthrange"
   ]
  },
  {
   "cell_type": "markdown",
   "metadata": {},
   "source": [
    "## Reading CANSIM monthly data on electricity by generator"
   ]
  },
  {
   "cell_type": "markdown",
   "metadata": {},
   "source": [
    "the CANSIM data includes production from Hydro Quebec (HQP) but also industry"
   ]
  },
  {
   "cell_type": "code",
   "execution_count": 3,
   "metadata": {
    "collapsed": false
   },
   "outputs": [],
   "source": [
    "cansim_monthly=pd.read_csv('HQ data/cansim monthly electricity production quebec 2008-2013 -hq-industry.csv',\n",
    "            header=[0,1],\n",
    "            index_col=0,\n",
    "            parse_dates=True,\n",
    "            dayfirst=True,\n",
    "            na_values='..' )"
   ]
  },
  {
   "cell_type": "markdown",
   "metadata": {},
   "source": [
    "# Reading hydro installed capacity values (reservoir + run-of-river)"
   ]
  },
  {
   "cell_type": "markdown",
   "metadata": {},
   "source": [
    "according to NATEM, we had an aggregated run-of-river (ROR) and reservoir installed capacity of\n",
    "\n",
    "- 2011 : 38.67 GW\n",
    "- 2012 : 39.59 GW (Eastmain 1-A and La sarcelle enter in operation)\n",
    "- 2013 : 40.23 GW \n",
    "- 2014 : 40.23 GW (la Romaine 2 enters in operation)\n",
    "- 2015 : 40.23 GW\n",
    "\n",
    "wikipedia says eastmain 1A project had its first turbine operating in june 2011, and the other two between december 2011 and january 2012, so we can assume they were fully in operation in 2012."
   ]
  },
  {
   "cell_type": "markdown",
   "metadata": {},
   "source": [
    "## analysis of monthly data"
   ]
  },
  {
   "cell_type": "markdown",
   "metadata": {},
   "source": [
    "### just work with Hydro-Quebec production"
   ]
  },
  {
   "cell_type": "markdown",
   "metadata": {},
   "source": [
    "we have capacity values for 2011 onwards for Hydro-Quebec power plants. Thus we exclude data from private producers (a minor component of total production) and from years before 2011"
   ]
  },
  {
   "cell_type": "code",
   "execution_count": 4,
   "metadata": {
    "collapsed": false
   },
   "outputs": [],
   "source": [
    "HQP_cansim=cansim_monthly.loc['2011':,'HQP']"
   ]
  },
  {
   "cell_type": "markdown",
   "metadata": {},
   "source": [
    "Add a column of installed capacity"
   ]
  },
  {
   "cell_type": "code",
   "execution_count": 5,
   "metadata": {
    "collapsed": false
   },
   "outputs": [],
   "source": [
    "HQP_cansim.loc[:,'installed capacity (MW)']=38670\n",
    "\n",
    "HQP_cansim.loc['2012','installed capacity (MW)']=39590\n",
    "HQP_cansim.loc['2013','installed capacity (MW)']=40230\n",
    "HQP_cansim.loc['2014','installed capacity (MW)']=40230\n",
    "HQP_cansim.loc['2015','installed capacity (MW)']=40230"
   ]
  },
  {
   "cell_type": "markdown",
   "metadata": {},
   "source": [
    "### calculate the number of hours per month"
   ]
  },
  {
   "cell_type": "code",
   "execution_count": 6,
   "metadata": {
    "collapsed": false
   },
   "outputs": [],
   "source": [
    "nhours=[]\n",
    "for year in range(2011,2016):\n",
    "    for month in range(1,13):\n",
    "        nhours.append((monthrange(year,month)[1]*24))\n"
   ]
  },
  {
   "cell_type": "code",
   "execution_count": 7,
   "metadata": {
    "collapsed": false
   },
   "outputs": [],
   "source": [
    "HQP_cansim['nhours']=pd.Series(nhours).values"
   ]
  },
  {
   "cell_type": "code",
   "execution_count": 8,
   "metadata": {
    "collapsed": true
   },
   "outputs": [],
   "source": [
    "HQP_cansim.loc[:,'CF hydro']=HQP_cansim['Hydraulic turbine (4)']/HQP_cansim['installed capacity (MW)']/HQP_cansim['nhours']"
   ]
  },
  {
   "cell_type": "markdown",
   "metadata": {},
   "source": [
    "Divide total electricity production per month by the number of hours per month and the installed capacity, to get an approximation of the availability factor "
   ]
  },
  {
   "cell_type": "code",
   "execution_count": 9,
   "metadata": {
    "collapsed": false
   },
   "outputs": [
    {
     "data": {
      "text/plain": [
       "<matplotlib.axes._subplots.AxesSubplot at 0x16069224eb8>"
      ]
     },
     "execution_count": 9,
     "metadata": {},
     "output_type": "execute_result"
    },
    {
     "data": {
      "image/png": "[encoded data removed]",
      "text/plain": [
       "<matplotlib.figure.Figure at 0x160692244e0>"
      ]
     },
     "metadata": {},
     "output_type": "display_data"
    }
   ],
   "source": [
    "HQP_cansim['CF hydro'].plot()"
   ]
  },
  {
   "cell_type": "code",
   "execution_count": 10,
   "metadata": {
    "collapsed": false
   },
   "outputs": [
    {
     "name": "stdout",
     "output_type": "stream",
     "text": [
      "average CF in the year  2011   0.51\n",
      "maximum CF in the year  2011   0.67\n",
      "\n",
      "average CF in the year  2012   0.5\n",
      "maximum CF in the year  2012   0.65\n",
      "\n",
      "average CF in the year  2013   0.53\n",
      "maximum CF in the year  2013   0.66\n",
      "\n",
      "average CF in the year  2014   0.51\n",
      "maximum CF in the year  2014   0.67\n",
      "\n"
     ]
    }
   ],
   "source": [
    "for years in range (2011,2015):\n",
    "    print ('average CF in the year ',years,' ', round(HQP_cansim.loc[str(years),'CF hydro'].mean(),2))\n",
    "    print ('maximum CF in the year ',years,' ', round(HQP_cansim.loc[str(years),'CF hydro'].max(),2))\n",
    "    print('')"
   ]
  },
  {
   "cell_type": "markdown",
   "metadata": {},
   "source": [
    "This estimate is the total production divided by the capacity. We need to correct the AF taking into account the efficiency of the hydro power plant (97% in NATEM). Therefore an average AF of 0.51 (the value during the calibration year) divided by the efficiency gives an annual availability factor of 0.53"
   ]
  },
  {
   "cell_type": "code",
   "execution_count": 11,
   "metadata": {
    "collapsed": false
   },
   "outputs": [
    {
     "data": {
      "text/plain": [
       "0.53"
      ]
     },
     "execution_count": 11,
     "metadata": {},
     "output_type": "execute_result"
    }
   ],
   "source": [
    "round((0.51/0.97),2)"
   ]
  },
  {
   "cell_type": "markdown",
   "metadata": {},
   "source": [
    "This would be an average of run-of-river and reservoir hydro power plants. To the best of our knowledge there is not much data available on the CF of Hydro Quebec's power plants. HQ *Environmental Impact Assessments* of Run-of-river projects estimate \"gross capacity factors\" (i.e. annual production / capacity) above the average value found here (e.g. [Chute-Allard and Rapides-des-coeurs](http://www.bape.gouv.qc.ca/sections/mandats/chute-allard/documents/pr3/crcEI_Volume1_040521.pdf)). there is no reason why capacity factors of run-of-river would be higher than reservoir plants, Therefore we have used the same value for both types."
   ]
  },
  {
   "cell_type": "code",
   "execution_count": null,
   "metadata": {
    "collapsed": true
   },
   "outputs": [],
   "source": []
  }
 ],
 "metadata": {
  "anaconda-cloud": {},
  "kernelspec": {
   "display_name": "Python 3",
   "language": "python",
   "name": "python3"
  },
  "language_info": {
   "codemirror_mode": {
    "name": "ipython",
    "version": 3
   },
   "file_extension": ".py",
   "mimetype": "text/x-python",
   "name": "python",
   "nbconvert_exporter": "python",
   "pygments_lexer": "ipython3",
   "version": "3.5.1"
  }
 },
 "nbformat": 4,
 "nbformat_minor": 1
}
