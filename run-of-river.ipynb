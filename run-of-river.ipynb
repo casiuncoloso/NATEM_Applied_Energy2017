{
 "cells": [
  {
   "cell_type": "markdown",
   "metadata": {},
   "source": [
    "# Run-of-river data"
   ]
  },
  {
   "cell_type": "markdown",
   "metadata": {},
   "source": [
    "There is no data on when run-of-river plants operate in Quebec. Here we estimate the distribution of production throught the year looking at the runof data on hydrometric stations close to big run-of-river power plants. The data is from a periods where the nearby plants were already in operation."
   ]
  },
  {
   "cell_type": "code",
   "execution_count": 1,
   "metadata": {
    "collapsed": true
   },
   "outputs": [],
   "source": [
    "% matplotlib inline"
   ]
  },
  {
   "cell_type": "code",
   "execution_count": 2,
   "metadata": {
    "collapsed": true
   },
   "outputs": [],
   "source": [
    "import pandas as pd\n",
    "import numpy as np\n",
    "import matplotlib.pyplot as plt"
   ]
  },
  {
   "cell_type": "code",
   "execution_count": 3,
   "metadata": {
    "collapsed": false
   },
   "outputs": [],
   "source": [
    "# plot parameters\n",
    "\n",
    "smallwidth=3.54\n",
    "mediumwidth=5.51\n",
    "bigwidth=7.48\n",
    "\n",
    "SIZE = 8\n",
    "MEDIUM_SIZE = 10\n",
    "BIGGER_SIZE = 12\n",
    "\n",
    "plt.rc('font', size=SIZE)                # controls default text sizes\n",
    "plt.rc('axes', titlesize=SIZE)           # fontsize of the axes title\n",
    "plt.rc('axes', labelsize=MEDIUM_SIZE)    # fontsize of the x and y labels\n",
    "plt.rc('xtick', labelsize=SIZE)          # fontsize of the tick labels\n",
    "plt.rc('ytick', labelsize=SIZE)          # fontsize of the tick labels\n",
    "plt.rc('legend', fontsize=SIZE)          # legend fontsize\n",
    "plt.rc('figure', titlesize=BIGGER_SIZE)  # fontsize of the figure title\n",
    "\n",
    "plt.style.use('seaborn-deep')"
   ]
  },
  {
   "cell_type": "markdown",
   "metadata": {},
   "source": [
    "## 1) load names of stations measuring flow"
   ]
  },
  {
   "cell_type": "markdown",
   "metadata": {},
   "source": [
    "The data was queried from the Hydat database, using the software *Environment Canada data explorer*, made available by the [Canadian Government](http://www.ec.gc.ca/rhc-wsc/default.asp?lang=en&n=0A47D72F-1)"
   ]
  },
  {
   "cell_type": "markdown",
   "metadata": {},
   "source": [
    "the Hydat database has a document with all the stations and associated metadata"
   ]
  },
  {
   "cell_type": "code",
   "execution_count": 4,
   "metadata": {
    "collapsed": false,
    "scrolled": false
   },
   "outputs": [],
   "source": [
    "stations=pd.read_csv('riverflowdata/Nov-18-2016_04_42_43AM.csv',\n",
    "                     encoding='latin',\n",
    "                     index_col='Station Number',\n",
    "                     skip_footer=21,engine='python')"
   ]
  },
  {
   "cell_type": "code",
   "execution_count": 5,
   "metadata": {
    "collapsed": false,
    "scrolled": true
   },
   "outputs": [
    {
     "data": {
      "text/html": [
       "<div>\n",
       "<table border=\"1\" class=\"dataframe\">\n",
       "  <thead>\n",
       "    <tr style=\"text-align: right;\">\n",
       "      <th></th>\n",
       "      <th>Water Course</th>\n",
       "      <th>Latitude</th>\n",
       "      <th>Longitude</th>\n",
       "      <th>Gross Drainage Area (km2)</th>\n",
       "      <th>Effective Drainage Area (km2)</th>\n",
       "      <th>Land Description</th>\n",
       "      <th>Year From</th>\n",
       "      <th>Year To</th>\n",
       "      <th>Data Type</th>\n",
       "      <th>Gauge Type</th>\n",
       "      <th>Operation Schedule</th>\n",
       "      <th>Published</th>\n",
       "      <th>Station Class</th>\n",
       "      <th>River Type</th>\n",
       "      <th>Regulated Since</th>\n",
       "      <th>Contributed By</th>\n",
       "      <th>Costing Agency</th>\n",
       "    </tr>\n",
       "    <tr>\n",
       "      <th>Station Number</th>\n",
       "      <th></th>\n",
       "      <th></th>\n",
       "      <th></th>\n",
       "      <th></th>\n",
       "      <th></th>\n",
       "      <th></th>\n",
       "      <th></th>\n",
       "      <th></th>\n",
       "      <th></th>\n",
       "      <th></th>\n",
       "      <th></th>\n",
       "      <th></th>\n",
       "      <th></th>\n",
       "      <th></th>\n",
       "      <th></th>\n",
       "      <th></th>\n",
       "      <th></th>\n",
       "    </tr>\n",
       "  </thead>\n",
       "  <tbody>\n",
       "    <tr>\n",
       "      <th>07NB001</th>\n",
       "      <td>..SLAVE RIVER AT FITZGERALD (ALBERTA)</td>\n",
       "      <td>59°52'20\"</td>\n",
       "      <td>111°35'00\"</td>\n",
       "      <td>606000</td>\n",
       "      <td>NaN</td>\n",
       "      <td>NaN</td>\n",
       "      <td>1921.0</td>\n",
       "      <td>1922.0</td>\n",
       "      <td>Q</td>\n",
       "      <td>M</td>\n",
       "      <td>S</td>\n",
       "      <td>NaN</td>\n",
       "      <td>NaN</td>\n",
       "      <td>REG</td>\n",
       "      <td>1968.0</td>\n",
       "      <td>NaN</td>\n",
       "      <td>NaN</td>\n",
       "    </tr>\n",
       "  </tbody>\n",
       "</table>\n",
       "</div>"
      ],
      "text/plain": [
       "                                         Water Course   Latitude   Longitude  \\\n",
       "Station Number                                                                 \n",
       "07NB001         ..SLAVE RIVER AT FITZGERALD (ALBERTA)  59°52'20\"  111°35'00\"   \n",
       "\n",
       "               Gross Drainage Area (km2) Effective Drainage Area (km2)  \\\n",
       "Station Number                                                           \n",
       "07NB001                           606000                           NaN   \n",
       "\n",
       "               Land Description  Year From  Year To Data Type Gauge Type  \\\n",
       "Station Number                                                             \n",
       "07NB001                     NaN     1921.0   1922.0         Q          M   \n",
       "\n",
       "               Operation Schedule  Published  Station Class River Type  \\\n",
       "Station Number                                                           \n",
       "07NB001                         S        NaN            NaN        REG   \n",
       "\n",
       "                Regulated Since Contributed By  Costing Agency  \n",
       "Station Number                                                  \n",
       "07NB001                  1968.0            NaN             NaN  "
      ]
     },
     "execution_count": 5,
     "metadata": {},
     "output_type": "execute_result"
    }
   ],
   "source": [
    "stations.head(1)"
   ]
  },
  {
   "cell_type": "markdown",
   "metadata": {
    "collapsed": true
   },
   "source": [
    "## Identify the stations in or close to the rivers that have largest Run-of-River facilities"
   ]
  },
  {
   "cell_type": "markdown",
   "metadata": {},
   "source": [
    "Hydropower capacity by power plant retrieved from the [Hydro Quebec website](http://www.hydroquebec.com/generation/centrale-hydroelectrique.html)"
   ]
  },
  {
   "cell_type": "code",
   "execution_count": 7,
   "metadata": {
    "collapsed": false
   },
   "outputs": [],
   "source": [
    "hp_plants=pd.read_csv('HQ data/hydropower-capacity.csv',sep=';',index_col='Name',decimal=',')"
   ]
  },
  {
   "cell_type": "markdown",
   "metadata": {},
   "source": [
    "after copy-pasting the text from the website and storing it as a csv, we can load it, but it needs some data cleaning"
   ]
  },
  {
   "cell_type": "code",
   "execution_count": 8,
   "metadata": {
    "collapsed": true
   },
   "outputs": [],
   "source": [
    "hp_plants.index=hp_plants.index.str.rstrip()\n",
    "hp_plants['Type']=hp_plants['Type'].str.rstrip()"
   ]
  },
  {
   "cell_type": "code",
   "execution_count": 9,
   "metadata": {
    "collapsed": false
   },
   "outputs": [
    {
     "data": {
      "text/plain": [
       "array(['Reservoir', 'Run-of- river'], dtype=object)"
      ]
     },
     "execution_count": 9,
     "metadata": {},
     "output_type": "execute_result"
    }
   ],
   "source": [
    "hp_plants['Type'].unique() "
   ]
  },
  {
   "cell_type": "markdown",
   "metadata": {},
   "source": [
    "The first three examples "
   ]
  },
  {
   "cell_type": "code",
   "execution_count": 10,
   "metadata": {
    "collapsed": false
   },
   "outputs": [
    {
     "data": {
      "text/html": [
       "<div>\n",
       "<table border=\"1\" class=\"dataframe\">\n",
       "  <thead>\n",
       "    <tr style=\"text-align: right;\">\n",
       "      <th></th>\n",
       "      <th>Watersheds</th>\n",
       "      <th>River or other watercourse</th>\n",
       "      <th>Type</th>\n",
       "      <th>Installed capacity (MW)</th>\n",
       "      <th>Number of units</th>\n",
       "      <th>Head (m)</th>\n",
       "      <th>Commissioning  date</th>\n",
       "    </tr>\n",
       "    <tr>\n",
       "      <th>Name</th>\n",
       "      <th></th>\n",
       "      <th></th>\n",
       "      <th></th>\n",
       "      <th></th>\n",
       "      <th></th>\n",
       "      <th></th>\n",
       "      <th></th>\n",
       "    </tr>\n",
       "  </thead>\n",
       "  <tbody>\n",
       "    <tr>\n",
       "      <th>Robert-Bourassa</th>\n",
       "      <td>La Grande</td>\n",
       "      <td>Grande Rivière</td>\n",
       "      <td>Reservoir</td>\n",
       "      <td>5616.0</td>\n",
       "      <td>16.0</td>\n",
       "      <td>137,16</td>\n",
       "      <td>1979– 1981</td>\n",
       "    </tr>\n",
       "    <tr>\n",
       "      <th>La Grande-4</th>\n",
       "      <td>La Grande</td>\n",
       "      <td>Grande Rivière</td>\n",
       "      <td>Reservoir</td>\n",
       "      <td>2779.0</td>\n",
       "      <td>9.0</td>\n",
       "      <td>116,7</td>\n",
       "      <td>1984– 1986</td>\n",
       "    </tr>\n",
       "    <tr>\n",
       "      <th>La Grande-3</th>\n",
       "      <td>La Grande</td>\n",
       "      <td>Grande Rivière</td>\n",
       "      <td>Reservoir</td>\n",
       "      <td>2417.0</td>\n",
       "      <td>12.0</td>\n",
       "      <td>79</td>\n",
       "      <td>1982– 1984</td>\n",
       "    </tr>\n",
       "  </tbody>\n",
       "</table>\n",
       "</div>"
      ],
      "text/plain": [
       "                Watersheds River or other watercourse       Type  \\\n",
       "Name                                                               \n",
       "Robert-Bourassa  La Grande            Grande Rivière   Reservoir   \n",
       "La Grande-4      La Grande            Grande Rivière   Reservoir   \n",
       "La Grande-3      La Grande            Grande Rivière   Reservoir   \n",
       "\n",
       "                 Installed capacity (MW)  Number of units Head (m)  \\\n",
       "Name                                                                 \n",
       "Robert-Bourassa                   5616.0             16.0   137,16   \n",
       "La Grande-4                       2779.0              9.0    116,7   \n",
       "La Grande-3                       2417.0             12.0       79   \n",
       "\n",
       "                Commissioning  date  \n",
       "Name                                 \n",
       "Robert-Bourassa          1979– 1981  \n",
       "La Grande-4              1984– 1986  \n",
       "La Grande-3              1982– 1984  "
      ]
     },
     "execution_count": 10,
     "metadata": {},
     "output_type": "execute_result"
    }
   ],
   "source": [
    "hp_plants.head(3)"
   ]
  },
  {
   "cell_type": "markdown",
   "metadata": {},
   "source": [
    "Identify the 25 most powerful hydropower plants"
   ]
  },
  {
   "cell_type": "code",
   "execution_count": 11,
   "metadata": {
    "collapsed": false,
    "scrolled": true
   },
   "outputs": [
    {
     "data": {
      "text/plain": [
       "Name\n",
       "Beauharnois                   1853.0\n",
       "La Grande-1                   1436.0\n",
       "René-Lévesque    (Manic-3)    1326.0\n",
       "Jean-Lesage    (Manic-2)      1229.0\n",
       "Outardes-3                    1026.0\n",
       "Bersimis-2                     869.0\n",
       "Outardes-4                     785.0\n",
       "Carillon                       753.0\n",
       "Outardes-2                     523.0\n",
       "Péribonka                      385.0\n",
       "Laforge-2                      319.0\n",
       "Trenche                        302.0\n",
       "La Tuque                       294.0\n",
       "Beaumont                       270.0\n",
       "Romaine-1                      270.0\n",
       "McCormick4                     235.0\n",
       "Rocher-de- Grand-Mère          230.0\n",
       "Paugan                         226.0\n",
       "Shawinigan-2                   200.0\n",
       "Shawinigan-3                   194.0\n",
       "Manic-1                        184.0\n",
       "Rapides-des-Îles               176.0\n",
       "Chelsea                        152.0\n",
       "Sarcelle                       150.0\n",
       "La Gabelle                     131.0\n",
       "Name: Installed capacity (MW), dtype: float64"
      ]
     },
     "execution_count": 11,
     "metadata": {},
     "output_type": "execute_result"
    }
   ],
   "source": [
    "(hp_plants[hp_plants['Type']=='Run-of- river'])['Installed\\xa0capacity (MW)'].iloc[:25]"
   ]
  },
  {
   "cell_type": "markdown",
   "metadata": {},
   "source": [
    "Unfortunately there is not runoff data representative of *La Grande* hydropower complex after the complex was built"
   ]
  },
  {
   "cell_type": "markdown",
   "metadata": {},
   "source": [
    "# load runoff data from hydrometric stations"
   ]
  },
  {
   "cell_type": "markdown",
   "metadata": {},
   "source": [
    "## River 1 : St. Laurent river | Beauharnois station"
   ]
  },
  {
   "cell_type": "code",
   "execution_count": 12,
   "metadata": {
    "collapsed": true
   },
   "outputs": [],
   "source": [
    "r1=pd.read_csv('riverflowdata/02MC010_Daily_Flow_ts.csv',index_col=\"Date\",parse_dates=True)"
   ]
  },
  {
   "cell_type": "code",
   "execution_count": 13,
   "metadata": {
    "collapsed": false
   },
   "outputs": [],
   "source": [
    "#data cleaning\n",
    "r1.columns=r1.columns.str.lstrip() # clean blank spaces in the columns\n",
    "r1.drop('NaT',inplace=True) # clean disclaimer text at the end"
   ]
  },
  {
   "cell_type": "markdown",
   "metadata": {},
   "source": [
    "metadata of the station measuring the flow"
   ]
  },
  {
   "cell_type": "code",
   "execution_count": 14,
   "metadata": {
    "collapsed": false
   },
   "outputs": [
    {
     "data": {
      "text/plain": [
       "Water Course                     SAINT-LAURENT (FLEUVE) - CENTRALE DE BEAUHARNOIS\n",
       "Latitude                                                                45°18'00\"\n",
       "Longitude                                                               73°54'30\"\n",
       "Gross Drainage Area (km2)                                                  772000\n",
       "Effective Drainage Area (km2)                                                 NaN\n",
       "Land Description                                                              NaN\n",
       "Year From                                                                    1932\n",
       "Year To                                                                      1994\n",
       "Data Type                                                                       Q\n",
       "Gauge Type                                                                      P\n",
       "Operation Schedule                                                              C\n",
       "Published                                                                     NaN\n",
       "Station Class                                                                 NaN\n",
       "River Type                                                                    REG\n",
       "Regulated Since                                                              1234\n",
       "Contributed By                                                                 DC\n",
       "Costing Agency                                                                530\n",
       "Name: 02MC010, dtype: object"
      ]
     },
     "execution_count": 14,
     "metadata": {},
     "output_type": "execute_result"
    }
   ],
   "source": [
    "stations.loc[r1['ID'].iloc[0]]"
   ]
  },
  {
   "cell_type": "code",
   "execution_count": 15,
   "metadata": {
    "collapsed": false
   },
   "outputs": [
    {
     "data": {
      "text/plain": [
       "<matplotlib.text.Text at 0x15614991d30>"
      ]
     },
     "execution_count": 15,
     "metadata": {},
     "output_type": "execute_result"
    },
    {
     "data": {
      "image/png": "[encoded data removed]",
      "text/plain": [
       "<matplotlib.figure.Figure at 0x1561495fa58>"
      ]
     },
     "metadata": {},
     "output_type": "display_data"
    }
   ],
   "source": [
    "r1['Flow']['1981':'1984'].resample('2W').mean().plot(figsize=(12,3))\n",
    "plt.gca().set_title('runoff in St. Laurent -2 week rolling average-, (1981-1985)',fontsize=12)"
   ]
  },
  {
   "cell_type": "markdown",
   "metadata": {},
   "source": [
    "It can be seen that flow goes sharply down before the peak, probably due to storage upstream. There is not a marked rise of flow during the spring"
   ]
  },
  {
   "cell_type": "markdown",
   "metadata": {},
   "source": [
    "## river 2 : Betsiamites river | Bersimis-2 station"
   ]
  },
  {
   "cell_type": "code",
   "execution_count": 16,
   "metadata": {
    "collapsed": false,
    "scrolled": true
   },
   "outputs": [
    {
     "data": {
      "text/plain": [
       "Watersheds                      Betsiamites\n",
       "River or other watercourse     Betsiamites \n",
       "Type                          Run-of- river\n",
       "Installed capacity (MW)                 869\n",
       "Number of units                           5\n",
       "Head (m)                             115,83\n",
       "Commissioning  date              1959– 1960\n",
       "Name: Bersimis-2, dtype: object"
      ]
     },
     "execution_count": 16,
     "metadata": {},
     "output_type": "execute_result"
    }
   ],
   "source": [
    "hp_plants.loc['Bersimis-2']"
   ]
  },
  {
   "cell_type": "code",
   "execution_count": 17,
   "metadata": {
    "collapsed": false
   },
   "outputs": [],
   "source": [
    "r2=pd.read_csv('riverflowdata/02SB004_Daily_Flow_ts.csv',index_col=\"Date\",parse_dates=True)\n",
    "r2.columns=r2.columns.str.lstrip()\n",
    "r2.drop('NaT',inplace=True) # clean disclaimer text at the end"
   ]
  },
  {
   "cell_type": "markdown",
   "metadata": {},
   "source": [
    "## River 3: Outardes | 'Outardes-2' station"
   ]
  },
  {
   "cell_type": "code",
   "execution_count": 18,
   "metadata": {
    "collapsed": true
   },
   "outputs": [],
   "source": [
    "r3=pd.read_csv('riverflowdata/02TE003_Daily_Flow_ts.csv',index_col=\"Date\",parse_dates=True)\n",
    "r3.columns=r3.columns.str.lstrip()\n",
    "r3.drop('NaT',inplace=True)"
   ]
  },
  {
   "cell_type": "markdown",
   "metadata": {},
   "source": [
    "## River 4: Manicouagan (Mc Kormic 4 station)"
   ]
  },
  {
   "cell_type": "code",
   "execution_count": 19,
   "metadata": {
    "collapsed": false
   },
   "outputs": [],
   "source": [
    "r4=pd.read_csv('riverflowdata/02TC003_Daily_Flow_ts.csv',index_col=\"Date\",parse_dates=True)\n",
    "r4.columns=r4.columns.str.lstrip()\n",
    "r4.drop('NaT',inplace=True)"
   ]
  },
  {
   "cell_type": "markdown",
   "metadata": {},
   "source": [
    "## River 5: Outaouais (Carillon station)"
   ]
  },
  {
   "cell_type": "code",
   "execution_count": 20,
   "metadata": {
    "collapsed": false
   },
   "outputs": [],
   "source": [
    "r5=pd.read_csv('riverflowdata/02LB024_Daily_Flow_ts.csv',index_col=\"Date\",parse_dates=True)\n",
    "r5.columns=r5.columns.str.lstrip()\n",
    "r5.drop('NaT',inplace=True)"
   ]
  },
  {
   "cell_type": "markdown",
   "metadata": {},
   "source": [
    "# Weight the flows by the nameplate capacity of the power plant"
   ]
  },
  {
   "cell_type": "markdown",
   "metadata": {},
   "source": [
    "We decided to weight the flow by the nameplate capacity of the plant, rather than the flow. As not all the flow of the river will necesarely pass by the power plant. This would give a more accurate proxy of the amount of electricity produced by plant."
   ]
  },
  {
   "cell_type": "code",
   "execution_count": 21,
   "metadata": {
    "collapsed": false,
    "scrolled": true
   },
   "outputs": [
    {
     "data": {
      "text/plain": [
       "Name\n",
       "Beauharnois    1853.0\n",
       "Bersimis-2      869.0\n",
       "Outardes-2      523.0\n",
       "McCormick4      235.0\n",
       "Carillon        753.0\n",
       "Name: Installed capacity (MW), dtype: float64"
      ]
     },
     "execution_count": 21,
     "metadata": {},
     "output_type": "execute_result"
    }
   ],
   "source": [
    "hp_plants.loc[['Beauharnois','Bersimis-2','Outardes-2','McCormick4','Carillon'],'Installed\\xa0capacity (MW)']"
   ]
  },
  {
   "cell_type": "code",
   "execution_count": 22,
   "metadata": {
    "collapsed": false
   },
   "outputs": [],
   "source": [
    "r1['weighted_norm_flow']=r1['Flow']/r1['Flow'].mean()*hp_plants.loc['Beauharnois','Installed\\xa0capacity (MW)']\n",
    "r2['weighted_norm_flow']=r2['Flow']/r2['Flow'].mean()*hp_plants.loc['Bersimis-2','Installed\\xa0capacity (MW)']\n",
    "r3['weighted_norm_flow']=r3['Flow']/r3['Flow'].mean()*hp_plants.loc['Outardes-2','Installed\\xa0capacity (MW)'] \n",
    "r4['weighted_norm_flow']=r4['Flow']/r4['Flow'].mean()*hp_plants.loc['McCormick4','Installed\\xa0capacity (MW)']\n",
    "r5['weighted_norm_flow']=r5['Flow']/r5['Flow'].mean()*hp_plants.loc['Carillon','Installed\\xa0capacity (MW)']"
   ]
  },
  {
   "cell_type": "markdown",
   "metadata": {},
   "source": [
    "some rivers have a more variable production than others"
   ]
  },
  {
   "cell_type": "code",
   "execution_count": 23,
   "metadata": {
    "collapsed": false
   },
   "outputs": [
    {
     "data": {
      "text/plain": [
       "<matplotlib.axes._subplots.AxesSubplot at 0x15614a084a8>"
      ]
     },
     "execution_count": 23,
     "metadata": {},
     "output_type": "execute_result"
    },
    {
     "data": {
      "image/png": "[encoded data removed]",
      "text/plain": [
       "<matplotlib.figure.Figure at 0x15614a03e80>"
      ]
     },
     "metadata": {},
     "output_type": "display_data"
    }
   ],
   "source": [
    "r1['weighted_norm_flow'].plot(alpha=0.5)\n",
    "r2['weighted_norm_flow'].plot(alpha=0.5)\n",
    "r3['weighted_norm_flow'].plot(alpha=0.5)\n",
    "r4['weighted_norm_flow'].plot(alpha=0.5)\n",
    "r5['weighted_norm_flow'].plot(alpha=0.5)"
   ]
  },
  {
   "cell_type": "markdown",
   "metadata": {},
   "source": [
    "# calculate an aggregated proxy "
   ]
  },
  {
   "cell_type": "markdown",
   "metadata": {},
   "source": [
    "we select a period of time where all the plants were already in operation"
   ]
  },
  {
   "cell_type": "code",
   "execution_count": 24,
   "metadata": {
    "collapsed": false
   },
   "outputs": [
    {
     "data": {
      "text/plain": [
       "Name\n",
       "Beauharnois    1932– 1961\n",
       "Bersimis-2     1959– 1960\n",
       "Outardes-2          1978 \n",
       "McCormick4          1952 \n",
       "Carillon       1962– 1964\n",
       "Name: Commissioning  date, dtype: object"
      ]
     },
     "execution_count": 24,
     "metadata": {},
     "output_type": "execute_result"
    }
   ],
   "source": [
    "hp_plants.loc[['Beauharnois','Bersimis-2','Outardes-2','McCormick4','Carillon'],'Commissioning\\xa0\\xa0date']"
   ]
  },
  {
   "cell_type": "markdown",
   "metadata": {},
   "source": [
    "To characterise the run-of-river production, we sum our proxy of electricity production per station for all rivers. We do it for a period that has records for all rivers (1971-1995)"
   ]
  },
  {
   "cell_type": "code",
   "execution_count": 25,
   "metadata": {
    "collapsed": false
   },
   "outputs": [],
   "source": [
    "RORpower=pd.DataFrame()\n",
    "RORpower['riversum']=r1.loc['19780101':'19941231','weighted_norm_flow']+\\\n",
    "r2.loc['19780101':'19941231','weighted_norm_flow']+\\\n",
    "r3.loc['19780101':'19941231','weighted_norm_flow']+\\\n",
    "r4.loc['19780101':'19941231','weighted_norm_flow']+\\\n",
    "r5.loc['19780101':'19941231','weighted_norm_flow']"
   ]
  },
  {
   "cell_type": "code",
   "execution_count": 26,
   "metadata": {
    "collapsed": false
   },
   "outputs": [
    {
     "data": {
      "text/html": [
       "<div>\n",
       "<table border=\"1\" class=\"dataframe\">\n",
       "  <thead>\n",
       "    <tr style=\"text-align: right;\">\n",
       "      <th></th>\n",
       "      <th>riversum</th>\n",
       "    </tr>\n",
       "    <tr>\n",
       "      <th>Date</th>\n",
       "      <th></th>\n",
       "    </tr>\n",
       "  </thead>\n",
       "  <tbody>\n",
       "    <tr>\n",
       "      <th>1978-01-01</th>\n",
       "      <td>4394.477078</td>\n",
       "    </tr>\n",
       "    <tr>\n",
       "      <th>1978-01-02</th>\n",
       "      <td>4451.697794</td>\n",
       "    </tr>\n",
       "    <tr>\n",
       "      <th>1978-01-03</th>\n",
       "      <td>4801.899231</td>\n",
       "    </tr>\n",
       "    <tr>\n",
       "      <th>1978-01-04</th>\n",
       "      <td>4641.534857</td>\n",
       "    </tr>\n",
       "    <tr>\n",
       "      <th>1978-01-05</th>\n",
       "      <td>4494.151749</td>\n",
       "    </tr>\n",
       "  </tbody>\n",
       "</table>\n",
       "</div>"
      ],
      "text/plain": [
       "               riversum\n",
       "Date                   \n",
       "1978-01-01  4394.477078\n",
       "1978-01-02  4451.697794\n",
       "1978-01-03  4801.899231\n",
       "1978-01-04  4641.534857\n",
       "1978-01-05  4494.151749"
      ]
     },
     "execution_count": 26,
     "metadata": {},
     "output_type": "execute_result"
    }
   ],
   "source": [
    "RORpower.head()"
   ]
  },
  {
   "cell_type": "markdown",
   "metadata": {},
   "source": [
    "Estimate a representative year calculating the average flow per day of year for all the years in the studied period"
   ]
  },
  {
   "cell_type": "code",
   "execution_count": 27,
   "metadata": {
    "collapsed": true
   },
   "outputs": [],
   "source": [
    "RORpower['datecolumn']=RORpower.index"
   ]
  },
  {
   "cell_type": "code",
   "execution_count": 28,
   "metadata": {
    "collapsed": false
   },
   "outputs": [],
   "source": [
    "RORpower['day']=pd.to_datetime(RORpower['datecolumn']).dt.dayofyear"
   ]
  },
  {
   "cell_type": "code",
   "execution_count": 29,
   "metadata": {
    "collapsed": true
   },
   "outputs": [],
   "source": [
    "RORpower_avyear=RORpower[['riversum','day']].groupby('day').mean()"
   ]
  },
  {
   "cell_type": "markdown",
   "metadata": {},
   "source": [
    "### compare the representative year with other years"
   ]
  },
  {
   "cell_type": "markdown",
   "metadata": {},
   "source": [
    "we compare the average flow of our *representative year* with the average flow per year during the studied period. The average is within normal average flows. in that sense it is a \"feasible\" year"
   ]
  },
  {
   "cell_type": "code",
   "execution_count": 30,
   "metadata": {
    "collapsed": false
   },
   "outputs": [],
   "source": [
    "RORpower['year']=pd.to_datetime(RORpower['datecolumn']).dt.year"
   ]
  },
  {
   "cell_type": "code",
   "execution_count": 31,
   "metadata": {
    "collapsed": false
   },
   "outputs": [],
   "source": [
    "compare=pd.DataFrame()\n",
    "compare=RORpower[['riversum','year']].groupby('year').mean()"
   ]
  },
  {
   "cell_type": "code",
   "execution_count": 32,
   "metadata": {
    "collapsed": false,
    "scrolled": true
   },
   "outputs": [
    {
     "data": {
      "image/png": "[encoded data removed]",
      "text/plain": [
       "<matplotlib.figure.Figure at 0x156149f66a0>"
      ]
     },
     "metadata": {},
     "output_type": "display_data"
    }
   ],
   "source": [
    "fig1=compare['riversum'].plot()\n",
    "a=plt.gca()\n",
    "a.set_title('Proxy of ROR production, comparing year averages\\n with average of representative year',fontsize=10)\n",
    "line=a.axhline(4487.79,color='r')\n",
    "line.set_label('average of representative year')\n",
    "\n",
    "plt.ylim(0,5500)\n",
    "L=plt.legend(loc='lower right',fontsize=10)\n",
    "L.get_texts()[0].set_text('annual average')\n",
    "plt.tight_layout()\n",
    "plt.savefig('comparing representative year with the rest.png',dpi=700)"
   ]
  },
  {
   "cell_type": "markdown",
   "metadata": {},
   "source": [
    "# Boxplot of variability per season"
   ]
  },
  {
   "cell_type": "markdown",
   "metadata": {},
   "source": [
    "Normalize the flow by the average (in order to have a normalized proxy)"
   ]
  },
  {
   "cell_type": "code",
   "execution_count": 33,
   "metadata": {
    "collapsed": true
   },
   "outputs": [],
   "source": [
    "RORpower_avyear['normproxy']=(RORpower_avyear['riversum']/RORpower_avyear['riversum'].mean())"
   ]
  },
  {
   "cell_type": "markdown",
   "metadata": {},
   "source": [
    "define seasons based on the day of the year"
   ]
  },
  {
   "cell_type": "code",
   "execution_count": 34,
   "metadata": {
    "collapsed": true
   },
   "outputs": [],
   "source": [
    "RORpower_avyear.loc[(RORpower_avyear.index > 82) & (RORpower_avyear.index < 171),'season']='spring'\n",
    "RORpower_avyear.loc[(RORpower_avyear.index > 172) & (RORpower_avyear.index < 263),'season']='summer'\n",
    "RORpower_avyear.loc[(RORpower_avyear.index > 264) & (RORpower_avyear.index < 354),'season']='fall'\n",
    "RORpower_avyear.loc[RORpower_avyear['season'].isnull(),'season']='winter'"
   ]
  },
  {
   "cell_type": "markdown",
   "metadata": {},
   "source": [
    "veryfing that the mean is equal to 1"
   ]
  },
  {
   "cell_type": "code",
   "execution_count": 35,
   "metadata": {
    "collapsed": false
   },
   "outputs": [
    {
     "data": {
      "text/plain": [
       "0.9995947699197992"
      ]
     },
     "execution_count": 35,
     "metadata": {},
     "output_type": "execute_result"
    }
   ],
   "source": [
    "RORpower_avyear[['normproxy','season']].groupby('season').describe().unstack()['normproxy','mean'].mean()"
   ]
  },
  {
   "cell_type": "markdown",
   "metadata": {},
   "source": [
    "Boxplot ilustrating the intra-annual variability of run-of-river production"
   ]
  },
  {
   "cell_type": "code",
   "execution_count": 36,
   "metadata": {
    "collapsed": false,
    "scrolled": false
   },
   "outputs": [
    {
     "data": {
      "text/plain": [
       "<matplotlib.text.Text at 0x15614bbc748>"
      ]
     },
     "execution_count": 36,
     "metadata": {},
     "output_type": "execute_result"
    },
    {
     "data": {
      "image/png": "[encoded data removed]",
      "text/plain": [
       "<matplotlib.figure.Figure at 0x15614b83a90>"
      ]
     },
     "metadata": {},
     "output_type": "display_data"
    }
   ],
   "source": [
    "bp2=RORpower_avyear.boxplot(column='normproxy',by='season',figsize=(bigwidth/2.5,bigwidth/2.5))\n",
    "bp2.set_title('run-of-river')\n",
    "plt.suptitle('')\n",
    "bp2.set_ylabel('normalised electricty production')\n",
    "#plt.savefig('boxplot_RORseasonal_norm.png',dpi=800)"
   ]
  }
 ],
 "metadata": {
  "anaconda-cloud": {},
  "kernelspec": {
   "display_name": "Python 3",
   "language": "python",
   "name": "python3"
  },
  "language_info": {
   "codemirror_mode": {
    "name": "ipython",
    "version": 3
   },
   "file_extension": ".py",
   "mimetype": "text/x-python",
   "name": "python",
   "nbconvert_exporter": "python",
   "pygments_lexer": "ipython3",
   "version": "3.5.1"
  }
 },
 "nbformat": 4,
 "nbformat_minor": 0
}
